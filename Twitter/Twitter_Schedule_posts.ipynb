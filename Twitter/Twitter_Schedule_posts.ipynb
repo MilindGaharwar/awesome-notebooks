{
 "cells": [
  {
   "cell_type": "markdown",
   "id": "competent-physics",
   "metadata": {
    "papermill": {},
    "tags": []
   },
   "source": [
    "# Twitter - Post automation \n",
    "[![download](https://img.shields.io/static/v1?label=Naas&labelColor=000000&message=Download&color=success&style=for-the-badge&logo=image%2Fsvg%2Bxml%3Bbase64%2CPD94bWwgdmVyc2lvbj0iMS4wIiBlbmNvZGluZz0iVVRGLTgiPz4KPHN2ZyB3aWR0aD0iMTAyNHB4IiBoZWlnaHQ9IjEwMjRweCIgdmlld0JveD0iMCAwIDEwMjQgMTAyNCIgeG1sbnM9Imh0dHA6Ly93d3cudzMub3JnLzIwMDAvc3ZnIiB4bWxuczp4bGluaz0iaHR0cDovL3d3dy53My5vcmcvMTk5OS94bGluayIgdmVyc2lvbj0iMS4xIj4KIDwhLS0gR2VuZXJhdGVkIGJ5IFBpeGVsbWF0b3IgUHJvIDIuMC41IC0tPgogPGRlZnM%2BCiAgPHRleHQgaWQ9InN0cmluZyIgdHJhbnNmb3JtPSJtYXRyaXgoMS4wIDAuMCAwLjAgMS4wIDIyOC4wIDU0LjUpIiBmb250LWZhbWlseT0iQ29tZm9ydGFhLVJlZ3VsYXIsIENvbWZvcnRhYSIgZm9udC1zaXplPSI4MDAiIHRleHQtZGVjb3JhdGlvbj0ibm9uZSIgZmlsbD0iI2ZmZmZmZiIgeD0iMS4xOTk5OTk5OTk5OTk5ODg2IiB5PSI3MDUuMCI%2BbjwvdGV4dD4KIDwvZGVmcz4KIDx1c2UgaWQ9Im4iIHhsaW5rOmhyZWY9IiNzdHJpbmciLz4KPC9zdmc%2BCg%3D%3D)](https://app.naas.ai/user-redirect/naas/downloader?url=https://raw.githubusercontent.com/jupyter-naas/awesome-notebooks/master/Twitter/Twitter_Schedule_posts.ipynb)"
   ]
  },
  {
   "cell_type": "markdown",
   "id": "welcome-geneva",
   "metadata": {
    "papermill": {},
    "tags": []
   },
   "source": [
    "## Get data from Gsheet"
   ]
  },
  {
   "cell_type": "code",
   "execution_count": 10,
   "id": "infinite-parent",
   "metadata": {
    "execution": {
     "iopub.execute_input": "2021-02-25T15:31:56.144449Z",
     "iopub.status.busy": "2021-02-25T15:31:56.144193Z",
     "iopub.status.idle": "2021-02-25T15:31:56.455948Z",
     "shell.execute_reply": "2021-02-25T15:31:56.455320Z",
     "shell.execute_reply.started": "2021-02-25T15:31:56.144422Z"
    },
    "papermill": {},
    "tags": []
   },
   "outputs": [
    {
     "data": {
      "text/html": [
       "<div>\n",
       "<style scoped>\n",
       "    .dataframe tbody tr th:only-of-type {\n",
       "        vertical-align: middle;\n",
       "    }\n",
       "\n",
       "    .dataframe tbody tr th {\n",
       "        vertical-align: top;\n",
       "    }\n",
       "\n",
       "    .dataframe thead th {\n",
       "        text-align: right;\n",
       "    }\n",
       "</style>\n",
       "<table border=\"1\" class=\"dataframe\">\n",
       "  <thead>\n",
       "    <tr style=\"text-align: right;\">\n",
       "      <th></th>\n",
       "      <th>TEXT</th>\n",
       "      <th>BROADCAST_DATE</th>\n",
       "    </tr>\n",
       "  </thead>\n",
       "  <tbody>\n",
       "    <tr>\n",
       "      <th>0</th>\n",
       "      <td>In the next 10 posts, you will see my favorite...</td>\n",
       "      <td>25/02/2021 16:33:00</td>\n",
       "    </tr>\n",
       "    <tr>\n",
       "      <th>1</th>\n",
       "      <td>“When the power of love overcomes the love of ...</td>\n",
       "      <td>25/02/2021 16:34:00</td>\n",
       "    </tr>\n",
       "    <tr>\n",
       "      <th>2</th>\n",
       "      <td>“Imagine all the people living life in peace. ...</td>\n",
       "      <td>25/02/2021 16:35:01</td>\n",
       "    </tr>\n",
       "    <tr>\n",
       "      <th>3</th>\n",
       "      <td>“Peace is not absence of conflict, it is the a...</td>\n",
       "      <td>25/02/2021 16:36:01</td>\n",
       "    </tr>\n",
       "    <tr>\n",
       "      <th>4</th>\n",
       "      <td>\"When you make peace with yourself, you make p...</td>\n",
       "      <td>25/02/2021 16:37:02</td>\n",
       "    </tr>\n",
       "    <tr>\n",
       "      <th>5</th>\n",
       "      <td>“Do your little bit of good where you are; it’...</td>\n",
       "      <td>25/02/2021 16:38:02</td>\n",
       "    </tr>\n",
       "    <tr>\n",
       "      <th>6</th>\n",
       "      <td>\"Peace brings with it so many positive emotion...</td>\n",
       "      <td>25/02/2021 16:39:03</td>\n",
       "    </tr>\n",
       "    <tr>\n",
       "      <th>7</th>\n",
       "      <td>“Peace is a daily, a weekly, a monthly process...</td>\n",
       "      <td>25/02/2021 16:40:03</td>\n",
       "    </tr>\n",
       "    <tr>\n",
       "      <th>8</th>\n",
       "      <td>“It isn’t enough to talk about peace. One must...</td>\n",
       "      <td>25/02/2021 16:41:04</td>\n",
       "    </tr>\n",
       "    <tr>\n",
       "      <th>9</th>\n",
       "      <td>“You will find peace not by trying to escape y...</td>\n",
       "      <td>25/02/2021 16:42:04</td>\n",
       "    </tr>\n",
       "    <tr>\n",
       "      <th>10</th>\n",
       "      <td>\"Peace cannot be kept by force. It can only be...</td>\n",
       "      <td>25/02/2021 16:43:05</td>\n",
       "    </tr>\n",
       "  </tbody>\n",
       "</table>\n",
       "</div>"
      ],
      "text/plain": [
       "                                                 TEXT       BROADCAST_DATE\n",
       "0   In the next 10 posts, you will see my favorite...  25/02/2021 16:33:00\n",
       "1   “When the power of love overcomes the love of ...  25/02/2021 16:34:00\n",
       "2   “Imagine all the people living life in peace. ...  25/02/2021 16:35:01\n",
       "3   “Peace is not absence of conflict, it is the a...  25/02/2021 16:36:01\n",
       "4   \"When you make peace with yourself, you make p...  25/02/2021 16:37:02\n",
       "5   “Do your little bit of good where you are; it’...  25/02/2021 16:38:02\n",
       "6   \"Peace brings with it so many positive emotion...  25/02/2021 16:39:03\n",
       "7   “Peace is a daily, a weekly, a monthly process...  25/02/2021 16:40:03\n",
       "8   “It isn’t enough to talk about peace. One must...  25/02/2021 16:41:04\n",
       "9   “You will find peace not by trying to escape y...  25/02/2021 16:42:04\n",
       "10  \"Peace cannot be kept by force. It can only be...  25/02/2021 16:43:05"
      ]
     },
     "execution_count": 10,
     "metadata": {},
     "output_type": "execute_result"
    }
   ],
   "source": [
    "import naas_drivers\n",
    "\n",
    "spreadsheet_id = \"1rFzw8eeVNXyD5CEUjnpxVn_iA2hzabYKU6pRdmnZ3FQ\"\n",
    "df = naas_drivers.gsheet.connect(spreadsheet_id).get(\n",
    "    sheet_name=\"Sheet1\"\n",
    ")\n",
    "df"
   ]
  },
  {
   "cell_type": "markdown",
   "id": "convertible-number",
   "metadata": {
    "papermill": {},
    "tags": []
   },
   "source": [
    "## Get current date and time details"
   ]
  },
  {
   "cell_type": "code",
   "execution_count": 2,
   "id": "expanded-fifty",
   "metadata": {
    "execution": {
     "iopub.execute_input": "2021-02-25T15:24:39.953791Z",
     "iopub.status.busy": "2021-02-25T15:24:39.953470Z",
     "iopub.status.idle": "2021-02-25T15:24:39.985067Z",
     "shell.execute_reply": "2021-02-25T15:24:39.984473Z",
     "shell.execute_reply.started": "2021-02-25T15:24:39.953753Z"
    },
    "papermill": {},
    "tags": []
   },
   "outputs": [
    {
     "data": {
      "text/plain": [
       "datetime.datetime(2021, 2, 25, 16, 24)"
      ]
     },
     "execution_count": 2,
     "metadata": {},
     "output_type": "execute_result"
    }
   ],
   "source": [
    "from datetime import datetime\n",
    "now = datetime.now().replace(second=0, microsecond=0) #the Naas scheduler only allow minutes\n",
    "now"
   ]
  },
  {
   "cell_type": "code",
   "execution_count": 13,
   "id": "opened-possible",
   "metadata": {
    "execution": {
     "iopub.execute_input": "2021-02-25T15:32:34.768602Z",
     "iopub.status.busy": "2021-02-25T15:32:34.768344Z",
     "iopub.status.idle": "2021-02-25T15:32:34.774834Z",
     "shell.execute_reply": "2021-02-25T15:32:34.774351Z",
     "shell.execute_reply.started": "2021-02-25T15:32:34.768579Z"
    },
    "papermill": {},
    "tags": []
   },
   "outputs": [
    {
     "data": {
      "text/plain": [
       "'25/02/2021 16:24:00'"
      ]
     },
     "execution_count": 13,
     "metadata": {},
     "output_type": "execute_result"
    }
   ],
   "source": [
    "# dd/mm/YY H:M:S\n",
    "dt_string = now.strftime(\"%d/%m/%Y %H:%M:%S\") # To mach date time format in google sheet\n",
    "dt_string"
   ]
  },
  {
   "cell_type": "markdown",
   "id": "existing-judge",
   "metadata": {
    "papermill": {},
    "tags": []
   },
   "source": [
    "## Schedule check every minute\n",
    "If BROADCAST_DATE matches the current time then send twit from text column."
   ]
  },
  {
   "cell_type": "code",
   "execution_count": 14,
   "id": "behind-launch",
   "metadata": {
    "execution": {
     "iopub.execute_input": "2021-02-25T15:32:42.780923Z",
     "iopub.status.busy": "2021-02-25T15:32:42.780609Z",
     "iopub.status.idle": "2021-02-25T15:32:43.106146Z",
     "shell.execute_reply": "2021-02-25T15:32:43.105545Z",
     "shell.execute_reply.started": "2021-02-25T15:32:42.780888Z"
    },
    "papermill": {},
    "tags": []
   },
   "outputs": [
    {
     "name": "stdout",
     "output_type": "stream",
     "text": [
      "👌 Well done! Your Notebook has been sent to production. \n",
      "\n",
      "⏰ It will be scheduled \"Every minute of every day\" (more on the syntax on https://crontab.guru/).\n",
      "\n",
      "Ps: to remove the \"Scheduler\", just replace .add by .delete\n"
     ]
    }
   ],
   "source": [
    "import naas \n",
    "import naas_drivers\n",
    "#naas.scheduler.delete()\n",
    "naas.scheduler.add(recurrence=\"* * * * *\") # to run every minute"
   ]
  },
  {
   "cell_type": "markdown",
   "id": "useful-handling",
   "metadata": {
    "papermill": {},
    "tags": []
   },
   "source": [
    "## If current date and column date in Gsheet matches then post"
   ]
  },
  {
   "cell_type": "code",
   "execution_count": 15,
   "id": "sound-learning",
   "metadata": {
    "execution": {
     "iopub.execute_input": "2021-02-25T15:32:48.278372Z",
     "iopub.status.busy": "2021-02-25T15:32:48.278134Z",
     "iopub.status.idle": "2021-02-25T15:32:48.286146Z",
     "shell.execute_reply": "2021-02-25T15:32:48.283665Z",
     "shell.execute_reply.started": "2021-02-25T15:32:48.278348Z"
    },
    "papermill": {},
    "tags": []
   },
   "outputs": [
    {
     "name": "stdout",
     "output_type": "stream",
     "text": [
      "25/02/2021 16:24:00 25/02/2021 16:33:00\n",
      "25/02/2021 16:24:00 25/02/2021 16:34:00\n",
      "25/02/2021 16:24:00 25/02/2021 16:35:01\n",
      "25/02/2021 16:24:00 25/02/2021 16:36:01\n",
      "25/02/2021 16:24:00 25/02/2021 16:37:02\n",
      "25/02/2021 16:24:00 25/02/2021 16:38:02\n",
      "25/02/2021 16:24:00 25/02/2021 16:39:03\n",
      "25/02/2021 16:24:00 25/02/2021 16:40:03\n",
      "25/02/2021 16:24:00 25/02/2021 16:41:04\n",
      "25/02/2021 16:24:00 25/02/2021 16:42:04\n",
      "25/02/2021 16:24:00 25/02/2021 16:43:05\n"
     ]
    }
   ],
   "source": [
    "for i in range(len(df)):\n",
    "    print(dt_string, df['BROADCAST_DATE'][i])\n",
    "    if dt_string == df['BROADCAST_DATE'][i]:\n",
    "        twitter_post = df['TEXT'][i]\n",
    "        event = \"naas_demo\"\n",
    "        key = \"ke4AigvXI5-EABaowdLt4fju1aOUxeMxSXQoN8FVyA\"\n",
    "        data = { \"value1\": twitter_post }\n",
    "        result = naas_drivers.ifttt.connect(key).send(event, data)   "
   ]
  },
  {
   "cell_type": "code",
   "execution_count": null,
   "id": "mysterious-likelihood",
   "metadata": {
    "papermill": {},
    "tags": []
   },
   "outputs": [],
   "source": []
  }
 ],
 "metadata": {
  "kernelspec": {
   "display_name": "Python 3",
   "language": "python",
   "name": "python3"
  },
  "language_info": {
   "codemirror_mode": {
    "name": "ipython",
    "version": 3
   },
   "file_extension": ".py",
   "mimetype": "text/x-python",
   "name": "python",
   "nbconvert_exporter": "python",
   "pygments_lexer": "ipython3",
   "version": "3.8.6"
  },
  "papermill": {
   "default_parameters": {},
   "environment_variables": {},
   "parameters": {},
   "version": "2.3.3"
  }
 },
 "nbformat": 4,
 "nbformat_minor": 5
}