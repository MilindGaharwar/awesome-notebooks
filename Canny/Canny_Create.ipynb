{
 "cells": [
  {
   "cell_type": "markdown",
   "id": "appreciated-reset",
   "metadata": {
    "papermill": {},
    "tags": []
   },
   "source": [
    "<img width=\"10%\" alt=\"Naas\" src=\"https://landen.imgix.net/jtci2pxwjczr/assets/5ice39g4.png?w=160\"/>"
   ]
  },
  {
   "cell_type": "markdown",
   "id": "strong-medium",
   "metadata": {
    "papermill": {},
    "tags": []
   },
   "source": [
    "# Canny posts create\n",
    "[![download](https://img.shields.io/static/v1?label=&labelColor=000000&message=Open%20in%20Naas&color=success&logo=image%2Fsvg%2Bxml%3Bbase64%2CPD94bWwgdmVyc2lvbj0iMS4wIiBlbmNvZGluZz0iVVRGLTgiPz4KPHN2ZyB3aWR0aD0iMTAyNHB4IiBoZWlnaHQ9IjEwMjRweCIgdmlld0JveD0iMCAwIDEwMjQgMTAyNCIgeG1sbnM9Imh0dHA6Ly93d3cudzMub3JnLzIwMDAvc3ZnIiB4bWxuczp4bGluaz0iaHR0cDovL3d3dy53My5vcmcvMTk5OS94bGluayIgdmVyc2lvbj0iMS4xIj4KIDwhLS0gR2VuZXJhdGVkIGJ5IFBpeGVsbWF0b3IgUHJvIDIuMC41IC0tPgogPGRlZnM%2BCiAgPHRleHQgaWQ9InN0cmluZyIgdHJhbnNmb3JtPSJtYXRyaXgoMS4wIDAuMCAwLjAgMS4wIDIyOC4wIDU0LjUpIiBmb250LWZhbWlseT0iQ29tZm9ydGFhLVJlZ3VsYXIsIENvbWZvcnRhYSIgZm9udC1zaXplPSI4MDAiIHRleHQtZGVjb3JhdGlvbj0ibm9uZSIgZmlsbD0iI2ZmZmZmZiIgeD0iMS4xOTk5OTk5OTk5OTk5ODg2IiB5PSI3MDUuMCI%2BbjwvdGV4dD4KIDwvZGVmcz4KIDx1c2UgaWQ9Im4iIHhsaW5rOmhyZWY9IiNzdHJpbmciLz4KPC9zdmc%2BCg%3D%3D)](https://app.naas.ai/user-redirect/naas/downloader?url=https://raw.githubusercontent.com/jupyter-naas/awesome-notebooks/master/Canny/Canny_Create.ipynb)"
   ]
  },
  {
   "cell_type": "markdown",
   "id": "fixed-constitutional",
   "metadata": {
    "papermill": {},
    "tags": []
   },
   "source": [
    "<img width=\"20%\" alt=\"Naas\" src=\"data:image/png;base64,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\"/>"
   ]
  },
  {
   "cell_type": "markdown",
   "id": "imported-linux",
   "metadata": {
    "papermill": {},
    "tags": []
   },
   "source": [
    "## Enter credentials"
   ]
  },
  {
   "cell_type": "code",
   "execution_count": 1,
   "id": "confused-tribe",
   "metadata": {
    "papermill": {},
    "tags": []
   },
   "outputs": [],
   "source": [
    "import requests\n",
    "import json\n",
    "import pandas as pd"
   ]
  },
  {
   "cell_type": "code",
   "execution_count": 2,
   "id": "planned-helena",
   "metadata": {
    "papermill": {},
    "tags": []
   },
   "outputs": [],
   "source": [
    "canny_api = \"**********\"                             # api key of canny\n",
    "post_title = \"Post title\"                            # Enter post title                    \n",
    "post_body = \"Post body using canny api\"              # Enter post body"
   ]
  },
  {
   "cell_type": "markdown",
   "id": "arranged-mileage",
   "metadata": {
    "papermill": {},
    "tags": []
   },
   "source": [
    "## Board dataframe using api-key"
   ]
  },
  {
   "cell_type": "code",
   "execution_count": 8,
   "id": "thousand-pension",
   "metadata": {
    "papermill": {},
    "tags": []
   },
   "outputs": [],
   "source": [
    "api_key = {\n",
    "\"apiKey\":canny_api          \n",
    "}\n",
    "limit = {\n",
    "\"limit\":\"100\"                          \n",
    "}\n",
    "response = requests.get(\"https://canny.io/api/v1/boards/list\")\n",
    "response = requests.post(\"https://canny.io/api/v1/boards/list\", api_key)\n",
    "post_details = response.json()\n",
    "db = post_details['boards']\n",
    "df = pd.DataFrame(columns = db[0].keys()) \n",
    "for i in range(len(db)):\n",
    "    df = df.append(db[i], ignore_index=True)\n",
    "df = df[['name','id']]\n",
    "board_list = df.rename(columns={'name': 'BOARD_NAME', 'id': 'BOARD_ID'})\n",
    "board_list"
   ]
  },
  {
   "cell_type": "markdown",
   "id": "average-twenty",
   "metadata": {
    "papermill": {},
    "tags": []
   },
   "source": [
    "## Enter board name"
   ]
  },
  {
   "cell_type": "code",
   "execution_count": 4,
   "id": "competent-enzyme",
   "metadata": {
    "papermill": {},
    "tags": []
   },
   "outputs": [],
   "source": [
    "board_name = \"Requests\"      #Enter board name\n",
    "for i in range(len(board_list)):\n",
    "    if board_list['BOARD_NAME'][i] == board_name:\n",
    "        board_id = board_list['BOARD_ID'][i]\n",
    "board_id\n",
    "board_id = {\n",
    "\"boardID\":board_id                          \n",
    "}"
   ]
  },
  {
   "cell_type": "markdown",
   "id": "fixed-evans",
   "metadata": {
    "papermill": {},
    "tags": []
   },
   "source": [
    "## Using api and board name to get author list"
   ]
  },
  {
   "cell_type": "code",
   "execution_count": 9,
   "id": "promising-declaration",
   "metadata": {
    "papermill": {},
    "tags": []
   },
   "outputs": [],
   "source": [
    "response = requests.get(\"https://canny.io/api/v1/posts/list\")\n",
    "data = {**api_key, **board_id, **limit}\n",
    "response = requests.post(\"https://canny.io/api/v1/posts/list\", data)\n",
    "post_details = response.json()\n",
    "# post_details['posts']\n",
    "author_list = pd.DataFrame()\n",
    "for i in range(len(post_details['posts'])):\n",
    "    author_list = author_list.append(post_details['posts'][i]['author'], ignore_index=True)\n",
    "author_list.drop_duplicates(subset =\"email\", keep = False, inplace = True)\n",
    "author_list = author_list[['name','id']]\n",
    "author_list = author_list.rename(columns={'name': 'AUTHOR_NAME', 'id': 'AUTHOR_ID'})\n",
    "author_list"
   ]
  },
  {
   "cell_type": "markdown",
   "id": "soviet-lawsuit",
   "metadata": {
    "papermill": {},
    "tags": []
   },
   "source": [
    "## Enter author name"
   ]
  },
  {
   "cell_type": "code",
   "execution_count": 6,
   "id": "interpreted-tolerance",
   "metadata": {
    "papermill": {},
    "tags": []
   },
   "outputs": [],
   "source": [
    "author_name = \"Sanjay Sabu\"  #Enter author name\n",
    "for i in author_list['AUTHOR_NAME'].index:\n",
    "    if author_list['AUTHOR_NAME'][i] == author_name:\n",
    "        author_id = author_list['AUTHOR_ID'][i]\n",
    "author_id = {\n",
    "\"authorID\":author_id                          \n",
    "}"
   ]
  },
  {
   "cell_type": "markdown",
   "id": "registered-excerpt",
   "metadata": {
    "papermill": {},
    "tags": []
   },
   "source": [
    "## Creating post"
   ]
  },
  {
   "cell_type": "code",
   "execution_count": 7,
   "id": "moved-amber",
   "metadata": {
    "papermill": {},
    "tags": []
   },
   "outputs": [],
   "source": [
    "post_title = {\n",
    "\"title\":post_title                                    \n",
    "}\n",
    "post_body = {\n",
    "\"details\":post_body                    \n",
    "}\n",
    "data = {**api_key, **author_id, **board_id, **post_body, **post_title}\n",
    "response = requests.post(\"https://canny.io/api/v1/posts/create\", data)"
   ]
  }
 ],
 "metadata": {
  "kernelspec": {
   "display_name": "Python 3",
   "language": "python",
   "name": "python3"
  },
  "language_info": {
   "codemirror_mode": {
    "name": "ipython",
    "version": 3
   },
   "file_extension": ".py",
   "mimetype": "text/x-python",
   "name": "python",
   "nbconvert_exporter": "python",
   "pygments_lexer": "ipython3",
   "version": "3.8.6"
  },
  "papermill": {
   "default_parameters": {},
   "environment_variables": {},
   "parameters": {},
   "version": "2.3.3"
  }
 },
 "nbformat": 4,
 "nbformat_minor": 5
}