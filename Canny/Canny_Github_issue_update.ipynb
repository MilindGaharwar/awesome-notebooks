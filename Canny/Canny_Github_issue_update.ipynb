{
 "cells": [
  {
   "cell_type": "markdown",
   "id": "arranged-giant",
   "metadata": {
    "papermill": {},
    "tags": []
   },
   "source": [
    "<img width=\"10%\" alt=\"Naas\" src=\"https://landen.imgix.net/jtci2pxwjczr/assets/5ice39g4.png?w=160\"/>"
   ]
  },
  {
   "cell_type": "markdown",
   "id": "assigned-certificate",
   "metadata": {
    "papermill": {},
    "tags": []
   },
   "source": [
    "# Canny -> Github\n",
    "[![download](https://img.shields.io/static/v1?label=Naas&labelColor=000000&message=Download&color=success&style=for-the-badge&logo=image%2Fsvg%2Bxml%3Bbase64%2CPD94bWwgdmVyc2lvbj0iMS4wIiBlbmNvZGluZz0iVVRGLTgiPz4KPHN2ZyB3aWR0aD0iMTAyNHB4IiBoZWlnaHQ9IjEwMjRweCIgdmlld0JveD0iMCAwIDEwMjQgMTAyNCIgeG1sbnM9Imh0dHA6Ly93d3cudzMub3JnLzIwMDAvc3ZnIiB4bWxuczp4bGluaz0iaHR0cDovL3d3dy53My5vcmcvMTk5OS94bGluayIgdmVyc2lvbj0iMS4xIj4KIDwhLS0gR2VuZXJhdGVkIGJ5IFBpeGVsbWF0b3IgUHJvIDIuMC41IC0tPgogPGRlZnM%2BCiAgPHRleHQgaWQ9InN0cmluZyIgdHJhbnNmb3JtPSJtYXRyaXgoMS4wIDAuMCAwLjAgMS4wIDIyOC4wIDU0LjUpIiBmb250LWZhbWlseT0iQ29tZm9ydGFhLVJlZ3VsYXIsIENvbWZvcnRhYSIgZm9udC1zaXplPSI4MDAiIHRleHQtZGVjb3JhdGlvbj0ibm9uZSIgZmlsbD0iI2ZmZmZmZiIgeD0iMS4xOTk5OTk5OTk5OTk5ODg2IiB5PSI3MDUuMCI%2BbjwvdGV4dD4KIDwvZGVmcz4KIDx1c2UgaWQ9Im4iIHhsaW5rOmhyZWY9IiNzdHJpbmciLz4KPC9zdmc%2BCg%3D%3D)](https://app.naas.ai/user-redirect/naas/downloader?url=https://raw.githubusercontent.com/jupyter-naas/awesome-notebooks/master/Canny/Canny_Github_issue_update.ipynb)"
   ]
  },
  {
   "cell_type": "markdown",
   "id": "quarterly-constitutional",
   "metadata": {
    "papermill": {},
    "tags": []
   },
   "source": [
    "<img width=\"20%\" alt=\"Naas\" src=\"data:image/png;base64,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\"/>"
   ]
  },
  {
   "cell_type": "code",
   "execution_count": 1,
   "id": "weekly-speech",
   "metadata": {
    "papermill": {},
    "tags": []
   },
   "outputs": [],
   "source": [
    "#pip install PyGithub"
   ]
  },
  {
   "cell_type": "markdown",
   "id": "narrow-channel",
   "metadata": {
    "papermill": {},
    "tags": []
   },
   "source": [
    "## Pre-requisite - Import packages"
   ]
  },
  {
   "cell_type": "code",
   "execution_count": 2,
   "id": "fatal-square",
   "metadata": {
    "papermill": {},
    "tags": []
   },
   "outputs": [],
   "source": [
    "import requests\n",
    "import json\n",
    "from github import Github"
   ]
  },
  {
   "cell_type": "markdown",
   "id": "quiet-bradford",
   "metadata": {
    "papermill": {},
    "tags": []
   },
   "source": [
    "## Step 1 - Insert your accounts details"
   ]
  },
  {
   "cell_type": "code",
   "execution_count": 3,
   "id": "premier-clothing",
   "metadata": {
    "papermill": {},
    "tags": []
   },
   "outputs": [],
   "source": [
    "# For Github \n",
    "gihub_personal_token = \"**********\"                               # Settings/Developer settings/Personal access tokens\n",
    "github_repo = \"optimusprime2021/api-tester\"                       # Github repository name\n",
    "\n",
    "# For Canny\n",
    "canny_post_url = \"https://canny.io/api/v1/posts/list\"             # Canny post url\n",
    "canny_apikey = \"**********\"                                       # Canny api key"
   ]
  },
  {
   "cell_type": "markdown",
   "id": "apparent-reach",
   "metadata": {
    "papermill": {},
    "tags": []
   },
   "source": [
    "#### Input api-keys "
   ]
  },
  {
   "cell_type": "markdown",
   "id": "noble-stadium",
   "metadata": {
    "papermill": {},
    "tags": []
   },
   "source": [
    "## Step 2 - Get Canny posts Dataframe"
   ]
  },
  {
   "cell_type": "markdown",
   "id": "alpha-breast",
   "metadata": {
    "papermill": {},
    "tags": []
   },
   "source": [
    "### Retrieve posts"
   ]
  },
  {
   "cell_type": "code",
   "execution_count": 4,
   "id": "urban-semester",
   "metadata": {
    "papermill": {},
    "tags": []
   },
   "outputs": [],
   "source": [
    "response = requests.get(canny_post_url)\n",
    "data = {\"apiKey\":canny_apikey,\"id\":\"\",\"limit\":\"100\"}\n",
    "response = requests.post(canny_post_url,data)\n",
    "post_details = response.json()"
   ]
  },
  {
   "cell_type": "markdown",
   "id": "spiritual-natural",
   "metadata": {
    "papermill": {},
    "tags": []
   },
   "source": [
    "## Step 3 - Check connection status"
   ]
  },
  {
   "cell_type": "code",
   "execution_count": 5,
   "id": "partial-design",
   "metadata": {
    "papermill": {},
    "tags": []
   },
   "outputs": [
    {
     "name": "stdout",
     "output_type": "stream",
     "text": [
      "Successfully connected to Canny\n"
     ]
    }
   ],
   "source": [
    "if response.status_code == 200:\n",
    "    print(\"Successfully connected to Canny\")\n",
    "elif response.status_code == 404:\n",
    "    print(\"Couldn't connect to Canny, Please check the credentials\")\n",
    "    exit()"
   ]
  },
  {
   "cell_type": "markdown",
   "id": "imperial-grace",
   "metadata": {
    "papermill": {},
    "tags": []
   },
   "source": [
    "## Step 4 - Generating dataframe"
   ]
  },
  {
   "cell_type": "code",
   "execution_count": 6,
   "id": "occupational-heavy",
   "metadata": {
    "papermill": {},
    "tags": []
   },
   "outputs": [
    {
     "data": {
      "text/html": [
       "<div>\n",
       "<style scoped>\n",
       "    .dataframe tbody tr th:only-of-type {\n",
       "        vertical-align: middle;\n",
       "    }\n",
       "\n",
       "    .dataframe tbody tr th {\n",
       "        vertical-align: top;\n",
       "    }\n",
       "\n",
       "    .dataframe thead th {\n",
       "        text-align: right;\n",
       "    }\n",
       "</style>\n",
       "<table border=\"1\" class=\"dataframe\">\n",
       "  <thead>\n",
       "    <tr style=\"text-align: right;\">\n",
       "      <th></th>\n",
       "      <th>title</th>\n",
       "      <th>status</th>\n",
       "      <th>details</th>\n",
       "      <th>url</th>\n",
       "      <th>board</th>\n",
       "      <th>category</th>\n",
       "      <th>tags</th>\n",
       "    </tr>\n",
       "  </thead>\n",
       "  <tbody>\n",
       "    <tr>\n",
       "      <th>8</th>\n",
       "      <td>PDF to MP3</td>\n",
       "      <td>in progress</td>\n",
       "      <td>I'm able to convert one text PDF (eBook) to a ...</td>\n",
       "      <td>https://naas.canny.io/admin/board/requests/p/p...</td>\n",
       "      <td>Requests</td>\n",
       "      <td>File_parsing</td>\n",
       "      <td>Awesome-notebooks</td>\n",
       "    </tr>\n",
       "    <tr>\n",
       "      <th>9</th>\n",
       "      <td>Convert docx to html</td>\n",
       "      <td>in progress</td>\n",
       "      <td>I can convert one docx to html</td>\n",
       "      <td>https://naas.canny.io/admin/board/requests/p/c...</td>\n",
       "      <td>Requests</td>\n",
       "      <td>File_parsing</td>\n",
       "      <td>Awesome-notebooks</td>\n",
       "    </tr>\n",
       "    <tr>\n",
       "      <th>52</th>\n",
       "      <td>Healthkit - Parse and extract data</td>\n",
       "      <td>under review</td>\n",
       "      <td>Parse and extract data (ex: https://www.ivaylo...</td>\n",
       "      <td>https://naas.canny.io/admin/board/requests/p/h...</td>\n",
       "      <td>Requests</td>\n",
       "      <td>Health</td>\n",
       "      <td>Awesome-notebooks</td>\n",
       "    </tr>\n",
       "    <tr>\n",
       "      <th>58</th>\n",
       "      <td>World Data - Expose wordwide COVID Map</td>\n",
       "      <td>in progress</td>\n",
       "      <td>Filter buttons: Confirmed, Active cases, Death...</td>\n",
       "      <td>https://naas.canny.io/admin/board/requests/p/w...</td>\n",
       "      <td>Requests</td>\n",
       "      <td>World Data</td>\n",
       "      <td>Awesome-notebooks</td>\n",
       "    </tr>\n",
       "    <tr>\n",
       "      <th>59</th>\n",
       "      <td>NewsAPI - Get news data</td>\n",
       "      <td>planned</td>\n",
       "      <td>with naas_drivers</td>\n",
       "      <td>https://naas.canny.io/admin/board/requests/p/n...</td>\n",
       "      <td>Requests</td>\n",
       "      <td>News</td>\n",
       "      <td>Awesome-notebooks</td>\n",
       "    </tr>\n",
       "    <tr>\n",
       "      <th>66</th>\n",
       "      <td>Odoo - Connect with API</td>\n",
       "      <td>under review</td>\n",
       "      <td>Info : https://pypi.org/project/odoo-connector/</td>\n",
       "      <td>https://naas.canny.io/admin/board/requests/p/o...</td>\n",
       "      <td>Requests</td>\n",
       "      <td>ERP</td>\n",
       "      <td>Awesome-notebooks</td>\n",
       "    </tr>\n",
       "    <tr>\n",
       "      <th>67</th>\n",
       "      <td>Slack - Create user</td>\n",
       "      <td>under review</td>\n",
       "      <td>Input : \\n- Slack API key\\n- Email \\n- Full Na...</td>\n",
       "      <td>https://naas.canny.io/admin/board/requests/p/s...</td>\n",
       "      <td>Requests</td>\n",
       "      <td>Messaging</td>\n",
       "      <td>Awesome-notebooks</td>\n",
       "    </tr>\n",
       "    <tr>\n",
       "      <th>74</th>\n",
       "      <td>IFTTT - Trigger workflow from webhook</td>\n",
       "      <td>in progress</td>\n",
       "      <td>Based on Naas drivers</td>\n",
       "      <td>https://naas.canny.io/admin/board/requests/p/i...</td>\n",
       "      <td>Requests</td>\n",
       "      <td>Automation</td>\n",
       "      <td>Awesome-notebooks</td>\n",
       "    </tr>\n",
       "    <tr>\n",
       "      <th>77</th>\n",
       "      <td>Stripe - Get payments list</td>\n",
       "      <td>planned</td>\n",
       "      <td>Input : \\nStripe API Key\\nOutput: \\nDataframe ...</td>\n",
       "      <td>https://naas.canny.io/admin/board/requests/p/s...</td>\n",
       "      <td>Requests</td>\n",
       "      <td>CRM</td>\n",
       "      <td>Awesome-notebooks</td>\n",
       "    </tr>\n",
       "    <tr>\n",
       "      <th>78</th>\n",
       "      <td>Pipedrive - Get contact list</td>\n",
       "      <td>planned</td>\n",
       "      <td>Input : \\nPipedrive API Key\\nOutput : \\nDatafr...</td>\n",
       "      <td>https://naas.canny.io/admin/board/requests/p/p...</td>\n",
       "      <td>Requests</td>\n",
       "      <td>CRM</td>\n",
       "      <td>Awesome-notebooks</td>\n",
       "    </tr>\n",
       "    <tr>\n",
       "      <th>80</th>\n",
       "      <td>Salesforce - Get contact list</td>\n",
       "      <td>planned</td>\n",
       "      <td>Input : \\nSalesforce API Key\\nOutput : \\nDataf...</td>\n",
       "      <td>https://naas.canny.io/admin/board/requests/p/s...</td>\n",
       "      <td>Requests</td>\n",
       "      <td>CRM</td>\n",
       "      <td>Awesome-notebooks</td>\n",
       "    </tr>\n",
       "  </tbody>\n",
       "</table>\n",
       "</div>"
      ],
      "text/plain": [
       "                                     title        status  \\\n",
       "8                               PDF to MP3   in progress   \n",
       "9                     Convert docx to html   in progress   \n",
       "52      Healthkit - Parse and extract data  under review   \n",
       "58  World Data - Expose wordwide COVID Map   in progress   \n",
       "59                 NewsAPI - Get news data       planned   \n",
       "66                 Odoo - Connect with API  under review   \n",
       "67                     Slack - Create user  under review   \n",
       "74   IFTTT - Trigger workflow from webhook   in progress   \n",
       "77              Stripe - Get payments list       planned   \n",
       "78            Pipedrive - Get contact list       planned   \n",
       "80           Salesforce - Get contact list       planned   \n",
       "\n",
       "                                              details  \\\n",
       "8   I'm able to convert one text PDF (eBook) to a ...   \n",
       "9                      I can convert one docx to html   \n",
       "52  Parse and extract data (ex: https://www.ivaylo...   \n",
       "58  Filter buttons: Confirmed, Active cases, Death...   \n",
       "59                                  with naas_drivers   \n",
       "66    Info : https://pypi.org/project/odoo-connector/   \n",
       "67  Input : \\n- Slack API key\\n- Email \\n- Full Na...   \n",
       "74                              Based on Naas drivers   \n",
       "77  Input : \\nStripe API Key\\nOutput: \\nDataframe ...   \n",
       "78  Input : \\nPipedrive API Key\\nOutput : \\nDatafr...   \n",
       "80  Input : \\nSalesforce API Key\\nOutput : \\nDataf...   \n",
       "\n",
       "                                                  url     board      category  \\\n",
       "8   https://naas.canny.io/admin/board/requests/p/p...  Requests  File_parsing   \n",
       "9   https://naas.canny.io/admin/board/requests/p/c...  Requests  File_parsing   \n",
       "52  https://naas.canny.io/admin/board/requests/p/h...  Requests        Health   \n",
       "58  https://naas.canny.io/admin/board/requests/p/w...  Requests    World Data   \n",
       "59  https://naas.canny.io/admin/board/requests/p/n...  Requests          News   \n",
       "66  https://naas.canny.io/admin/board/requests/p/o...  Requests           ERP   \n",
       "67  https://naas.canny.io/admin/board/requests/p/s...  Requests     Messaging   \n",
       "74  https://naas.canny.io/admin/board/requests/p/i...  Requests    Automation   \n",
       "77  https://naas.canny.io/admin/board/requests/p/s...  Requests           CRM   \n",
       "78  https://naas.canny.io/admin/board/requests/p/p...  Requests           CRM   \n",
       "80  https://naas.canny.io/admin/board/requests/p/s...  Requests           CRM   \n",
       "\n",
       "                 tags  \n",
       "8   Awesome-notebooks  \n",
       "9   Awesome-notebooks  \n",
       "52  Awesome-notebooks  \n",
       "58  Awesome-notebooks  \n",
       "59  Awesome-notebooks  \n",
       "66  Awesome-notebooks  \n",
       "67  Awesome-notebooks  \n",
       "74  Awesome-notebooks  \n",
       "77  Awesome-notebooks  \n",
       "78  Awesome-notebooks  \n",
       "80  Awesome-notebooks  "
      ]
     },
     "execution_count": 6,
     "metadata": {},
     "output_type": "execute_result"
    }
   ],
   "source": [
    "import pandas as pd\n",
    "pd.set_option('mode.chained_assignment', None)\n",
    "dd = post_details['posts']\n",
    "df = pd.DataFrame(columns = dd[0].keys()) \n",
    "for i in range(len(dd)):\n",
    "    df = df.append(dd[i], ignore_index=True)\n",
    "# df\n",
    "\n",
    "board = []\n",
    "category = []\n",
    "tags = []\n",
    "for i in range(len(df)):\n",
    "    board.append(df['board'][i]['name'])\n",
    "    if not df['category'][i]:\n",
    "        category.append('Not assigned')\n",
    "    else:\n",
    "        category.append(df['category'][i]['name'])    \n",
    "    if not df['tags'][i]:\n",
    "        tags.append('Not assigned')\n",
    "    else:\n",
    "        tags.append(df['tags'][i][0]['name'])\n",
    "        \n",
    "        \n",
    "df = df[['title','status','details','url']]\n",
    "df['board'] = board\n",
    "df['category'] = category\n",
    "df['tags'] = tags\n",
    "df = df[(df[\"tags\"] == \"Awesome-notebooks\")]          # tag name\n",
    "df"
   ]
  },
  {
   "cell_type": "code",
   "execution_count": 7,
   "id": "indian-retreat",
   "metadata": {
    "papermill": {},
    "tags": []
   },
   "outputs": [],
   "source": [
    "## add url to dataframe"
   ]
  },
  {
   "cell_type": "markdown",
   "id": "living-influence",
   "metadata": {
    "papermill": {},
    "tags": []
   },
   "source": [
    "## Step 6 - Existing issue list"
   ]
  },
  {
   "cell_type": "code",
   "execution_count": 8,
   "id": "conventional-peeing",
   "metadata": {
    "papermill": {},
    "tags": []
   },
   "outputs": [],
   "source": [
    "issues = []\n",
    "g = Github(gihub_personal_token)\n",
    "repo = g.get_repo(github_repo)\n",
    "open_issues = repo.get_issues(state='open')\n",
    "for issue in open_issues:\n",
    "    issues.append(issue.title)"
   ]
  },
  {
   "cell_type": "markdown",
   "id": "detailed-binary",
   "metadata": {
    "papermill": {},
    "tags": []
   },
   "source": [
    "## Step 7 - Push all issues"
   ]
  },
  {
   "cell_type": "code",
   "execution_count": 9,
   "id": "shaped-chemical",
   "metadata": {
    "papermill": {},
    "tags": []
   },
   "outputs": [],
   "source": [
    "repo = g.get_repo(github_repo)\n",
    "for i in df.index:\n",
    "    if df['title'][i] not in issues:\n",
    "        repo.create_issue(title=df['title'][i], body=df['details'][i]+\"\\n canny url: \"+df['url'][i])"
   ]
  },
  {
   "cell_type": "markdown",
   "id": "regulated-religion",
   "metadata": {
    "papermill": {},
    "tags": []
   },
   "source": [
    "## Close all issues"
   ]
  },
  {
   "cell_type": "code",
   "execution_count": 10,
   "id": "flush-substitute",
   "metadata": {
    "papermill": {},
    "tags": []
   },
   "outputs": [],
   "source": [
    "# repo = g.get_repo(github_repo)\n",
    "# open_issues = repo.get_issues(state='open')\n",
    "# for issue in open_issues:\n",
    "#     issue.edit(state='closed')"
   ]
  }
 ],
 "metadata": {
  "kernelspec": {
   "display_name": "Python 3",
   "language": "python",
   "name": "python3"
  },
  "language_info": {
   "codemirror_mode": {
    "name": "ipython",
    "version": 3
   },
   "file_extension": ".py",
   "mimetype": "text/x-python",
   "name": "python",
   "nbconvert_exporter": "python",
   "pygments_lexer": "ipython3",
   "version": "3.8.6"
  },
  "papermill": {
   "default_parameters": {},
   "environment_variables": {},
   "parameters": {},
   "version": "2.3.3"
  }
 },
 "nbformat": 4,
 "nbformat_minor": 5
}