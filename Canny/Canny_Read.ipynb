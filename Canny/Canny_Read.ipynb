{
 "cells": [
  {
   "cell_type": "markdown",
   "id": "practical-marsh",
   "metadata": {
    "papermill": {},
    "tags": []
   },
   "source": [
    "<img width=\"10%\" alt=\"Naas\" src=\"https://landen.imgix.net/jtci2pxwjczr/assets/5ice39g4.png?w=160\"/>"
   ]
  },
  {
   "cell_type": "markdown",
   "id": "abandoned-costume",
   "metadata": {
    "papermill": {},
    "tags": []
   },
   "source": [
    "# Canny posts view\n",
    "[![download](https://img.shields.io/static/v1?label=Naas&labelColor=000000&message=Download&color=success&style=for-the-badge&logo=image%2Fsvg%2Bxml%3Bbase64%2CPD94bWwgdmVyc2lvbj0iMS4wIiBlbmNvZGluZz0iVVRGLTgiPz4KPHN2ZyB3aWR0aD0iMTAyNHB4IiBoZWlnaHQ9IjEwMjRweCIgdmlld0JveD0iMCAwIDEwMjQgMTAyNCIgeG1sbnM9Imh0dHA6Ly93d3cudzMub3JnLzIwMDAvc3ZnIiB4bWxuczp4bGluaz0iaHR0cDovL3d3dy53My5vcmcvMTk5OS94bGluayIgdmVyc2lvbj0iMS4xIj4KIDwhLS0gR2VuZXJhdGVkIGJ5IFBpeGVsbWF0b3IgUHJvIDIuMC41IC0tPgogPGRlZnM%2BCiAgPHRleHQgaWQ9InN0cmluZyIgdHJhbnNmb3JtPSJtYXRyaXgoMS4wIDAuMCAwLjAgMS4wIDIyOC4wIDU0LjUpIiBmb250LWZhbWlseT0iQ29tZm9ydGFhLVJlZ3VsYXIsIENvbWZvcnRhYSIgZm9udC1zaXplPSI4MDAiIHRleHQtZGVjb3JhdGlvbj0ibm9uZSIgZmlsbD0iI2ZmZmZmZiIgeD0iMS4xOTk5OTk5OTk5OTk5ODg2IiB5PSI3MDUuMCI%2BbjwvdGV4dD4KIDwvZGVmcz4KIDx1c2UgaWQ9Im4iIHhsaW5rOmhyZWY9IiNzdHJpbmciLz4KPC9zdmc%2BCg%3D%3D)](https://app.naas.ai/user-redirect/naas/downloader?url=https://raw.githubusercontent.com/jupyter-naas/awesome-notebooks/master/Canny/Canny_Read.ipynb)"
   ]
  },
  {
   "cell_type": "markdown",
   "id": "lined-address",
   "metadata": {
    "papermill": {},
    "tags": []
   },
   "source": [
    "<img width=\"20%\" alt=\"Naas\" src=\"data:image/png;base64,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\"/>"
   ]
  },
  {
   "cell_type": "markdown",
   "id": "affected-pittsburgh",
   "metadata": {
    "papermill": {},
    "tags": []
   },
   "source": [
    "## Enter credentials"
   ]
  },
  {
   "cell_type": "code",
   "execution_count": 1,
   "id": "median-cooling",
   "metadata": {
    "papermill": {},
    "tags": []
   },
   "outputs": [],
   "source": [
    "canny_api = \"**********\"   # api key of canny"
   ]
  },
  {
   "cell_type": "markdown",
   "id": "recent-momentum",
   "metadata": {
    "papermill": {},
    "tags": []
   },
   "source": [
    "## Connecting to canny"
   ]
  },
  {
   "cell_type": "code",
   "execution_count": 2,
   "id": "fuzzy-attraction",
   "metadata": {
    "papermill": {},
    "tags": []
   },
   "outputs": [],
   "source": [
    "import requests\n",
    "import json\n",
    "import pandas as pd\n",
    "class canny:\n",
    "    def __init__(self,api_key):\n",
    "        self.api_key = api_key\n",
    "\n",
    "    def read(self):\n",
    "        canny_api = self.api_key\n",
    "        response = requests.get(\"https://canny.io/api/v1/posts/list\")\n",
    "        api_key = {\n",
    "        \"apiKey\":canny_api          \n",
    "        }\n",
    "        board_id = {\n",
    "        \"id\":\"\"                          \n",
    "        }\n",
    "        limit = {\n",
    "        \"limit\":\"100\"                          \n",
    "        }\n",
    "        data = {**api_key, **board_id, **limit}\n",
    "        response = requests.post(\"https://canny.io/api/v1/posts/list\",data)\n",
    "        post_details = response.json()\n",
    "        pd.set_option('mode.chained_assignment', None)\n",
    "        dd = post_details['posts']\n",
    "        df = pd.DataFrame(columns = dd[0].keys()) \n",
    "        for i in range(len(dd)):\n",
    "            df = df.append(dd[i], ignore_index=True)\n",
    "        df = df.rename(columns={'details': 'POST_DETAIL', 'status': 'STATUS', 'title': 'POST_NAME','board': 'BOARD','category': 'CATEGORY','id': 'BOARD_ID'})        \n",
    "        board = []\n",
    "        category = []\n",
    "        tags = []\n",
    "        eta = []\n",
    "        created = []\n",
    "        for i in range(len(df)):\n",
    "            board.append(df['BOARD'][i]['name'])\n",
    "            created.append(df['BOARD'][i]['created'])\n",
    "            if not df['CATEGORY'][i]:\n",
    "                category.append('Not assigned')\n",
    "            else:\n",
    "                category.append(df['CATEGORY'][i]['name'])    \n",
    "            if not df['tags'][i]:\n",
    "                tags.append('Not assigned')\n",
    "            else:\n",
    "                tags.append(df['tags'][i][0]['name'])\n",
    "            if not df['eta'][i]:\n",
    "                eta.append('Not assigned')\n",
    "            else:\n",
    "                eta.append(df['eta'][i])  \n",
    "        df1 = df[['POST_NAME','POST_DETAIL','STATUS','BOARD_ID']]\n",
    "        df1['BOARD'] = board\n",
    "        df1['CREATED'] = created\n",
    "        df1['ETA'] = eta\n",
    "        df1['CATEGORY'] = category\n",
    "        df1['TAGS'] = tags\n",
    "        return df1"
   ]
  },
  {
   "cell_type": "markdown",
   "id": "affiliated-contract",
   "metadata": {
    "papermill": {},
    "tags": []
   },
   "source": [
    "## Post Retrieve"
   ]
  },
  {
   "cell_type": "code",
   "execution_count": 3,
   "id": "outstanding-bracket",
   "metadata": {
    "papermill": {},
    "tags": []
   },
   "outputs": [
    {
     "data": {
      "text/html": [
       "<div>\n",
       "<style scoped>\n",
       "    .dataframe tbody tr th:only-of-type {\n",
       "        vertical-align: middle;\n",
       "    }\n",
       "\n",
       "    .dataframe tbody tr th {\n",
       "        vertical-align: top;\n",
       "    }\n",
       "\n",
       "    .dataframe thead th {\n",
       "        text-align: right;\n",
       "    }\n",
       "</style>\n",
       "<table border=\"1\" class=\"dataframe\">\n",
       "  <thead>\n",
       "    <tr style=\"text-align: right;\">\n",
       "      <th></th>\n",
       "      <th>POST_NAME</th>\n",
       "      <th>POST_DETAIL</th>\n",
       "      <th>STATUS</th>\n",
       "      <th>BOARD_ID</th>\n",
       "      <th>BOARD</th>\n",
       "      <th>CREATED</th>\n",
       "      <th>ETA</th>\n",
       "      <th>CATEGORY</th>\n",
       "      <th>TAGS</th>\n",
       "    </tr>\n",
       "  </thead>\n",
       "  <tbody>\n",
       "    <tr>\n",
       "      <th>0</th>\n",
       "      <td>Scheduler : Adapt to the time zone</td>\n",
       "      <td>I would like to manage the time zone of scheduler</td>\n",
       "      <td>under review</td>\n",
       "      <td>5fe377439f49cd19e0ccc9cc</td>\n",
       "      <td>Requests</td>\n",
       "      <td>2020-11-17T11:12:51.981Z</td>\n",
       "      <td>Not assigned</td>\n",
       "      <td>Not assigned</td>\n",
       "      <td>Not assigned</td>\n",
       "    </tr>\n",
       "    <tr>\n",
       "      <th>1</th>\n",
       "      <td>Add embed doc</td>\n",
       "      <td>allow all user to see doc from naas launcher</td>\n",
       "      <td>open</td>\n",
       "      <td>5fe20f8eaec9ad63ff081f0c</td>\n",
       "      <td>Requests</td>\n",
       "      <td>2020-11-17T11:12:51.981Z</td>\n",
       "      <td>Not assigned</td>\n",
       "      <td>Not assigned</td>\n",
       "      <td>Not assigned</td>\n",
       "    </tr>\n",
       "    <tr>\n",
       "      <th>2</th>\n",
       "      <td>naas_drivers.cityfalcon() is down</td>\n",
       "      <td>Due to the downtime time of city falcon servic...</td>\n",
       "      <td>open</td>\n",
       "      <td>5fe1dc8051be0744615fbece</td>\n",
       "      <td>Incident report</td>\n",
       "      <td>2020-11-17T10:58:37.822Z</td>\n",
       "      <td>Not assigned</td>\n",
       "      <td>Not assigned</td>\n",
       "      <td>Not assigned</td>\n",
       "    </tr>\n",
       "    <tr>\n",
       "      <th>3</th>\n",
       "      <td>PDF to MP3</td>\n",
       "      <td>I'm able to convert one text PDF (eBook) to a ...</td>\n",
       "      <td>in progress</td>\n",
       "      <td>5fe06cf5647d5c54c92a2eb5</td>\n",
       "      <td>Requests</td>\n",
       "      <td>2020-11-17T11:12:51.981Z</td>\n",
       "      <td>Not assigned</td>\n",
       "      <td>File_parsing</td>\n",
       "      <td>Awesome-notebooks</td>\n",
       "    </tr>\n",
       "    <tr>\n",
       "      <th>4</th>\n",
       "      <td>Convert docx to html</td>\n",
       "      <td>I can convert one docx to html</td>\n",
       "      <td>in progress</td>\n",
       "      <td>5fe06c9bccfb9d4462edbc86</td>\n",
       "      <td>Requests</td>\n",
       "      <td>2020-11-17T11:12:51.981Z</td>\n",
       "      <td>Not assigned</td>\n",
       "      <td>File_parsing</td>\n",
       "      <td>Awesome-notebooks</td>\n",
       "    </tr>\n",
       "    <tr>\n",
       "      <th>...</th>\n",
       "      <td>...</td>\n",
       "      <td>...</td>\n",
       "      <td>...</td>\n",
       "      <td>...</td>\n",
       "      <td>...</td>\n",
       "      <td>...</td>\n",
       "      <td>...</td>\n",
       "      <td>...</td>\n",
       "      <td>...</td>\n",
       "    </tr>\n",
       "    <tr>\n",
       "      <th>71</th>\n",
       "      <td>Quickbooks - Get invoices list</td>\n",
       "      <td>Get dataframe with list of invoices\\nInfo : \\n...</td>\n",
       "      <td>under review</td>\n",
       "      <td>5fa98840c7c07151fbd79e58</td>\n",
       "      <td>Requests</td>\n",
       "      <td>2020-11-17T11:12:51.981Z</td>\n",
       "      <td>Not assigned</td>\n",
       "      <td>Not assigned</td>\n",
       "      <td>Not assigned</td>\n",
       "    </tr>\n",
       "    <tr>\n",
       "      <th>72</th>\n",
       "      <td>Stripe - Get payments list</td>\n",
       "      <td>Input : \\nStripe API Key\\nOutput: \\nDataframe ...</td>\n",
       "      <td>planned</td>\n",
       "      <td>5fa95ed4f41738229ebc7a6b</td>\n",
       "      <td>Requests</td>\n",
       "      <td>2020-11-17T11:12:51.981Z</td>\n",
       "      <td>February 2020</td>\n",
       "      <td>CRM</td>\n",
       "      <td>Awesome-notebooks</td>\n",
       "    </tr>\n",
       "    <tr>\n",
       "      <th>73</th>\n",
       "      <td>Pipedrive - Get contact list</td>\n",
       "      <td>Input : \\nPipedrive API Key\\nOutput : \\nDatafr...</td>\n",
       "      <td>planned</td>\n",
       "      <td>5fa95ea2ef162d23855038b1</td>\n",
       "      <td>Requests</td>\n",
       "      <td>2020-11-17T11:12:51.981Z</td>\n",
       "      <td>March 2020</td>\n",
       "      <td>CRM</td>\n",
       "      <td>Awesome-notebooks</td>\n",
       "    </tr>\n",
       "    <tr>\n",
       "      <th>74</th>\n",
       "      <td>Hubspot - Get contact list</td>\n",
       "      <td>Input : \\nHubspot API Key\\nOutput : \\nDatafram...</td>\n",
       "      <td>in progress</td>\n",
       "      <td>5fa95e83f41738229ebc74e1</td>\n",
       "      <td>Requests</td>\n",
       "      <td>2020-11-17T11:12:51.981Z</td>\n",
       "      <td>December 2020</td>\n",
       "      <td>CRM</td>\n",
       "      <td>Not assigned</td>\n",
       "    </tr>\n",
       "    <tr>\n",
       "      <th>75</th>\n",
       "      <td>Salesforce - Get contact list</td>\n",
       "      <td>Input : \\nSalesforce API Key\\nOutput : \\nDataf...</td>\n",
       "      <td>planned</td>\n",
       "      <td>5fa95e61ce3dc8366918b0b5</td>\n",
       "      <td>Requests</td>\n",
       "      <td>2020-11-17T11:12:51.981Z</td>\n",
       "      <td>Not assigned</td>\n",
       "      <td>CRM</td>\n",
       "      <td>Awesome-notebooks</td>\n",
       "    </tr>\n",
       "  </tbody>\n",
       "</table>\n",
       "<p>76 rows × 9 columns</p>\n",
       "</div>"
      ],
      "text/plain": [
       "                             POST_NAME  \\\n",
       "0   Scheduler : Adapt to the time zone   \n",
       "1                        Add embed doc   \n",
       "2    naas_drivers.cityfalcon() is down   \n",
       "3                           PDF to MP3   \n",
       "4                 Convert docx to html   \n",
       "..                                 ...   \n",
       "71      Quickbooks - Get invoices list   \n",
       "72          Stripe - Get payments list   \n",
       "73        Pipedrive - Get contact list   \n",
       "74          Hubspot - Get contact list   \n",
       "75       Salesforce - Get contact list   \n",
       "\n",
       "                                          POST_DETAIL        STATUS  \\\n",
       "0   I would like to manage the time zone of scheduler  under review   \n",
       "1        allow all user to see doc from naas launcher          open   \n",
       "2   Due to the downtime time of city falcon servic...          open   \n",
       "3   I'm able to convert one text PDF (eBook) to a ...   in progress   \n",
       "4                      I can convert one docx to html   in progress   \n",
       "..                                                ...           ...   \n",
       "71  Get dataframe with list of invoices\\nInfo : \\n...  under review   \n",
       "72  Input : \\nStripe API Key\\nOutput: \\nDataframe ...       planned   \n",
       "73  Input : \\nPipedrive API Key\\nOutput : \\nDatafr...       planned   \n",
       "74  Input : \\nHubspot API Key\\nOutput : \\nDatafram...   in progress   \n",
       "75  Input : \\nSalesforce API Key\\nOutput : \\nDataf...       planned   \n",
       "\n",
       "                    BOARD_ID            BOARD                   CREATED  \\\n",
       "0   5fe377439f49cd19e0ccc9cc         Requests  2020-11-17T11:12:51.981Z   \n",
       "1   5fe20f8eaec9ad63ff081f0c         Requests  2020-11-17T11:12:51.981Z   \n",
       "2   5fe1dc8051be0744615fbece  Incident report  2020-11-17T10:58:37.822Z   \n",
       "3   5fe06cf5647d5c54c92a2eb5         Requests  2020-11-17T11:12:51.981Z   \n",
       "4   5fe06c9bccfb9d4462edbc86         Requests  2020-11-17T11:12:51.981Z   \n",
       "..                       ...              ...                       ...   \n",
       "71  5fa98840c7c07151fbd79e58         Requests  2020-11-17T11:12:51.981Z   \n",
       "72  5fa95ed4f41738229ebc7a6b         Requests  2020-11-17T11:12:51.981Z   \n",
       "73  5fa95ea2ef162d23855038b1         Requests  2020-11-17T11:12:51.981Z   \n",
       "74  5fa95e83f41738229ebc74e1         Requests  2020-11-17T11:12:51.981Z   \n",
       "75  5fa95e61ce3dc8366918b0b5         Requests  2020-11-17T11:12:51.981Z   \n",
       "\n",
       "              ETA      CATEGORY               TAGS  \n",
       "0    Not assigned  Not assigned       Not assigned  \n",
       "1    Not assigned  Not assigned       Not assigned  \n",
       "2    Not assigned  Not assigned       Not assigned  \n",
       "3    Not assigned  File_parsing  Awesome-notebooks  \n",
       "4    Not assigned  File_parsing  Awesome-notebooks  \n",
       "..            ...           ...                ...  \n",
       "71   Not assigned  Not assigned       Not assigned  \n",
       "72  February 2020           CRM  Awesome-notebooks  \n",
       "73     March 2020           CRM  Awesome-notebooks  \n",
       "74  December 2020           CRM       Not assigned  \n",
       "75   Not assigned           CRM  Awesome-notebooks  \n",
       "\n",
       "[76 rows x 9 columns]"
      ]
     },
     "execution_count": 3,
     "metadata": {},
     "output_type": "execute_result"
    }
   ],
   "source": [
    "canny(canny_api).read()"
   ]
  },
  {
   "cell_type": "markdown",
   "id": "partial-logging",
   "metadata": {
    "papermill": {},
    "tags": []
   },
   "source": [
    "## Save as csv"
   ]
  },
  {
   "cell_type": "code",
   "execution_count": 4,
   "id": "tight-discharge",
   "metadata": {
    "papermill": {},
    "tags": []
   },
   "outputs": [],
   "source": [
    "canny(canny_api).read().to_csv('naas_canny.csv') "
   ]
  },
  {
   "cell_type": "code",
   "execution_count": null,
   "id": "ruled-bedroom",
   "metadata": {
    "papermill": {},
    "tags": []
   },
   "outputs": [],
   "source": []
  }
 ],
 "metadata": {
  "kernelspec": {
   "display_name": "Python 3",
   "language": "python",
   "name": "python3"
  },
  "language_info": {
   "codemirror_mode": {
    "name": "ipython",
    "version": 3
   },
   "file_extension": ".py",
   "mimetype": "text/x-python",
   "name": "python",
   "nbconvert_exporter": "python",
   "pygments_lexer": "ipython3",
   "version": "3.8.6"
  },
  "papermill": {
   "default_parameters": {},
   "environment_variables": {},
   "parameters": {},
   "version": "2.3.3"
  }
 },
 "nbformat": 4,
 "nbformat_minor": 5
}