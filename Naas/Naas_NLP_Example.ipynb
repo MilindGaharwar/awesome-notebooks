{
 "cells": [
  {
   "cell_type": "markdown",
   "id": "excess-disorder",
   "metadata": {
    "papermill": {},
    "tags": []
   },
   "source": [
    "# Naas - NLP Example\n",
    "<a href=\"https://app.naas.ai/user-redirect/naas/downloader?url=https://raw.githubusercontent.com/jupyter-naas/awesome-notebooks/master/Naas/Naas_NLP_Example.ipynb\" target=\"_parent\">\n",
    "<img src=\"https://img.shields.io/badge/-Open%20in%20Naas-success?labelColor=000000&logo=data:image/svg+xml;base64,PD94bWwgdmVyc2lvbj0iMS4wIiBlbmNvZGluZz0iVVRGLTgiPz4KPHN2ZyB3aWR0aD0iMTAyNHB4IiBoZWlnaHQ9IjEwMjRweCIgdmlld0JveD0iMCAwIDEwMjQgMTAyNCIgeG1sbnM9Imh0dHA6Ly93d3cudzMub3JnLzIwMDAvc3ZnIiB4bWxuczp4bGluaz0iaHR0cDovL3d3dy53My5vcmcvMTk5OS94bGluayIgdmVyc2lvbj0iMS4xIj4KIDwhLS0gR2VuZXJhdGVkIGJ5IFBpeGVsbWF0b3IgUHJvIDIuMC41IC0tPgogPGRlZnM+CiAgPHRleHQgaWQ9InN0cmluZyIgdHJhbnNmb3JtPSJtYXRyaXgoMS4wIDAuMCAwLjAgMS4wIDIyOC4wIDU0LjUpIiBmb250LWZhbWlseT0iQ29tZm9ydGFhLVJlZ3VsYXIsIENvbWZvcnRhYSIgZm9udC1zaXplPSI4MDAiIHRleHQtZGVjb3JhdGlvbj0ibm9uZSIgZmlsbD0iI2ZmZmZmZiIgeD0iMS4xOTk5OTk5OTk5OTk5ODg2IiB5PSI3MDUuMCI+bjwvdGV4dD4KIDwvZGVmcz4KIDx1c2UgaWQ9Im4iIHhsaW5rOmhyZWY9IiNzdHJpbmciLz4KPC9zdmc+Cg==\"/>\n",
    "</a>"
   ]
  },
  {
   "cell_type": "markdown",
   "id": "conservative-beach",
   "metadata": {
    "papermill": {},
    "tags": []
   },
   "source": [
    "# Step one Install the naas_drivers module and import nlp"
   ]
  },
  {
   "cell_type": "code",
   "execution_count": 3,
   "id": "demonstrated-appearance",
   "metadata": {
    "execution": {
     "iopub.execute_input": "2021-05-27T15:55:42.347532Z",
     "iopub.status.busy": "2021-05-27T15:55:42.347307Z",
     "iopub.status.idle": "2021-05-27T15:55:42.350481Z",
     "shell.execute_reply": "2021-05-27T15:55:42.349789Z",
     "shell.execute_reply.started": "2021-05-27T15:55:42.347510Z"
    },
    "papermill": {},
    "tags": []
   },
   "outputs": [],
   "source": [
    "from naas_drivers import nlp"
   ]
  },
  {
   "cell_type": "markdown",
   "id": "italian-discrimination",
   "metadata": {
    "papermill": {},
    "tags": []
   },
   "source": [
    "# NLP Format\n",
    "```\n",
    "nlp.get(task)(inputs)\n",
    "```\n",
    "### Supported tasks:\n",
    "\n",
    "- text-generation\n",
    "- feature-extraction\n",
    "- text-classification\n",
    "- sentiment-analysis\n",
    "- token-classification\n",
    "- ner\n",
    "- question-answering\n",
    "- fill-mask\n",
    "- summarization\n",
    "- translation"
   ]
  },
  {
   "cell_type": "markdown",
   "id": "automated-colony",
   "metadata": {
    "papermill": {},
    "tags": []
   },
   "source": [
    "# Text Generation"
   ]
  },
  {
   "cell_type": "code",
   "execution_count": 2,
   "id": "demographic-breath",
   "metadata": {
    "execution": {
     "iopub.execute_input": "2021-05-27T15:50:46.868758Z",
     "iopub.status.busy": "2021-05-27T15:50:46.868461Z",
     "iopub.status.idle": "2021-05-27T15:50:57.449538Z",
     "shell.execute_reply": "2021-05-27T15:50:57.448786Z",
     "shell.execute_reply.started": "2021-05-27T15:50:46.868721Z"
    },
    "papermill": {},
    "tags": []
   },
   "outputs": [
    {
     "name": "stderr",
     "output_type": "stream",
     "text": [
      "Setting `pad_token_id` to `eos_token_id`:50256 for open-end generation.\n"
     ]
    },
    {
     "data": {
      "text/plain": [
       "[{'generated_text': 'Life is a ills-to-do list you can easily add to your list of activities, but it is important to remember these are just the items you should focus on in order to increase its vitality and make its life more enjoyable. You can'}]"
      ]
     },
     "execution_count": 2,
     "metadata": {},
     "output_type": "execute_result"
    }
   ],
   "source": [
    "nlp.get(\"text-generation\")(\"Life is a \")"
   ]
  }
 ],
 "metadata": {
  "kernelspec": {
   "display_name": "Python 3",
   "language": "python",
   "name": "python3"
  },
  "language_info": {
   "codemirror_mode": {
    "name": "ipython",
    "version": 3
   },
   "file_extension": ".py",
   "mimetype": "text/x-python",
   "name": "python",
   "nbconvert_exporter": "python",
   "pygments_lexer": "ipython3",
   "version": "3.8.8"
  },
  "papermill": {
   "default_parameters": {},
   "environment_variables": {},
   "parameters": {},
   "version": "2.3.3"
  }
 },
 "nbformat": 4,
 "nbformat_minor": 5
}