{
 "cells": [
  {
   "cell_type": "markdown",
   "id": "alternative-observer",
   "metadata": {
    "papermill": {},
    "tags": []
   },
   "source": [
    "<img width=\"10%\" alt=\"Naas\" src=\"https://landen.imgix.net/jtci2pxwjczr/assets/5ice39g4.png?w=160\"/>"
   ]
  },
  {
   "cell_type": "markdown",
   "id": "applicable-andrews",
   "metadata": {
    "papermill": {},
    "tags": []
   },
   "source": [
    "# Get help in Naas\n",
    "[![download](https://img.shields.io/static/v1?label=Naas&labelColor=000000&message=Download&color=success&style=for-the-badge&logo=image%2Fsvg%2Bxml%3Bbase64%2CPD94bWwgdmVyc2lvbj0iMS4wIiBlbmNvZGluZz0iVVRGLTgiPz4KPHN2ZyB3aWR0aD0iMTAyNHB4IiBoZWlnaHQ9IjEwMjRweCIgdmlld0JveD0iMCAwIDEwMjQgMTAyNCIgeG1sbnM9Imh0dHA6Ly93d3cudzMub3JnLzIwMDAvc3ZnIiB4bWxuczp4bGluaz0iaHR0cDovL3d3dy53My5vcmcvMTk5OS94bGluayIgdmVyc2lvbj0iMS4xIj4KIDwhLS0gR2VuZXJhdGVkIGJ5IFBpeGVsbWF0b3IgUHJvIDIuMC41IC0tPgogPGRlZnM%2BCiAgPHRleHQgaWQ9InN0cmluZyIgdHJhbnNmb3JtPSJtYXRyaXgoMS4wIDAuMCAwLjAgMS4wIDIyOC4wIDU0LjUpIiBmb250LWZhbWlseT0iQ29tZm9ydGFhLVJlZ3VsYXIsIENvbWZvcnRhYSIgZm9udC1zaXplPSI4MDAiIHRleHQtZGVjb3JhdGlvbj0ibm9uZSIgZmlsbD0iI2ZmZmZmZiIgeD0iMS4xOTk5OTk5OTk5OTk5ODg2IiB5PSI3MDUuMCI%2BbjwvdGV4dD4KIDwvZGVmcz4KIDx1c2UgaWQ9Im4iIHhsaW5rOmhyZWY9IiNzdHJpbmciLz4KPC9zdmc%2BCg%3D%3D)](https://app.naas.ai/user-redirect/naas/downloader?url=https://raw.githubusercontent.com/jupyter-naas/awesome-notebooks/master/Naas/Naas_Get_help.ipynb)"
   ]
  },
  {
   "cell_type": "markdown",
   "id": "desperate-belize",
   "metadata": {
    "papermill": {},
    "tags": []
   },
   "source": [
    "## Import needed library"
   ]
  },
  {
   "cell_type": "code",
   "execution_count": 1,
   "id": "mobile-complaint",
   "metadata": {
    "execution": {
     "iopub.execute_input": "2021-01-26T14:26:23.336262Z",
     "iopub.status.busy": "2021-01-26T14:26:23.335989Z",
     "iopub.status.idle": "2021-01-26T14:26:24.409078Z",
     "shell.execute_reply": "2021-01-26T14:26:24.408542Z",
     "shell.execute_reply.started": "2021-01-26T14:26:23.336197Z"
    },
    "papermill": {},
    "tags": []
   },
   "outputs": [],
   "source": [
    "import naas"
   ]
  },
  {
   "cell_type": "markdown",
   "id": "resident-webster",
   "metadata": {
    "papermill": {},
    "tags": []
   },
   "source": [
    "## Open help chatbox"
   ]
  },
  {
   "cell_type": "code",
   "execution_count": 2,
   "id": "egyptian-default",
   "metadata": {
    "execution": {
     "iopub.execute_input": "2021-01-26T14:26:24.419320Z",
     "iopub.status.busy": "2021-01-26T14:26:24.419139Z",
     "iopub.status.idle": "2021-01-26T14:26:24.433478Z",
     "shell.execute_reply": "2021-01-26T14:26:24.432919Z",
     "shell.execute_reply.started": "2021-01-26T14:26:24.419300Z"
    },
    "papermill": {},
    "tags": []
   },
   "outputs": [
    {
     "data": {
      "text/html": [
       "<script type=\"text/javascript\">window.$crisp=[];window.CRISP_WEBSITE_ID=\"34ee7d04-1056-4e11-aea7-1c02c0d2bef3\";(function(){d=document;s=d.createElement(\"script\");s.src=\"https://client.crisp.chat/l.js\";s.async=1;d.getElementsByTagName(\"head\")[0].appendChild(s);})();</script><script>$crisp.push([\"set\", \"user:email\", [\"devops@cashstory.com\"]])</script><script>$crisp.push([\"set\", \"session:data\", [[[\"naas_version\", \"0.27.4\"]]]])</script><script>$crisp.push([\"do\", \"chat:open\"])</script>"
      ],
      "text/plain": [
       "<IPython.core.display.HTML object>"
      ]
     },
     "metadata": {},
     "output_type": "display_data"
    }
   ],
   "source": [
    "naas.open_help()"
   ]
  },
  {
   "cell_type": "markdown",
   "id": "spiritual-clone",
   "metadata": {
    "papermill": {},
    "tags": []
   },
   "source": [
    "## Close help chatbox"
   ]
  },
  {
   "cell_type": "code",
   "execution_count": 3,
   "id": "conscious-welding",
   "metadata": {
    "execution": {
     "iopub.execute_input": "2021-01-26T14:26:26.126735Z",
     "iopub.status.busy": "2021-01-26T14:26:26.126503Z",
     "iopub.status.idle": "2021-01-26T14:26:26.134514Z",
     "shell.execute_reply": "2021-01-26T14:26:26.134036Z",
     "shell.execute_reply.started": "2021-01-26T14:26:26.126711Z"
    },
    "papermill": {},
    "tags": []
   },
   "outputs": [
    {
     "data": {
      "text/html": [
       "<script>$crisp.push([\"do\", \"chat:hide\"])</script>"
      ],
      "text/plain": [
       "<IPython.core.display.HTML object>"
      ]
     },
     "metadata": {},
     "output_type": "display_data"
    }
   ],
   "source": [
    "naas.close_help()"
   ]
  },
  {
   "cell_type": "code",
   "execution_count": null,
   "id": "dutch-silence",
   "metadata": {
    "papermill": {},
    "tags": []
   },
   "outputs": [],
   "source": []
  }
 ],
 "metadata": {
  "kernelspec": {
   "display_name": "Python 3",
   "language": "python",
   "name": "python3"
  },
  "language_info": {
   "codemirror_mode": {
    "name": "ipython",
    "version": 3
   },
   "file_extension": ".py",
   "mimetype": "text/x-python",
   "name": "python",
   "nbconvert_exporter": "python",
   "pygments_lexer": "ipython3",
   "version": "3.8.6"
  },
  "papermill": {
   "default_parameters": {},
   "environment_variables": {},
   "parameters": {},
   "version": "2.3.3"
  }
 },
 "nbformat": 4,
 "nbformat_minor": 5
}