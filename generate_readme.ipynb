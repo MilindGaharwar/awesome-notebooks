{
 "cells": [
  {
   "cell_type": "markdown",
   "id": "mature-peninsula",
   "metadata": {},
   "source": [
    "<img width=\"10%\" alt=\"Naas\" src=\"https://landen.imgix.net/jtci2pxwjczr/assets/5ice39g4.png?w=160\"/>\n",
    "\n",
    "# Generate Readme for Awesome Notebooks"
   ]
  },
  {
   "cell_type": "code",
   "execution_count": 1,
   "id": "unexpected-curtis",
   "metadata": {
    "execution": {
     "iopub.execute_input": "2021-04-14T08:32:23.155482Z",
     "iopub.status.busy": "2021-04-14T08:32:23.155058Z",
     "iopub.status.idle": "2021-04-14T08:32:26.729509Z",
     "shell.execute_reply": "2021-04-14T08:32:26.728773Z",
     "shell.execute_reply.started": "2021-04-14T08:32:23.155412Z"
    }
   },
   "outputs": [],
   "source": [
    "import os\n",
    "import naas_drivers\n",
    "import urllib.parse\n",
    "\n",
    "import copy\n",
    "import nbformat\n",
    "\n",
    "from papermill.iorw import (\n",
    "    load_notebook_node,\n",
    "    write_ipynb,\n",
    ")"
   ]
  },
  {
   "cell_type": "markdown",
   "id": "brave-moscow",
   "metadata": {},
   "source": [
    "## Variables"
   ]
  },
  {
   "cell_type": "code",
   "execution_count": 2,
   "id": "composite-cooper",
   "metadata": {
    "execution": {
     "iopub.execute_input": "2021-04-14T08:32:26.731439Z",
     "iopub.status.busy": "2021-04-14T08:32:26.731023Z",
     "iopub.status.idle": "2021-04-14T08:32:26.735056Z",
     "shell.execute_reply": "2021-04-14T08:32:26.734498Z",
     "shell.execute_reply.started": "2021-04-14T08:32:26.731407Z"
    }
   },
   "outputs": [],
   "source": [
    "readme_template = \"README_template.md\"\n",
    "readme = \"README.md\"\n",
    "replace_var = \"[[DYNAMIC_LIST]]\"\n",
    "current_file = '.'\n",
    "notebook_ext = '.ipynb'\n",
    "github_url = 'https://github.com/jupyter-naas/awesome-notebooks/tree/master'\n",
    "github_download_url = 'https://raw.githubusercontent.com/jupyter-naas/awesome-notebooks/master/'\n",
    "naas_download_url='https://app.naas.ai/user-redirect/naas/downloader?url='\n",
    "naas_logo='https://img.shields.io/static/v1?label=&labelColor=000000&message=Open%20in%20Naas&color=success&logo=image%2Fsvg%2Bxml%3Bbase64%2CPD94bWwgdmVyc2lvbj0iMS4wIiBlbmNvZGluZz0iVVRGLTgiPz4KPHN2ZyB3aWR0aD0iMTAyNHB4IiBoZWlnaHQ9IjEwMjRweCIgdmlld0JveD0iMCAwIDEwMjQgMTAyNCIgeG1sbnM9Imh0dHA6Ly93d3cudzMub3JnLzIwMDAvc3ZnIiB4bWxuczp4bGluaz0iaHR0cDovL3d3dy53My5vcmcvMTk5OS94bGluayIgdmVyc2lvbj0iMS4xIj4KIDwhLS0gR2VuZXJhdGVkIGJ5IFBpeGVsbWF0b3IgUHJvIDIuMC41IC0tPgogPGRlZnM%2BCiAgPHRleHQgaWQ9InN0cmluZyIgdHJhbnNmb3JtPSJtYXRyaXgoMS4wIDAuMCAwLjAgMS4wIDIyOC4wIDU0LjUpIiBmb250LWZhbWlseT0iQ29tZm9ydGFhLVJlZ3VsYXIsIENvbWZvcnRhYSIgZm9udC1zaXplPSI4MDAiIHRleHQtZGVjb3JhdGlvbj0ibm9uZSIgZmlsbD0iI2ZmZmZmZiIgeD0iMS4xOTk5OTk5OTk5OTk5ODg2IiB5PSI3MDUuMCI%2BbjwvdGV4dD4KIDwvZGVmcz4KIDx1c2UgaWQ9Im4iIHhsaW5rOmhyZWY9IiNzdHJpbmciLz4KPC9zdmc%2BCg%3D%3D'"
   ]
  },
  {
   "cell_type": "markdown",
   "id": "comparable-finder",
   "metadata": {},
   "source": [
    "## Get files list"
   ]
  },
  {
   "cell_type": "code",
   "execution_count": 3,
   "id": "interested-sperm",
   "metadata": {
    "execution": {
     "iopub.execute_input": "2021-04-14T08:32:26.736519Z",
     "iopub.status.busy": "2021-04-14T08:32:26.736116Z",
     "iopub.status.idle": "2021-04-14T08:32:27.577358Z",
     "shell.execute_reply": "2021-04-14T08:32:27.576698Z",
     "shell.execute_reply.started": "2021-04-14T08:32:26.736489Z"
    }
   },
   "outputs": [],
   "source": [
    "total = []\n",
    "for root, directories, files in os.walk(current_file, topdown=False):\n",
    "    total.append({\"root\": root, \"directories\":directories, \"files\":files})\n",
    "total.sort(key=lambda x: x.get('root'))"
   ]
  },
  {
   "cell_type": "markdown",
   "id": "medieval-simpson",
   "metadata": {},
   "source": [
    "## Set 'Naas Download' link on notebook"
   ]
  },
  {
   "cell_type": "code",
   "execution_count": 4,
   "id": "intimate-sacramento",
   "metadata": {
    "execution": {
     "iopub.execute_input": "2021-04-14T08:32:27.582908Z",
     "iopub.status.busy": "2021-04-14T08:32:27.580870Z",
     "iopub.status.idle": "2021-04-14T08:32:27.592135Z",
     "shell.execute_reply": "2021-04-14T08:32:27.591631Z",
     "shell.execute_reply.started": "2021-04-14T08:32:27.582874Z"
    }
   },
   "outputs": [],
   "source": [
    "def set_link_in_source(source, add_link, title_index, text, pattern_to_remove):\n",
    "    insert_index = len(source)\n",
    "    if source.find('\\n', title_index) != -1:\n",
    "        insert_index = source.index('\\n', title_index)\n",
    "    if source.find(pattern_to_remove) != -1:\n",
    "        index = source.index(pattern_to_remove)\n",
    "        link_size = len(pattern_to_remove)\n",
    "        if source[index - 1] == '\\n':\n",
    "            link_size += 1\n",
    "            index -= 1\n",
    "        if source[index + link_size] == '(' and source.find(')', index) != -1:\n",
    "           link_size += source.index(')', index + link_size) - source.index('(', index + link_size) + 1\n",
    "        source = source[:index] + source[index + link_size:]\n",
    "    source = source[:insert_index] + f\"\\n{text}({add_link})\" + source[insert_index:]\n",
    "    return source\n",
    "\n",
    "def set_notebook_link(notebook_path, add_link, text=f\"![download]({naas_logo})\", pattern_to_remove=\"\"):\n",
    "    count = 0\n",
    "    nb = load_notebook_node(notebook_path)\n",
    "    nb = copy.deepcopy(nb)\n",
    "    text = f\"[{text}]\"\n",
    "    if pattern_to_remove == \"\":\n",
    "        pattern_to_remove = text\n",
    "    for cell in nb.cells:\n",
    "        source = cell.source\n",
    "        if source.find('#') != -1:\n",
    "            index = source.index('#')\n",
    "            while (index != 0 and source[index - 1] != '\\n') and source.find('#', index + 1) != -1:\n",
    "                index = source.index('#', index + 1)\n",
    "            if index == 0 or source[index - 1] == '\\n':\n",
    "                nb.cells[count].source = set_link_in_source(source, add_link, index, text, pattern_to_remove)\n",
    "                break\n",
    "        count += 1\n",
    "    write_ipynb(nb, notebook_path)"
   ]
  },
  {
   "cell_type": "markdown",
   "id": "careful-portland",
   "metadata": {
    "execution": {
     "iopub.execute_input": "2021-01-26T16:25:51.412411Z",
     "iopub.status.busy": "2021-01-26T16:25:51.412178Z",
     "iopub.status.idle": "2021-01-26T16:25:51.414944Z",
     "shell.execute_reply": "2021-01-26T16:25:51.414298Z",
     "shell.execute_reply.started": "2021-01-26T16:25:51.412388Z"
    }
   },
   "source": [
    "## Convert filepath in Markdown text"
   ]
  },
  {
   "cell_type": "code",
   "execution_count": 5,
   "id": "inclusive-location",
   "metadata": {
    "execution": {
     "iopub.execute_input": "2021-04-14T08:32:27.593289Z",
     "iopub.status.busy": "2021-04-14T08:32:27.593064Z",
     "iopub.status.idle": "2021-04-14T08:32:27.697874Z",
     "shell.execute_reply": "2021-04-14T08:32:27.697163Z",
     "shell.execute_reply.started": "2021-04-14T08:32:27.593261Z"
    }
   },
   "outputs": [],
   "source": [
    "def get_file_md(folder_nice, folder_url, files, title_sep=\"##\", subtitle_sep=\"*\"):\n",
    "    md = \"\"\n",
    "    if (len(files) > 0):\n",
    "        md += f\"\\n{title_sep} {folder_nice}\\n\"\n",
    "        for file in files:\n",
    "    #                 print(file)\n",
    "\n",
    "            if file.endswith(notebook_ext):\n",
    "                file_url = urllib.parse.quote(file)\n",
    "                file_nice = file.replace('_', ' ')\n",
    "                file_nice = file_nice.replace(notebook_ext, '')\n",
    "                file_nice = file_nice.replace(folder_nice, '')\n",
    "                file_nice = file_nice.strip()\n",
    "                file_nice = file_nice[0].capitalize() + file_nice[1:]\n",
    "                try:\n",
    "                    set_notebook_link(urllib.parse.unquote(f\"{folder_url}/{file_url}\"), f\"{naas_download_url}{github_download_url}{folder_url}/{file_url}\")\n",
    "                except:\n",
    "                    e = sys.exc_info()[0]\n",
    "                md += f\"{subtitle_sep} [{file_nice}]({github_url}/{folder_url}/{file_url})\\n\"\n",
    "    return md"
   ]
  },
  {
   "cell_type": "markdown",
   "id": "wrapped-warning",
   "metadata": {},
   "source": [
    "## Create list of all notebooks"
   ]
  },
  {
   "cell_type": "code",
   "execution_count": 6,
   "id": "threatened-government",
   "metadata": {
    "execution": {
     "iopub.execute_input": "2021-04-14T08:32:27.699432Z",
     "iopub.status.busy": "2021-04-14T08:32:27.699018Z",
     "iopub.status.idle": "2021-04-14T08:32:38.691861Z",
     "shell.execute_reply": "2021-04-14T08:32:38.691267Z",
     "shell.execute_reply.started": "2021-04-14T08:32:27.699401Z"
    }
   },
   "outputs": [],
   "source": [
    "generated_list = \"\"\n",
    "\n",
    "for cur in total:\n",
    "    root = cur.get('root')\n",
    "    md_round = \"\"\n",
    "    directories = cur.get('directories') \n",
    "    files = cur.get('files')\n",
    "    if ('.git' not in root and '.ipynb_checkpoints' not in root and '.' != root):\n",
    "#         print(root)\n",
    "#         print(root, files, '\\n')\n",
    "        folder_nice = root.replace('./', '')\n",
    "        folder_url = urllib.parse.quote(folder_nice)\n",
    "        if ('/' not in folder_nice):\n",
    "            md_round += get_file_md(folder_nice, folder_url, files)\n",
    "        elif ('/' in folder_nice):\n",
    "            folder_url = urllib.parse.quote(folder_nice)\n",
    "            subfolder_nice = folder_nice.split('/')[1].replace('_', ' ').replace(folder_nice, '').strip()\n",
    "            md_round += get_file_md(subfolder_nice, folder_url, files, \"\\t###\", \"\\t-\")\n",
    "    elif ('.ipynb_checkpoints' in root):\n",
    "         print(root, files)\n",
    "         for file in files:\n",
    "            try:\n",
    "                os.remove(os.path.join(root, file))\n",
    "            except:\n",
    "                pass\n",
    "         try:\n",
    "            os.rmdir(root)\n",
    "         except:\n",
    "            pass\n",
    "#     print(md_round)\n",
    "    generated_list += md_round\n",
    "      "
   ]
  },
  {
   "cell_type": "markdown",
   "id": "preceding-louisiana",
   "metadata": {},
   "source": [
    "## Preview the generated list"
   ]
  },
  {
   "cell_type": "code",
   "execution_count": null,
   "id": "worse-mystery",
   "metadata": {
    "execution": {
     "iopub.execute_input": "2021-04-14T08:32:38.693772Z",
     "iopub.status.busy": "2021-04-14T08:32:38.693496Z",
     "iopub.status.idle": "2021-04-14T08:32:38.836468Z",
     "shell.execute_reply": "2021-04-14T08:32:38.835855Z",
     "shell.execute_reply.started": "2021-04-14T08:32:38.693742Z"
    }
   },
   "outputs": [],
   "source": [
    "naas_drivers.markdown.display(generated_list)"
   ]
  },
  {
   "cell_type": "code",
   "execution_count": null,
   "id": "altered-threat",
   "metadata": {
    "execution": {
     "iopub.execute_input": "2021-04-14T08:32:38.837758Z",
     "iopub.status.busy": "2021-04-14T08:32:38.837492Z",
     "iopub.status.idle": "2021-04-14T08:32:38.894847Z",
     "shell.execute_reply": "2021-04-14T08:32:38.894245Z",
     "shell.execute_reply.started": "2021-04-14T08:32:38.837727Z"
    }
   },
   "outputs": [],
   "source": [
    "template = open(readme_template).read()\n",
    "\n",
    "template = template.replace(replace_var, generated_list)\n",
    "\n",
    "f  = open(readme, \"w+\")\n",
    "f.write(template)\n",
    "f.close()"
   ]
  },
  {
   "cell_type": "code",
   "execution_count": null,
   "id": "waiting-memorabilia",
   "metadata": {},
   "outputs": [],
   "source": []
  },
  {
   "cell_type": "code",
   "execution_count": null,
   "id": "indonesian-utility",
   "metadata": {},
   "outputs": [],
   "source": []
  }
 ],
 "metadata": {
  "kernelspec": {
   "display_name": "Python 3",
   "language": "python",
   "name": "python3"
  },
  "language_info": {
   "codemirror_mode": {
    "name": "ipython",
    "version": 3
   },
   "file_extension": ".py",
   "mimetype": "text/x-python",
   "name": "python",
   "nbconvert_exporter": "python",
   "pygments_lexer": "ipython3",
   "version": "3.9.2-final"
  },
  "widgets": {
   "application/vnd.jupyter.widget-state+json": {
    "state": {},
    "version_major": 2,
    "version_minor": 0
   }
  }
 },
 "nbformat": 4,
 "nbformat_minor": 5
}