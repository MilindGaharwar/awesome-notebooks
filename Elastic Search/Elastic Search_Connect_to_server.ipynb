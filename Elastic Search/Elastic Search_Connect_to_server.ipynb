{
 "cells": [
  {
   "cell_type": "markdown",
   "id": "later-jacksonville",
   "metadata": {
    "papermill": {},
    "tags": []
   },
   "source": [
    "<img width=\"10%\" alt=\"Naas\" src=\"https://landen.imgix.net/jtci2pxwjczr/assets/5ice39g4.png?w=160\"/>"
   ]
  },
  {
   "cell_type": "markdown",
   "id": "engaging-toddler",
   "metadata": {
    "papermill": {},
    "tags": []
   },
   "source": [
    "## Elastic - Connect to server\n",
    "[![download](https://img.shields.io/static/v1?label=Naas&labelColor=000000&message=Download&color=success&style=for-the-badge&logo=image%2Fsvg%2Bxml%3Bbase64%2CPD94bWwgdmVyc2lvbj0iMS4wIiBlbmNvZGluZz0iVVRGLTgiPz4KPHN2ZyB3aWR0aD0iMTAyNHB4IiBoZWlnaHQ9IjEwMjRweCIgdmlld0JveD0iMCAwIDEwMjQgMTAyNCIgeG1sbnM9Imh0dHA6Ly93d3cudzMub3JnLzIwMDAvc3ZnIiB4bWxuczp4bGluaz0iaHR0cDovL3d3dy53My5vcmcvMTk5OS94bGluayIgdmVyc2lvbj0iMS4xIj4KIDwhLS0gR2VuZXJhdGVkIGJ5IFBpeGVsbWF0b3IgUHJvIDIuMC41IC0tPgogPGRlZnM%2BCiAgPHRleHQgaWQ9InN0cmluZyIgdHJhbnNmb3JtPSJtYXRyaXgoMS4wIDAuMCAwLjAgMS4wIDIyOC4wIDU0LjUpIiBmb250LWZhbWlseT0iQ29tZm9ydGFhLVJlZ3VsYXIsIENvbWZvcnRhYSIgZm9udC1zaXplPSI4MDAiIHRleHQtZGVjb3JhdGlvbj0ibm9uZSIgZmlsbD0iI2ZmZmZmZiIgeD0iMS4xOTk5OTk5OTk5OTk5ODg2IiB5PSI3MDUuMCI%2BbjwvdGV4dD4KIDwvZGVmcz4KIDx1c2UgaWQ9Im4iIHhsaW5rOmhyZWY9IiNzdHJpbmciLz4KPC9zdmc%2BCg%3D%3D)](https://app.naas.ai/user-redirect/naas/downloader?url=https://raw.githubusercontent.com/jupyter-naas/awesome-notebooks/master/Elastic%20Search/Elastic%20Search_Connect_to_server.ipynb)"
   ]
  },
  {
   "cell_type": "markdown",
   "id": "taken-faculty",
   "metadata": {
    "papermill": {},
    "tags": []
   },
   "source": [
    "<img width=\"20%\" alt=\"Naas\" src=\"https://landen.imgix.net/jtci2pxwjczr/assets/tgr8nx6s.png?w=800&h=400&fit=crop\"/>"
   ]
  },
  {
   "cell_type": "markdown",
   "id": "palestinian-deployment",
   "metadata": {
    "papermill": {},
    "tags": []
   },
   "source": [
    "### 1. Prerequisites"
   ]
  },
  {
   "cell_type": "markdown",
   "id": "weird-fence",
   "metadata": {
    "papermill": {},
    "tags": []
   },
   "source": [
    "- python3\n",
    "- ubuntu 18.04\n",
    "- java1.8"
   ]
  },
  {
   "cell_type": "markdown",
   "id": "printable-yield",
   "metadata": {
    "papermill": {},
    "tags": []
   },
   "source": [
    "### 2. Elasticsearch on local machine"
   ]
  },
  {
   "cell_type": "markdown",
   "id": "organized-movement",
   "metadata": {
    "papermill": {},
    "tags": []
   },
   "source": [
    "#### Install Linux packages"
   ]
  },
  {
   "cell_type": "markdown",
   "id": "imperial-columbus",
   "metadata": {
    "papermill": {},
    "tags": []
   },
   "source": [
    "```sh\n",
    "$ sudo apt update\n",
    "$ sudo apt-get install apt-transport-http\n",
    "$ wget -qO - https://artifacts.elastic.co/GPG-KEY-elasticsearch | sudo apt-key add -\n",
    "$ sudo add-apt-repository \"deb https://artifacts.elastic.co/packages/7.x/apt stable main\"\n",
    "$ sudo apt update\n",
    "$ sudo apt install elasticsearch \n",
    "```"
   ]
  },
  {
   "cell_type": "markdown",
   "id": "preceding-representative",
   "metadata": {
    "papermill": {},
    "tags": []
   },
   "source": [
    "#### Check status of Elasticsearch server (Local)"
   ]
  },
  {
   "cell_type": "markdown",
   "id": "irish-breach",
   "metadata": {
    "papermill": {},
    "tags": []
   },
   "source": [
    "```sh\n",
    "$ sudo /etc/init.d/elasticsearch status\n",
    "```"
   ]
  },
  {
   "cell_type": "markdown",
   "id": "compressed-ethnic",
   "metadata": {
    "papermill": {},
    "tags": []
   },
   "source": [
    "#### Start Elasticsearch server (Local)"
   ]
  },
  {
   "cell_type": "markdown",
   "id": "polished-marijuana",
   "metadata": {
    "papermill": {},
    "tags": []
   },
   "source": [
    "```sh\n",
    "$ sudo /etc/init.d/elasticsearch start\n",
    "```"
   ]
  },
  {
   "cell_type": "markdown",
   "id": "tired-sperm",
   "metadata": {
    "papermill": {},
    "tags": []
   },
   "source": [
    "##### Note : Install Java 1.8 and set Java environment variables path"
   ]
  },
  {
   "cell_type": "markdown",
   "id": "together-kinase",
   "metadata": {
    "papermill": {},
    "tags": []
   },
   "source": [
    "### 3. Elasticsearch on cloud"
   ]
  },
  {
   "cell_type": "markdown",
   "id": "anonymous-liability",
   "metadata": {
    "papermill": {},
    "tags": []
   },
   "source": [
    "#### Step 1: Login to https://www.elastic.co/ and create a deployment"
   ]
  },
  {
   "cell_type": "markdown",
   "id": "hourly-lotus",
   "metadata": {
    "papermill": {},
    "tags": []
   },
   "source": [
    "#### Step 2: On successful deployment get credentials"
   ]
  },
  {
   "cell_type": "markdown",
   "id": "wired-presence",
   "metadata": {
    "papermill": {},
    "tags": []
   },
   "source": [
    "#### Step 3: Create Elasticsearch credentials JSON"
   ]
  },
  {
   "cell_type": "markdown",
   "id": "floral-quebec",
   "metadata": {
    "papermill": {},
    "tags": []
   },
   "source": [
    "#### Credentials Json format"
   ]
  },
  {
   "cell_type": "markdown",
   "id": "decreased-skating",
   "metadata": {
    "papermill": {},
    "tags": []
   },
   "source": [
    "```sh\n",
    "{\n",
    "\t\"endpoint\": \"< Elasticsearch endpoint from elasticsearch cloud >\",\n",
    "\t\"port\": \"< Port number as mentioned in elasticsearch cloud >\",\n",
    "\t\"user\": \"< User as mentioned in elasticsearch cloud >\",\n",
    "\t\"password\": \"< Elasticsearch cloud user password >\",\n",
    "\t\"protocol\": \"https\"\n",
    "}\n",
    "```"
   ]
  },
  {
   "cell_type": "markdown",
   "id": "electrical-spectrum",
   "metadata": {
    "papermill": {},
    "tags": []
   },
   "source": [
    "### 4. Python connector for Elasticsearch"
   ]
  },
  {
   "cell_type": "code",
   "execution_count": 1,
   "id": "abandoned-console",
   "metadata": {
    "papermill": {},
    "tags": []
   },
   "outputs": [
    {
     "name": "stdout",
     "output_type": "stream",
     "text": [
      "Establishing connection to Elasticsearch\n",
      "Connection established\n"
     ]
    }
   ],
   "source": [
    "from elasticsearchconnector import ElasticsearchConnector\n",
    "instance = ElasticsearchConnector(\"credentials.json\")"
   ]
  },
  {
   "cell_type": "code",
   "execution_count": null,
   "id": "russian-browse",
   "metadata": {
    "papermill": {},
    "tags": []
   },
   "outputs": [],
   "source": [
    "# Send data to Elasticsearch server\n",
    "# parameters = {'index':'< Name of the index >','type':' < Document name > '}\n",
    "parameters = {'index':'students','type':'engineering'}\n",
    "# data = { < Key value pairs > }\n",
    "data = {\"Name\": \"Poul\", \"Age\":20, \"address\": \"New york\"}\n",
    "result = instance.save_data(parameters,data)"
   ]
  },
  {
   "cell_type": "code",
   "execution_count": 2,
   "id": "broken-turning",
   "metadata": {
    "papermill": {},
    "tags": []
   },
   "outputs": [],
   "source": [
    "# Search data from Elasticsearch server\n",
    "# parameters = {'index':'< Name of the index >','type':' < Document name > '}\n",
    "parameters = {'index':'students','type':'engineering'}"
   ]
  },
  {
   "cell_type": "code",
   "execution_count": 3,
   "id": "latter-purchase",
   "metadata": {
    "papermill": {},
    "tags": []
   },
   "outputs": [
    {
     "name": "stdout",
     "output_type": "stream",
     "text": [
      "Fetching data from Elasticsearch server\n",
      "{'took': 1, 'timed_out': False, '_shards': {'total': 1, 'successful': 1, 'skipped': 0, 'failed': 0}, 'hits': {'total': {'value': 1, 'relation': 'eq'}, 'max_score': 0.2876821, 'hits': [{'_index': 'students', '_type': 'engineering', '_id': 'likon3ABGm_dTYQjOEaE', '_score': 0.2876821, '_source': {'Name': 'Poul', 'Age': 20, 'address': 'New york'}}]}}\n"
     ]
    }
   ],
   "source": [
    "# Single search\n",
    "q1 = {\"query\": {\"match\": {'Name':'Poul'}}}\n",
    "result = instance.search_data(parameters,[q1],search_type='search')\n",
    "print(result)"
   ]
  },
  {
   "cell_type": "code",
   "execution_count": 7,
   "id": "impressive-saver",
   "metadata": {
    "papermill": {},
    "tags": []
   },
   "outputs": [
    {
     "name": "stdout",
     "output_type": "stream",
     "text": [
      "Fetching data from Elasticsearch server\n",
      "[{'took': 3, 'responses': [{'took': 2, 'timed_out': False, '_shards': {'total': 1, 'successful': 1, 'skipped': 0, 'failed': 0}, 'hits': {'total': {'value': 1, 'relation': 'eq'}, 'max_score': 0.2876821, 'hits': [{'_index': 'students', '_type': 'engineering', '_id': 'likon3ABGm_dTYQjOEaE', '_score': 0.2876821, '_source': {'Name': 'Poul', 'Age': 20, 'address': 'New york'}}]}, 'status': 200}]}, {'took': 0, 'responses': [{'took': 0, 'timed_out': False, '_shards': {'total': 1, 'successful': 1, 'skipped': 0, 'failed': 0}, 'hits': {'total': {'value': 0, 'relation': 'eq'}, 'max_score': None, 'hits': []}, 'status': 200}]}]\n"
     ]
    }
   ],
   "source": [
    "# Multiple search\n",
    "q1 = {\"query\": {\"match\": {'Name':'Poul'}}}\n",
    "q2 = {\"query\": {\"match\": {'Age':27}}}\n",
    "result = instance.search_data(parameters,[q1,q2],search_type='msearch')\n",
    "print(result)"
   ]
  },
  {
   "cell_type": "code",
   "execution_count": null,
   "id": "acceptable-right",
   "metadata": {
    "papermill": {},
    "tags": []
   },
   "outputs": [],
   "source": []
  }
 ],
 "metadata": {
  "kernelspec": {
   "display_name": "Python 3",
   "language": "python",
   "name": "python3"
  },
  "language_info": {
   "codemirror_mode": {
    "name": "ipython",
    "version": 3
   },
   "file_extension": ".py",
   "mimetype": "text/x-python",
   "name": "python",
   "nbconvert_exporter": "python",
   "pygments_lexer": "ipython3",
   "version": "3.8.6"
  },
  "papermill": {
   "default_parameters": {},
   "environment_variables": {},
   "parameters": {},
   "version": "2.3.3"
  }
 },
 "nbformat": 4,
 "nbformat_minor": 5
}