{
 "cells": [
  {
   "cell_type": "markdown",
   "id": "handmade-jerusalem",
   "metadata": {
    "papermill": {},
    "tags": []
   },
   "source": [
    "<img width=\"10%\" alt=\"Naas\" src=\"https://landen.imgix.net/jtci2pxwjczr/assets/5ice39g4.png?w=160\"/>"
   ]
  },
  {
   "cell_type": "markdown",
   "id": "unlike-dutch",
   "metadata": {
    "papermill": {},
    "tags": []
   },
   "source": [
    "# Snowflake - Updating rows in a table  \n",
    "[![download](https://img.shields.io/static/v1?label=&labelColor=000000&message=Open%20in%20Naas&color=success&logo=image%2Fsvg%2Bxml%3Bbase64%2CPD94bWwgdmVyc2lvbj0iMS4wIiBlbmNvZGluZz0iVVRGLTgiPz4KPHN2ZyB3aWR0aD0iMTAyNHB4IiBoZWlnaHQ9IjEwMjRweCIgdmlld0JveD0iMCAwIDEwMjQgMTAyNCIgeG1sbnM9Imh0dHA6Ly93d3cudzMub3JnLzIwMDAvc3ZnIiB4bWxuczp4bGluaz0iaHR0cDovL3d3dy53My5vcmcvMTk5OS94bGluayIgdmVyc2lvbj0iMS4xIj4KIDwhLS0gR2VuZXJhdGVkIGJ5IFBpeGVsbWF0b3IgUHJvIDIuMC41IC0tPgogPGRlZnM%2BCiAgPHRleHQgaWQ9InN0cmluZyIgdHJhbnNmb3JtPSJtYXRyaXgoMS4wIDAuMCAwLjAgMS4wIDIyOC4wIDU0LjUpIiBmb250LWZhbWlseT0iQ29tZm9ydGFhLVJlZ3VsYXIsIENvbWZvcnRhYSIgZm9udC1zaXplPSI4MDAiIHRleHQtZGVjb3JhdGlvbj0ibm9uZSIgZmlsbD0iI2ZmZmZmZiIgeD0iMS4xOTk5OTk5OTk5OTk5ODg2IiB5PSI3MDUuMCI%2BbjwvdGV4dD4KIDwvZGVmcz4KIDx1c2UgaWQ9Im4iIHhsaW5rOmhyZWY9IiNzdHJpbmciLz4KPC9zdmc%2BCg%3D%3D)](https://app.naas.ai/user-redirect/naas/downloader?url=https://raw.githubusercontent.com/jupyter-naas/awesome-notebooks/master/Snowflake/Snowflake_Update_table.ipynb)"
   ]
  },
  {
   "cell_type": "markdown",
   "id": "liberal-alexander",
   "metadata": {
    "papermill": {},
    "tags": []
   },
   "source": [
    "<img width=\"20%\" alt=\"Naas\" src=\"https://landen.imgix.net/jtci2pxwjczr/assets/vaqyx6is.png?w=400&h=200&fit=crop\"/>"
   ]
  },
  {
   "cell_type": "markdown",
   "id": "acting-hobby",
   "metadata": {
    "papermill": {},
    "tags": []
   },
   "source": [
    "## Step 1 - Insert your credentials"
   ]
  },
  {
   "cell_type": "code",
   "execution_count": 5,
   "id": "wound-skirt",
   "metadata": {
    "papermill": {},
    "tags": []
   },
   "outputs": [],
   "source": [
    "username = \"sanjaynaas\"\n",
    "password = \"Password123\""
   ]
  },
  {
   "cell_type": "markdown",
   "id": "protective-chick",
   "metadata": {
    "papermill": {},
    "tags": []
   },
   "source": [
    "## Step 2 - Specify your account details"
   ]
  },
  {
   "cell_type": "code",
   "execution_count": 6,
   "id": "friendly-october",
   "metadata": {
    "papermill": {},
    "tags": []
   },
   "outputs": [],
   "source": [
    "account = \"iz84541.europe-west4.gcp\"\n",
    "database = \"DEMO_DB\"\n",
    "table_name = \"NAAS\""
   ]
  },
  {
   "cell_type": "markdown",
   "id": "backed-compound",
   "metadata": {
    "papermill": {},
    "tags": []
   },
   "source": [
    "## Step 3 - Read the csv file and converting to list"
   ]
  },
  {
   "cell_type": "code",
   "execution_count": 7,
   "id": "attempted-action",
   "metadata": {
    "papermill": {},
    "tags": []
   },
   "outputs": [
    {
     "data": {
      "text/plain": [
       "[['MONTH', 'YEAR', 'ITEM', 'AMOUNT', 'CURRENCY'],\n",
       " ['Febuary', '2020', 'Product F', '23202100', 'USD'],\n",
       " ['Febuary', '2020', 'Product G', '6720100', 'USD'],\n",
       " ['Febuary', '2020', 'Product H', '17232000', 'USD']]"
      ]
     },
     "execution_count": 7,
     "metadata": {},
     "output_type": "execute_result"
    }
   ],
   "source": [
    "import csv\n",
    "with open('Excel-Sales_Feb2020.csv') as f:\n",
    "    reader = csv.reader(f)\n",
    "    d_list = list(reader)\n",
    "d_list"
   ]
  },
  {
   "cell_type": "markdown",
   "id": "sound-portland",
   "metadata": {
    "papermill": {},
    "tags": []
   },
   "source": [
    "## Step 4 - Connecting to Snowflake"
   ]
  },
  {
   "cell_type": "code",
   "execution_count": 8,
   "id": "integral-gossip",
   "metadata": {
    "papermill": {},
    "tags": []
   },
   "outputs": [
    {
     "name": "stdout",
     "output_type": "stream",
     "text": [
      "Establishing connection to Snowflake\n",
      "Connection established\n"
     ]
    }
   ],
   "source": [
    "from snowflakeconnector import SnowflakeConnector\n",
    "#Initialize SnowflakeConnector\n",
    "instance = SnowflakeConnector(username,password,account,database)"
   ]
  },
  {
   "cell_type": "markdown",
   "id": "random-chicken",
   "metadata": {
    "papermill": {},
    "tags": []
   },
   "source": [
    "## Step 5 - Updating Snowflake"
   ]
  },
  {
   "cell_type": "code",
   "execution_count": 5,
   "id": "received-newcastle",
   "metadata": {
    "papermill": {},
    "tags": []
   },
   "outputs": [
    {
     "name": "stdout",
     "output_type": "stream",
     "text": [
      "Executing Query\n",
      "Query Successful!\n",
      "Executing Query\n",
      "Query Successful!\n",
      "Executing Query\n",
      "Query Successful!\n"
     ]
    }
   ],
   "source": [
    "for i in range(1,len(d_list)):\n",
    "    table_insert_csv_query= \"INSERT INTO NAAS values\"\n",
    "    table_insert_csv_query = table_insert_csv_query +str(tuple(d_list[i]))\n",
    "    instance.execute_query(table_insert_csv_query,query_type=\"push\")"
   ]
  },
  {
   "cell_type": "markdown",
   "id": "adolescent-vampire",
   "metadata": {
    "papermill": {},
    "tags": []
   },
   "source": [
    "## Step 6 - To see contents of table"
   ]
  },
  {
   "cell_type": "code",
   "execution_count": 6,
   "id": "entertaining-psychiatry",
   "metadata": {
    "papermill": {},
    "tags": []
   },
   "outputs": [
    {
     "name": "stdout",
     "output_type": "stream",
     "text": [
      "Executing Query\n",
      "Dataframe:\n",
      "           0     1          2           3    4\n",
      "0   January  2020  Product A     10000.0  USD\n",
      "1   January  2020  Product B    230000.0  USD\n",
      "2   January  2020  Product C    250000.0  USD\n",
      "3  February  2020  Product D     30000.0  USD\n",
      "4  February  2020  Product E     36000.0  USD\n",
      "5   Febuary  2020  Product F  23202100.0  USD\n",
      "6   Febuary  2020  Product G   6720100.0  USD\n",
      "7   Febuary  2020  Product H  17232000.0  USD\n",
      "Query Successful!\n"
     ]
    }
   ],
   "source": [
    "table_display_query = \"select * from \" + table_name\n",
    "#Fetch records from Snowflake database\n",
    "instance.execute_query(table_display_query,query_type=\"pull\")"
   ]
  },
  {
   "cell_type": "markdown",
   "id": "literary-packaging",
   "metadata": {
    "papermill": {},
    "tags": []
   },
   "source": [
    "## Step  - Closing the Connection"
   ]
  },
  {
   "cell_type": "code",
   "execution_count": null,
   "id": "tracked-donor",
   "metadata": {
    "papermill": {},
    "tags": []
   },
   "outputs": [],
   "source": [
    "instance.close_connection()"
   ]
  }
 ],
 "metadata": {
  "kernelspec": {
   "display_name": "Python 3",
   "language": "python",
   "name": "python3"
  },
  "language_info": {
   "codemirror_mode": {
    "name": "ipython",
    "version": 3
   },
   "file_extension": ".py",
   "mimetype": "text/x-python",
   "name": "python",
   "nbconvert_exporter": "python",
   "pygments_lexer": "ipython3",
   "version": "3.8.6"
  },
  "papermill": {
   "default_parameters": {},
   "environment_variables": {},
   "parameters": {},
   "version": "2.3.3"
  }
 },
 "nbformat": 4,
 "nbformat_minor": 5
}