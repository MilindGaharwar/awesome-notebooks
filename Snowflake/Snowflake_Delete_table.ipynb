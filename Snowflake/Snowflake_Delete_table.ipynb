{
 "cells": [
  {
   "cell_type": "markdown",
   "id": "suspended-february",
   "metadata": {
    "papermill": {},
    "tags": []
   },
   "source": [
    "<img width=\"10%\" alt=\"Naas\" src=\"https://landen.imgix.net/jtci2pxwjczr/assets/5ice39g4.png?w=160\"/>"
   ]
  },
  {
   "cell_type": "markdown",
   "id": "sunrise-alfred",
   "metadata": {
    "papermill": {},
    "tags": []
   },
   "source": [
    "## Snowflake - Deleting tables in a database\n",
    "[![download](https://img.shields.io/static/v1?label=Naas&labelColor=000000&message=Download&color=success&style=for-the-badge&logo=image%2Fsvg%2Bxml%3Bbase64%2CPD94bWwgdmVyc2lvbj0iMS4wIiBlbmNvZGluZz0iVVRGLTgiPz4KPHN2ZyB3aWR0aD0iMTAyNHB4IiBoZWlnaHQ9IjEwMjRweCIgdmlld0JveD0iMCAwIDEwMjQgMTAyNCIgeG1sbnM9Imh0dHA6Ly93d3cudzMub3JnLzIwMDAvc3ZnIiB4bWxuczp4bGluaz0iaHR0cDovL3d3dy53My5vcmcvMTk5OS94bGluayIgdmVyc2lvbj0iMS4xIj4KIDwhLS0gR2VuZXJhdGVkIGJ5IFBpeGVsbWF0b3IgUHJvIDIuMC41IC0tPgogPGRlZnM%2BCiAgPHRleHQgaWQ9InN0cmluZyIgdHJhbnNmb3JtPSJtYXRyaXgoMS4wIDAuMCAwLjAgMS4wIDIyOC4wIDU0LjUpIiBmb250LWZhbWlseT0iQ29tZm9ydGFhLVJlZ3VsYXIsIENvbWZvcnRhYSIgZm9udC1zaXplPSI4MDAiIHRleHQtZGVjb3JhdGlvbj0ibm9uZSIgZmlsbD0iI2ZmZmZmZiIgeD0iMS4xOTk5OTk5OTk5OTk5ODg2IiB5PSI3MDUuMCI%2BbjwvdGV4dD4KIDwvZGVmcz4KIDx1c2UgaWQ9Im4iIHhsaW5rOmhyZWY9IiNzdHJpbmciLz4KPC9zdmc%2BCg%3D%3D)](https://app.naas.ai/user-redirect/naas/downloader?url=https://raw.githubusercontent.com/jupyter-naas/awesome-notebooks/master/Snowflake/Snowflake_Delete_table.ipynb)"
   ]
  },
  {
   "cell_type": "markdown",
   "id": "modular-robinson",
   "metadata": {
    "papermill": {},
    "tags": []
   },
   "source": [
    "<img width=\"20%\" alt=\"Naas\" src=\"https://landen.imgix.net/jtci2pxwjczr/assets/vaqyx6is.png?w=400&h=200&fit=crop\"/>"
   ]
  },
  {
   "cell_type": "markdown",
   "id": "emotional-seventh",
   "metadata": {
    "papermill": {},
    "tags": []
   },
   "source": [
    "## Step 1 - Insert your credentials"
   ]
  },
  {
   "cell_type": "code",
   "execution_count": 1,
   "id": "pursuant-rhythm",
   "metadata": {
    "papermill": {},
    "tags": []
   },
   "outputs": [],
   "source": [
    "username = \"sanjaynaas\"\n",
    "password = \"Password123\""
   ]
  },
  {
   "cell_type": "markdown",
   "id": "successful-establishment",
   "metadata": {
    "papermill": {},
    "tags": []
   },
   "source": [
    "## Step 2 - Specify your account details"
   ]
  },
  {
   "cell_type": "code",
   "execution_count": 2,
   "id": "initial-friendship",
   "metadata": {
    "papermill": {},
    "tags": []
   },
   "outputs": [],
   "source": [
    "account = \"iz84541.europe-west4.gcp\"\n",
    "database = \"DEMO_DB\"\n",
    "table_name = \"NAAS_NEW\"\n",
    "warehouse_name = \"COMPUTE_WH\"\n",
    "schema_name = \"PUBLIC\""
   ]
  },
  {
   "cell_type": "markdown",
   "id": "southeast-manufacturer",
   "metadata": {
    "papermill": {},
    "tags": []
   },
   "source": [
    "## Step 3 - Connecting to Snowflake"
   ]
  },
  {
   "cell_type": "code",
   "execution_count": 3,
   "id": "strategic-guess",
   "metadata": {
    "papermill": {},
    "tags": []
   },
   "outputs": [
    {
     "name": "stdout",
     "output_type": "stream",
     "text": [
      "Establishing connection to Snowflake\n",
      "Connection established\n"
     ]
    }
   ],
   "source": [
    "from snowflakeconnector import SnowflakeConnector\n",
    "import snowflake.connector as snow\n",
    "conn = snow.connect(user=username,password=password,account=account)\n",
    "cur = conn.cursor()\n",
    "instance = SnowflakeConnector(username,password,account,database)"
   ]
  },
  {
   "cell_type": "markdown",
   "id": "approximate-palestinian",
   "metadata": {
    "papermill": {},
    "tags": []
   },
   "source": [
    "## Step 4 - Setting the environment"
   ]
  },
  {
   "cell_type": "code",
   "execution_count": 4,
   "id": "typical-mailing",
   "metadata": {
    "papermill": {},
    "tags": []
   },
   "outputs": [
    {
     "data": {
      "text/plain": [
       "<snowflake.connector.cursor.SnowflakeCursor at 0x7fe0281a9b80>"
      ]
     },
     "execution_count": 4,
     "metadata": {},
     "output_type": "execute_result"
    }
   ],
   "source": [
    "admin = \"USE ROLE SYSADMIN\"\n",
    "cur.execute(admin)\n",
    "warehouse_selection = \"USE WAREHOUSE \" + warehouse_name\n",
    "cur.execute(warehouse_selection)\n",
    "database_selection = \"USE DATABASE \" + database\n",
    "cur.execute(database_selection)\n",
    "schema_selection = \"USE SCHEMA \" + schema_name\n",
    "cur.execute(schema_selection)"
   ]
  },
  {
   "cell_type": "markdown",
   "id": "beginning-wrestling",
   "metadata": {
    "papermill": {},
    "tags": []
   },
   "source": [
    "## Step 5 - To see existing tables "
   ]
  },
  {
   "cell_type": "code",
   "execution_count": 5,
   "id": "chubby-constant",
   "metadata": {
    "papermill": {},
    "tags": []
   },
   "outputs": [
    {
     "name": "stdout",
     "output_type": "stream",
     "text": [
      "Executing Query\n",
      "Dataframe:\n",
      "                                 0         1        2       3      4  5  6   \\\n",
      "0 2020-12-08 21:42:43.982000-08:00      NAAS  DEMO_DB  PUBLIC  TABLE         \n",
      "1 2020-12-11 01:26:48.955000-08:00  NAAS_NEW  DEMO_DB  PUBLIC  TABLE         \n",
      "\n",
      "   7     8         9  10   11   12 13  \n",
      "0  14  1024  SYSADMIN  1  OFF  OFF  N  \n",
      "1   3  1024  SYSADMIN  1  OFF  OFF  N  \n"
     ]
    },
    {
     "data": {
      "text/html": [
       "<div>\n",
       "<style scoped>\n",
       "    .dataframe tbody tr th:only-of-type {\n",
       "        vertical-align: middle;\n",
       "    }\n",
       "\n",
       "    .dataframe tbody tr th {\n",
       "        vertical-align: top;\n",
       "    }\n",
       "\n",
       "    .dataframe thead th {\n",
       "        text-align: right;\n",
       "    }\n",
       "</style>\n",
       "<table border=\"1\" class=\"dataframe\">\n",
       "  <thead>\n",
       "    <tr style=\"text-align: right;\">\n",
       "      <th></th>\n",
       "      <th>0</th>\n",
       "      <th>1</th>\n",
       "      <th>2</th>\n",
       "      <th>3</th>\n",
       "      <th>4</th>\n",
       "      <th>5</th>\n",
       "      <th>6</th>\n",
       "      <th>7</th>\n",
       "      <th>8</th>\n",
       "      <th>9</th>\n",
       "      <th>10</th>\n",
       "      <th>11</th>\n",
       "      <th>12</th>\n",
       "      <th>13</th>\n",
       "    </tr>\n",
       "  </thead>\n",
       "  <tbody>\n",
       "    <tr>\n",
       "      <th>0</th>\n",
       "      <td>2020-12-08 21:42:43.982000-08:00</td>\n",
       "      <td>NAAS</td>\n",
       "      <td>DEMO_DB</td>\n",
       "      <td>PUBLIC</td>\n",
       "      <td>TABLE</td>\n",
       "      <td></td>\n",
       "      <td></td>\n",
       "      <td>14</td>\n",
       "      <td>1024</td>\n",
       "      <td>SYSADMIN</td>\n",
       "      <td>1</td>\n",
       "      <td>OFF</td>\n",
       "      <td>OFF</td>\n",
       "      <td>N</td>\n",
       "    </tr>\n",
       "    <tr>\n",
       "      <th>1</th>\n",
       "      <td>2020-12-11 01:26:48.955000-08:00</td>\n",
       "      <td>NAAS_NEW</td>\n",
       "      <td>DEMO_DB</td>\n",
       "      <td>PUBLIC</td>\n",
       "      <td>TABLE</td>\n",
       "      <td></td>\n",
       "      <td></td>\n",
       "      <td>3</td>\n",
       "      <td>1024</td>\n",
       "      <td>SYSADMIN</td>\n",
       "      <td>1</td>\n",
       "      <td>OFF</td>\n",
       "      <td>OFF</td>\n",
       "      <td>N</td>\n",
       "    </tr>\n",
       "  </tbody>\n",
       "</table>\n",
       "</div>"
      ],
      "text/plain": [
       "                                0         1        2       3      4  5  6   \\\n",
       "0 2020-12-08 21:42:43.982000-08:00      NAAS  DEMO_DB  PUBLIC  TABLE         \n",
       "1 2020-12-11 01:26:48.955000-08:00  NAAS_NEW  DEMO_DB  PUBLIC  TABLE         \n",
       "\n",
       "   7     8         9  10   11   12 13  \n",
       "0  14  1024  SYSADMIN  1  OFF  OFF  N  \n",
       "1   3  1024  SYSADMIN  1  OFF  OFF  N  "
      ]
     },
     "execution_count": 5,
     "metadata": {},
     "output_type": "execute_result"
    }
   ],
   "source": [
    "instance.execute_query(\"show tables\",query_type=\"pull\")"
   ]
  },
  {
   "cell_type": "markdown",
   "id": "legendary-landing",
   "metadata": {
    "papermill": {},
    "tags": []
   },
   "source": [
    "## Step 6 - Table deletion"
   ]
  },
  {
   "cell_type": "code",
   "execution_count": 6,
   "id": "superior-trailer",
   "metadata": {
    "papermill": {},
    "tags": []
   },
   "outputs": [
    {
     "data": {
      "text/plain": [
       "<snowflake.connector.cursor.SnowflakeCursor at 0x7fe0281a9b80>"
      ]
     },
     "execution_count": 6,
     "metadata": {},
     "output_type": "execute_result"
    }
   ],
   "source": [
    "table_deletion = \"DROP TABLE \" + table_name \n",
    "cur.execute(table_deletion)"
   ]
  },
  {
   "cell_type": "markdown",
   "id": "substantial-canon",
   "metadata": {
    "papermill": {},
    "tags": []
   },
   "source": [
    "## Step 7 - Table list after deletion"
   ]
  },
  {
   "cell_type": "code",
   "execution_count": 7,
   "id": "short-muslim",
   "metadata": {
    "papermill": {},
    "tags": []
   },
   "outputs": [
    {
     "name": "stdout",
     "output_type": "stream",
     "text": [
      "Executing Query\n",
      "Dataframe:\n",
      "                                 0     1        2       3      4  5  6   7   \\\n",
      "0 2020-12-08 21:42:43.982000-08:00  NAAS  DEMO_DB  PUBLIC  TABLE        14   \n",
      "\n",
      "     8         9  10   11   12 13  \n",
      "0  1024  SYSADMIN  1  OFF  OFF  N  \n"
     ]
    },
    {
     "data": {
      "text/html": [
       "<div>\n",
       "<style scoped>\n",
       "    .dataframe tbody tr th:only-of-type {\n",
       "        vertical-align: middle;\n",
       "    }\n",
       "\n",
       "    .dataframe tbody tr th {\n",
       "        vertical-align: top;\n",
       "    }\n",
       "\n",
       "    .dataframe thead th {\n",
       "        text-align: right;\n",
       "    }\n",
       "</style>\n",
       "<table border=\"1\" class=\"dataframe\">\n",
       "  <thead>\n",
       "    <tr style=\"text-align: right;\">\n",
       "      <th></th>\n",
       "      <th>0</th>\n",
       "      <th>1</th>\n",
       "      <th>2</th>\n",
       "      <th>3</th>\n",
       "      <th>4</th>\n",
       "      <th>5</th>\n",
       "      <th>6</th>\n",
       "      <th>7</th>\n",
       "      <th>8</th>\n",
       "      <th>9</th>\n",
       "      <th>10</th>\n",
       "      <th>11</th>\n",
       "      <th>12</th>\n",
       "      <th>13</th>\n",
       "    </tr>\n",
       "  </thead>\n",
       "  <tbody>\n",
       "    <tr>\n",
       "      <th>0</th>\n",
       "      <td>2020-12-08 21:42:43.982000-08:00</td>\n",
       "      <td>NAAS</td>\n",
       "      <td>DEMO_DB</td>\n",
       "      <td>PUBLIC</td>\n",
       "      <td>TABLE</td>\n",
       "      <td></td>\n",
       "      <td></td>\n",
       "      <td>14</td>\n",
       "      <td>1024</td>\n",
       "      <td>SYSADMIN</td>\n",
       "      <td>1</td>\n",
       "      <td>OFF</td>\n",
       "      <td>OFF</td>\n",
       "      <td>N</td>\n",
       "    </tr>\n",
       "  </tbody>\n",
       "</table>\n",
       "</div>"
      ],
      "text/plain": [
       "                                0     1        2       3      4  5  6   7   \\\n",
       "0 2020-12-08 21:42:43.982000-08:00  NAAS  DEMO_DB  PUBLIC  TABLE        14   \n",
       "\n",
       "     8         9  10   11   12 13  \n",
       "0  1024  SYSADMIN  1  OFF  OFF  N  "
      ]
     },
     "execution_count": 7,
     "metadata": {},
     "output_type": "execute_result"
    }
   ],
   "source": [
    "table_display_query = \"SHOW TABLES\" \n",
    "#Fetch records from Snowflake database\n",
    "instance.execute_query(table_display_query,query_type=\"pull\")"
   ]
  },
  {
   "cell_type": "code",
   "execution_count": null,
   "id": "humanitarian-miller",
   "metadata": {
    "papermill": {},
    "tags": []
   },
   "outputs": [],
   "source": []
  },
  {
   "cell_type": "code",
   "execution_count": null,
   "id": "touched-pleasure",
   "metadata": {
    "papermill": {},
    "tags": []
   },
   "outputs": [],
   "source": []
  },
  {
   "cell_type": "code",
   "execution_count": null,
   "id": "ambient-recruitment",
   "metadata": {
    "papermill": {},
    "tags": []
   },
   "outputs": [],
   "source": []
  },
  {
   "cell_type": "code",
   "execution_count": null,
   "id": "missing-prisoner",
   "metadata": {
    "papermill": {},
    "tags": []
   },
   "outputs": [],
   "source": []
  }
 ],
 "metadata": {
  "kernelspec": {
   "display_name": "Python 3",
   "language": "python",
   "name": "python3"
  },
  "language_info": {
   "codemirror_mode": {
    "name": "ipython",
    "version": 3
   },
   "file_extension": ".py",
   "mimetype": "text/x-python",
   "name": "python",
   "nbconvert_exporter": "python",
   "pygments_lexer": "ipython3",
   "version": "3.8.6"
  },
  "papermill": {
   "default_parameters": {},
   "environment_variables": {},
   "parameters": {},
   "version": "2.3.3"
  }
 },
 "nbformat": 4,
 "nbformat_minor": 5
}