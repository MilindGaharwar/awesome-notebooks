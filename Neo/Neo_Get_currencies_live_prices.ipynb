{
 "cells": [
  {
   "cell_type": "markdown",
   "id": "bright-thailand",
   "metadata": {
    "papermill": {},
    "tags": []
   },
   "source": [
    "<img width=\"10%\" alt=\"Naas\" src=\"https://landen.imgix.net/jtci2pxwjczr/assets/5ice39g4.png?w=160\"/>"
   ]
  },
  {
   "cell_type": "markdown",
   "id": "interpreted-inspiration",
   "metadata": {
    "papermill": {},
    "tags": []
   },
   "source": [
    "# Neo - Get currencies live prices\n",
    "[![download](https://img.shields.io/static/v1?label=Naas&labelColor=000000&message=Download&color=success&style=for-the-badge&logo=image%2Fsvg%2Bxml%3Bbase64%2CPD94bWwgdmVyc2lvbj0iMS4wIiBlbmNvZGluZz0iVVRGLTgiPz4KPHN2ZyB3aWR0aD0iMTAyNHB4IiBoZWlnaHQ9IjEwMjRweCIgdmlld0JveD0iMCAwIDEwMjQgMTAyNCIgeG1sbnM9Imh0dHA6Ly93d3cudzMub3JnLzIwMDAvc3ZnIiB4bWxuczp4bGluaz0iaHR0cDovL3d3dy53My5vcmcvMTk5OS94bGluayIgdmVyc2lvbj0iMS4xIj4KIDwhLS0gR2VuZXJhdGVkIGJ5IFBpeGVsbWF0b3IgUHJvIDIuMC41IC0tPgogPGRlZnM%2BCiAgPHRleHQgaWQ9InN0cmluZyIgdHJhbnNmb3JtPSJtYXRyaXgoMS4wIDAuMCAwLjAgMS4wIDIyOC4wIDU0LjUpIiBmb250LWZhbWlseT0iQ29tZm9ydGFhLVJlZ3VsYXIsIENvbWZvcnRhYSIgZm9udC1zaXplPSI4MDAiIHRleHQtZGVjb3JhdGlvbj0ibm9uZSIgZmlsbD0iI2ZmZmZmZiIgeD0iMS4xOTk5OTk5OTk5OTk5ODg2IiB5PSI3MDUuMCI%2BbjwvdGV4dD4KIDwvZGVmcz4KIDx1c2UgaWQ9Im4iIHhsaW5rOmhyZWY9IiNzdHJpbmciLz4KPC9zdmc%2BCg%3D%3D)](https://app.naas.ai/user-redirect/naas/downloader?url=https://raw.githubusercontent.com/jupyter-naas/awesome-notebooks/master/Neo/Neo_Get_currencies_live_prices.ipynb)"
   ]
  },
  {
   "cell_type": "code",
   "execution_count": null,
   "id": "prescription-railway",
   "metadata": {
    "papermill": {},
    "tags": []
   },
   "outputs": [],
   "source": [
    "# !pip install requests"
   ]
  },
  {
   "cell_type": "code",
   "execution_count": 2,
   "id": "reserved-castle",
   "metadata": {
    "papermill": {},
    "tags": []
   },
   "outputs": [],
   "source": [
    "# imports\n",
    "from pathlib import Path\n",
    "import pandas as pd\n",
    "import requests"
   ]
  },
  {
   "cell_type": "code",
   "execution_count": 3,
   "id": "dirty-laptop",
   "metadata": {
    "papermill": {},
    "tags": []
   },
   "outputs": [],
   "source": [
    "# api configurations\n",
    "ccy_pair = 'EUR/CHF'\n",
    "AUTH_HOST = \"https://auth.getneo.com\"\n",
    "DATA_HOST = \"https://data.getneo.com\"\n",
    "login_id = 'LOGIN'\n",
    "api_key = 'PASSWORD'\n",
    "bearer_token = None\n",
    "\n",
    "# output file config\n",
    "output_dir = Path(\"../data_output/\")\n",
    "output_file = f\"{ccy_pair.replace('/', '')}.csv\""
   ]
  },
  {
   "cell_type": "code",
   "execution_count": 4,
   "id": "marine-johnston",
   "metadata": {
    "papermill": {},
    "tags": []
   },
   "outputs": [
    {
     "name": "stdout",
     "output_type": "stream",
     "text": [
      "Authenticated as cashstory@getneo.com\n"
     ]
    }
   ],
   "source": [
    "# Authenticate to get token\n",
    "if not bearer_token:\n",
    "    response = requests.get(f\"{AUTH_HOST}/api/v1/auth/login/\", params={\"login_id\": login_id, \"api_key\": api_key})\n",
    "    if response.status_code != 200:\n",
    "        raise PermissionError(f\"Failed to authenticate as {login_id}\")\n",
    "    print(f\"Authenticated as {login_id}\")\n",
    "\n",
    "    bearer_token = response.headers[\"Authorization\"]"
   ]
  },
  {
   "cell_type": "code",
   "execution_count": 5,
   "id": "czech-arlington",
   "metadata": {
    "papermill": {},
    "tags": []
   },
   "outputs": [],
   "source": [
    "# Get data with token\n",
    "response = requests.get(f\"{DATA_HOST}/api/v1/prices/{ccy_pair}\", headers={\"Authorization\": bearer_token})\n",
    "if response.status_code != 200:\n",
    "    bearer_token = None\n",
    "    raise ValueError(f\"Failed to retrieve {ccy_pair} prices\")"
   ]
  },
  {
   "cell_type": "code",
   "execution_count": 6,
   "id": "complimentary-vault",
   "metadata": {
    "papermill": {},
    "tags": []
   },
   "outputs": [
    {
     "name": "stdout",
     "output_type": "stream",
     "text": [
      "Closing price for EUR/CHF on 2019-10-21: 1.0996\n",
      "Closing price for EUR/CHF on 2019-11-19: 1.0971\n"
     ]
    }
   ],
   "source": [
    "# Result\n",
    "prices_dict = response.json()\n",
    "prices = pd.DataFrame(data=list(prices_dict.items()), columns=[\"DATE\", \"VALUE\"])\n",
    "oldest_date = prices[\"DATE\"].min()\n",
    "print(f\"Closing price for {ccy_pair} on {oldest_date}: {prices_dict[oldest_date]}\")\n",
    "newest_date = prices[\"DATE\"].max()\n",
    "print(f\"Closing price for {ccy_pair} on {newest_date}: {prices_dict[newest_date]}\")"
   ]
  },
  {
   "cell_type": "code",
   "execution_count": 7,
   "id": "copyrighted-economics",
   "metadata": {
    "papermill": {},
    "tags": []
   },
   "outputs": [],
   "source": [
    "# Saving output to file\n",
    "prices.to_csv(output_dir / output_file, index=False)"
   ]
  }
 ],
 "metadata": {
  "kernelspec": {
   "display_name": "Python 3",
   "language": "python",
   "name": "python3"
  },
  "language_info": {
   "codemirror_mode": {
    "name": "ipython",
    "version": 3
   },
   "file_extension": ".py",
   "mimetype": "text/x-python",
   "name": "python",
   "nbconvert_exporter": "python",
   "pygments_lexer": "ipython3",
   "version": "3.8.6"
  },
  "papermill": {
   "default_parameters": {},
   "environment_variables": {},
   "parameters": {},
   "version": "2.3.3"
  }
 },
 "nbformat": 4,
 "nbformat_minor": 5
}