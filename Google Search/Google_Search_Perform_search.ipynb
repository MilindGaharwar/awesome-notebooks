{
 "cells": [
  {
   "cell_type": "markdown",
   "id": "derived-intention",
   "metadata": {
    "papermill": {},
    "tags": []
   },
   "source": [
    "<img width=\"10%\" alt=\"Naas\" src=\"https://landen.imgix.net/jtci2pxwjczr/assets/5ice39g4.png?w=160\"/>"
   ]
  },
  {
   "cell_type": "markdown",
   "id": "broad-biotechnology",
   "metadata": {
    "papermill": {},
    "tags": []
   },
   "source": [
    "# Google - Perform search\n",
    "[![download](https://img.shields.io/static/v1?label=Naas&labelColor=000000&message=Download&color=success&style=for-the-badge&logo=image%2Fsvg%2Bxml%3Bbase64%2CPD94bWwgdmVyc2lvbj0iMS4wIiBlbmNvZGluZz0iVVRGLTgiPz4KPHN2ZyB3aWR0aD0iMTAyNHB4IiBoZWlnaHQ9IjEwMjRweCIgdmlld0JveD0iMCAwIDEwMjQgMTAyNCIgeG1sbnM9Imh0dHA6Ly93d3cudzMub3JnLzIwMDAvc3ZnIiB4bWxuczp4bGluaz0iaHR0cDovL3d3dy53My5vcmcvMTk5OS94bGluayIgdmVyc2lvbj0iMS4xIj4KIDwhLS0gR2VuZXJhdGVkIGJ5IFBpeGVsbWF0b3IgUHJvIDIuMC41IC0tPgogPGRlZnM%2BCiAgPHRleHQgaWQ9InN0cmluZyIgdHJhbnNmb3JtPSJtYXRyaXgoMS4wIDAuMCAwLjAgMS4wIDIyOC4wIDU0LjUpIiBmb250LWZhbWlseT0iQ29tZm9ydGFhLVJlZ3VsYXIsIENvbWZvcnRhYSIgZm9udC1zaXplPSI4MDAiIHRleHQtZGVjb3JhdGlvbj0ibm9uZSIgZmlsbD0iI2ZmZmZmZiIgeD0iMS4xOTk5OTk5OTk5OTk5ODg2IiB5PSI3MDUuMCI%2BbjwvdGV4dD4KIDwvZGVmcz4KIDx1c2UgaWQ9Im4iIHhsaW5rOmhyZWY9IiNzdHJpbmciLz4KPC9zdmc%2BCg%3D%3D)](https://app.naas.ai/user-redirect/naas/downloader?url=https://raw.githubusercontent.com/jupyter-naas/awesome-notebooks/master/Google%20Search/Google_Search_Perform_search.ipynb)"
   ]
  },
  {
   "cell_type": "markdown",
   "id": "agreed-sussex",
   "metadata": {
    "papermill": {},
    "tags": []
   },
   "source": [
    "<img width=\"20%\" alt=\"Naas\" src=\"https://landen.imgix.net/jtci2pxwjczr/assets/b9j8mkpe.png?w=800&h=400&fit=crop\"/>"
   ]
  },
  {
   "cell_type": "code",
   "execution_count": 9,
   "id": "comparative-combining",
   "metadata": {
    "papermill": {},
    "tags": []
   },
   "outputs": [
    {
     "name": "stdout",
     "output_type": "stream",
     "text": [
      "Requirement already satisfied: google in /opt/conda/lib/python3.8/site-packages (3.0.0)\n",
      "Requirement already satisfied: beautifulsoup4 in /opt/conda/lib/python3.8/site-packages (from google) (4.9.3)\n",
      "Requirement already satisfied: soupsieve>1.2; python_version >= \"3.0\" in /opt/conda/lib/python3.8/site-packages (from beautifulsoup4->google) (2.0.1)\n",
      "Note: you may need to restart the kernel to use updated packages.\n"
     ]
    }
   ],
   "source": [
    "pip install google"
   ]
  },
  {
   "cell_type": "code",
   "execution_count": 10,
   "id": "multiple-symbol",
   "metadata": {
    "papermill": {},
    "tags": []
   },
   "outputs": [
    {
     "name": "stdout",
     "output_type": "stream",
     "text": [
      "https://www.tesla.com/en_eu\n",
      "https://www.tesla.com/en_eu/models\n",
      "https://www.tesla.com/en_eu/model3/design\n",
      "https://www.tesla.com/en_eu/modely\n",
      "https://www.tesla.com/en_eu/modelx\n",
      "https://www.capital.fr/entreprises-marches/succes-retentissant-pour-la-tequila-signee-tesla-1385345\n",
      "https://fr.news.yahoo.com/succ%C3%A8s-retentissant-tequila-sign%C3%A9e-tesla-211500829.html\n",
      "https://fr.news.yahoo.com/nouveau-projet-fou-delon-musk-204000253.html\n",
      "https://en.wikipedia.org/wiki/Tesla,_Inc.\n",
      "https://en.wikipedia.org/wiki/Tesla_Model_S\n"
     ]
    }
   ],
   "source": [
    "from googlesearch import search\n",
    "\n",
    "query = \"telsa\"\n",
    "\n",
    "for i in search(query, tld=\"co.in\", num=30, stop=10, pause=2):\n",
    "    print(i)"
   ]
  },
  {
   "cell_type": "markdown",
   "id": "bound-inclusion",
   "metadata": {
    "papermill": {},
    "tags": []
   },
   "source": [
    "Parameters : \n",
    "\n",
    "- query: This is the text that you want to search for.\n",
    "\n",
    "- tld: This refers to the top level domain value like co.in or com which will specify which Google website we want to use.\n",
    "\n",
    "- lang: This parameter stands for language.\n",
    "\n",
    "- num: This is used to specify the number of results we want.\n",
    "\n",
    "- start: This is to specify from where to start the results. We should keep it 0 to begin from the very start.\n",
    "\n",
    "- stop: The last result to retrieve. Use None to keep searching forever.\n",
    "\n",
    "- pause: This parameter is used to specify the number of seconds to pause between consecutive HTTP requests because if we hit too many requests, Google can block our IP address.\n",
    "\n",
    "The above function will return a python generator (iterator) which has the search result URLs."
   ]
  },
  {
   "cell_type": "markdown",
   "id": "reduced-publicity",
   "metadata": {
    "papermill": {},
    "tags": []
   },
   "source": [
    "Source : https://www.studytonight.com/post/how-to-perform-google-search-using-python#"
   ]
  },
  {
   "cell_type": "code",
   "execution_count": null,
   "id": "cellular-wheat",
   "metadata": {
    "papermill": {},
    "tags": []
   },
   "outputs": [],
   "source": [
    "TSL"
   ]
  }
 ],
 "metadata": {
  "kernelspec": {
   "display_name": "Python 3",
   "language": "python",
   "name": "python3"
  },
  "language_info": {
   "codemirror_mode": {
    "name": "ipython",
    "version": 3
   },
   "file_extension": ".py",
   "mimetype": "text/x-python",
   "name": "python",
   "nbconvert_exporter": "python",
   "pygments_lexer": "ipython3",
   "version": "3.8.6"
  },
  "papermill": {
   "default_parameters": {},
   "environment_variables": {},
   "parameters": {},
   "version": "2.3.3"
  }
 },
 "nbformat": 4,
 "nbformat_minor": 5
}