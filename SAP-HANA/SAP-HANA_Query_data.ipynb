{
 "cells": [
  {
   "cell_type": "markdown",
   "id": "removed-motel",
   "metadata": {
    "papermill": {},
    "tags": []
   },
   "source": [
    "<img width=\"10%\" alt=\"Naas\" src=\"https://landen.imgix.net/jtci2pxwjczr/assets/5ice39g4.png?w=160\"/>"
   ]
  },
  {
   "cell_type": "markdown",
   "id": "passive-probability",
   "metadata": {
    "papermill": {},
    "tags": []
   },
   "source": [
    "# SAP HANA - Query data\n",
    "[![download](https://img.shields.io/static/v1?label=&labelColor=000000&message=Open%20in%20Naas&color=success&logo=image%2Fsvg%2Bxml%3Bbase64%2CPD94bWwgdmVyc2lvbj0iMS4wIiBlbmNvZGluZz0iVVRGLTgiPz4KPHN2ZyB3aWR0aD0iMTAyNHB4IiBoZWlnaHQ9IjEwMjRweCIgdmlld0JveD0iMCAwIDEwMjQgMTAyNCIgeG1sbnM9Imh0dHA6Ly93d3cudzMub3JnLzIwMDAvc3ZnIiB4bWxuczp4bGluaz0iaHR0cDovL3d3dy53My5vcmcvMTk5OS94bGluayIgdmVyc2lvbj0iMS4xIj4KIDwhLS0gR2VuZXJhdGVkIGJ5IFBpeGVsbWF0b3IgUHJvIDIuMC41IC0tPgogPGRlZnM%2BCiAgPHRleHQgaWQ9InN0cmluZyIgdHJhbnNmb3JtPSJtYXRyaXgoMS4wIDAuMCAwLjAgMS4wIDIyOC4wIDU0LjUpIiBmb250LWZhbWlseT0iQ29tZm9ydGFhLVJlZ3VsYXIsIENvbWZvcnRhYSIgZm9udC1zaXplPSI4MDAiIHRleHQtZGVjb3JhdGlvbj0ibm9uZSIgZmlsbD0iI2ZmZmZmZiIgeD0iMS4xOTk5OTk5OTk5OTk5ODg2IiB5PSI3MDUuMCI%2BbjwvdGV4dD4KIDwvZGVmcz4KIDx1c2UgaWQ9Im4iIHhsaW5rOmhyZWY9IiNzdHJpbmciLz4KPC9zdmc%2BCg%3D%3D)](https://app.naas.ai/user-redirect/naas/downloader?url=https://raw.githubusercontent.com/jupyter-naas/awesome-notebooks/master/SAP-HANA/SAP-HANA_Query_data.ipynb)"
   ]
  },
  {
   "cell_type": "code",
   "execution_count": null,
   "id": "false-backing",
   "metadata": {
    "papermill": {},
    "tags": []
   },
   "outputs": [],
   "source": [
    "!pip install hdbcli"
   ]
  },
  {
   "cell_type": "markdown",
   "id": "controlled-hypothesis",
   "metadata": {
    "papermill": {},
    "tags": []
   },
   "source": [
    "## Step 1 : Import libraries"
   ]
  },
  {
   "cell_type": "code",
   "execution_count": null,
   "id": "refined-biography",
   "metadata": {
    "papermill": {},
    "tags": []
   },
   "outputs": [],
   "source": [
    "import sap_hana_connector"
   ]
  },
  {
   "cell_type": "markdown",
   "id": "printable-hypothetical",
   "metadata": {
    "papermill": {},
    "tags": []
   },
   "source": [
    "## Step 2 : Declare variables"
   ]
  },
  {
   "cell_type": "code",
   "execution_count": null,
   "id": "regulated-throat",
   "metadata": {
    "papermill": {},
    "tags": []
   },
   "outputs": [],
   "source": [
    "type: 'SapHana'\n",
    "name: 'JPAK_LIVE'\n",
    "user: 'USER'\n",
    "password: 'PASSWORD'\n",
    "port: 30015\n",
    "host: 'HOST'"
   ]
  },
  {
   "cell_type": "markdown",
   "id": "robust-breach",
   "metadata": {
    "papermill": {},
    "tags": []
   },
   "source": [
    "## Step 3 : Query to get specific table in SAP HANA"
   ]
  },
  {
   "cell_type": "code",
   "execution_count": null,
   "id": "growing-artist",
   "metadata": {
    "papermill": {},
    "tags": []
   },
   "outputs": [],
   "source": [
    "query: 'SELECT * FROM JPAK_LIVE.OINV T0'"
   ]
  },
  {
   "cell_type": "markdown",
   "id": "meaningful-sister",
   "metadata": {
    "papermill": {},
    "tags": []
   },
   "source": [
    "## Step 4 : Return Data Frame "
   ]
  },
  {
   "cell_type": "code",
   "execution_count": null,
   "id": "vietnamese-coalition",
   "metadata": {
    "papermill": {},
    "tags": []
   },
   "outputs": [],
   "source": [
    "df = query"
   ]
  }
 ],
 "metadata": {
  "kernelspec": {
   "display_name": "Python 3",
   "language": "python",
   "name": "python3"
  },
  "language_info": {
   "codemirror_mode": {
    "name": "ipython",
    "version": 3
   },
   "file_extension": ".py",
   "mimetype": "text/x-python",
   "name": "python",
   "nbconvert_exporter": "python",
   "pygments_lexer": "ipython3",
   "version": "3.8.6"
  },
  "papermill": {
   "default_parameters": {},
   "environment_variables": {},
   "parameters": {},
   "version": "2.3.3"
  }
 },
 "nbformat": 4,
 "nbformat_minor": 5
}