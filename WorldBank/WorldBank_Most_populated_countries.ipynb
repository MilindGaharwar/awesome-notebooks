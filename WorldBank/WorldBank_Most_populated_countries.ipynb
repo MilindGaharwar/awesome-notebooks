{
 "cells": [
  {
   "cell_type": "markdown",
   "id": "charitable-prairie",
   "metadata": {
    "colab_type": "text",
    "id": "view-in-github",
    "papermill": {},
    "tags": []
   },
   "source": [
    "# Most populated countries ()\n",
    "[![download](https://img.shields.io/static/v1?label=Naas&labelColor=000000&message=Download&color=success&style=for-the-badge&logo=image%2Fsvg%2Bxml%3Bbase64%2CPD94bWwgdmVyc2lvbj0iMS4wIiBlbmNvZGluZz0iVVRGLTgiPz4KPHN2ZyB3aWR0aD0iMTAyNHB4IiBoZWlnaHQ9IjEwMjRweCIgdmlld0JveD0iMCAwIDEwMjQgMTAyNCIgeG1sbnM9Imh0dHA6Ly93d3cudzMub3JnLzIwMDAvc3ZnIiB4bWxuczp4bGluaz0iaHR0cDovL3d3dy53My5vcmcvMTk5OS94bGluayIgdmVyc2lvbj0iMS4xIj4KIDwhLS0gR2VuZXJhdGVkIGJ5IFBpeGVsbWF0b3IgUHJvIDIuMC41IC0tPgogPGRlZnM%2BCiAgPHRleHQgaWQ9InN0cmluZyIgdHJhbnNmb3JtPSJtYXRyaXgoMS4wIDAuMCAwLjAgMS4wIDIyOC4wIDU0LjUpIiBmb250LWZhbWlseT0iQ29tZm9ydGFhLVJlZ3VsYXIsIENvbWZvcnRhYSIgZm9udC1zaXplPSI4MDAiIHRleHQtZGVjb3JhdGlvbj0ibm9uZSIgZmlsbD0iI2ZmZmZmZiIgeD0iMS4xOTk5OTk5OTk5OTk5ODg2IiB5PSI3MDUuMCI%2BbjwvdGV4dD4KIDwvZGVmcz4KIDx1c2UgaWQ9Im4iIHhsaW5rOmhyZWY9IiNzdHJpbmciLz4KPC9zdmc%2BCg%3D%3D)](https://app.naas.ai/user-redirect/naas/downloader?url=https://raw.githubusercontent.com/jupyter-naas/awesome-notebooks/master/WorldBank/WorldBank_Most_populated_countries.ipynb)ttps://app.naas.ai/user-redirect/naas/downloader?url=https://raw.githubusercontent.com/jupyter-naas/awesome-notebooks/master/WorldBank/WorldBank_Most_populated_countries.ipynb)"
   ]
  },
  {
   "cell_type": "markdown",
   "id": "sealed-edwards",
   "metadata": {
    "colab_type": "text",
    "id": "L2nNeWrpvvW6",
    "papermill": {},
    "tags": []
   },
   "source": [
    "**Notebook d'exemple pour classer les pays les plus peuplés**"
   ]
  },
  {
   "cell_type": "markdown",
   "id": "acquired-surgeon",
   "metadata": {
    "colab_type": "text",
    "id": "YUZLmxmAGue9",
    "papermill": {},
    "tags": []
   },
   "source": [
    "**Sources:**\n",
    "OECD -> Organisation for economic co-operation and Development"
   ]
  },
  {
   "cell_type": "code",
   "execution_count": 1,
   "id": "biblical-antibody",
   "metadata": {
    "colab": {},
    "colab_type": "code",
    "id": "36x8J9u-oxbA",
    "papermill": {},
    "tags": []
   },
   "outputs": [
    {
     "ename": "ModuleNotFoundError",
     "evalue": "No module named 'pydrive'",
     "output_type": "error",
     "traceback": [
      "\u001b[0;31m---------------------------------------------------------------------------\u001b[0m",
      "\u001b[0;31mModuleNotFoundError\u001b[0m                       Traceback (most recent call last)",
      "\u001b[0;32m<ipython-input-1-b69d3b0c60d7>\u001b[0m in \u001b[0;36m<module>\u001b[0;34m\u001b[0m\n\u001b[1;32m      7\u001b[0m \u001b[0;32mimport\u001b[0m \u001b[0mplotly\u001b[0m\u001b[0;34m.\u001b[0m\u001b[0mgraph_objects\u001b[0m \u001b[0;32mas\u001b[0m \u001b[0mgo\u001b[0m\u001b[0;34m\u001b[0m\u001b[0;34m\u001b[0m\u001b[0m\n\u001b[1;32m      8\u001b[0m \u001b[0;32mimport\u001b[0m \u001b[0mplotly\u001b[0m\u001b[0;34m.\u001b[0m\u001b[0mexpress\u001b[0m \u001b[0;32mas\u001b[0m \u001b[0mpx\u001b[0m\u001b[0;34m\u001b[0m\u001b[0;34m\u001b[0m\u001b[0m\n\u001b[0;32m----> 9\u001b[0;31m \u001b[0;32mfrom\u001b[0m \u001b[0mpydrive\u001b[0m\u001b[0;34m.\u001b[0m\u001b[0mauth\u001b[0m \u001b[0;32mimport\u001b[0m \u001b[0mGoogleAuth\u001b[0m\u001b[0;34m\u001b[0m\u001b[0;34m\u001b[0m\u001b[0m\n\u001b[0m\u001b[1;32m     10\u001b[0m \u001b[0;32mfrom\u001b[0m \u001b[0mpydrive\u001b[0m\u001b[0;34m.\u001b[0m\u001b[0mdrive\u001b[0m \u001b[0;32mimport\u001b[0m \u001b[0mGoogleDrive\u001b[0m\u001b[0;34m\u001b[0m\u001b[0;34m\u001b[0m\u001b[0m\n\u001b[1;32m     11\u001b[0m \u001b[0;32mfrom\u001b[0m \u001b[0mgoogle\u001b[0m\u001b[0;34m.\u001b[0m\u001b[0mcolab\u001b[0m \u001b[0;32mimport\u001b[0m \u001b[0mauth\u001b[0m\u001b[0;34m\u001b[0m\u001b[0;34m\u001b[0m\u001b[0m\n",
      "\u001b[0;31mModuleNotFoundError\u001b[0m: No module named 'pydrive'"
     ]
    }
   ],
   "source": [
    "import pandas as pd\n",
    "import matplotlib.pyplot as plt\n",
    "%matplotlib inline\n",
    "import requests\n",
    "import io\n",
    "import numpy as np\n",
    "import plotly.graph_objects as go\n",
    "import plotly.express as px\n",
    "from pydrive.auth import GoogleAuth\n",
    "from pydrive.drive import GoogleDrive\n",
    "from google.colab import auth\n",
    "from oauth2client.client import GoogleCredentials\n",
    "from pandas import DataFrame\n",
    "import plotly.graph_objects as go"
   ]
  },
  {
   "cell_type": "markdown",
   "id": "distinct-iceland",
   "metadata": {
    "colab_type": "text",
    "id": "jV59hEGsoyDW",
    "papermill": {},
    "tags": []
   },
   "source": [
    "**On va chercher le fichier depuis GDrive**"
   ]
  },
  {
   "cell_type": "code",
   "execution_count": null,
   "id": "cutting-electric",
   "metadata": {
    "colab": {},
    "colab_type": "code",
    "id": "z8v7HtRlo1Oj",
    "papermill": {},
    "tags": []
   },
   "outputs": [],
   "source": [
    "auth.authenticate_user()\n",
    "gauth = GoogleAuth()\n",
    "gauth.credentials = GoogleCredentials.get_application_default()\n",
    "drive = GoogleDrive(gauth)\n",
    "downloaded = drive.CreateFile({'id':\"1FjX4NTIq1z3zS9vCdAdpddtj9mKa0wIW\"})   # replace the id with id of file you want to access\n",
    "downloaded.GetContentFile('POP_PROJ_20042020112713800.csv')"
   ]
  },
  {
   "cell_type": "markdown",
   "id": "discrete-devon",
   "metadata": {
    "colab_type": "text",
    "id": "UGz4KBl5o28h",
    "papermill": {},
    "tags": []
   },
   "source": [
    "**On stock la data dans une variable**"
   ]
  },
  {
   "cell_type": "code",
   "execution_count": null,
   "id": "likely-receptor",
   "metadata": {
    "colab": {
     "base_uri": "https://localhost:8080/",
     "height": 419
    },
    "colab_type": "code",
    "id": "VDQ-_3hlo6M-",
    "outputId": "3df46693-b9ad-4fef-9002-221604a6cbfc",
    "papermill": {},
    "tags": []
   },
   "outputs": [],
   "source": [
    "data = pd.read_csv(\"POP_PROJ_20042020112713800.csv\", usecols=[\"Country\", \"Time\", \"Value\"])\n",
    "data.rename(columns = {'Country':'COUNTRY', 'Time':'TIME', \n",
    "                              'Value':'VALUE'}, inplace = True) \n",
    "data"
   ]
  },
  {
   "cell_type": "markdown",
   "id": "sunset-server",
   "metadata": {
    "colab_type": "text",
    "id": "0X1lLH4Po8Vi",
    "papermill": {},
    "tags": []
   },
   "source": [
    "**On fait la tambouille**"
   ]
  },
  {
   "cell_type": "code",
   "execution_count": null,
   "id": "enormous-yesterday",
   "metadata": {
    "colab": {
     "base_uri": "https://localhost:8080/",
     "height": 359
    },
    "colab_type": "code",
    "id": "QZv6333yo-de",
    "outputId": "b175b18e-2f5b-476d-95fc-abfe3d4cd73f",
    "papermill": {},
    "tags": []
   },
   "outputs": [],
   "source": [
    "# Utilisation de Plotly, c'est bo!\n",
    "firstOccur = []\n",
    "secondOccur = []\n",
    "firstYear = 2000\n",
    "secondYear = 2030\n",
    "def tambouille_first(number1):\n",
    "  first = []\n",
    "  for index, row in data.iterrows():\n",
    "    if(row[\"TIME\"] == number1):\n",
    "      first.append(row)\n",
    "\n",
    "  first = DataFrame(first)\n",
    "  first = first.sort_values(by =\"VALUE\",ascending=True)\n",
    "  first = first.tail(10)\n",
    "  return first\n",
    "\n",
    "def tambouille_second(number2):\n",
    "  second = []\n",
    "  for index, row in data.iterrows():\n",
    "    if(row[\"TIME\"] == number2):\n",
    "      second.append(row)\n",
    "\n",
    "  second = DataFrame(second)\n",
    "  second =second.sort_values(by =\"VALUE\",ascending=True)\n",
    "  second = second.tail(10)\n",
    "  return second\n",
    "\n",
    "firstOccur = tambouille_first(firstYear)\n",
    "secondOccur = tambouille_second(secondYear)\n",
    "\n",
    "firstOccur\n"
   ]
  },
  {
   "cell_type": "markdown",
   "id": "extraordinary-ensemble",
   "metadata": {
    "colab_type": "text",
    "id": "tm3z-gveo_3-",
    "papermill": {},
    "tags": []
   },
   "source": [
    "**On crée le schema**"
   ]
  },
  {
   "cell_type": "code",
   "execution_count": null,
   "id": "thrown-collaboration",
   "metadata": {
    "colab": {
     "base_uri": "https://localhost:8080/",
     "height": 542
    },
    "colab_type": "code",
    "id": "pzEvYhKCpCRD",
    "outputId": "10b91cf7-3365-4efc-bb8d-d5f6c351ee03",
    "papermill": {},
    "tags": []
   },
   "outputs": [],
   "source": [
    "fig = go.Figure(data=[\n",
    "  go.Bar(name=str(firstYear), y=firstOccur[\"COUNTRY\"], x=firstOccur[\"VALUE\"],orientation='h'),\n",
    "  go.Bar(name=str(secondYear), y=secondOccur[\"COUNTRY\"], x=secondOccur[\"VALUE\"],orientation='h'),\n",
    "])\n",
    "fig.update_layout(title_text=\"TOP 10 des pays les plus peuplés en 2000 avec prévision 2030\", annotations=[\n",
    "        dict(\n",
    "            x=1,\n",
    "            y=-0.15,\n",
    "            showarrow=False,\n",
    "            text=\"Source : OECD -> 2019\",\n",
    "            xref=\"paper\",\n",
    "            yref=\"paper\"\n",
    "        )])\n",
    "fig.show()"
   ]
  },
  {
   "cell_type": "markdown",
   "id": "acceptable-business",
   "metadata": {
    "colab_type": "text",
    "id": "SGVkFSfhQTDe",
    "papermill": {},
    "tags": []
   },
   "source": [
    "**Video d'explication de la démarche**\n",
    "https://drive.google.com/file/d/14QhRJTWxlV6HyHmrLuSGsJ6NuFrV2GCZ/view"
   ]
  }
 ],
 "metadata": {
  "colab": {
   "collapsed_sections": [],
   "include_colab_link": true,
   "name": "20200422_10_Tokyo_final1.ipynb",
   "provenance": []
  },
  "kernelspec": {
   "display_name": "Python 3",
   "language": "python",
   "name": "python3"
  },
  "language_info": {
   "codemirror_mode": {
    "name": "ipython",
    "version": 3
   },
   "file_extension": ".py",
   "mimetype": "text/x-python",
   "name": "python",
   "nbconvert_exporter": "python",
   "pygments_lexer": "ipython3",
   "version": "3.8.5"
  },
  "papermill": {
   "default_parameters": {},
   "environment_variables": {},
   "parameters": {},
   "version": "2.3.3"
  }
 },
 "nbformat": 4,
 "nbformat_minor": 5
}