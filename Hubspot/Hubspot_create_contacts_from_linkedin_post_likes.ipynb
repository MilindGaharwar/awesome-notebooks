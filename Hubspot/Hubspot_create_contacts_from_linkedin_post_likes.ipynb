{
 "cells": [
  {
   "cell_type": "markdown",
   "id": "encouraging-netherlands",
   "metadata": {
    "execution": {
     "iopub.execute_input": "2021-01-25T08:00:35.294800Z",
     "iopub.status.busy": "2021-01-25T08:00:35.294557Z",
     "iopub.status.idle": "2021-01-25T08:00:35.307281Z",
     "shell.execute_reply": "2021-01-25T08:00:35.306468Z",
     "shell.execute_reply.started": "2021-01-25T08:00:35.294775Z"
    },
    "papermill": {},
    "tags": []
   },
   "source": [
    "<img width=\"10%\" alt=\"Naas\" src=\"https://landen.imgix.net/jtci2pxwjczr/assets/5ice39g4.png?w=160\"/>"
   ]
  },
  {
   "cell_type": "markdown",
   "id": "aff394ec-92f1-4cf8-9e94-5ab4b69f9a39",
   "metadata": {},
   "source": [
    "<img src=\"https://upload.wikimedia.org/wikipedia/commons/thumb/3/3f/HubSpot_Logo.svg/220px-HubSpot_Logo.svg.png\" alt=\"drawing\" width=\"200\" align='left'/>"
   ]
  },
  {
   "cell_type": "markdown",
   "id": "suitable-timer",
   "metadata": {
    "papermill": {},
    "tags": []
   },
   "source": [
    "# Hubspot - Create contacts from LinkedIn post likes\n",
    "<a href=\"https://app.naas.ai/user-redirect/naas/downloader?url=https://raw.githubusercontent.com/jupyter-naas/awesome-notebooks/master/LinkedIn/LinkedIn_Get_likes_from_post.ipynb\" target=\"_parent\"><img src=\"https://img.shields.io/badge/-Open%20in%20Naas-success?labelColor=000000&logo=data:image/svg+xml;base64,PD94bWwgdmVyc2lvbj0iMS4wIiBlbmNvZGluZz0iVVRGLTgiPz4KPHN2ZyB3aWR0aD0iMTAyNHB4IiBoZWlnaHQ9IjEwMjRweCIgdmlld0JveD0iMCAwIDEwMjQgMTAyNCIgeG1sbnM9Imh0dHA6Ly93d3cudzMub3JnLzIwMDAvc3ZnIiB4bWxuczp4bGluaz0iaHR0cDovL3d3dy53My5vcmcvMTk5OS94bGluayIgdmVyc2lvbj0iMS4xIj4KIDwhLS0gR2VuZXJhdGVkIGJ5IFBpeGVsbWF0b3IgUHJvIDIuMC41IC0tPgogPGRlZnM+CiAgPHRleHQgaWQ9InN0cmluZyIgdHJhbnNmb3JtPSJtYXRyaXgoMS4wIDAuMCAwLjAgMS4wIDIyOC4wIDU0LjUpIiBmb250LWZhbWlseT0iQ29tZm9ydGFhLVJlZ3VsYXIsIENvbWZvcnRhYSIgZm9udC1zaXplPSI4MDAiIHRleHQtZGVjb3JhdGlvbj0ibm9uZSIgZmlsbD0iI2ZmZmZmZiIgeD0iMS4xOTk5OTk5OTk5OTk5ODg2IiB5PSI3MDUuMCI+bjwvdGV4dD4KIDwvZGVmcz4KIDx1c2UgaWQ9Im4iIHhsaW5rOmhyZWY9IiNzdHJpbmciLz4KPC9zdmc+Cg==\"/></a>"
   ]
  },
  {
   "cell_type": "markdown",
   "id": "5f8159ba-3a38-469d-a7b8-932db42b090c",
   "metadata": {},
   "source": [
    "#hubspot #crm #sales #linkedin #post #contact"
   ]
  },
  {
   "cell_type": "markdown",
   "id": "progressive-measure",
   "metadata": {
    "papermill": {},
    "tags": []
   },
   "source": [
    "## Input"
   ]
  },
  {
   "cell_type": "code",
   "execution_count": null,
   "id": "polish-singer",
   "metadata": {
    "papermill": {},
    "tags": []
   },
   "outputs": [],
   "source": [
    "from naas_drivers import linkedin, hubspot\n",
    "import naas\n",
    "import requests"
   ]
  },
  {
   "cell_type": "markdown",
   "id": "ef4f8614-216f-4df0-aff4-308bf15fcfa1",
   "metadata": {},
   "source": [
    "### Enter Hubspot api key"
   ]
  },
  {
   "cell_type": "code",
   "execution_count": null,
   "id": "02195776-23ff-4b14-9df3-c18749be67b7",
   "metadata": {},
   "outputs": [],
   "source": [
    "auth_token = naas.secret.get('HUBSPOT_API_KEY')"
   ]
  },
  {
   "cell_type": "markdown",
   "id": "preceding-differential",
   "metadata": {
    "papermill": {},
    "tags": []
   },
   "source": [
    "### Get your cookies\n",
    "<a href='https://www.notion.so/LinkedIn-driver-Get-your-cookies-d20a8e7e508e42af8a5b52e33f3dba75'>How to get your cookies ?</a>"
   ]
  },
  {
   "cell_type": "code",
   "execution_count": null,
   "id": "analyzed-contributor",
   "metadata": {
    "papermill": {},
    "tags": []
   },
   "outputs": [],
   "source": [
    "LI_AT = naas.secret.get('FRV_LI_AT') # EXAMPLE AQFAzQN_PLPR4wAAAXc-FCKmgiMit5FLdY1af3-2\n",
    "JSESSIONID = naas.secret.get('FRV_JSESSIONID')  # EXAMPLE ajax:8379907400220387585"
   ]
  },
  {
   "cell_type": "markdown",
   "id": "metric-innocent",
   "metadata": {
    "papermill": {},
    "tags": []
   },
   "source": [
    "### Enter post URL"
   ]
  },
  {
   "cell_type": "code",
   "execution_count": null,
   "id": "younger-ending",
   "metadata": {
    "papermill": {},
    "tags": []
   },
   "outputs": [],
   "source": [
    "POST_URL = \"https://www.linkedin.com/posts/j%C3%A9r%C3%A9my-ravenel-8a396910_github-jupyter-naasawesome-notebooks-activity-6842099872619999232-toW_\""
   ]
  },
  {
   "cell_type": "markdown",
   "id": "f56333ea-eee6-481c-b6af-353a09003b2e",
   "metadata": {},
   "source": [
    "### Get post likes"
   ]
  },
  {
   "cell_type": "code",
   "execution_count": null,
   "id": "animal-airport",
   "metadata": {
    "papermill": {},
    "tags": []
   },
   "outputs": [],
   "source": [
    "df_posts = linkedin.connect(LI_AT, JSESSIONID).post.get_likes(POST_URL)\n",
    "df_posts"
   ]
  },
  {
   "cell_type": "markdown",
   "id": "looking-olympus",
   "metadata": {
    "papermill": {},
    "tags": []
   },
   "source": [
    "## Model"
   ]
  },
  {
   "cell_type": "markdown",
   "id": "d3839bf3-42de-41ed-b1f7-8a73bffed907",
   "metadata": {},
   "source": [
    "### Create contacts from LinkedIn post likes"
   ]
  },
  {
   "cell_type": "code",
   "execution_count": null,
   "id": "63db7cf8-2b32-4a5c-9834-38dac9953bc4",
   "metadata": {
    "tags": []
   },
   "outputs": [],
   "source": [
    "def create_contacts_from_post(df,\n",
    "                              profile_id=\"PROFILE_URN\",\n",
    "                              firstname=\"FIRSTNAME\",\n",
    "                              lastname=\"LASTNAME\",\n",
    "                              occupation=\"OCCUPATION\"):\n",
    "    for _, row in df.iterrows():\n",
    "        profile_urn = row[profile_id]\n",
    "        firstname = row[firstname]\n",
    "        lastname = row[lastname]\n",
    "        occupation = row[occupation]\n",
    "        linkedinbio = f\"https://www.linkedin.com/in/{profile_id}\"\n",
    "        email = None\n",
    "        phone = None\n",
    "\n",
    "        # contact\n",
    "        try:\n",
    "            contact = linkedin.connect(LI_AT, JSESSIONID).profile.get_contact(linkedinbio)\n",
    "            email = contact.loc[0, \"EMAIL\"]\n",
    "            phone = contact.loc[0, \"PHONENUMBER\"]\n",
    "        except:\n",
    "            print(\"No contact info\")\n",
    "\n",
    "        # With send method\n",
    "        contact = {\"properties\": \n",
    "                          {\n",
    "                            \"linkedinbio\": linkedinbio,\n",
    "                            \"firstname\": firstname,\n",
    "                            \"lastname\": lastname,\n",
    "                            \"jobtitle\": occupation,\n",
    "                            \"email\": email,\n",
    "                            \"phone\": phone\n",
    "                          }\n",
    "                         }\n",
    "        print(contact)\n",
    "        try:\n",
    "            hubspot.connect(auth_token).contacts.send(contact)\n",
    "        except:\n",
    "            print(\"Error while creating\", contact)"
   ]
  },
  {
   "cell_type": "markdown",
   "id": "stretch-adobe",
   "metadata": {
    "papermill": {},
    "tags": []
   },
   "source": [
    "## Output"
   ]
  },
  {
   "cell_type": "markdown",
   "id": "suited-mount",
   "metadata": {
    "papermill": {},
    "tags": []
   },
   "source": [
    "### Display result"
   ]
  },
  {
   "cell_type": "code",
   "execution_count": null,
   "id": "7b7503fe-dff4-4d3c-be53-d8eed9894088",
   "metadata": {},
   "outputs": [],
   "source": [
    "create_contacts_from_post(df_posts)"
   ]
  }
 ],
 "metadata": {
  "kernelspec": {
   "display_name": "Python 3",
   "language": "python",
   "name": "python3"
  },
  "language_info": {
   "codemirror_mode": {
    "name": "ipython",
    "version": 3
   },
   "file_extension": ".py",
   "mimetype": "text/x-python",
   "name": "python",
   "nbconvert_exporter": "python",
   "pygments_lexer": "ipython3",
   "version": "3.8.8"
  },
  "papermill": {
   "default_parameters": {},
   "environment_variables": {},
   "parameters": {},
   "version": "2.3.3"
  },
  "widgets": {
   "application/vnd.jupyter.widget-state+json": {
    "state": {},
    "version_major": 2,
    "version_minor": 0
   }
  }
 },
 "nbformat": 4,
 "nbformat_minor": 5
}
