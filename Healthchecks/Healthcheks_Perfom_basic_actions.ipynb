{
 "cells": [
  {
   "cell_type": "markdown",
   "id": "imposed-nickname",
   "metadata": {
    "papermill": {},
    "tags": []
   },
   "source": [
    "<img width=\"10%\" alt=\"Naas\" src=\"https://landen.imgix.net/jtci2pxwjczr/assets/5ice39g4.png?w=160\"/>"
   ]
  },
  {
   "cell_type": "markdown",
   "id": "dated-disco",
   "metadata": {
    "papermill": {},
    "tags": []
   },
   "source": [
    "# Healthchecks - Perform basic actions\n",
    "[![download](https://img.shields.io/static/v1?label=&labelColor=000000&message=Open%20in%20Naas&color=success&logo=image%2Fsvg%2Bxml%3Bbase64%2CPD94bWwgdmVyc2lvbj0iMS4wIiBlbmNvZGluZz0iVVRGLTgiPz4KPHN2ZyB3aWR0aD0iMTAyNHB4IiBoZWlnaHQ9IjEwMjRweCIgdmlld0JveD0iMCAwIDEwMjQgMTAyNCIgeG1sbnM9Imh0dHA6Ly93d3cudzMub3JnLzIwMDAvc3ZnIiB4bWxuczp4bGluaz0iaHR0cDovL3d3dy53My5vcmcvMTk5OS94bGluayIgdmVyc2lvbj0iMS4xIj4KIDwhLS0gR2VuZXJhdGVkIGJ5IFBpeGVsbWF0b3IgUHJvIDIuMC41IC0tPgogPGRlZnM%2BCiAgPHRleHQgaWQ9InN0cmluZyIgdHJhbnNmb3JtPSJtYXRyaXgoMS4wIDAuMCAwLjAgMS4wIDIyOC4wIDU0LjUpIiBmb250LWZhbWlseT0iQ29tZm9ydGFhLVJlZ3VsYXIsIENvbWZvcnRhYSIgZm9udC1zaXplPSI4MDAiIHRleHQtZGVjb3JhdGlvbj0ibm9uZSIgZmlsbD0iI2ZmZmZmZiIgeD0iMS4xOTk5OTk5OTk5OTk5ODg2IiB5PSI3MDUuMCI%2BbjwvdGV4dD4KIDwvZGVmcz4KIDx1c2UgaWQ9Im4iIHhsaW5rOmhyZWY9IiNzdHJpbmciLz4KPC9zdmc%2BCg%3D%3D)](https://app.naas.ai/user-redirect/naas/downloader?url=https://raw.githubusercontent.com/jupyter-naas/awesome-notebooks/master/Healthchecks/Healthcheks_Perfom_basic_actions.ipynb)"
   ]
  },
  {
   "cell_type": "markdown",
   "id": "ruled-admission",
   "metadata": {
    "papermill": {},
    "tags": []
   },
   "source": [
    "Get notified of your Cron jobs"
   ]
  },
  {
   "cell_type": "markdown",
   "id": "known-battlefield",
   "metadata": {
    "execution": {
     "iopub.execute_input": "2021-02-28T13:36:11.829590Z",
     "iopub.status.busy": "2021-02-28T13:36:11.829246Z",
     "iopub.status.idle": "2021-02-28T13:36:11.835447Z",
     "shell.execute_reply": "2021-02-28T13:36:11.834849Z",
     "shell.execute_reply.started": "2021-02-28T13:36:11.829498Z"
    },
    "papermill": {},
    "tags": []
   },
   "source": [
    "## Starting"
   ]
  },
  {
   "cell_type": "code",
   "execution_count": null,
   "id": "vital-brush",
   "metadata": {
    "papermill": {},
    "tags": []
   },
   "outputs": [],
   "source": [
    "key = \"123456-123456-12455\"\n",
    "naas_drivers.healthcheck.connect(key).send(\"start\")"
   ]
  },
  {
   "cell_type": "markdown",
   "id": "banner-privacy",
   "metadata": {
    "papermill": {},
    "tags": []
   },
   "source": [
    "## Done"
   ]
  },
  {
   "cell_type": "code",
   "execution_count": null,
   "id": "nuclear-friend",
   "metadata": {
    "papermill": {},
    "tags": []
   },
   "outputs": [],
   "source": [
    "key = \"123456-123456-12455\"\n",
    "naas_drivers.healthcheck.connect(key).send()"
   ]
  },
  {
   "cell_type": "markdown",
   "id": "hourly-kidney",
   "metadata": {
    "papermill": {},
    "tags": []
   },
   "source": [
    "## Failing"
   ]
  },
  {
   "cell_type": "code",
   "execution_count": null,
   "id": "involved-earthquake",
   "metadata": {
    "papermill": {},
    "tags": []
   },
   "outputs": [],
   "source": [
    "key = \"123456-123456-12455\"\n",
    "naas_drivers.healthcheck.connect(key).send(\"fail\")"
   ]
  },
  {
   "cell_type": "markdown",
   "id": "dominant-hardwood",
   "metadata": {
    "execution": {
     "iopub.execute_input": "2021-02-28T13:43:57.617499Z",
     "iopub.status.busy": "2021-02-28T13:43:57.617275Z",
     "iopub.status.idle": "2021-02-28T13:43:57.619938Z",
     "shell.execute_reply": "2021-02-28T13:43:57.619317Z",
     "shell.execute_reply.started": "2021-02-28T13:43:57.617477Z"
    },
    "papermill": {},
    "tags": []
   },
   "source": [
    "## Check status UP"
   ]
  },
  {
   "cell_type": "code",
   "execution_count": null,
   "id": "eligible-mandate",
   "metadata": {
    "papermill": {},
    "tags": []
   },
   "outputs": [],
   "source": [
    "url = \"https://google.com\"\n",
    "key = \"123456-123456-12455\"\n",
    "naas_drivers.health_check.connect(key).check_up(url)"
   ]
  }
 ],
 "metadata": {
  "kernelspec": {
   "display_name": "Python 3",
   "language": "python",
   "name": "python3"
  },
  "language_info": {
   "codemirror_mode": {
    "name": "ipython",
    "version": 3
   },
   "file_extension": ".py",
   "mimetype": "text/x-python",
   "name": "python",
   "nbconvert_exporter": "python",
   "pygments_lexer": "ipython3",
   "version": "3.8.6"
  },
  "papermill": {
   "default_parameters": {},
   "environment_variables": {},
   "parameters": {},
   "version": "2.3.3"
  }
 },
 "nbformat": 4,
 "nbformat_minor": 5
}