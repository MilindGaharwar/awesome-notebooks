{
 "cells": [
  {
   "cell_type": "markdown",
   "id": "radical-progress",
   "metadata": {
    "papermill": {},
    "tags": []
   },
   "source": [
    "<img width=\"10%\" alt=\"Naas\" src=\"https://landen.imgix.net/jtci2pxwjczr/assets/5ice39g4.png?w=160\"/>"
   ]
  },
  {
   "cell_type": "markdown",
   "id": "hazardous-promise",
   "metadata": {
    "papermill": {},
    "tags": []
   },
   "source": [
    "# Github issues read\n",
    "[![download](https://img.shields.io/static/v1?label=Naas&labelColor=000000&message=Download&color=success&style=for-the-badge&logo=image%2Fsvg%2Bxml%3Bbase64%2CPD94bWwgdmVyc2lvbj0iMS4wIiBlbmNvZGluZz0iVVRGLTgiPz4KPHN2ZyB3aWR0aD0iMTAyNHB4IiBoZWlnaHQ9IjEwMjRweCIgdmlld0JveD0iMCAwIDEwMjQgMTAyNCIgeG1sbnM9Imh0dHA6Ly93d3cudzMub3JnLzIwMDAvc3ZnIiB4bWxuczp4bGluaz0iaHR0cDovL3d3dy53My5vcmcvMTk5OS94bGluayIgdmVyc2lvbj0iMS4xIj4KIDwhLS0gR2VuZXJhdGVkIGJ5IFBpeGVsbWF0b3IgUHJvIDIuMC41IC0tPgogPGRlZnM%2BCiAgPHRleHQgaWQ9InN0cmluZyIgdHJhbnNmb3JtPSJtYXRyaXgoMS4wIDAuMCAwLjAgMS4wIDIyOC4wIDU0LjUpIiBmb250LWZhbWlseT0iQ29tZm9ydGFhLVJlZ3VsYXIsIENvbWZvcnRhYSIgZm9udC1zaXplPSI4MDAiIHRleHQtZGVjb3JhdGlvbj0ibm9uZSIgZmlsbD0iI2ZmZmZmZiIgeD0iMS4xOTk5OTk5OTk5OTk5ODg2IiB5PSI3MDUuMCI%2BbjwvdGV4dD4KIDwvZGVmcz4KIDx1c2UgaWQ9Im4iIHhsaW5rOmhyZWY9IiNzdHJpbmciLz4KPC9zdmc%2BCg%3D%3D)](https://app.naas.ai/user-redirect/naas/downloader?url=https://raw.githubusercontent.com/jupyter-naas/awesome-notebooks/master/Github/Github_Read_issue.ipynb)"
   ]
  },
  {
   "cell_type": "markdown",
   "id": "veterinary-algorithm",
   "metadata": {
    "papermill": {},
    "tags": []
   },
   "source": [
    "<img width=\"20%\" alt=\"Naas\" src=\"https://res.cloudinary.com/practicaldev/image/fetch/s--i_sb3chq--/c_imagga_scale,f_auto,fl_progressive,h_900,q_auto,w_1600/https://thepracticaldev.s3.amazonaws.com/i/fk0849hvg2rt13bpqhjy.jpg\"/>"
   ]
  },
  {
   "cell_type": "markdown",
   "id": "regulation-steering",
   "metadata": {
    "papermill": {},
    "tags": []
   },
   "source": [
    "## Step 1 - Enter repository path and token"
   ]
  },
  {
   "cell_type": "code",
   "execution_count": 1,
   "id": "focal-neutral",
   "metadata": {
    "papermill": {},
    "tags": []
   },
   "outputs": [],
   "source": [
    "repo_name = \"**********\"                # Repository path\n",
    "git_key = \"**********\"                  # Settings/Developer settings"
   ]
  },
  {
   "cell_type": "markdown",
   "id": "standing-empty",
   "metadata": {
    "papermill": {},
    "tags": []
   },
   "source": [
    "## Step 2 - Establishing connection"
   ]
  },
  {
   "cell_type": "code",
   "execution_count": 3,
   "id": "hollow-ladder",
   "metadata": {
    "papermill": {},
    "tags": []
   },
   "outputs": [],
   "source": [
    "from github import Github\n",
    "g = Github(git_key)   "
   ]
  },
  {
   "cell_type": "markdown",
   "id": "pressed-emphasis",
   "metadata": {
    "papermill": {},
    "tags": []
   },
   "source": [
    "## Step 3 - See issue list"
   ]
  },
  {
   "cell_type": "code",
   "execution_count": 4,
   "id": "hollywood-rubber",
   "metadata": {
    "papermill": {},
    "tags": []
   },
   "outputs": [
    {
     "data": {
      "text/html": [
       "<div>\n",
       "<style scoped>\n",
       "    .dataframe tbody tr th:only-of-type {\n",
       "        vertical-align: middle;\n",
       "    }\n",
       "\n",
       "    .dataframe tbody tr th {\n",
       "        vertical-align: top;\n",
       "    }\n",
       "\n",
       "    .dataframe thead th {\n",
       "        text-align: right;\n",
       "    }\n",
       "</style>\n",
       "<table border=\"1\" class=\"dataframe\">\n",
       "  <thead>\n",
       "    <tr style=\"text-align: right;\">\n",
       "      <th></th>\n",
       "      <th>Title</th>\n",
       "      <th>Description</th>\n",
       "      <th>ID</th>\n",
       "    </tr>\n",
       "  </thead>\n",
       "  <tbody>\n",
       "    <tr>\n",
       "      <th>0</th>\n",
       "      <td>feat: Self learning chatbot</td>\n",
       "      <td>feat: Self learning chatbot</td>\n",
       "      <td>483</td>\n",
       "    </tr>\n",
       "    <tr>\n",
       "      <th>1</th>\n",
       "      <td>Salesforce - Get contact list</td>\n",
       "      <td>Salesforce - Get contact list</td>\n",
       "      <td>482</td>\n",
       "    </tr>\n",
       "    <tr>\n",
       "      <th>2</th>\n",
       "      <td>Pipedrive - Get contact list</td>\n",
       "      <td>Pipedrive - Get contact list</td>\n",
       "      <td>481</td>\n",
       "    </tr>\n",
       "    <tr>\n",
       "      <th>3</th>\n",
       "      <td>Stripe - Get payments list</td>\n",
       "      <td>Stripe - Get payments list</td>\n",
       "      <td>480</td>\n",
       "    </tr>\n",
       "    <tr>\n",
       "      <th>4</th>\n",
       "      <td>IFTTT - Trigger workflow from webhook</td>\n",
       "      <td>IFTTT - Trigger workflow from webhook</td>\n",
       "      <td>479</td>\n",
       "    </tr>\n",
       "    <tr>\n",
       "      <th>5</th>\n",
       "      <td>Slack - Create user</td>\n",
       "      <td>Slack - Create user</td>\n",
       "      <td>478</td>\n",
       "    </tr>\n",
       "    <tr>\n",
       "      <th>6</th>\n",
       "      <td>Odoo - Connect with API</td>\n",
       "      <td>Odoo - Connect with API</td>\n",
       "      <td>477</td>\n",
       "    </tr>\n",
       "    <tr>\n",
       "      <th>7</th>\n",
       "      <td>NewsAPI - Get news data</td>\n",
       "      <td>NewsAPI - Get news data</td>\n",
       "      <td>476</td>\n",
       "    </tr>\n",
       "    <tr>\n",
       "      <th>8</th>\n",
       "      <td>World Data - Expose wordwide COVID Map</td>\n",
       "      <td>World Data - Expose wordwide COVID Map</td>\n",
       "      <td>475</td>\n",
       "    </tr>\n",
       "    <tr>\n",
       "      <th>9</th>\n",
       "      <td>Healthkit - Parse and extract data</td>\n",
       "      <td>Healthkit - Parse and extract data</td>\n",
       "      <td>474</td>\n",
       "    </tr>\n",
       "    <tr>\n",
       "      <th>10</th>\n",
       "      <td>Convert docx to html</td>\n",
       "      <td>Convert docx to html</td>\n",
       "      <td>473</td>\n",
       "    </tr>\n",
       "    <tr>\n",
       "      <th>11</th>\n",
       "      <td>PDF to MP3</td>\n",
       "      <td>PDF to MP3</td>\n",
       "      <td>472</td>\n",
       "    </tr>\n",
       "  </tbody>\n",
       "</table>\n",
       "</div>"
      ],
      "text/plain": [
       "                                     Title  \\\n",
       "0              feat: Self learning chatbot   \n",
       "1            Salesforce - Get contact list   \n",
       "2             Pipedrive - Get contact list   \n",
       "3               Stripe - Get payments list   \n",
       "4    IFTTT - Trigger workflow from webhook   \n",
       "5                      Slack - Create user   \n",
       "6                  Odoo - Connect with API   \n",
       "7                  NewsAPI - Get news data   \n",
       "8   World Data - Expose wordwide COVID Map   \n",
       "9       Healthkit - Parse and extract data   \n",
       "10                    Convert docx to html   \n",
       "11                              PDF to MP3   \n",
       "\n",
       "                               Description   ID  \n",
       "0              feat: Self learning chatbot  483  \n",
       "1            Salesforce - Get contact list  482  \n",
       "2             Pipedrive - Get contact list  481  \n",
       "3               Stripe - Get payments list  480  \n",
       "4    IFTTT - Trigger workflow from webhook  479  \n",
       "5                      Slack - Create user  478  \n",
       "6                  Odoo - Connect with API  477  \n",
       "7                  NewsAPI - Get news data  476  \n",
       "8   World Data - Expose wordwide COVID Map  475  \n",
       "9       Healthkit - Parse and extract data  474  \n",
       "10                    Convert docx to html  473  \n",
       "11                              PDF to MP3  472  "
      ]
     },
     "execution_count": 4,
     "metadata": {},
     "output_type": "execute_result"
    }
   ],
   "source": [
    "import pandas as pd\n",
    "repo = g.get_repo(repo_name)\n",
    "open_issues = repo.get_issues(state='open')\n",
    "title = []\n",
    "number = []\n",
    "for issue in open_issues:\n",
    "    title.append(issue.title)\n",
    "    number.append(issue.number)\n",
    "data = {'Title':title,'Description':title, 'ID':number} \n",
    "df = pd.DataFrame(data)\n",
    "df"
   ]
  }
 ],
 "metadata": {
  "kernelspec": {
   "display_name": "Python 3",
   "language": "python",
   "name": "python3"
  },
  "language_info": {
   "codemirror_mode": {
    "name": "ipython",
    "version": 3
   },
   "file_extension": ".py",
   "mimetype": "text/x-python",
   "name": "python",
   "nbconvert_exporter": "python",
   "pygments_lexer": "ipython3",
   "version": "3.8.6"
  },
  "papermill": {
   "default_parameters": {},
   "environment_variables": {},
   "parameters": {},
   "version": "2.3.3"
  }
 },
 "nbformat": 4,
 "nbformat_minor": 5
}