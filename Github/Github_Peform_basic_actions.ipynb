{
 "cells": [
  {
   "cell_type": "markdown",
   "id": "aboriginal-overall",
   "metadata": {
    "papermill": {},
    "tags": []
   },
   "source": [
    "# Perform Git basic actions\n",
    "[![download](https://img.shields.io/static/v1?label=&labelColor=000000&message=Open%20in%20Naas&color=success&logo=image%2Fsvg%2Bxml%3Bbase64%2CPD94bWwgdmVyc2lvbj0iMS4wIiBlbmNvZGluZz0iVVRGLTgiPz4KPHN2ZyB3aWR0aD0iMTAyNHB4IiBoZWlnaHQ9IjEwMjRweCIgdmlld0JveD0iMCAwIDEwMjQgMTAyNCIgeG1sbnM9Imh0dHA6Ly93d3cudzMub3JnLzIwMDAvc3ZnIiB4bWxuczp4bGluaz0iaHR0cDovL3d3dy53My5vcmcvMTk5OS94bGluayIgdmVyc2lvbj0iMS4xIj4KIDwhLS0gR2VuZXJhdGVkIGJ5IFBpeGVsbWF0b3IgUHJvIDIuMC41IC0tPgogPGRlZnM%2BCiAgPHRleHQgaWQ9InN0cmluZyIgdHJhbnNmb3JtPSJtYXRyaXgoMS4wIDAuMCAwLjAgMS4wIDIyOC4wIDU0LjUpIiBmb250LWZhbWlseT0iQ29tZm9ydGFhLVJlZ3VsYXIsIENvbWZvcnRhYSIgZm9udC1zaXplPSI4MDAiIHRleHQtZGVjb3JhdGlvbj0ibm9uZSIgZmlsbD0iI2ZmZmZmZiIgeD0iMS4xOTk5OTk5OTk5OTk5ODg2IiB5PSI3MDUuMCI%2BbjwvdGV4dD4KIDwvZGVmcz4KIDx1c2UgaWQ9Im4iIHhsaW5rOmhyZWY9IiNzdHJpbmciLz4KPC9zdmc%2BCg%3D%3D)](https://app.naas.ai/user-redirect/naas/downloader?url=https://raw.githubusercontent.com/jupyter-naas/awesome-notebooks/master/Github/Github_Peform_basic_actions.ipynb)"
   ]
  },
  {
   "cell_type": "markdown",
   "id": "psychological-technical",
   "metadata": {
    "papermill": {},
    "tags": []
   },
   "source": [
    "### Git configuration"
   ]
  },
  {
   "cell_type": "code",
   "execution_count": 7,
   "id": "directed-employee",
   "metadata": {
    "papermill": {},
    "tags": []
   },
   "outputs": [],
   "source": [
    "config = {\n",
    "            'username':'< Your github username >',\n",
    "            'password':'< Your github password >',\n",
    "            'github_url':'< Github url >',\n",
    "            'branch':'< Github branch name >',\n",
    "            'target_folder':'< Folder name >',\n",
    "            'action':'< Github action >',\n",
    "            'commit_message':'< Your message for commit >'\n",
    "         }"
   ]
  },
  {
   "cell_type": "markdown",
   "id": "indirect-closing",
   "metadata": {
    "papermill": {},
    "tags": []
   },
   "source": [
    "### Configuration attribute description\n",
    "- username : Git username\n",
    "- password : Git password\n",
    "- github_url : Git url to clone\n",
    "- branch : Branch name on which perform action\n",
    "- target_folder : Folder name of which clone,commit,push,pull,checkout has to be performed\n",
    "- action : Action you wish to perform **(clone,commit,push,pull,checkout)**\n",
    "- commit_message : Any message you wish to pass while commit"
   ]
  },
  {
   "cell_type": "markdown",
   "id": "unlike-province",
   "metadata": {
    "papermill": {},
    "tags": []
   },
   "source": [
    "### Execute Github connector"
   ]
  },
  {
   "cell_type": "code",
   "execution_count": 8,
   "id": "native-collectible",
   "metadata": {
    "papermill": {},
    "tags": []
   },
   "outputs": [
    {
     "name": "stdout",
     "output_type": "stream",
     "text": [
      "Checkout successful\n",
      "Commit successful!\n",
      "Push successful\n"
     ]
    }
   ],
   "source": [
    "from git_lib import Git\n",
    "# Initialize git\n",
    "git_instance = Git(config)"
   ]
  },
  {
   "cell_type": "code",
   "execution_count": null,
   "id": "sweet-scanning",
   "metadata": {
    "papermill": {},
    "tags": []
   },
   "outputs": [],
   "source": []
  }
 ],
 "metadata": {
  "kernelspec": {
   "display_name": "Python 3",
   "language": "python",
   "name": "python3"
  },
  "language_info": {
   "codemirror_mode": {
    "name": "ipython",
    "version": 3
   },
   "file_extension": ".py",
   "mimetype": "text/x-python",
   "name": "python",
   "nbconvert_exporter": "python",
   "pygments_lexer": "ipython3",
   "version": "3.8.6"
  },
  "papermill": {
   "default_parameters": {},
   "environment_variables": {},
   "parameters": {},
   "version": "2.3.3"
  }
 },
 "nbformat": 4,
 "nbformat_minor": 5
}