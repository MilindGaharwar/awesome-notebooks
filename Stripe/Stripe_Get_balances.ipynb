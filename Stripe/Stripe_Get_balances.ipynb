{
 "cells": [
  {
   "cell_type": "markdown",
   "id": "innocent-beaver",
   "metadata": {
    "papermill": {},
    "tags": []
   },
   "source": [
    "<img width=\"10%\" alt=\"Naas\" src=\"https://landen.imgix.net/jtci2pxwjczr/assets/5ice39g4.png?w=160\"/>\n",
    "\n",
    "# Stripe -  Get balance\n",
    "[![download](https://img.shields.io/static/v1?label=&labelColor=000000&message=Open%20in%20Naas&color=success&logo=image%2Fsvg%2Bxml%3Bbase64%2CPD94bWwgdmVyc2lvbj0iMS4wIiBlbmNvZGluZz0iVVRGLTgiPz4KPHN2ZyB3aWR0aD0iMTAyNHB4IiBoZWlnaHQ9IjEwMjRweCIgdmlld0JveD0iMCAwIDEwMjQgMTAyNCIgeG1sbnM9Imh0dHA6Ly93d3cudzMub3JnLzIwMDAvc3ZnIiB4bWxuczp4bGluaz0iaHR0cDovL3d3dy53My5vcmcvMTk5OS94bGluayIgdmVyc2lvbj0iMS4xIj4KIDwhLS0gR2VuZXJhdGVkIGJ5IFBpeGVsbWF0b3IgUHJvIDIuMC41IC0tPgogPGRlZnM%2BCiAgPHRleHQgaWQ9InN0cmluZyIgdHJhbnNmb3JtPSJtYXRyaXgoMS4wIDAuMCAwLjAgMS4wIDIyOC4wIDU0LjUpIiBmb250LWZhbWlseT0iQ29tZm9ydGFhLVJlZ3VsYXIsIENvbWZvcnRhYSIgZm9udC1zaXplPSI4MDAiIHRleHQtZGVjb3JhdGlvbj0ibm9uZSIgZmlsbD0iI2ZmZmZmZiIgeD0iMS4xOTk5OTk5OTk5OTk5ODg2IiB5PSI3MDUuMCI%2BbjwvdGV4dD4KIDwvZGVmcz4KIDx1c2UgaWQ9Im4iIHhsaW5rOmhyZWY9IiNzdHJpbmciLz4KPC9zdmc%2BCg%3D%3D)](https://app.naas.ai/user-redirect/naas/downloader?url=https://raw.githubusercontent.com/jupyter-naas/awesome-notebooks/master/Stripe/Stripe_Get_balances.ipynb)"
   ]
  },
  {
   "cell_type": "code",
   "execution_count": null,
   "id": "indie-familiar",
   "metadata": {
    "papermill": {},
    "tags": []
   },
   "outputs": [],
   "source": [
    "pip install stripe"
   ]
  },
  {
   "cell_type": "code",
   "execution_count": 7,
   "id": "norman-latitude",
   "metadata": {
    "execution": {
     "iopub.execute_input": "2021-01-28T13:33:58.833266Z",
     "iopub.status.busy": "2021-01-28T13:33:58.833032Z",
     "iopub.status.idle": "2021-01-28T13:33:58.837835Z",
     "shell.execute_reply": "2021-01-28T13:33:58.837288Z",
     "shell.execute_reply.started": "2021-01-28T13:33:58.833241Z"
    },
    "papermill": {},
    "tags": []
   },
   "outputs": [],
   "source": [
    "api_key = \"sk_test_4eC39HqLyjWDarjtT1zdp7dc\""
   ]
  },
  {
   "cell_type": "code",
   "execution_count": 8,
   "id": "different-approval",
   "metadata": {
    "execution": {
     "iopub.execute_input": "2021-01-28T13:33:59.006625Z",
     "iopub.status.busy": "2021-01-28T13:33:59.006273Z",
     "iopub.status.idle": "2021-01-28T13:33:59.009897Z",
     "shell.execute_reply": "2021-01-28T13:33:59.009279Z",
     "shell.execute_reply.started": "2021-01-28T13:33:59.006589Z"
    },
    "papermill": {},
    "tags": []
   },
   "outputs": [],
   "source": [
    "import stripe\n",
    "import pandas as pd\n",
    "\n",
    "stripe.api_key = api_key"
   ]
  },
  {
   "cell_type": "code",
   "execution_count": 11,
   "id": "growing-locator",
   "metadata": {
    "execution": {
     "iopub.execute_input": "2021-01-28T13:34:15.749771Z",
     "iopub.status.busy": "2021-01-28T13:34:15.749545Z",
     "iopub.status.idle": "2021-01-28T13:34:16.080833Z",
     "shell.execute_reply": "2021-01-28T13:34:16.080180Z",
     "shell.execute_reply.started": "2021-01-28T13:34:15.749748Z"
    },
    "papermill": {},
    "tags": []
   },
   "outputs": [
    {
     "data": {
      "text/html": [
       "<div>\n",
       "<style scoped>\n",
       "    .dataframe tbody tr th:only-of-type {\n",
       "        vertical-align: middle;\n",
       "    }\n",
       "\n",
       "    .dataframe tbody tr th {\n",
       "        vertical-align: top;\n",
       "    }\n",
       "\n",
       "    .dataframe thead th {\n",
       "        text-align: right;\n",
       "    }\n",
       "</style>\n",
       "<table border=\"1\" class=\"dataframe\">\n",
       "  <thead>\n",
       "    <tr style=\"text-align: right;\">\n",
       "      <th></th>\n",
       "      <th>id</th>\n",
       "      <th>object</th>\n",
       "      <th>amount</th>\n",
       "      <th>available_on</th>\n",
       "      <th>created</th>\n",
       "      <th>currency</th>\n",
       "      <th>description</th>\n",
       "      <th>exchange_rate</th>\n",
       "      <th>fee</th>\n",
       "      <th>fee_details</th>\n",
       "      <th>net</th>\n",
       "      <th>reporting_category</th>\n",
       "      <th>source</th>\n",
       "      <th>status</th>\n",
       "      <th>type</th>\n",
       "    </tr>\n",
       "  </thead>\n",
       "  <tbody>\n",
       "    <tr>\n",
       "      <th>0</th>\n",
       "      <td>txn_1IEadJ2eZvKYlo2CgzaBBAcE</td>\n",
       "      <td>balance_transaction</td>\n",
       "      <td>15000</td>\n",
       "      <td>1612396800</td>\n",
       "      <td>1611840841</td>\n",
       "      <td>usd</td>\n",
       "      <td>None</td>\n",
       "      <td>NaN</td>\n",
       "      <td>465</td>\n",
       "      <td>[{'amount': 465, 'application': None, 'currenc...</td>\n",
       "      <td>14535</td>\n",
       "      <td>charge</td>\n",
       "      <td>ch_1IEadJ2eZvKYlo2Ci8qk1PSE</td>\n",
       "      <td>pending</td>\n",
       "      <td>charge</td>\n",
       "    </tr>\n",
       "    <tr>\n",
       "      <th>1</th>\n",
       "      <td>txn_1IEadC2eZvKYlo2CpAcuJ5iM</td>\n",
       "      <td>balance_transaction</td>\n",
       "      <td>5500</td>\n",
       "      <td>1612396800</td>\n",
       "      <td>1611840834</td>\n",
       "      <td>usd</td>\n",
       "      <td>None</td>\n",
       "      <td>NaN</td>\n",
       "      <td>190</td>\n",
       "      <td>[{'amount': 190, 'application': None, 'currenc...</td>\n",
       "      <td>5310</td>\n",
       "      <td>charge</td>\n",
       "      <td>ch_1IEadC2eZvKYlo2CqVVFLPWj</td>\n",
       "      <td>pending</td>\n",
       "      <td>charge</td>\n",
       "    </tr>\n",
       "    <tr>\n",
       "      <th>2</th>\n",
       "      <td>txn_1IEac22eZvKYlo2CfKZyjyks</td>\n",
       "      <td>balance_transaction</td>\n",
       "      <td>110567</td>\n",
       "      <td>1612396800</td>\n",
       "      <td>1611840761</td>\n",
       "      <td>usd</td>\n",
       "      <td>None</td>\n",
       "      <td>0.769967</td>\n",
       "      <td>3236</td>\n",
       "      <td>[{'amount': 3236, 'application': None, 'curren...</td>\n",
       "      <td>107331</td>\n",
       "      <td>charge</td>\n",
       "      <td>ch_1IEac12eZvKYlo2CpzBmHh2j</td>\n",
       "      <td>pending</td>\n",
       "      <td>charge</td>\n",
       "    </tr>\n",
       "    <tr>\n",
       "      <th>3</th>\n",
       "      <td>txn_1IEabk2eZvKYlo2CrHNbQm9h</td>\n",
       "      <td>balance_transaction</td>\n",
       "      <td>1000</td>\n",
       "      <td>1612396800</td>\n",
       "      <td>1611840744</td>\n",
       "      <td>usd</td>\n",
       "      <td>Created by stripe.com/docs demo</td>\n",
       "      <td>NaN</td>\n",
       "      <td>59</td>\n",
       "      <td>[{'amount': 59, 'application': None, 'currency...</td>\n",
       "      <td>941</td>\n",
       "      <td>charge</td>\n",
       "      <td>ch_1IEabk2eZvKYlo2Cii0jbVpR</td>\n",
       "      <td>pending</td>\n",
       "      <td>charge</td>\n",
       "    </tr>\n",
       "    <tr>\n",
       "      <th>4</th>\n",
       "      <td>txn_1IEabW2eZvKYlo2CBPvVlB5H</td>\n",
       "      <td>balance_transaction</td>\n",
       "      <td>2048</td>\n",
       "      <td>1612396800</td>\n",
       "      <td>1611840729</td>\n",
       "      <td>usd</td>\n",
       "      <td>None</td>\n",
       "      <td>NaN</td>\n",
       "      <td>89</td>\n",
       "      <td>[{'amount': 89, 'application': None, 'currency...</td>\n",
       "      <td>1959</td>\n",
       "      <td>charge</td>\n",
       "      <td>ch_1IEabV2eZvKYlo2CeekvOyuN</td>\n",
       "      <td>pending</td>\n",
       "      <td>charge</td>\n",
       "    </tr>\n",
       "  </tbody>\n",
       "</table>\n",
       "</div>"
      ],
      "text/plain": [
       "                             id               object  amount  available_on  \\\n",
       "0  txn_1IEadJ2eZvKYlo2CgzaBBAcE  balance_transaction   15000    1612396800   \n",
       "1  txn_1IEadC2eZvKYlo2CpAcuJ5iM  balance_transaction    5500    1612396800   \n",
       "2  txn_1IEac22eZvKYlo2CfKZyjyks  balance_transaction  110567    1612396800   \n",
       "3  txn_1IEabk2eZvKYlo2CrHNbQm9h  balance_transaction    1000    1612396800   \n",
       "4  txn_1IEabW2eZvKYlo2CBPvVlB5H  balance_transaction    2048    1612396800   \n",
       "\n",
       "      created currency                      description  exchange_rate   fee  \\\n",
       "0  1611840841      usd                             None            NaN   465   \n",
       "1  1611840834      usd                             None            NaN   190   \n",
       "2  1611840761      usd                             None       0.769967  3236   \n",
       "3  1611840744      usd  Created by stripe.com/docs demo            NaN    59   \n",
       "4  1611840729      usd                             None            NaN    89   \n",
       "\n",
       "                                         fee_details     net  \\\n",
       "0  [{'amount': 465, 'application': None, 'currenc...   14535   \n",
       "1  [{'amount': 190, 'application': None, 'currenc...    5310   \n",
       "2  [{'amount': 3236, 'application': None, 'curren...  107331   \n",
       "3  [{'amount': 59, 'application': None, 'currency...     941   \n",
       "4  [{'amount': 89, 'application': None, 'currency...    1959   \n",
       "\n",
       "  reporting_category                       source   status    type  \n",
       "0             charge  ch_1IEadJ2eZvKYlo2Ci8qk1PSE  pending  charge  \n",
       "1             charge  ch_1IEadC2eZvKYlo2CqVVFLPWj  pending  charge  \n",
       "2             charge  ch_1IEac12eZvKYlo2CpzBmHh2j  pending  charge  \n",
       "3             charge  ch_1IEabk2eZvKYlo2Cii0jbVpR  pending  charge  \n",
       "4             charge  ch_1IEabV2eZvKYlo2CeekvOyuN  pending  charge  "
      ]
     },
     "execution_count": 11,
     "metadata": {},
     "output_type": "execute_result"
    }
   ],
   "source": [
    "balance = stripe.BalanceTransaction.list(limit=30)\n",
    "pd.DataFrame(balance.get('data'))"
   ]
  }
 ],
 "metadata": {
  "kernelspec": {
   "display_name": "Python 3",
   "language": "python",
   "name": "python3"
  },
  "language_info": {
   "codemirror_mode": {
    "name": "ipython",
    "version": 3
   },
   "file_extension": ".py",
   "mimetype": "text/x-python",
   "name": "python",
   "nbconvert_exporter": "python",
   "pygments_lexer": "ipython3",
   "version": "3.8.6"
  },
  "papermill": {
   "default_parameters": {},
   "environment_variables": {},
   "parameters": {},
   "version": "2.3.3"
  }
 },
 "nbformat": 4,
 "nbformat_minor": 5
}