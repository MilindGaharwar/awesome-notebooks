{
 "cells": [
  {
   "cell_type": "markdown",
   "id": "intermediate-retro",
   "metadata": {
    "papermill": {},
    "tags": []
   },
   "source": [
    "<img width=\"10%\" alt=\"Naas\" src=\"https://landen.imgix.net/jtci2pxwjczr/assets/5ice39g4.png?w=160\"/>\n",
    "\n",
    "# Stripe - Get charges\n",
    "[![download](https://img.shields.io/static/v1?label=Naas&labelColor=000000&message=Download&color=success&style=for-the-badge&logo=image%2Fsvg%2Bxml%3Bbase64%2CPD94bWwgdmVyc2lvbj0iMS4wIiBlbmNvZGluZz0iVVRGLTgiPz4KPHN2ZyB3aWR0aD0iMTAyNHB4IiBoZWlnaHQ9IjEwMjRweCIgdmlld0JveD0iMCAwIDEwMjQgMTAyNCIgeG1sbnM9Imh0dHA6Ly93d3cudzMub3JnLzIwMDAvc3ZnIiB4bWxuczp4bGluaz0iaHR0cDovL3d3dy53My5vcmcvMTk5OS94bGluayIgdmVyc2lvbj0iMS4xIj4KIDwhLS0gR2VuZXJhdGVkIGJ5IFBpeGVsbWF0b3IgUHJvIDIuMC41IC0tPgogPGRlZnM%2BCiAgPHRleHQgaWQ9InN0cmluZyIgdHJhbnNmb3JtPSJtYXRyaXgoMS4wIDAuMCAwLjAgMS4wIDIyOC4wIDU0LjUpIiBmb250LWZhbWlseT0iQ29tZm9ydGFhLVJlZ3VsYXIsIENvbWZvcnRhYSIgZm9udC1zaXplPSI4MDAiIHRleHQtZGVjb3JhdGlvbj0ibm9uZSIgZmlsbD0iI2ZmZmZmZiIgeD0iMS4xOTk5OTk5OTk5OTk5ODg2IiB5PSI3MDUuMCI%2BbjwvdGV4dD4KIDwvZGVmcz4KIDx1c2UgaWQ9Im4iIHhsaW5rOmhyZWY9IiNzdHJpbmciLz4KPC9zdmc%2BCg%3D%3D)](https://app.naas.ai/user-redirect/naas/downloader?url=https://raw.githubusercontent.com/jupyter-naas/awesome-notebooks/master/Stripe/Stripe_Get_charges.ipynb)"
   ]
  },
  {
   "cell_type": "code",
   "execution_count": null,
   "id": "synthetic-feeding",
   "metadata": {
    "papermill": {},
    "tags": []
   },
   "outputs": [],
   "source": [
    "pip install stripe"
   ]
  },
  {
   "cell_type": "code",
   "execution_count": 7,
   "id": "distant-turkey",
   "metadata": {
    "execution": {
     "iopub.execute_input": "2021-01-28T13:33:58.833266Z",
     "iopub.status.busy": "2021-01-28T13:33:58.833032Z",
     "iopub.status.idle": "2021-01-28T13:33:58.837835Z",
     "shell.execute_reply": "2021-01-28T13:33:58.837288Z",
     "shell.execute_reply.started": "2021-01-28T13:33:58.833241Z"
    },
    "papermill": {},
    "tags": []
   },
   "outputs": [],
   "source": [
    "api_key = \"sk_test_4eC39HqLyjWDarjtT1zdp7dc\""
   ]
  },
  {
   "cell_type": "code",
   "execution_count": 8,
   "id": "union-lithuania",
   "metadata": {
    "execution": {
     "iopub.execute_input": "2021-01-28T13:33:59.006625Z",
     "iopub.status.busy": "2021-01-28T13:33:59.006273Z",
     "iopub.status.idle": "2021-01-28T13:33:59.009897Z",
     "shell.execute_reply": "2021-01-28T13:33:59.009279Z",
     "shell.execute_reply.started": "2021-01-28T13:33:59.006589Z"
    },
    "papermill": {},
    "tags": []
   },
   "outputs": [],
   "source": [
    "import stripe\n",
    "import pandas as pd\n",
    "\n",
    "stripe.api_key = api_key"
   ]
  },
  {
   "cell_type": "code",
   "execution_count": 12,
   "id": "looking-processor",
   "metadata": {
    "execution": {
     "iopub.execute_input": "2021-01-28T13:34:34.613466Z",
     "iopub.status.busy": "2021-01-28T13:34:34.613230Z",
     "iopub.status.idle": "2021-01-28T13:34:35.020580Z",
     "shell.execute_reply": "2021-01-28T13:34:35.019895Z",
     "shell.execute_reply.started": "2021-01-28T13:34:34.613439Z"
    },
    "papermill": {},
    "tags": []
   },
   "outputs": [
    {
     "data": {
      "text/html": [
       "<div>\n",
       "<style scoped>\n",
       "    .dataframe tbody tr th:only-of-type {\n",
       "        vertical-align: middle;\n",
       "    }\n",
       "\n",
       "    .dataframe tbody tr th {\n",
       "        vertical-align: top;\n",
       "    }\n",
       "\n",
       "    .dataframe thead th {\n",
       "        text-align: right;\n",
       "    }\n",
       "</style>\n",
       "<table border=\"1\" class=\"dataframe\">\n",
       "  <thead>\n",
       "    <tr style=\"text-align: right;\">\n",
       "      <th></th>\n",
       "      <th>id</th>\n",
       "      <th>object</th>\n",
       "      <th>amount</th>\n",
       "      <th>amount_captured</th>\n",
       "      <th>amount_refunded</th>\n",
       "      <th>application</th>\n",
       "      <th>application_fee</th>\n",
       "      <th>application_fee_amount</th>\n",
       "      <th>balance_transaction</th>\n",
       "      <th>billing_details</th>\n",
       "      <th>...</th>\n",
       "      <th>refunds</th>\n",
       "      <th>review</th>\n",
       "      <th>shipping</th>\n",
       "      <th>source</th>\n",
       "      <th>source_transfer</th>\n",
       "      <th>statement_descriptor</th>\n",
       "      <th>statement_descriptor_suffix</th>\n",
       "      <th>status</th>\n",
       "      <th>transfer_data</th>\n",
       "      <th>transfer_group</th>\n",
       "    </tr>\n",
       "  </thead>\n",
       "  <tbody>\n",
       "    <tr>\n",
       "      <th>0</th>\n",
       "      <td>ch_1IEadm2eZvKYlo2Cr0xgPFCz</td>\n",
       "      <td>charge</td>\n",
       "      <td>500</td>\n",
       "      <td>0</td>\n",
       "      <td>0</td>\n",
       "      <td>None</td>\n",
       "      <td>None</td>\n",
       "      <td>None</td>\n",
       "      <td>None</td>\n",
       "      <td>{'address': {'city': None, 'country': None, 'l...</td>\n",
       "      <td>...</td>\n",
       "      <td>{'object': 'list', 'data': [], 'has_more': Fal...</td>\n",
       "      <td>None</td>\n",
       "      <td>None</td>\n",
       "      <td>{'id': 'card_1BcuHS2eZvKYlo2ChQDPSJ8i', 'objec...</td>\n",
       "      <td>None</td>\n",
       "      <td>None</td>\n",
       "      <td>None</td>\n",
       "      <td>failed</td>\n",
       "      <td>None</td>\n",
       "      <td>None</td>\n",
       "    </tr>\n",
       "    <tr>\n",
       "      <th>1</th>\n",
       "      <td>ch_1IEadi2eZvKYlo2Cys3obYaq</td>\n",
       "      <td>charge</td>\n",
       "      <td>100</td>\n",
       "      <td>0</td>\n",
       "      <td>0</td>\n",
       "      <td>None</td>\n",
       "      <td>None</td>\n",
       "      <td>None</td>\n",
       "      <td>None</td>\n",
       "      <td>{'address': {'city': None, 'country': None, 'l...</td>\n",
       "      <td>...</td>\n",
       "      <td>{'object': 'list', 'data': [], 'has_more': Fal...</td>\n",
       "      <td>None</td>\n",
       "      <td>None</td>\n",
       "      <td>{'id': 'card_19yUNL2eZvKYlo2CNGsN6EWH', 'objec...</td>\n",
       "      <td>None</td>\n",
       "      <td>None</td>\n",
       "      <td>None</td>\n",
       "      <td>succeeded</td>\n",
       "      <td>None</td>\n",
       "      <td>None</td>\n",
       "    </tr>\n",
       "    <tr>\n",
       "      <th>2</th>\n",
       "      <td>ch_1IEada2eZvKYlo2CxdXvylzI</td>\n",
       "      <td>charge</td>\n",
       "      <td>100</td>\n",
       "      <td>0</td>\n",
       "      <td>0</td>\n",
       "      <td>None</td>\n",
       "      <td>None</td>\n",
       "      <td>None</td>\n",
       "      <td>None</td>\n",
       "      <td>{'address': {'city': None, 'country': None, 'l...</td>\n",
       "      <td>...</td>\n",
       "      <td>{'object': 'list', 'data': [], 'has_more': Fal...</td>\n",
       "      <td>None</td>\n",
       "      <td>None</td>\n",
       "      <td>{'id': 'card_19yUNL2eZvKYlo2CNGsN6EWH', 'objec...</td>\n",
       "      <td>None</td>\n",
       "      <td>None</td>\n",
       "      <td>None</td>\n",
       "      <td>succeeded</td>\n",
       "      <td>None</td>\n",
       "      <td>None</td>\n",
       "    </tr>\n",
       "  </tbody>\n",
       "</table>\n",
       "<p>3 rows × 46 columns</p>\n",
       "</div>"
      ],
      "text/plain": [
       "                            id  object  amount  amount_captured  \\\n",
       "0  ch_1IEadm2eZvKYlo2Cr0xgPFCz  charge     500                0   \n",
       "1  ch_1IEadi2eZvKYlo2Cys3obYaq  charge     100                0   \n",
       "2  ch_1IEada2eZvKYlo2CxdXvylzI  charge     100                0   \n",
       "\n",
       "   amount_refunded application application_fee application_fee_amount  \\\n",
       "0                0        None            None                   None   \n",
       "1                0        None            None                   None   \n",
       "2                0        None            None                   None   \n",
       "\n",
       "  balance_transaction                                    billing_details  ...  \\\n",
       "0                None  {'address': {'city': None, 'country': None, 'l...  ...   \n",
       "1                None  {'address': {'city': None, 'country': None, 'l...  ...   \n",
       "2                None  {'address': {'city': None, 'country': None, 'l...  ...   \n",
       "\n",
       "                                             refunds  review  shipping  \\\n",
       "0  {'object': 'list', 'data': [], 'has_more': Fal...    None      None   \n",
       "1  {'object': 'list', 'data': [], 'has_more': Fal...    None      None   \n",
       "2  {'object': 'list', 'data': [], 'has_more': Fal...    None      None   \n",
       "\n",
       "                                              source source_transfer  \\\n",
       "0  {'id': 'card_1BcuHS2eZvKYlo2ChQDPSJ8i', 'objec...            None   \n",
       "1  {'id': 'card_19yUNL2eZvKYlo2CNGsN6EWH', 'objec...            None   \n",
       "2  {'id': 'card_19yUNL2eZvKYlo2CNGsN6EWH', 'objec...            None   \n",
       "\n",
       "  statement_descriptor statement_descriptor_suffix     status  transfer_data  \\\n",
       "0                 None                        None     failed           None   \n",
       "1                 None                        None  succeeded           None   \n",
       "2                 None                        None  succeeded           None   \n",
       "\n",
       "  transfer_group  \n",
       "0           None  \n",
       "1           None  \n",
       "2           None  \n",
       "\n",
       "[3 rows x 46 columns]"
      ]
     },
     "execution_count": 12,
     "metadata": {},
     "output_type": "execute_result"
    }
   ],
   "source": [
    "charges = stripe.Charge.list(limit=30)\n",
    "pd.DataFrame(charges.get('data'))"
   ]
  }
 ],
 "metadata": {
  "kernelspec": {
   "display_name": "Python 3",
   "language": "python",
   "name": "python3"
  },
  "language_info": {
   "codemirror_mode": {
    "name": "ipython",
    "version": 3
   },
   "file_extension": ".py",
   "mimetype": "text/x-python",
   "name": "python",
   "nbconvert_exporter": "python",
   "pygments_lexer": "ipython3",
   "version": "3.8.6"
  },
  "papermill": {
   "default_parameters": {},
   "environment_variables": {},
   "parameters": {},
   "version": "2.3.3"
  }
 },
 "nbformat": 4,
 "nbformat_minor": 5
}