{
 "cells": [
  {
   "cell_type": "markdown",
   "id": "animal-positive",
   "metadata": {
    "papermill": {},
    "tags": []
   },
   "source": [
    "<img width=\"10%\" alt=\"Naas\" src=\"https://landen.imgix.net/jtci2pxwjczr/assets/5ice39g4.png?w=160\"/>"
   ]
  },
  {
   "cell_type": "markdown",
   "id": "saving-summit",
   "metadata": {
    "papermill": {},
    "tags": []
   },
   "source": [
    "# Gsheets - Send emails from sheet\n",
    "[![download](https://img.shields.io/static/v1?label=&labelColor=000000&message=Open%20in%20Naas&color=success&logo=image%2Fsvg%2Bxml%3Bbase64%2CPD94bWwgdmVyc2lvbj0iMS4wIiBlbmNvZGluZz0iVVRGLTgiPz4KPHN2ZyB3aWR0aD0iMTAyNHB4IiBoZWlnaHQ9IjEwMjRweCIgdmlld0JveD0iMCAwIDEwMjQgMTAyNCIgeG1sbnM9Imh0dHA6Ly93d3cudzMub3JnLzIwMDAvc3ZnIiB4bWxuczp4bGluaz0iaHR0cDovL3d3dy53My5vcmcvMTk5OS94bGluayIgdmVyc2lvbj0iMS4xIj4KIDwhLS0gR2VuZXJhdGVkIGJ5IFBpeGVsbWF0b3IgUHJvIDIuMC41IC0tPgogPGRlZnM%2BCiAgPHRleHQgaWQ9InN0cmluZyIgdHJhbnNmb3JtPSJtYXRyaXgoMS4wIDAuMCAwLjAgMS4wIDIyOC4wIDU0LjUpIiBmb250LWZhbWlseT0iQ29tZm9ydGFhLVJlZ3VsYXIsIENvbWZvcnRhYSIgZm9udC1zaXplPSI4MDAiIHRleHQtZGVjb3JhdGlvbj0ibm9uZSIgZmlsbD0iI2ZmZmZmZiIgeD0iMS4xOTk5OTk5OTk5OTk5ODg2IiB5PSI3MDUuMCI%2BbjwvdGV4dD4KIDwvZGVmcz4KIDx1c2UgaWQ9Im4iIHhsaW5rOmhyZWY9IiNzdHJpbmciLz4KPC9zdmc%2BCg%3D%3D)](https://app.naas.ai/user-redirect/naas/downloader?url=https://raw.githubusercontent.com/jupyter-naas/awesome-notebooks/master/Google%20Sheets/Gsheets_Send_emails_from_sheet.ipynb)"
   ]
  },
  {
   "cell_type": "code",
   "execution_count": 5,
   "id": "baking-company",
   "metadata": {
    "papermill": {},
    "tags": []
   },
   "outputs": [],
   "source": [
    "# Import module\n",
    "\n",
    "from naas_drivers import *"
   ]
  },
  {
   "cell_type": "markdown",
   "id": "comparative-fruit",
   "metadata": {
    "papermill": {},
    "tags": []
   },
   "source": [
    "## Connect to your gmail account"
   ]
  },
  {
   "cell_type": "code",
   "execution_count": null,
   "id": "unknown-experiment",
   "metadata": {
    "papermill": {},
    "tags": []
   },
   "outputs": [],
   "source": [
    "username = \"USERNAME\"\n",
    "password = \"PASSWORD\"\n",
    "email_from = \"***@cashstory.com\",\n",
    "smtp_server = \"smtp.gmail.com\",\n",
    "smtp_port = 465,\n",
    "smtp_type = \"SSL\",\n",
    "\n",
    "gmail = emails.connect(username,\n",
    "                       password,\n",
    "                       email_from,\n",
    "                       smtp_server,\n",
    "                       smtp_port,\n",
    "                       smtp_type)"
   ]
  },
  {
   "cell_type": "markdown",
   "id": "excellent-nutrition",
   "metadata": {
    "papermill": {},
    "tags": []
   },
   "source": [
    "## Get email list from Gsheet"
   ]
  },
  {
   "cell_type": "code",
   "execution_count": 3,
   "id": "worse-wound",
   "metadata": {
    "papermill": {},
    "tags": []
   },
   "outputs": [
    {
     "data": {
      "text/html": [
       "<div>\n",
       "<style scoped>\n",
       "    .dataframe tbody tr th:only-of-type {\n",
       "        vertical-align: middle;\n",
       "    }\n",
       "\n",
       "    .dataframe tbody tr th {\n",
       "        vertical-align: top;\n",
       "    }\n",
       "\n",
       "    .dataframe thead th {\n",
       "        text-align: right;\n",
       "    }\n",
       "</style>\n",
       "<table border=\"1\" class=\"dataframe\">\n",
       "  <thead>\n",
       "    <tr style=\"text-align: right;\">\n",
       "      <th></th>\n",
       "      <th>EMAIL</th>\n",
       "      <th>FIRST_NAME</th>\n",
       "      <th>LAST_NAME</th>\n",
       "      <th>PHONE_NUMBER</th>\n",
       "    </tr>\n",
       "  </thead>\n",
       "  <tbody>\n",
       "    <tr>\n",
       "      <th>0</th>\n",
       "      <td>jeremy@naas.ai</td>\n",
       "      <td>Jeremy</td>\n",
       "      <td>Naas</td>\n",
       "      <td>+33600000000</td>\n",
       "    </tr>\n",
       "    <tr>\n",
       "      <th>1</th>\n",
       "      <td>jeremy.ravenel@cashstory.com</td>\n",
       "      <td>Jeremy</td>\n",
       "      <td>Ravenel</td>\n",
       "      <td>+33600000000</td>\n",
       "    </tr>\n",
       "    <tr>\n",
       "      <th>2</th>\n",
       "      <td>florent.ravenel@cashstory.com</td>\n",
       "      <td>Florent</td>\n",
       "      <td>Ravenel</td>\n",
       "      <td>+33600000000</td>\n",
       "    </tr>\n",
       "  </tbody>\n",
       "</table>\n",
       "</div>"
      ],
      "text/plain": [
       "                           EMAIL FIRST_NAME LAST_NAME  PHONE_NUMBER\n",
       "0                 jeremy@naas.ai     Jeremy      Naas  +33600000000\n",
       "1   jeremy.ravenel@cashstory.com     Jeremy   Ravenel  +33600000000\n",
       "2  florent.ravenel@cashstory.com    Florent   Ravenel  +33600000000"
      ]
     },
     "execution_count": 3,
     "metadata": {},
     "output_type": "execute_result"
    }
   ],
   "source": [
    "spreadsheet_id = \"1s-TQZrevbmveFKlx2H49fgvr_nZPEY_ffoi0iWal**E\"\n",
    "sheet_name = \"********\"\n",
    "\n",
    "df = gsheet.connect(spreadsheet_id).get(sheet_name)\n",
    "df"
   ]
  },
  {
   "cell_type": "code",
   "execution_count": 11,
   "id": "incident-nickname",
   "metadata": {
    "papermill": {},
    "tags": []
   },
   "outputs": [
    {
     "name": "stdout",
     "output_type": "stream",
     "text": [
      "['jeremy@naas.ai' 'jeremy.ravenel@cashstory.com'\n",
      " 'florent.ravenel@cashstory.com']\n"
     ]
    }
   ],
   "source": [
    "emails = df['EMAIL'].drop_duplicates().values\n",
    "print(emails)"
   ]
  },
  {
   "cell_type": "markdown",
   "id": "numerical-break",
   "metadata": {
    "papermill": {},
    "tags": []
   },
   "source": [
    "## Send emails batchs"
   ]
  },
  {
   "cell_type": "code",
   "execution_count": 12,
   "id": "recreational-corpus",
   "metadata": {
    "papermill": {},
    "tags": []
   },
   "outputs": [
    {
     "name": "stdout",
     "output_type": "stream",
     "text": [
      "jeremy@naas.ai\n",
      "jeremy.ravenel@cashstory.com\n",
      "florent.ravenel@cashstory.com\n"
     ]
    }
   ],
   "source": [
    "subject = \"The tesla action is going up\"\n",
    "content = \"check in the link the chart data maide from fresh dataset : [LINK]\"\n",
    "\n",
    "for email in emails:\n",
    "    print(email)\n",
    "#     gmail.send(email_to=email, subject=subject, html=content)"
   ]
  }
 ],
 "metadata": {
  "kernelspec": {
   "display_name": "Python 3",
   "language": "python",
   "name": "python3"
  },
  "language_info": {
   "codemirror_mode": {
    "name": "ipython",
    "version": 3
   },
   "file_extension": ".py",
   "mimetype": "text/x-python",
   "name": "python",
   "nbconvert_exporter": "python",
   "pygments_lexer": "ipython3",
   "version": "3.8.6"
  },
  "papermill": {
   "default_parameters": {},
   "environment_variables": {},
   "parameters": {},
   "version": "2.3.3"
  }
 },
 "nbformat": 4,
 "nbformat_minor": 5
}