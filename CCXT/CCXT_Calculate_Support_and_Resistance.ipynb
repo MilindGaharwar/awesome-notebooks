{
 "cells": [
  {
   "cell_type": "markdown",
   "id": "thermal-speed",
   "metadata": {
    "papermill": {},
    "tags": []
   },
   "source": [
    "<img width=\"10%\" alt=\"Naas\" src=\"https://landen.imgix.net/jtci2pxwjczr/assets/5ice39g4.png?w=160\"/>\n",
    "\n",
    "# Cryto - Bitcoin - Calculate Support and resistance \n",
    "[![download](https://img.shields.io/static/v1?label=&labelColor=000000&message=Open%20in%20Naas&color=success&logo=image%2Fsvg%2Bxml%3Bbase64%2CPD94bWwgdmVyc2lvbj0iMS4wIiBlbmNvZGluZz0iVVRGLTgiPz4KPHN2ZyB3aWR0aD0iMTAyNHB4IiBoZWlnaHQ9IjEwMjRweCIgdmlld0JveD0iMCAwIDEwMjQgMTAyNCIgeG1sbnM9Imh0dHA6Ly93d3cudzMub3JnLzIwMDAvc3ZnIiB4bWxuczp4bGluaz0iaHR0cDovL3d3dy53My5vcmcvMTk5OS94bGluayIgdmVyc2lvbj0iMS4xIj4KIDwhLS0gR2VuZXJhdGVkIGJ5IFBpeGVsbWF0b3IgUHJvIDIuMC41IC0tPgogPGRlZnM%2BCiAgPHRleHQgaWQ9InN0cmluZyIgdHJhbnNmb3JtPSJtYXRyaXgoMS4wIDAuMCAwLjAgMS4wIDIyOC4wIDU0LjUpIiBmb250LWZhbWlseT0iQ29tZm9ydGFhLVJlZ3VsYXIsIENvbWZvcnRhYSIgZm9udC1zaXplPSI4MDAiIHRleHQtZGVjb3JhdGlvbj0ibm9uZSIgZmlsbD0iI2ZmZmZmZiIgeD0iMS4xOTk5OTk5OTk5OTk5ODg2IiB5PSI3MDUuMCI%2BbjwvdGV4dD4KIDwvZGVmcz4KIDx1c2UgaWQ9Im4iIHhsaW5rOmhyZWY9IiNzdHJpbmciLz4KPC9zdmc%2BCg%3D%3D)](https://app.naas.ai/user-redirect/naas/downloader?url=https://raw.githubusercontent.com/jupyter-naas/awesome-notebooks/master/CCXT/CCXT_Calculate_Support_and_Resistance.ipynb)"
   ]
  },
  {
   "cell_type": "markdown",
   "id": "liberal-bosnia",
   "metadata": {
    "papermill": {},
    "tags": []
   },
   "source": [
    "Prerequisite : get binance API Key"
   ]
  },
  {
   "cell_type": "code",
   "execution_count": null,
   "id": "sustainable-xerox",
   "metadata": {
    "papermill": {},
    "tags": []
   },
   "outputs": [],
   "source": [
    "pip install trendln matplotlib==3.1.3 --user"
   ]
  },
  {
   "cell_type": "code",
   "execution_count": 1,
   "id": "fifty-tackle",
   "metadata": {
    "execution": {
     "iopub.execute_input": "2021-01-29T11:26:02.833155Z",
     "iopub.status.busy": "2021-01-29T11:26:02.832871Z",
     "iopub.status.idle": "2021-01-29T11:26:04.852307Z",
     "shell.execute_reply": "2021-01-29T11:26:04.851658Z",
     "shell.execute_reply.started": "2021-01-29T11:26:02.833084Z"
    },
    "papermill": {},
    "tags": []
   },
   "outputs": [],
   "source": [
    "import naas\n",
    "import ccxt\n",
    "import pandas as pd\n",
    "from datetime import datetime\n",
    "import naas_drivers\n",
    "import trendln"
   ]
  },
  {
   "cell_type": "code",
   "execution_count": 2,
   "id": "sublime-policy",
   "metadata": {
    "execution": {
     "iopub.execute_input": "2021-01-29T11:26:04.853895Z",
     "iopub.status.busy": "2021-01-29T11:26:04.853634Z",
     "iopub.status.idle": "2021-01-29T11:26:05.494624Z",
     "shell.execute_reply": "2021-01-29T11:26:05.493214Z",
     "shell.execute_reply.started": "2021-01-29T11:26:04.853862Z"
    },
    "papermill": {},
    "tags": []
   },
   "outputs": [],
   "source": [
    "binance = ccxt.binance({\n",
    "    'apiKey': naas.secret.get('binance_api'),\n",
    "    'secret': naas.secret.get('binance_secret')\n",
    "}) \n",
    "data = binance.fetch_ohlcv(symbol = 'BTC/USDT', limit = 180, timeframe = '4h')"
   ]
  },
  {
   "cell_type": "code",
   "execution_count": 3,
   "id": "beautiful-banner",
   "metadata": {
    "execution": {
     "iopub.execute_input": "2021-01-29T11:26:05.497791Z",
     "iopub.status.busy": "2021-01-29T11:26:05.497612Z",
     "iopub.status.idle": "2021-01-29T11:26:05.535225Z",
     "shell.execute_reply": "2021-01-29T11:26:05.534726Z",
     "shell.execute_reply.started": "2021-01-29T11:26:05.497772Z"
    },
    "papermill": {},
    "tags": []
   },
   "outputs": [
    {
     "data": {
      "text/html": [
       "<div>\n",
       "<style scoped>\n",
       "    .dataframe tbody tr th:only-of-type {\n",
       "        vertical-align: middle;\n",
       "    }\n",
       "\n",
       "    .dataframe tbody tr th {\n",
       "        vertical-align: top;\n",
       "    }\n",
       "\n",
       "    .dataframe thead th {\n",
       "        text-align: right;\n",
       "    }\n",
       "</style>\n",
       "<table border=\"1\" class=\"dataframe\">\n",
       "  <thead>\n",
       "    <tr style=\"text-align: right;\">\n",
       "      <th></th>\n",
       "      <th>Date</th>\n",
       "      <th>Open</th>\n",
       "      <th>High</th>\n",
       "      <th>Low</th>\n",
       "      <th>Close</th>\n",
       "      <th>Volume</th>\n",
       "    </tr>\n",
       "  </thead>\n",
       "  <tbody>\n",
       "    <tr>\n",
       "      <th>0</th>\n",
       "      <td>2020-12-30 13:00:00</td>\n",
       "      <td>27836.95</td>\n",
       "      <td>28291.82</td>\n",
       "      <td>27577.00</td>\n",
       "      <td>28153.76</td>\n",
       "      <td>11625.820706</td>\n",
       "    </tr>\n",
       "    <tr>\n",
       "      <th>1</th>\n",
       "      <td>2020-12-30 17:00:00</td>\n",
       "      <td>28153.75</td>\n",
       "      <td>28900.05</td>\n",
       "      <td>27887.00</td>\n",
       "      <td>28776.46</td>\n",
       "      <td>17159.483105</td>\n",
       "    </tr>\n",
       "    <tr>\n",
       "      <th>2</th>\n",
       "      <td>2020-12-30 21:00:00</td>\n",
       "      <td>28776.45</td>\n",
       "      <td>28996.00</td>\n",
       "      <td>28534.70</td>\n",
       "      <td>28875.54</td>\n",
       "      <td>11921.265433</td>\n",
       "    </tr>\n",
       "    <tr>\n",
       "      <th>3</th>\n",
       "      <td>2020-12-31 01:00:00</td>\n",
       "      <td>28875.55</td>\n",
       "      <td>29300.00</td>\n",
       "      <td>28120.67</td>\n",
       "      <td>29024.00</td>\n",
       "      <td>17005.770282</td>\n",
       "    </tr>\n",
       "    <tr>\n",
       "      <th>4</th>\n",
       "      <td>2020-12-31 05:00:00</td>\n",
       "      <td>29024.01</td>\n",
       "      <td>29285.00</td>\n",
       "      <td>28738.10</td>\n",
       "      <td>29155.25</td>\n",
       "      <td>10242.046375</td>\n",
       "    </tr>\n",
       "    <tr>\n",
       "      <th>...</th>\n",
       "      <td>...</td>\n",
       "      <td>...</td>\n",
       "      <td>...</td>\n",
       "      <td>...</td>\n",
       "      <td>...</td>\n",
       "      <td>...</td>\n",
       "    </tr>\n",
       "    <tr>\n",
       "      <th>175</th>\n",
       "      <td>2021-01-28 17:00:00</td>\n",
       "      <td>31926.49</td>\n",
       "      <td>32747.78</td>\n",
       "      <td>31650.00</td>\n",
       "      <td>32564.71</td>\n",
       "      <td>16889.869122</td>\n",
       "    </tr>\n",
       "    <tr>\n",
       "      <th>176</th>\n",
       "      <td>2021-01-28 21:00:00</td>\n",
       "      <td>32564.71</td>\n",
       "      <td>33783.98</td>\n",
       "      <td>32392.34</td>\n",
       "      <td>33364.86</td>\n",
       "      <td>18820.098006</td>\n",
       "    </tr>\n",
       "    <tr>\n",
       "      <th>177</th>\n",
       "      <td>2021-01-29 01:00:00</td>\n",
       "      <td>33368.18</td>\n",
       "      <td>34310.00</td>\n",
       "      <td>33330.93</td>\n",
       "      <td>33733.58</td>\n",
       "      <td>26746.707141</td>\n",
       "    </tr>\n",
       "    <tr>\n",
       "      <th>178</th>\n",
       "      <td>2021-01-29 05:00:00</td>\n",
       "      <td>33728.99</td>\n",
       "      <td>33934.48</td>\n",
       "      <td>31915.40</td>\n",
       "      <td>32266.35</td>\n",
       "      <td>28364.158989</td>\n",
       "    </tr>\n",
       "    <tr>\n",
       "      <th>179</th>\n",
       "      <td>2021-01-29 09:00:00</td>\n",
       "      <td>32266.36</td>\n",
       "      <td>37990.00</td>\n",
       "      <td>32006.91</td>\n",
       "      <td>36843.96</td>\n",
       "      <td>69295.649164</td>\n",
       "    </tr>\n",
       "  </tbody>\n",
       "</table>\n",
       "<p>180 rows × 6 columns</p>\n",
       "</div>"
      ],
      "text/plain": [
       "                   Date      Open      High       Low     Close        Volume\n",
       "0   2020-12-30 13:00:00  27836.95  28291.82  27577.00  28153.76  11625.820706\n",
       "1   2020-12-30 17:00:00  28153.75  28900.05  27887.00  28776.46  17159.483105\n",
       "2   2020-12-30 21:00:00  28776.45  28996.00  28534.70  28875.54  11921.265433\n",
       "3   2020-12-31 01:00:00  28875.55  29300.00  28120.67  29024.00  17005.770282\n",
       "4   2020-12-31 05:00:00  29024.01  29285.00  28738.10  29155.25  10242.046375\n",
       "..                  ...       ...       ...       ...       ...           ...\n",
       "175 2021-01-28 17:00:00  31926.49  32747.78  31650.00  32564.71  16889.869122\n",
       "176 2021-01-28 21:00:00  32564.71  33783.98  32392.34  33364.86  18820.098006\n",
       "177 2021-01-29 01:00:00  33368.18  34310.00  33330.93  33733.58  26746.707141\n",
       "178 2021-01-29 05:00:00  33728.99  33934.48  31915.40  32266.35  28364.158989\n",
       "179 2021-01-29 09:00:00  32266.36  37990.00  32006.91  36843.96  69295.649164\n",
       "\n",
       "[180 rows x 6 columns]"
      ]
     },
     "execution_count": 3,
     "metadata": {},
     "output_type": "execute_result"
    }
   ],
   "source": [
    "df = pd.DataFrame(data, columns=[\"Date\",\"Open\",\"High\",\"Low\",\"Close\",\"Volume\"])\n",
    "df['Date'] = [datetime.fromtimestamp(float(time)/1000) for time in df['Date']]\n",
    "df"
   ]
  },
  {
   "cell_type": "code",
   "execution_count": 47,
   "id": "brown-consent",
   "metadata": {
    "execution": {
     "iopub.execute_input": "2021-01-29T11:43:07.295709Z",
     "iopub.status.busy": "2021-01-29T11:43:07.295468Z",
     "iopub.status.idle": "2021-01-29T11:43:08.274889Z",
     "shell.execute_reply": "2021-01-29T11:43:08.274171Z",
     "shell.execute_reply.started": "2021-01-29T11:43:07.295682Z"
    },
    "papermill": {},
    "tags": []
   },
   "outputs": [
    {
     "data": {
      "image/png": "[encoded data removed]",
      "text/plain": [
       "<Figure size 432x288 with 1 Axes>"
      ]
     },
     "metadata": {
      "needs_background": "light"
     },
     "output_type": "display_data"
    }
   ],
   "source": [
    "fig = trendln.plot_support_resistance(\n",
    "    df[-1000:].Close, #as per h for calc_support_resistance\n",
    "    xformatter = None, #x-axis data formatter turning numeric indexes to display output\n",
    "      # e.g. ticker.FuncFormatter(func) otherwise just display numeric indexes\n",
    "    numbest = 1, #number of best support and best resistance lines to display\n",
    "    fromwindows = True, #draw numbest best from each window, otherwise draw numbest across whole range\n",
    "    pctbound = 0.1, # bound trend line based on this maximum percentage of the data range above the high or below the low\n",
    "    extmethod = trendln.METHOD_NUMDIFF,\n",
    "    method=trendln.METHOD_PROBHOUGH,\n",
    "    window=125,\n",
    "    errpct = 0.005,\n",
    "    hough_prob_iter=50,\n",
    "    sortError=False,\n",
    "    accuracy=1)\n"
   ]
  },
  {
   "cell_type": "code",
   "execution_count": 48,
   "id": "chicken-banana",
   "metadata": {
    "execution": {
     "iopub.execute_input": "2021-01-29T11:43:08.276428Z",
     "iopub.status.busy": "2021-01-29T11:43:08.276192Z",
     "iopub.status.idle": "2021-01-29T11:43:08.420560Z",
     "shell.execute_reply": "2021-01-29T11:43:08.419418Z",
     "shell.execute_reply.started": "2021-01-29T11:43:08.276398Z"
    },
    "papermill": {},
    "tags": []
   },
   "outputs": [
    {
     "name": "stderr",
     "output_type": "stream",
     "text": [
      "/opt/conda/lib/python3.8/site-packages/plotly/matplotlylib/mpltools.py:368: MatplotlibDeprecationWarning:\n",
      "\n",
      "\n",
      "The is_frame_like function was deprecated in Matplotlib 3.1 and will be removed in 3.3.\n",
      "\n",
      "/opt/conda/lib/python3.8/site-packages/plotly/matplotlylib/renderer.py:547: UserWarning:\n",
      "\n",
      "Looks like the annotation(s) you are trying \n",
      "to draw lies/lay outside the given figure size.\n",
      "\n",
      "Therefore, the resulting Plotly figure may not be \n",
      "large enough to view the full text. To adjust \n",
      "the size of the figure, use the 'width' and \n",
      "'height' keys in the Layout object. Alternatively,\n",
      "use the Margin object to adjust the figure's margins.\n",
      "\n",
      "/opt/conda/lib/python3.8/site-packages/plotly/matplotlylib/renderer.py:409: UserWarning:\n",
      "\n",
      "Bummer! Plotly can currently only draw Line2D objects from matplotlib that are in 'data' coordinates!\n",
      "\n",
      "/opt/conda/lib/python3.8/site-packages/plotly/matplotlylib/renderer.py:511: UserWarning:\n",
      "\n",
      "I found a path object that I don't think is part of a bar chart. Ignoring.\n",
      "\n"
     ]
    }
   ],
   "source": [
    "import plotly.tools as tls\n",
    "import plotly.graph_objects as go\n",
    "\n",
    "plotly_fig = tls.mpl_to_plotly(fig)"
   ]
  },
  {
   "cell_type": "code",
   "execution_count": 49,
   "id": "developing-breathing",
   "metadata": {
    "execution": {
     "iopub.execute_input": "2021-01-29T11:43:09.243390Z",
     "iopub.status.busy": "2021-01-29T11:43:09.243155Z",
     "iopub.status.idle": "2021-01-29T11:43:09.261085Z",
     "shell.execute_reply": "2021-01-29T11:43:09.260596Z",
     "shell.execute_reply.started": "2021-01-29T11:43:09.243367Z"
    },
    "papermill": {},
    "tags": []
   },
   "outputs": [
    {
     "data": {
      "application/vnd.plotly.v1+json": {
       "config": {
        "plotlyServerURL": "https://plot.ly"
       },
       "data": [
        {
         "line": {
          "color": "rgba(0, 0, 0, 1)",
          "dash": "5.550000000000001px,2.4000000000000004px",
          "width": 1.5
         },
         "mode": "lines",
         "name": "Close Price",
         "type": "scatter",
         "x": [
          0,
          1,
          2,
          3,
          4,
          5,
          6,
          7,
          8,
          9,
          10,
          11,
          12,
          13,
          14,
          15,
          16,
          17,
          18,
          19,
          20,
          21,
          22,
          23,
          24,
          25,
          26,
          27,
          28,
          29,
          30,
          31,
          32,
          33,
          34,
          35,
          36,
          37,
          38,
          39,
          40,
          41,
          42,
          43,
          44,
          45,
          46,
          47,
          48,
          49,
          50,
          51,
          52,
          53,
          54,
          55,
          56,
          57,
          58,
          59,
          60,
          61,
          62,
          63,
          64,
          65,
          66,
          67,
          68,
          69,
          70,
          71,
          72,
          73,
          74,
          75,
          76,
          77,
          78,
          79,
          80,
          81,
          82,
          83,
          84,
          85,
          86,
          87,
          88,
          89,
          90,
          91,
          92,
          93,
          94,
          95,
          96,
          97,
          98,
          99,
          100,
          101,
          102,
          103,
          104,
          105,
          106,
          107,
          108,
          109,
          110,
          111,
          112,
          113,
          114,
          115,
          116,
          117,
          118,
          119,
          120,
          121,
          122,
          123,
          124,
          125,
          126,
          127,
          128,
          129,
          130,
          131,
          132,
          133,
          134,
          135,
          136,
          137,
          138,
          139,
          140,
          141,
          142,
          143,
          144,
          145,
          146,
          147,
          148,
          149,
          150,
          151,
          152,
          153,
          154,
          155,
          156,
          157,
          158,
          159,
          160,
          161,
          162,
          163,
          164,
          165,
          166,
          167,
          168,
          169,
          170,
          171,
          172,
          173,
          174,
          175,
          176,
          177,
          178,
          179
         ],
         "xaxis": "x",
         "y": [
          28153.76,
          28776.46,
          28875.54,
          29024,
          29155.25,
          28910.3,
          28770,
          28897.83,
          28923.63,
          29278.4,
          29092.83,
          29313.49,
          29188.67,
          29029.04,
          29331.69,
          29351.95,
          29750,
          29755,
          31691.29,
          33027.2,
          32178.33,
          32573.87,
          34452.34,
          34413.53,
          33506.62,
          32772.21,
          33000.05,
          33505.16,
          32068.84,
          30743.06,
          31745.72,
          31665.51,
          31988.71,
          31200,
          30817.77,
          31776.66,
          32099.98,
          33697.75,
          33949.53,
          34117.59,
          34676.4,
          34918.53,
          34566.19,
          34816.72,
          36769.36,
          37454.48,
          36859.85,
          37822.09,
          38970.42,
          39062,
          39432.28,
          38347.1,
          38930.55,
          41286.67,
          40829.08,
          40365.09,
          40582.81,
          40211.59,
          39638.61,
          40565.77,
          40525.15,
          40665.91,
          40088.22,
          40316.64,
          40978.57,
          39181.76,
          39671.81,
          37456.77,
          38150.02,
          35438.23,
          34375.34,
          34198.56,
          31580,
          32254.62,
          35404.47,
          34984.96,
          36413.6,
          35410.99,
          33829.4,
          34685.11,
          34051.24,
          33818.5,
          34986.9,
          34385.48,
          34673.9,
          36002.25,
          37371.38,
          37045.13,
          38198.34,
          38365.86,
          39546.01,
          39876.98,
          39144.5,
          38700,
          38473.08,
          38108.88,
          35610.72,
          35217.26,
          36742.22,
          36532.92,
          36574.86,
          37680,
          37461.99,
          36376.39,
          35994.98,
          36177,
          34760.9,
          35267.17,
          35728.47,
          35633.91,
          35828.61,
          35106.25,
          36104.61,
          36442.08,
          36405.98,
          35956.14,
          36631.27,
          36465.3,
          37168.82,
          37266.49,
          37329.4,
          36279.82,
          35891.49,
          35062.49,
          35677.14,
          34426.17,
          34192.17,
          35197.12,
          35468.23,
          34571.09,
          34624.27,
          32208.62,
          31384.09,
          32468.66,
          30850.13,
          30943.4,
          30842.45,
          31710.88,
          32458.42,
          33589.52,
          32945.17,
          32365.01,
          32931.18,
          31645.49,
          31877.1,
          32348.79,
          32078,
          32480.05,
          32801.15,
          32833.37,
          31957.05,
          31306.29,
          32259.9,
          33568.18,
          33346.95,
          33185.26,
          34458.31,
          33411.54,
          32254.2,
          31518.66,
          31643.61,
          31796.95,
          31750.23,
          32208.33,
          32467.77,
          31800.86,
          31743.33,
          30639.05,
          30322.61,
          30740.33,
          30366.15,
          31404.25,
          31170.53,
          31437.37,
          31926.49,
          32564.71,
          33364.86,
          33733.58,
          32266.35,
          36843.96
         ],
         "yaxis": "y"
        },
        {
         "line": {
          "color": "rgba (0, 127, 0, 1)",
          "dash": "5.550000000000001px,2.4000000000000004px",
          "width": 1.5
         },
         "mode": "lines",
         "name": "Support",
         "type": "scatter",
         "x": [
          34,
          116
         ],
         "xaxis": "x",
         "y": [
          30823.098950231717,
          36026.968311505145
         ],
         "yaxis": "y"
        },
        {
         "line": {
          "color": "rgba (0, 127, 0, 1)",
          "dash": "5.550000000000001px,2.4000000000000004px",
          "width": 1.5
         },
         "mode": "lines",
         "name": "_line6",
         "type": "scatter",
         "x": [
          72,
          152
         ],
         "xaxis": "x",
         "y": [
          31581.761271319352,
          31308.43533522839
         ],
         "yaxis": "y"
        },
        {
         "line": {
          "color": "rgba (255, 0, 0, 1)",
          "dash": "5.550000000000001px,2.4000000000000004px",
          "width": 1.5
         },
         "mode": "lines",
         "name": "Resistance",
         "type": "scatter",
         "x": [
          19,
          180
         ],
         "xaxis": "x",
         "y": [
          33039.08875407697,
          42153.645329419436
         ],
         "yaxis": "y"
        },
        {
         "line": {
          "color": "rgba (255, 0, 0, 1)",
          "dash": "5.550000000000001px,2.4000000000000004px",
          "width": 1.5
         },
         "mode": "lines",
         "name": "_line8",
         "type": "scatter",
         "x": [
          91,
          165
         ],
         "xaxis": "x",
         "y": [
          39875.59360232409,
          32358.371678502263
         ],
         "yaxis": "y"
        }
       ],
       "layout": {
        "autosize": true,
        "dragmode": "pan",
        "showlegend": true,
        "template": {
         "data": {
          "bar": [
           {
            "error_x": {
             "color": "#2a3f5f"
            },
            "error_y": {
             "color": "#2a3f5f"
            },
            "marker": {
             "line": {
              "color": "#E5ECF6",
              "width": 0.5
             }
            },
            "type": "bar"
           }
          ],
          "barpolar": [
           {
            "marker": {
             "line": {
              "color": "#E5ECF6",
              "width": 0.5
             }
            },
            "type": "barpolar"
           }
          ],
          "carpet": [
           {
            "aaxis": {
             "endlinecolor": "#2a3f5f",
             "gridcolor": "white",
             "linecolor": "white",
             "minorgridcolor": "white",
             "startlinecolor": "#2a3f5f"
            },
            "baxis": {
             "endlinecolor": "#2a3f5f",
             "gridcolor": "white",
             "linecolor": "white",
             "minorgridcolor": "white",
             "startlinecolor": "#2a3f5f"
            },
            "type": "carpet"
           }
          ],
          "choropleth": [
           {
            "colorbar": {
             "outlinewidth": 0,
             "ticks": ""
            },
            "type": "choropleth"
           }
          ],
          "contour": [
           {
            "colorbar": {
             "outlinewidth": 0,
             "ticks": ""
            },
            "colorscale": [
             [
              0,
              "#0d0887"
             ],
             [
              0.1111111111111111,
              "#46039f"
             ],
             [
              0.2222222222222222,
              "#7201a8"
             ],
             [
              0.3333333333333333,
              "#9c179e"
             ],
             [
              0.4444444444444444,
              "#bd3786"
             ],
             [
              0.5555555555555556,
              "#d8576b"
             ],
             [
              0.6666666666666666,
              "#ed7953"
             ],
             [
              0.7777777777777778,
              "#fb9f3a"
             ],
             [
              0.8888888888888888,
              "#fdca26"
             ],
             [
              1,
              "#f0f921"
             ]
            ],
            "type": "contour"
           }
          ],
          "contourcarpet": [
           {
            "colorbar": {
             "outlinewidth": 0,
             "ticks": ""
            },
            "type": "contourcarpet"
           }
          ],
          "heatmap": [
           {
            "colorbar": {
             "outlinewidth": 0,
             "ticks": ""
            },
            "colorscale": [
             [
              0,
              "#0d0887"
             ],
             [
              0.1111111111111111,
              "#46039f"
             ],
             [
              0.2222222222222222,
              "#7201a8"
             ],
             [
              0.3333333333333333,
              "#9c179e"
             ],
             [
              0.4444444444444444,
              "#bd3786"
             ],
             [
              0.5555555555555556,
              "#d8576b"
             ],
             [
              0.6666666666666666,
              "#ed7953"
             ],
             [
              0.7777777777777778,
              "#fb9f3a"
             ],
             [
              0.8888888888888888,
              "#fdca26"
             ],
             [
              1,
              "#f0f921"
             ]
            ],
            "type": "heatmap"
           }
          ],
          "heatmapgl": [
           {
            "colorbar": {
             "outlinewidth": 0,
             "ticks": ""
            },
            "colorscale": [
             [
              0,
              "#0d0887"
             ],
             [
              0.1111111111111111,
              "#46039f"
             ],
             [
              0.2222222222222222,
              "#7201a8"
             ],
             [
              0.3333333333333333,
              "#9c179e"
             ],
             [
              0.4444444444444444,
              "#bd3786"
             ],
             [
              0.5555555555555556,
              "#d8576b"
             ],
             [
              0.6666666666666666,
              "#ed7953"
             ],
             [
              0.7777777777777778,
              "#fb9f3a"
             ],
             [
              0.8888888888888888,
              "#fdca26"
             ],
             [
              1,
              "#f0f921"
             ]
            ],
            "type": "heatmapgl"
           }
          ],
          "histogram": [
           {
            "marker": {
             "colorbar": {
              "outlinewidth": 0,
              "ticks": ""
             }
            },
            "type": "histogram"
           }
          ],
          "histogram2d": [
           {
            "colorbar": {
             "outlinewidth": 0,
             "ticks": ""
            },
            "colorscale": [
             [
              0,
              "#0d0887"
             ],
             [
              0.1111111111111111,
              "#46039f"
             ],
             [
              0.2222222222222222,
              "#7201a8"
             ],
             [
              0.3333333333333333,
              "#9c179e"
             ],
             [
              0.4444444444444444,
              "#bd3786"
             ],
             [
              0.5555555555555556,
              "#d8576b"
             ],
             [
              0.6666666666666666,
              "#ed7953"
             ],
             [
              0.7777777777777778,
              "#fb9f3a"
             ],
             [
              0.8888888888888888,
              "#fdca26"
             ],
             [
              1,
              "#f0f921"
             ]
            ],
            "type": "histogram2d"
           }
          ],
          "histogram2dcontour": [
           {
            "colorbar": {
             "outlinewidth": 0,
             "ticks": ""
            },
            "colorscale": [
             [
              0,
              "#0d0887"
             ],
             [
              0.1111111111111111,
              "#46039f"
             ],
             [
              0.2222222222222222,
              "#7201a8"
             ],
             [
              0.3333333333333333,
              "#9c179e"
             ],
             [
              0.4444444444444444,
              "#bd3786"
             ],
             [
              0.5555555555555556,
              "#d8576b"
             ],
             [
              0.6666666666666666,
              "#ed7953"
             ],
             [
              0.7777777777777778,
              "#fb9f3a"
             ],
             [
              0.8888888888888888,
              "#fdca26"
             ],
             [
              1,
              "#f0f921"
             ]
            ],
            "type": "histogram2dcontour"
           }
          ],
          "mesh3d": [
           {
            "colorbar": {
             "outlinewidth": 0,
             "ticks": ""
            },
            "type": "mesh3d"
           }
          ],
          "parcoords": [
           {
            "line": {
             "colorbar": {
              "outlinewidth": 0,
              "ticks": ""
             }
            },
            "type": "parcoords"
           }
          ],
          "pie": [
           {
            "automargin": true,
            "type": "pie"
           }
          ],
          "scatter": [
           {
            "marker": {
             "colorbar": {
              "outlinewidth": 0,
              "ticks": ""
             }
            },
            "type": "scatter"
           }
          ],
          "scatter3d": [
           {
            "line": {
             "colorbar": {
              "outlinewidth": 0,
              "ticks": ""
             }
            },
            "marker": {
             "colorbar": {
              "outlinewidth": 0,
              "ticks": ""
             }
            },
            "type": "scatter3d"
           }
          ],
          "scattercarpet": [
           {
            "marker": {
             "colorbar": {
              "outlinewidth": 0,
              "ticks": ""
             }
            },
            "type": "scattercarpet"
           }
          ],
          "scattergeo": [
           {
            "marker": {
             "colorbar": {
              "outlinewidth": 0,
              "ticks": ""
             }
            },
            "type": "scattergeo"
           }
          ],
          "scattergl": [
           {
            "marker": {
             "colorbar": {
              "outlinewidth": 0,
              "ticks": ""
             }
            },
            "type": "scattergl"
           }
          ],
          "scattermapbox": [
           {
            "marker": {
             "colorbar": {
              "outlinewidth": 0,
              "ticks": ""
             }
            },
            "type": "scattermapbox"
           }
          ],
          "scatterpolar": [
           {
            "marker": {
             "colorbar": {
              "outlinewidth": 0,
              "ticks": ""
             }
            },
            "type": "scatterpolar"
           }
          ],
          "scatterpolargl": [
           {
            "marker": {
             "colorbar": {
              "outlinewidth": 0,
              "ticks": ""
             }
            },
            "type": "scatterpolargl"
           }
          ],
          "scatterternary": [
           {
            "marker": {
             "colorbar": {
              "outlinewidth": 0,
              "ticks": ""
             }
            },
            "type": "scatterternary"
           }
          ],
          "surface": [
           {
            "colorbar": {
             "outlinewidth": 0,
             "ticks": ""
            },
            "colorscale": [
             [
              0,
              "#0d0887"
             ],
             [
              0.1111111111111111,
              "#46039f"
             ],
             [
              0.2222222222222222,
              "#7201a8"
             ],
             [
              0.3333333333333333,
              "#9c179e"
             ],
             [
              0.4444444444444444,
              "#bd3786"
             ],
             [
              0.5555555555555556,
              "#d8576b"
             ],
             [
              0.6666666666666666,
              "#ed7953"
             ],
             [
              0.7777777777777778,
              "#fb9f3a"
             ],
             [
              0.8888888888888888,
              "#fdca26"
             ],
             [
              1,
              "#f0f921"
             ]
            ],
            "type": "surface"
           }
          ],
          "table": [
           {
            "cells": {
             "fill": {
              "color": "#EBF0F8"
             },
             "line": {
              "color": "white"
             }
            },
            "header": {
             "fill": {
              "color": "#C8D4E3"
             },
             "line": {
              "color": "white"
             }
            },
            "type": "table"
           }
          ]
         },
         "layout": {
          "annotationdefaults": {
           "arrowcolor": "#2a3f5f",
           "arrowhead": 0,
           "arrowwidth": 1
          },
          "autotypenumbers": "strict",
          "coloraxis": {
           "colorbar": {
            "outlinewidth": 0,
            "ticks": ""
           }
          },
          "colorscale": {
           "diverging": [
            [
             0,
             "#8e0152"
            ],
            [
             0.1,
             "#c51b7d"
            ],
            [
             0.2,
             "#de77ae"
            ],
            [
             0.3,
             "#f1b6da"
            ],
            [
             0.4,
             "#fde0ef"
            ],
            [
             0.5,
             "#f7f7f7"
            ],
            [
             0.6,
             "#e6f5d0"
            ],
            [
             0.7,
             "#b8e186"
            ],
            [
             0.8,
             "#7fbc41"
            ],
            [
             0.9,
             "#4d9221"
            ],
            [
             1,
             "#276419"
            ]
           ],
           "sequential": [
            [
             0,
             "#0d0887"
            ],
            [
             0.1111111111111111,
             "#46039f"
            ],
            [
             0.2222222222222222,
             "#7201a8"
            ],
            [
             0.3333333333333333,
             "#9c179e"
            ],
            [
             0.4444444444444444,
             "#bd3786"
            ],
            [
             0.5555555555555556,
             "#d8576b"
            ],
            [
             0.6666666666666666,
             "#ed7953"
            ],
            [
             0.7777777777777778,
             "#fb9f3a"
            ],
            [
             0.8888888888888888,
             "#fdca26"
            ],
            [
             1,
             "#f0f921"
            ]
           ],
           "sequentialminus": [
            [
             0,
             "#0d0887"
            ],
            [
             0.1111111111111111,
             "#46039f"
            ],
            [
             0.2222222222222222,
             "#7201a8"
            ],
            [
             0.3333333333333333,
             "#9c179e"
            ],
            [
             0.4444444444444444,
             "#bd3786"
            ],
            [
             0.5555555555555556,
             "#d8576b"
            ],
            [
             0.6666666666666666,
             "#ed7953"
            ],
            [
             0.7777777777777778,
             "#fb9f3a"
            ],
            [
             0.8888888888888888,
             "#fdca26"
            ],
            [
             1,
             "#f0f921"
            ]
           ]
          },
          "colorway": [
           "#636efa",
           "#EF553B",
           "#00cc96",
           "#ab63fa",
           "#FFA15A",
           "#19d3f3",
           "#FF6692",
           "#B6E880",
           "#FF97FF",
           "#FECB52"
          ],
          "font": {
           "color": "#2a3f5f"
          },
          "geo": {
           "bgcolor": "white",
           "lakecolor": "white",
           "landcolor": "#E5ECF6",
           "showlakes": true,
           "showland": true,
           "subunitcolor": "white"
          },
          "hoverlabel": {
           "align": "left"
          },
          "hovermode": "closest",
          "mapbox": {
           "style": "light"
          },
          "paper_bgcolor": "white",
          "plot_bgcolor": "#E5ECF6",
          "polar": {
           "angularaxis": {
            "gridcolor": "white",
            "linecolor": "white",
            "ticks": ""
           },
           "bgcolor": "#E5ECF6",
           "radialaxis": {
            "gridcolor": "white",
            "linecolor": "white",
            "ticks": ""
           }
          },
          "scene": {
           "xaxis": {
            "backgroundcolor": "#E5ECF6",
            "gridcolor": "white",
            "gridwidth": 2,
            "linecolor": "white",
            "showbackground": true,
            "ticks": "",
            "zerolinecolor": "white"
           },
           "yaxis": {
            "backgroundcolor": "#E5ECF6",
            "gridcolor": "white",
            "gridwidth": 2,
            "linecolor": "white",
            "showbackground": true,
            "ticks": "",
            "zerolinecolor": "white"
           },
           "zaxis": {
            "backgroundcolor": "#E5ECF6",
            "gridcolor": "white",
            "gridwidth": 2,
            "linecolor": "white",
            "showbackground": true,
            "ticks": "",
            "zerolinecolor": "white"
           }
          },
          "shapedefaults": {
           "line": {
            "color": "#2a3f5f"
           }
          },
          "ternary": {
           "aaxis": {
            "gridcolor": "white",
            "linecolor": "white",
            "ticks": ""
           },
           "baxis": {
            "gridcolor": "white",
            "linecolor": "white",
            "ticks": ""
           },
           "bgcolor": "#E5ECF6",
           "caxis": {
            "gridcolor": "white",
            "linecolor": "white",
            "ticks": ""
           }
          },
          "title": {
           "x": 0.05
          },
          "xaxis": {
           "automargin": true,
           "gridcolor": "white",
           "linecolor": "white",
           "ticks": "",
           "title": {
            "standoff": 15
           },
           "zerolinecolor": "white",
           "zerolinewidth": 2
          },
          "yaxis": {
           "automargin": true,
           "gridcolor": "white",
           "linecolor": "white",
           "ticks": "",
           "title": {
            "standoff": 15
           },
           "zerolinecolor": "white",
           "zerolinewidth": 2
          }
         }
        },
        "xaxis": {
         "autorange": true,
         "range": [
          0,
          180
         ],
         "rangeslider": {
          "visible": false,
          "yaxis": {}
         },
         "type": "linear"
        },
        "yaxis": {
         "autorange": true,
         "range": [
          27375.98859281003,
          42931.416736609404
         ],
         "type": "linear"
        }
       }
      },
      "image/png": "[encoded data removed]",
      "text/html": [
       "<div>                            <div id=\"d3047129-f52a-4bc3-824d-138fb18d07bf\" class=\"plotly-graph-div\" style=\"height:525px; width:100%;\"></div>            <script type=\"text/javascript\">                require([\"plotly\"], function(Plotly) {                    window.PLOTLYENV=window.PLOTLYENV || {};                                    if (document.getElementById(\"d3047129-f52a-4bc3-824d-138fb18d07bf\")) {                    Plotly.newPlot(                        \"d3047129-f52a-4bc3-824d-138fb18d07bf\",                        [{\"line\": {\"color\": \"rgba (0, 0, 0, 1)\", \"dash\": \"5.550000000000001px,2.4000000000000004px\", \"width\": 1.5}, \"mode\": \"lines\", \"name\": \"Close Price\", \"type\": \"scatter\", \"x\": [0.0, 1.0, 2.0, 3.0, 4.0, 5.0, 6.0, 7.0, 8.0, 9.0, 10.0, 11.0, 12.0, 13.0, 14.0, 15.0, 16.0, 17.0, 18.0, 19.0, 20.0, 21.0, 22.0, 23.0, 24.0, 25.0, 26.0, 27.0, 28.0, 29.0, 30.0, 31.0, 32.0, 33.0, 34.0, 35.0, 36.0, 37.0, 38.0, 39.0, 40.0, 41.0, 42.0, 43.0, 44.0, 45.0, 46.0, 47.0, 48.0, 49.0, 50.0, 51.0, 52.0, 53.0, 54.0, 55.0, 56.0, 57.0, 58.0, 59.0, 60.0, 61.0, 62.0, 63.0, 64.0, 65.0, 66.0, 67.0, 68.0, 69.0, 70.0, 71.0, 72.0, 73.0, 74.0, 75.0, 76.0, 77.0, 78.0, 79.0, 80.0, 81.0, 82.0, 83.0, 84.0, 85.0, 86.0, 87.0, 88.0, 89.0, 90.0, 91.0, 92.0, 93.0, 94.0, 95.0, 96.0, 97.0, 98.0, 99.0, 100.0, 101.0, 102.0, 103.0, 104.0, 105.0, 106.0, 107.0, 108.0, 109.0, 110.0, 111.0, 112.0, 113.0, 114.0, 115.0, 116.0, 117.0, 118.0, 119.0, 120.0, 121.0, 122.0, 123.0, 124.0, 125.0, 126.0, 127.0, 128.0, 129.0, 130.0, 131.0, 132.0, 133.0, 134.0, 135.0, 136.0, 137.0, 138.0, 139.0, 140.0, 141.0, 142.0, 143.0, 144.0, 145.0, 146.0, 147.0, 148.0, 149.0, 150.0, 151.0, 152.0, 153.0, 154.0, 155.0, 156.0, 157.0, 158.0, 159.0, 160.0, 161.0, 162.0, 163.0, 164.0, 165.0, 166.0, 167.0, 168.0, 169.0, 170.0, 171.0, 172.0, 173.0, 174.0, 175.0, 176.0, 177.0, 178.0, 179.0], \"xaxis\": \"x\", \"y\": [28153.76, 28776.46, 28875.54, 29024.0, 29155.25, 28910.3, 28770.0, 28897.83, 28923.63, 29278.4, 29092.83, 29313.49, 29188.67, 29029.04, 29331.69, 29351.95, 29750.0, 29755.0, 31691.29, 33027.2, 32178.33, 32573.87, 34452.34, 34413.53, 33506.62, 32772.21, 33000.05, 33505.16, 32068.84, 30743.06, 31745.72, 31665.51, 31988.71, 31200.0, 30817.77, 31776.66, 32099.98, 33697.75, 33949.53, 34117.59, 34676.4, 34918.53, 34566.19, 34816.72, 36769.36, 37454.48, 36859.85, 37822.09, 38970.42, 39062.0, 39432.28, 38347.1, 38930.55, 41286.67, 40829.08, 40365.09, 40582.81, 40211.59, 39638.61, 40565.77, 40525.15, 40665.91, 40088.22, 40316.64, 40978.57, 39181.76, 39671.81, 37456.77, 38150.02, 35438.23, 34375.34, 34198.56, 31580.0, 32254.62, 35404.47, 34984.96, 36413.6, 35410.99, 33829.4, 34685.11, 34051.24, 33818.5, 34986.9, 34385.48, 34673.9, 36002.25, 37371.38, 37045.13, 38198.34, 38365.86, 39546.01, 39876.98, 39144.5, 38700.0, 38473.08, 38108.88, 35610.72, 35217.26, 36742.22, 36532.92, 36574.86, 37680.0, 37461.99, 36376.39, 35994.98, 36177.0, 34760.9, 35267.17, 35728.47, 35633.91, 35828.61, 35106.25, 36104.61, 36442.08, 36405.98, 35956.14, 36631.27, 36465.3, 37168.82, 37266.49, 37329.4, 36279.82, 35891.49, 35062.49, 35677.14, 34426.17, 34192.17, 35197.12, 35468.23, 34571.09, 34624.27, 32208.62, 31384.09, 32468.66, 30850.13, 30943.4, 30842.45, 31710.88, 32458.42, 33589.52, 32945.17, 32365.01, 32931.18, 31645.49, 31877.1, 32348.79, 32078.0, 32480.05, 32801.15, 32833.37, 31957.05, 31306.29, 32259.9, 33568.18, 33346.95, 33185.26, 34458.31, 33411.54, 32254.2, 31518.66, 31643.61, 31796.95, 31750.23, 32208.33, 32467.77, 31800.86, 31743.33, 30639.05, 30322.61, 30740.33, 30366.15, 31404.25, 31170.53, 31437.37, 31926.49, 32564.71, 33364.86, 33733.58, 32266.35, 36843.96], \"yaxis\": \"y\"}, {\"line\": {\"color\": \"rgba (0, 127, 0, 1)\", \"dash\": \"5.550000000000001px,2.4000000000000004px\", \"width\": 1.5}, \"mode\": \"lines\", \"name\": \"Support\", \"type\": \"scatter\", \"x\": [34.0, 116.0], \"xaxis\": \"x\", \"y\": [30823.098950231717, 36026.968311505145], \"yaxis\": \"y\"}, {\"line\": {\"color\": \"rgba (0, 127, 0, 1)\", \"dash\": \"5.550000000000001px,2.4000000000000004px\", \"width\": 1.5}, \"mode\": \"lines\", \"name\": \"_line6\", \"type\": \"scatter\", \"x\": [72.0, 152.0], \"xaxis\": \"x\", \"y\": [31581.761271319352, 31308.43533522839], \"yaxis\": \"y\"}, {\"line\": {\"color\": \"rgba (255, 0, 0, 1)\", \"dash\": \"5.550000000000001px,2.4000000000000004px\", \"width\": 1.5}, \"mode\": \"lines\", \"name\": \"Resistance\", \"type\": \"scatter\", \"x\": [19.0, 180.0], \"xaxis\": \"x\", \"y\": [33039.08875407697, 42153.645329419436], \"yaxis\": \"y\"}, {\"line\": {\"color\": \"rgba (255, 0, 0, 1)\", \"dash\": \"5.550000000000001px,2.4000000000000004px\", \"width\": 1.5}, \"mode\": \"lines\", \"name\": \"_line8\", \"type\": \"scatter\", \"x\": [91.0, 165.0], \"xaxis\": \"x\", \"y\": [39875.59360232409, 32358.371678502263], \"yaxis\": \"y\"}],                        {\"dragmode\": \"pan\", \"showlegend\": true, \"template\": {\"data\": {\"bar\": [{\"error_x\": {\"color\": \"#2a3f5f\"}, \"error_y\": {\"color\": \"#2a3f5f\"}, \"marker\": {\"line\": {\"color\": \"#E5ECF6\", \"width\": 0.5}}, \"type\": \"bar\"}], \"barpolar\": [{\"marker\": {\"line\": {\"color\": \"#E5ECF6\", \"width\": 0.5}}, \"type\": \"barpolar\"}], \"carpet\": [{\"aaxis\": {\"endlinecolor\": \"#2a3f5f\", \"gridcolor\": \"white\", \"linecolor\": \"white\", \"minorgridcolor\": \"white\", \"startlinecolor\": \"#2a3f5f\"}, \"baxis\": {\"endlinecolor\": \"#2a3f5f\", \"gridcolor\": \"white\", \"linecolor\": \"white\", \"minorgridcolor\": \"white\", \"startlinecolor\": \"#2a3f5f\"}, \"type\": \"carpet\"}], \"choropleth\": [{\"colorbar\": {\"outlinewidth\": 0, \"ticks\": \"\"}, \"type\": \"choropleth\"}], \"contour\": [{\"colorbar\": {\"outlinewidth\": 0, \"ticks\": \"\"}, \"colorscale\": [[0.0, \"#0d0887\"], [0.1111111111111111, \"#46039f\"], [0.2222222222222222, \"#7201a8\"], [0.3333333333333333, \"#9c179e\"], [0.4444444444444444, \"#bd3786\"], [0.5555555555555556, \"#d8576b\"], [0.6666666666666666, \"#ed7953\"], [0.7777777777777778, \"#fb9f3a\"], [0.8888888888888888, \"#fdca26\"], [1.0, \"#f0f921\"]], \"type\": \"contour\"}], \"contourcarpet\": [{\"colorbar\": {\"outlinewidth\": 0, \"ticks\": \"\"}, \"type\": \"contourcarpet\"}], \"heatmap\": [{\"colorbar\": {\"outlinewidth\": 0, \"ticks\": \"\"}, \"colorscale\": [[0.0, \"#0d0887\"], [0.1111111111111111, \"#46039f\"], [0.2222222222222222, \"#7201a8\"], [0.3333333333333333, \"#9c179e\"], [0.4444444444444444, \"#bd3786\"], [0.5555555555555556, \"#d8576b\"], [0.6666666666666666, \"#ed7953\"], [0.7777777777777778, \"#fb9f3a\"], [0.8888888888888888, \"#fdca26\"], [1.0, \"#f0f921\"]], \"type\": \"heatmap\"}], \"heatmapgl\": [{\"colorbar\": {\"outlinewidth\": 0, \"ticks\": \"\"}, \"colorscale\": [[0.0, \"#0d0887\"], [0.1111111111111111, \"#46039f\"], [0.2222222222222222, \"#7201a8\"], [0.3333333333333333, \"#9c179e\"], [0.4444444444444444, \"#bd3786\"], [0.5555555555555556, \"#d8576b\"], [0.6666666666666666, \"#ed7953\"], [0.7777777777777778, \"#fb9f3a\"], [0.8888888888888888, \"#fdca26\"], [1.0, \"#f0f921\"]], \"type\": \"heatmapgl\"}], \"histogram\": [{\"marker\": {\"colorbar\": {\"outlinewidth\": 0, \"ticks\": \"\"}}, \"type\": \"histogram\"}], \"histogram2d\": [{\"colorbar\": {\"outlinewidth\": 0, \"ticks\": \"\"}, \"colorscale\": [[0.0, \"#0d0887\"], [0.1111111111111111, \"#46039f\"], [0.2222222222222222, \"#7201a8\"], [0.3333333333333333, \"#9c179e\"], [0.4444444444444444, \"#bd3786\"], [0.5555555555555556, \"#d8576b\"], [0.6666666666666666, \"#ed7953\"], [0.7777777777777778, \"#fb9f3a\"], [0.8888888888888888, \"#fdca26\"], [1.0, \"#f0f921\"]], \"type\": \"histogram2d\"}], \"histogram2dcontour\": [{\"colorbar\": {\"outlinewidth\": 0, \"ticks\": \"\"}, \"colorscale\": [[0.0, \"#0d0887\"], [0.1111111111111111, \"#46039f\"], [0.2222222222222222, \"#7201a8\"], [0.3333333333333333, \"#9c179e\"], [0.4444444444444444, \"#bd3786\"], [0.5555555555555556, \"#d8576b\"], [0.6666666666666666, \"#ed7953\"], [0.7777777777777778, \"#fb9f3a\"], [0.8888888888888888, \"#fdca26\"], [1.0, \"#f0f921\"]], \"type\": \"histogram2dcontour\"}], \"mesh3d\": [{\"colorbar\": {\"outlinewidth\": 0, \"ticks\": \"\"}, \"type\": \"mesh3d\"}], \"parcoords\": [{\"line\": {\"colorbar\": {\"outlinewidth\": 0, \"ticks\": \"\"}}, \"type\": \"parcoords\"}], \"pie\": [{\"automargin\": true, \"type\": \"pie\"}], \"scatter\": [{\"marker\": {\"colorbar\": {\"outlinewidth\": 0, \"ticks\": \"\"}}, \"type\": \"scatter\"}], \"scatter3d\": [{\"line\": {\"colorbar\": {\"outlinewidth\": 0, \"ticks\": \"\"}}, \"marker\": {\"colorbar\": {\"outlinewidth\": 0, \"ticks\": \"\"}}, \"type\": \"scatter3d\"}], \"scattercarpet\": [{\"marker\": {\"colorbar\": {\"outlinewidth\": 0, \"ticks\": \"\"}}, \"type\": \"scattercarpet\"}], \"scattergeo\": [{\"marker\": {\"colorbar\": {\"outlinewidth\": 0, \"ticks\": \"\"}}, \"type\": \"scattergeo\"}], \"scattergl\": [{\"marker\": {\"colorbar\": {\"outlinewidth\": 0, \"ticks\": \"\"}}, \"type\": \"scattergl\"}], \"scattermapbox\": [{\"marker\": {\"colorbar\": {\"outlinewidth\": 0, \"ticks\": \"\"}}, \"type\": \"scattermapbox\"}], \"scatterpolar\": [{\"marker\": {\"colorbar\": {\"outlinewidth\": 0, \"ticks\": \"\"}}, \"type\": \"scatterpolar\"}], \"scatterpolargl\": [{\"marker\": {\"colorbar\": {\"outlinewidth\": 0, \"ticks\": \"\"}}, \"type\": \"scatterpolargl\"}], \"scatterternary\": [{\"marker\": {\"colorbar\": {\"outlinewidth\": 0, \"ticks\": \"\"}}, \"type\": \"scatterternary\"}], \"surface\": [{\"colorbar\": {\"outlinewidth\": 0, \"ticks\": \"\"}, \"colorscale\": [[0.0, \"#0d0887\"], [0.1111111111111111, \"#46039f\"], [0.2222222222222222, \"#7201a8\"], [0.3333333333333333, \"#9c179e\"], [0.4444444444444444, \"#bd3786\"], [0.5555555555555556, \"#d8576b\"], [0.6666666666666666, \"#ed7953\"], [0.7777777777777778, \"#fb9f3a\"], [0.8888888888888888, \"#fdca26\"], [1.0, \"#f0f921\"]], \"type\": \"surface\"}], \"table\": [{\"cells\": {\"fill\": {\"color\": \"#EBF0F8\"}, \"line\": {\"color\": \"white\"}}, \"header\": {\"fill\": {\"color\": \"#C8D4E3\"}, \"line\": {\"color\": \"white\"}}, \"type\": \"table\"}]}, \"layout\": {\"annotationdefaults\": {\"arrowcolor\": \"#2a3f5f\", \"arrowhead\": 0, \"arrowwidth\": 1}, \"autotypenumbers\": \"strict\", \"coloraxis\": {\"colorbar\": {\"outlinewidth\": 0, \"ticks\": \"\"}}, \"colorscale\": {\"diverging\": [[0, \"#8e0152\"], [0.1, \"#c51b7d\"], [0.2, \"#de77ae\"], [0.3, \"#f1b6da\"], [0.4, \"#fde0ef\"], [0.5, \"#f7f7f7\"], [0.6, \"#e6f5d0\"], [0.7, \"#b8e186\"], [0.8, \"#7fbc41\"], [0.9, \"#4d9221\"], [1, \"#276419\"]], \"sequential\": [[0.0, \"#0d0887\"], [0.1111111111111111, \"#46039f\"], [0.2222222222222222, \"#7201a8\"], [0.3333333333333333, \"#9c179e\"], [0.4444444444444444, \"#bd3786\"], [0.5555555555555556, \"#d8576b\"], [0.6666666666666666, \"#ed7953\"], [0.7777777777777778, \"#fb9f3a\"], [0.8888888888888888, \"#fdca26\"], [1.0, \"#f0f921\"]], \"sequentialminus\": [[0.0, \"#0d0887\"], [0.1111111111111111, \"#46039f\"], [0.2222222222222222, \"#7201a8\"], [0.3333333333333333, \"#9c179e\"], [0.4444444444444444, \"#bd3786\"], [0.5555555555555556, \"#d8576b\"], [0.6666666666666666, \"#ed7953\"], [0.7777777777777778, \"#fb9f3a\"], [0.8888888888888888, \"#fdca26\"], [1.0, \"#f0f921\"]]}, \"colorway\": [\"#636efa\", \"#EF553B\", \"#00cc96\", \"#ab63fa\", \"#FFA15A\", \"#19d3f3\", \"#FF6692\", \"#B6E880\", \"#FF97FF\", \"#FECB52\"], \"font\": {\"color\": \"#2a3f5f\"}, \"geo\": {\"bgcolor\": \"white\", \"lakecolor\": \"white\", \"landcolor\": \"#E5ECF6\", \"showlakes\": true, \"showland\": true, \"subunitcolor\": \"white\"}, \"hoverlabel\": {\"align\": \"left\"}, \"hovermode\": \"closest\", \"mapbox\": {\"style\": \"light\"}, \"paper_bgcolor\": \"white\", \"plot_bgcolor\": \"#E5ECF6\", \"polar\": {\"angularaxis\": {\"gridcolor\": \"white\", \"linecolor\": \"white\", \"ticks\": \"\"}, \"bgcolor\": \"#E5ECF6\", \"radialaxis\": {\"gridcolor\": \"white\", \"linecolor\": \"white\", \"ticks\": \"\"}}, \"scene\": {\"xaxis\": {\"backgroundcolor\": \"#E5ECF6\", \"gridcolor\": \"white\", \"gridwidth\": 2, \"linecolor\": \"white\", \"showbackground\": true, \"ticks\": \"\", \"zerolinecolor\": \"white\"}, \"yaxis\": {\"backgroundcolor\": \"#E5ECF6\", \"gridcolor\": \"white\", \"gridwidth\": 2, \"linecolor\": \"white\", \"showbackground\": true, \"ticks\": \"\", \"zerolinecolor\": \"white\"}, \"zaxis\": {\"backgroundcolor\": \"#E5ECF6\", \"gridcolor\": \"white\", \"gridwidth\": 2, \"linecolor\": \"white\", \"showbackground\": true, \"ticks\": \"\", \"zerolinecolor\": \"white\"}}, \"shapedefaults\": {\"line\": {\"color\": \"#2a3f5f\"}}, \"ternary\": {\"aaxis\": {\"gridcolor\": \"white\", \"linecolor\": \"white\", \"ticks\": \"\"}, \"baxis\": {\"gridcolor\": \"white\", \"linecolor\": \"white\", \"ticks\": \"\"}, \"bgcolor\": \"#E5ECF6\", \"caxis\": {\"gridcolor\": \"white\", \"linecolor\": \"white\", \"ticks\": \"\"}}, \"title\": {\"x\": 0.05}, \"xaxis\": {\"automargin\": true, \"gridcolor\": \"white\", \"linecolor\": \"white\", \"ticks\": \"\", \"title\": {\"standoff\": 15}, \"zerolinecolor\": \"white\", \"zerolinewidth\": 2}, \"yaxis\": {\"automargin\": true, \"gridcolor\": \"white\", \"linecolor\": \"white\", \"ticks\": \"\", \"title\": {\"standoff\": 15}, \"zerolinecolor\": \"white\", \"zerolinewidth\": 2}}}, \"xaxis\": {\"rangeslider\": {\"visible\": false}}},                        {\"responsive\": true}                    ).then(function(){\n",
       "                            \n",
       "var gd = document.getElementById('d3047129-f52a-4bc3-824d-138fb18d07bf');\n",
       "var x = new MutationObserver(function (mutations, observer) {{\n",
       "        var display = window.getComputedStyle(gd).display;\n",
       "        if (!display || display === 'none') {{\n",
       "            console.log([gd, 'removed!']);\n",
       "            Plotly.purge(gd);\n",
       "            observer.disconnect();\n",
       "        }}\n",
       "}});\n",
       "\n",
       "// Listen for the removal of the full notebook cells\n",
       "var notebookContainer = gd.closest('#notebook-container');\n",
       "if (notebookContainer) {{\n",
       "    x.observe(notebookContainer, {childList: true});\n",
       "}}\n",
       "\n",
       "// Listen for the clearing of the current output cell\n",
       "var outputEl = gd.closest('.output');\n",
       "if (outputEl) {{\n",
       "    x.observe(outputEl, {childList: true});\n",
       "}}\n",
       "\n",
       "                        })                };                });            </script>        </div>"
      ]
     },
     "metadata": {},
     "output_type": "display_data"
    }
   ],
   "source": [
    "layout = dict(\n",
    "    dragmode=\"pan\",\n",
    "    xaxis_rangeslider_visible=False,\n",
    "    showlegend=True,\n",
    ")\n",
    "new_data = list(plotly_fig.data)\n",
    "new_data.pop(2)\n",
    "new_data.pop(2)\n",
    "new_data.pop(1)\n",
    "new_data.pop(1)\n",
    "fig = go.Figure(data=new_data, layout=layout)\n",
    "fig"
   ]
  },
  {
   "cell_type": "code",
   "execution_count": null,
   "id": "developed-original",
   "metadata": {
    "papermill": {},
    "tags": []
   },
   "outputs": [],
   "source": []
  }
 ],
 "metadata": {
  "kernelspec": {
   "display_name": "Python 3",
   "language": "python",
   "name": "python3"
  },
  "language_info": {
   "codemirror_mode": {
    "name": "ipython",
    "version": 3
   },
   "file_extension": ".py",
   "mimetype": "text/x-python",
   "name": "python",
   "nbconvert_exporter": "python",
   "pygments_lexer": "ipython3",
   "version": "3.8.6"
  },
  "papermill": {
   "default_parameters": {},
   "environment_variables": {},
   "parameters": {},
   "version": "2.3.3"
  }
 },
 "nbformat": 4,
 "nbformat_minor": 5
}