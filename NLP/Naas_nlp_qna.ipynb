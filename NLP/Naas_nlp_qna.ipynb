{
 "cells": [
  {
   "cell_type": "markdown",
   "id": "funky-skirt",
   "metadata": {
    "papermill": {},
    "tags": []
   },
   "source": [
    "# NLP - Naas nlp qna\n",
    "<a href=\"https://app.naas.ai/user-redirect/naas/downloader?url=https://raw.githubusercontent.com/jupyter-naas/awesome-notebooks/master/NLP/Naas_nlp_qna.ipynb\" target=\"_parent\">\n",
    "<img src=\"https://img.shields.io/badge/-Open%20in%20Naas-success?labelColor=000000&logo=data:image/svg+xml;base64,PD94bWwgdmVyc2lvbj0iMS4wIiBlbmNvZGluZz0iVVRGLTgiPz4KPHN2ZyB3aWR0aD0iMTAyNHB4IiBoZWlnaHQ9IjEwMjRweCIgdmlld0JveD0iMCAwIDEwMjQgMTAyNCIgeG1sbnM9Imh0dHA6Ly93d3cudzMub3JnLzIwMDAvc3ZnIiB4bWxuczp4bGluaz0iaHR0cDovL3d3dy53My5vcmcvMTk5OS94bGluayIgdmVyc2lvbj0iMS4xIj4KIDwhLS0gR2VuZXJhdGVkIGJ5IFBpeGVsbWF0b3IgUHJvIDIuMC41IC0tPgogPGRlZnM+CiAgPHRleHQgaWQ9InN0cmluZyIgdHJhbnNmb3JtPSJtYXRyaXgoMS4wIDAuMCAwLjAgMS4wIDIyOC4wIDU0LjUpIiBmb250LWZhbWlseT0iQ29tZm9ydGFhLVJlZ3VsYXIsIENvbWZvcnRhYSIgZm9udC1zaXplPSI4MDAiIHRleHQtZGVjb3JhdGlvbj0ibm9uZSIgZmlsbD0iI2ZmZmZmZiIgeD0iMS4xOTk5OTk5OTk5OTk5ODg2IiB5PSI3MDUuMCI+bjwvdGV4dD4KIDwvZGVmcz4KIDx1c2UgaWQ9Im4iIHhsaW5rOmhyZWY9IiNzdHJpbmciLz4KPC9zdmc+Cg==\"/>\n",
    "</a>"
   ]
  },
  {
   "cell_type": "markdown",
   "id": "optional-tribune",
   "metadata": {
    "papermill": {},
    "tags": []
   },
   "source": [
    "# Step one Install the naas_drivers module and import nlp"
   ]
  },
  {
   "cell_type": "code",
   "execution_count": 3,
   "id": "imposed-leisure",
   "metadata": {
    "execution": {
     "iopub.execute_input": "2021-05-27T15:55:42.347532Z",
     "iopub.status.busy": "2021-05-27T15:55:42.347307Z",
     "iopub.status.idle": "2021-05-27T15:55:42.350481Z",
     "shell.execute_reply": "2021-05-27T15:55:42.349789Z",
     "shell.execute_reply.started": "2021-05-27T15:55:42.347510Z"
    },
    "papermill": {},
    "tags": []
   },
   "outputs": [],
   "source": [
    "from naas_drivers import nlp"
   ]
  },
  {
   "cell_type": "markdown",
   "id": "sitting-metabolism",
   "metadata": {
    "papermill": {},
    "tags": []
   },
   "source": [
    "# NLP Format\n",
    "```\n",
    "nlp.get(task)(inputs)\n",
    "```\n",
    "### Supported tasks:\n",
    "\n",
    "- text-generation\n",
    "- feature-extraction\n",
    "- text-classification\n",
    "- sentiment-analysis\n",
    "- token-classification\n",
    "- ner\n",
    "- question-answering\n",
    "- fill-mask\n",
    "- summarization\n",
    "- translation"
   ]
  },
  {
   "cell_type": "markdown",
   "id": "outer-score",
   "metadata": {
    "papermill": {},
    "tags": []
   },
   "source": [
    "# Question Answering"
   ]
  },
  {
   "cell_type": "code",
   "execution_count": 12,
   "id": "frozen-massachusetts",
   "metadata": {
    "execution": {
     "iopub.execute_input": "2021-05-25T21:41:52.029556Z",
     "iopub.status.busy": "2021-05-25T21:41:52.029250Z",
     "iopub.status.idle": "2021-05-25T21:42:09.286290Z",
     "shell.execute_reply": "2021-05-25T21:42:09.285589Z",
     "shell.execute_reply.started": "2021-05-25T21:41:52.029526Z"
    },
    "papermill": {},
    "tags": []
   },
   "outputs": [
    {
     "data": {
      "application/vnd.jupyter.widget-view+json": {
       "model_id": "5554cd3c4c264966a9c5f54250287c5b",
       "version_major": 2,
       "version_minor": 0
      },
      "text/plain": [
       "Downloading:   0%|          | 0.00/473 [00:00<?, ?B/s]"
      ]
     },
     "metadata": {},
     "output_type": "display_data"
    },
    {
     "data": {
      "application/vnd.jupyter.widget-view+json": {
       "model_id": "d3137d5d4205442e869be0763ce3aa0f",
       "version_major": 2,
       "version_minor": 0
      },
      "text/plain": [
       "Downloading:   0%|          | 0.00/213k [00:00<?, ?B/s]"
      ]
     },
     "metadata": {},
     "output_type": "display_data"
    },
    {
     "data": {
      "application/vnd.jupyter.widget-view+json": {
       "model_id": "3b6079e044184f5b851a7931e08b8149",
       "version_major": 2,
       "version_minor": 0
      },
      "text/plain": [
       "Downloading:   0%|          | 0.00/436k [00:00<?, ?B/s]"
      ]
     },
     "metadata": {},
     "output_type": "display_data"
    },
    {
     "data": {
      "application/vnd.jupyter.widget-view+json": {
       "model_id": "7e9b57c9c3874c24b68daeb2687ef5d1",
       "version_major": 2,
       "version_minor": 0
      },
      "text/plain": [
       "Downloading:   0%|          | 0.00/29.0 [00:00<?, ?B/s]"
      ]
     },
     "metadata": {},
     "output_type": "display_data"
    },
    {
     "data": {
      "application/vnd.jupyter.widget-view+json": {
       "model_id": "92e7f555d971428ab6f1543d9d3fc2b3",
       "version_major": 2,
       "version_minor": 0
      },
      "text/plain": [
       "Downloading:   0%|          | 0.00/261M [00:00<?, ?B/s]"
      ]
     },
     "metadata": {},
     "output_type": "display_data"
    },
    {
     "data": {
      "text/plain": [
       "{'score': 0.6054572463035583, 'start': 29, 'end': 41, 'answer': 'Naas-drivers'}"
      ]
     },
     "execution_count": 12,
     "metadata": {},
     "output_type": "execute_result"
    }
   ],
   "source": [
    "nlp.get(\"question-answering\")({\n",
    "     'question': 'What is the name of the repository ?',\n",
    "     'context': 'NLP has been included in the Naas-drivers repository'\n",
    "})"
   ]
  }
 ],
 "metadata": {
  "kernelspec": {
   "display_name": "Python 3",
   "language": "python",
   "name": "python3"
  },
  "language_info": {
   "codemirror_mode": {
    "name": "ipython",
    "version": 3
   },
   "file_extension": ".py",
   "mimetype": "text/x-python",
   "name": "python",
   "nbconvert_exporter": "python",
   "pygments_lexer": "ipython3",
   "version": "3.8.8"
  },
  "papermill": {
   "default_parameters": {},
   "environment_variables": {},
   "parameters": {},
   "version": "2.3.3"
  }
 },
 "nbformat": 4,
 "nbformat_minor": 5
}