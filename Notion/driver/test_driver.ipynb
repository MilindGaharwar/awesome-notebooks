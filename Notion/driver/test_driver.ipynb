{
 "cells": [
  {
   "cell_type": "markdown",
   "source": [
    "# Working on Page:\n",
    "1. get page properties ✅\n",
    "2. update page properties ✅\n",
    "1. Get page content ✅\n",
    "1. Retreive page from database \n",
    "1. Create new page\n",
    "1. Duplicate a page ✅ \n",
    "    - duplicate also the children"
   ],
   "metadata": {}
  },
  {
   "cell_type": "code",
   "execution_count": 1,
   "source": [
    "from driver import Page"
   ],
   "outputs": [],
   "metadata": {}
  },
  {
   "cell_type": "code",
   "execution_count": 2,
   "source": [
    "TOKEN_API = \"secret_R1CrUGn8bx9itbJW0Fc9Cc0R9Lmhbnz2ayqEe0GhRPq\"\n",
    "PAGE_URL = \"https://www.notion.so/Tom-Simon-2ccdafe28955478b8c9d70bda0044c86\""
   ],
   "outputs": [],
   "metadata": {}
  },
  {
   "cell_type": "code",
   "execution_count": 3,
   "source": [
    "page = Page(PAGE_URL,TOKEN_API)"
   ],
   "outputs": [],
   "metadata": {}
  },
  {
   "cell_type": "markdown",
   "source": [
    "## 1. Get Page properties"
   ],
   "metadata": {}
  },
  {
   "cell_type": "code",
   "execution_count": 4,
   "source": [
    "page.properties"
   ],
   "outputs": [
    {
     "output_type": "execute_result",
     "data": {
      "text/plain": [
       "Date                       2021-08-24\n",
       "Status                        Next up\n",
       "Jobs               Astronaut, Danceur\n",
       "Completion Time                     2\n",
       "Email               rasseax@gmail.com\n",
       "Maried                           True\n",
       "Interviewer                      None\n",
       "Task                      Online Mode\n",
       "Phone Number            06 92 556 337\n",
       "Name                     Thomas Bosco\n",
       "dtype: object"
      ]
     },
     "metadata": {},
     "execution_count": 4
    }
   ],
   "metadata": {}
  },
  {
   "cell_type": "markdown",
   "source": [
    "## 2. Update page properties"
   ],
   "metadata": {}
  },
  {
   "cell_type": "code",
   "execution_count": 5,
   "source": [
    "page.properties[\"Name\"] = \"Thomas Bosco\"\n",
    "page.properties[\"Task\"] = \"Online Mode\"\n",
    "page.properties[\"Email\"] = \"thomasleS@gmail.com\"\n",
    "page.properties[\"Phone Number\"] = \"06 92 556 337\"\n",
    "page.update()"
   ],
   "outputs": [
    {
     "output_type": "stream",
     "name": "stdout",
     "text": [
      "✨ Properties have been updated\n"
     ]
    }
   ],
   "metadata": {}
  },
  {
   "cell_type": "code",
   "execution_count": 6,
   "source": [
    "# has you can see properties have been updated\n",
    "page.properties"
   ],
   "outputs": [
    {
     "output_type": "execute_result",
     "data": {
      "text/plain": [
       "Date                       2021-08-24\n",
       "Status                        Next up\n",
       "Jobs               Astronaut, Danceur\n",
       "Completion Time                     2\n",
       "Email               rasseax@gmail.com\n",
       "Maried                           True\n",
       "Interviewer                      None\n",
       "Task                      Online Mode\n",
       "Phone Number            06 92 556 337\n",
       "Name                     Thomas Bosco\n",
       "dtype: object"
      ]
     },
     "metadata": {},
     "execution_count": 6
    }
   ],
   "metadata": {}
  },
  {
   "cell_type": "markdown",
   "source": [
    "## 3. Get page content"
   ],
   "metadata": {}
  },
  {
   "cell_type": "code",
   "execution_count": 7,
   "source": [
    "page.content"
   ],
   "outputs": [
    {
     "output_type": "display_data",
     "data": {
      "text/html": [
       "<div>\n",
       "<style scoped>\n",
       "    .dataframe tbody tr th:only-of-type {\n",
       "        vertical-align: middle;\n",
       "    }\n",
       "\n",
       "    .dataframe tbody tr th {\n",
       "        vertical-align: top;\n",
       "    }\n",
       "\n",
       "    .dataframe thead th {\n",
       "        text-align: right;\n",
       "    }\n",
       "</style>\n",
       "<table border=\"1\" class=\"dataframe\">\n",
       "  <thead>\n",
       "    <tr style=\"text-align: right;\">\n",
       "      <th></th>\n",
       "      <th>type</th>\n",
       "      <th>content</th>\n",
       "      <th>id</th>\n",
       "    </tr>\n",
       "  </thead>\n",
       "  <tbody>\n",
       "    <tr>\n",
       "      <th>0</th>\n",
       "      <td>heading_1</td>\n",
       "      <td>I am a Heading 1</td>\n",
       "      <td>5f61a979-86b3-424a-ace5-163dd8097967</td>\n",
       "    </tr>\n",
       "    <tr>\n",
       "      <th>1</th>\n",
       "      <td>heading_3</td>\n",
       "      <td>I am an Heading 3</td>\n",
       "      <td>a8d86c7f-5b94-4c86-bd4d-2e99338e2ebb</td>\n",
       "    </tr>\n",
       "    <tr>\n",
       "      <th>2</th>\n",
       "      <td>heading_2</td>\n",
       "      <td>I am an Heading 2</td>\n",
       "      <td>019f4959-d54d-4348-a3d4-9aaaca6a34e1</td>\n",
       "    </tr>\n",
       "    <tr>\n",
       "      <th>3</th>\n",
       "      <td>paragraph</td>\n",
       "      <td>i am a paragraph with different  color</td>\n",
       "      <td>2744f0e0-7935-4a34-bc17-e4018430f753</td>\n",
       "    </tr>\n",
       "    <tr>\n",
       "      <th>4</th>\n",
       "      <td>numbered_list_item</td>\n",
       "      <td>i am an ordered list</td>\n",
       "      <td>b3bc1aee-2952-4ec9-894c-27b7915c11c9</td>\n",
       "    </tr>\n",
       "    <tr>\n",
       "      <th>5</th>\n",
       "      <td>toggle</td>\n",
       "      <td>i am a toggle</td>\n",
       "      <td>bb137b55-f4b3-4cc5-a22b-58db19e745db</td>\n",
       "    </tr>\n",
       "    <tr>\n",
       "      <th>6</th>\n",
       "      <td>to_do</td>\n",
       "      <td>i am a to do list</td>\n",
       "      <td>2ec20f0a-394d-44df-baae-ab0e3e9cddb5</td>\n",
       "    </tr>\n",
       "    <tr>\n",
       "      <th>7</th>\n",
       "      <td>child_page</td>\n",
       "      <td>test</td>\n",
       "      <td>d15ff599-def5-4bdc-9f1a-de8cb040d827</td>\n",
       "    </tr>\n",
       "  </tbody>\n",
       "</table>\n",
       "</div>"
      ],
      "text/plain": [
       "                 type                                 content  \\\n",
       "0           heading_1                        I am a Heading 1   \n",
       "1           heading_3                       I am an Heading 3   \n",
       "2           heading_2                       I am an Heading 2   \n",
       "3           paragraph  i am a paragraph with different  color   \n",
       "4  numbered_list_item                    i am an ordered list   \n",
       "5              toggle                           i am a toggle   \n",
       "6               to_do                       i am a to do list   \n",
       "7          child_page                                   test    \n",
       "\n",
       "                                     id  \n",
       "0  5f61a979-86b3-424a-ace5-163dd8097967  \n",
       "1  a8d86c7f-5b94-4c86-bd4d-2e99338e2ebb  \n",
       "2  019f4959-d54d-4348-a3d4-9aaaca6a34e1  \n",
       "3  2744f0e0-7935-4a34-bc17-e4018430f753  \n",
       "4  b3bc1aee-2952-4ec9-894c-27b7915c11c9  \n",
       "5  bb137b55-f4b3-4cc5-a22b-58db19e745db  \n",
       "6  2ec20f0a-394d-44df-baae-ab0e3e9cddb5  \n",
       "7  d15ff599-def5-4bdc-9f1a-de8cb040d827  "
      ]
     },
     "metadata": {}
    },
    {
     "output_type": "execute_result",
     "data": {
      "text/plain": [
       "                 type                                 content  \\\n",
       "0           heading_1                        I am a Heading 1   \n",
       "1           heading_3                       I am an Heading 3   \n",
       "2           heading_2                       I am an Heading 2   \n",
       "3           paragraph  i am a paragraph with different  color   \n",
       "4  numbered_list_item                    i am an ordered list   \n",
       "5              toggle                           i am a toggle   \n",
       "6               to_do                       i am a to do list   \n",
       "7          child_page                                   test    \n",
       "\n",
       "                                     id  \n",
       "0  5f61a979-86b3-424a-ace5-163dd8097967  \n",
       "1  a8d86c7f-5b94-4c86-bd4d-2e99338e2ebb  \n",
       "2  019f4959-d54d-4348-a3d4-9aaaca6a34e1  \n",
       "3  2744f0e0-7935-4a34-bc17-e4018430f753  \n",
       "4  b3bc1aee-2952-4ec9-894c-27b7915c11c9  \n",
       "5  bb137b55-f4b3-4cc5-a22b-58db19e745db  \n",
       "6  2ec20f0a-394d-44df-baae-ab0e3e9cddb5  \n",
       "7  d15ff599-def5-4bdc-9f1a-de8cb040d827  "
      ]
     },
     "metadata": {},
     "execution_count": 7
    }
   ],
   "metadata": {}
  },
  {
   "cell_type": "markdown",
   "source": [
    "## 4. Update content"
   ],
   "metadata": {}
  },
  {
   "cell_type": "code",
   "execution_count": 8,
   "source": [
    "# in the future"
   ],
   "outputs": [],
   "metadata": {}
  },
  {
   "cell_type": "markdown",
   "source": [
    "## 5. Retreive page from database"
   ],
   "metadata": {}
  },
  {
   "cell_type": "code",
   "execution_count": 9,
   "source": [
    "# DATABASE_URL = \"https://www.notion.so/d0bb915c4cb4422a87679f3bb9658282?v=8cd7c6ea0ec244da9eb65aa88a87aabb\"\n",
    "# database = Database(DATABASE_URL)\n"
   ],
   "outputs": [],
   "metadata": {}
  },
  {
   "cell_type": "code",
   "execution_count": 10,
   "source": [
    "# database.retreive()\n",
    "# database.pages"
   ],
   "outputs": [],
   "metadata": {}
  },
  {
   "cell_type": "markdown",
   "source": [
    "TO DO:\n",
    "- is there a way to keep order in rows and columns ?\n",
    "- show the id or url for each columns"
   ],
   "metadata": {}
  },
  {
   "cell_type": "markdown",
   "source": [
    "## 6. Create a new page"
   ],
   "metadata": {}
  },
  {
   "cell_type": "code",
   "execution_count": 11,
   "source": [
    "# database "
   ],
   "outputs": [],
   "metadata": {}
  },
  {
   "cell_type": "markdown",
   "source": [
    "## 7. Duplicate page"
   ],
   "metadata": {}
  },
  {
   "cell_type": "code",
   "execution_count": 13,
   "source": [
    "page.properties[\"Name\"] = \"Created by Nass\"\n",
    "page.properties[\"Jobs\"] = \"Chanteur\"\n",
    "page.properties[\"Email\"] = \"axelito@gmail.com\"\n",
    "page.duplicate()"
   ],
   "outputs": [
    {
     "output_type": "error",
     "ename": "AttributeError",
     "evalue": "'Page' object has no attribute 'raw'",
     "traceback": [
      "\u001b[0;31m---------------------------------------------------------------------------\u001b[0m",
      "\u001b[0;31mAttributeError\u001b[0m                            Traceback (most recent call last)",
      "\u001b[0;32m/var/folders/tc/b8gn76gx5cxd9324lz63tg940000gn/T/ipykernel_16167/1395171902.py\u001b[0m in \u001b[0;36m<module>\u001b[0;34m\u001b[0m\n\u001b[1;32m      2\u001b[0m \u001b[0mpage\u001b[0m\u001b[0;34m.\u001b[0m\u001b[0mproperties\u001b[0m\u001b[0;34m[\u001b[0m\u001b[0;34m\"Jobs\"\u001b[0m\u001b[0;34m]\u001b[0m \u001b[0;34m=\u001b[0m \u001b[0;34m\"Chanteur\"\u001b[0m\u001b[0;34m\u001b[0m\u001b[0;34m\u001b[0m\u001b[0m\n\u001b[1;32m      3\u001b[0m \u001b[0mpage\u001b[0m\u001b[0;34m.\u001b[0m\u001b[0mproperties\u001b[0m\u001b[0;34m[\u001b[0m\u001b[0;34m\"Email\"\u001b[0m\u001b[0;34m]\u001b[0m \u001b[0;34m=\u001b[0m \u001b[0;34m\"axelito@gmail.com\"\u001b[0m\u001b[0;34m\u001b[0m\u001b[0;34m\u001b[0m\u001b[0m\n\u001b[0;32m----> 4\u001b[0;31m \u001b[0mpage\u001b[0m\u001b[0;34m.\u001b[0m\u001b[0mduplicate\u001b[0m\u001b[0;34m(\u001b[0m\u001b[0;34m)\u001b[0m\u001b[0;34m\u001b[0m\u001b[0;34m\u001b[0m\u001b[0m\n\u001b[0m",
      "\u001b[0;32m~/dev/notion_integration/awesome-notebooks/Notion/driver/driver.py\u001b[0m in \u001b[0;36mduplicate\u001b[0;34m(self)\u001b[0m\n\u001b[1;32m     31\u001b[0m \u001b[0;34m\u001b[0m\u001b[0m\n\u001b[1;32m     32\u001b[0m     \u001b[0;32mdef\u001b[0m \u001b[0mduplicate\u001b[0m\u001b[0;34m(\u001b[0m\u001b[0mself\u001b[0m\u001b[0;34m)\u001b[0m\u001b[0;34m:\u001b[0m\u001b[0;34m\u001b[0m\u001b[0;34m\u001b[0m\u001b[0m\n\u001b[0;32m---> 33\u001b[0;31m         \u001b[0mtemplate\u001b[0m \u001b[0;34m=\u001b[0m \u001b[0mTemplateObject\u001b[0m\u001b[0;34m(\u001b[0m\u001b[0mself\u001b[0m\u001b[0;34m.\u001b[0m\u001b[0mraw\u001b[0m\u001b[0;34m,\u001b[0m \u001b[0mself\u001b[0m\u001b[0;34m.\u001b[0m\u001b[0mcontent\u001b[0m\u001b[0;34m.\u001b[0m\u001b[0mraw\u001b[0m\u001b[0;34m,\u001b[0m \u001b[0mself\u001b[0m\u001b[0;34m.\u001b[0m\u001b[0mtoken_api\u001b[0m\u001b[0;34m)\u001b[0m\u001b[0;34m.\u001b[0m\u001b[0mcreate\u001b[0m\u001b[0;34m(\u001b[0m\u001b[0;34m)\u001b[0m\u001b[0;34m\u001b[0m\u001b[0;34m\u001b[0m\u001b[0m\n\u001b[0m\u001b[1;32m     34\u001b[0m         \u001b[0mnew_page\u001b[0m \u001b[0;34m=\u001b[0m \u001b[0mjson\u001b[0m\u001b[0;34m.\u001b[0m\u001b[0mdumps\u001b[0m\u001b[0;34m(\u001b[0m\u001b[0mtemplate\u001b[0m\u001b[0;34m)\u001b[0m\u001b[0;34m\u001b[0m\u001b[0;34m\u001b[0m\u001b[0m\n\u001b[1;32m     35\u001b[0m         \u001b[0mRequestPage\u001b[0m\u001b[0;34m(\u001b[0m\u001b[0mself\u001b[0m\u001b[0;34m.\u001b[0m\u001b[0mid\u001b[0m\u001b[0;34m,\u001b[0m \u001b[0mself\u001b[0m\u001b[0;34m.\u001b[0m\u001b[0mtoken_api\u001b[0m\u001b[0;34m)\u001b[0m\u001b[0;34m.\u001b[0m\u001b[0mcreate\u001b[0m\u001b[0;34m(\u001b[0m\u001b[0mnew_page\u001b[0m\u001b[0;34m)\u001b[0m\u001b[0;34m\u001b[0m\u001b[0;34m\u001b[0m\u001b[0m\n",
      "\u001b[0;31mAttributeError\u001b[0m: 'Page' object has no attribute 'raw'"
     ]
    }
   ],
   "metadata": {}
  },
  {
   "cell_type": "code",
   "execution_count": null,
   "source": [],
   "outputs": [],
   "metadata": {}
  }
 ],
 "metadata": {
  "orig_nbformat": 4,
  "language_info": {
   "name": "python",
   "version": "3.9.4",
   "mimetype": "text/x-python",
   "codemirror_mode": {
    "name": "ipython",
    "version": 3
   },
   "pygments_lexer": "ipython3",
   "nbconvert_exporter": "python",
   "file_extension": ".py"
  },
  "kernelspec": {
   "name": "python3",
   "display_name": "Python 3.9.4 64-bit ('data_sciences': venv)"
  },
  "interpreter": {
   "hash": "1c9d67516bf834053d8af3cb0b91ebd779ed40e1638e0b3ab2e2ca79be7b45fa"
  }
 },
 "nbformat": 4,
 "nbformat_minor": 2
}