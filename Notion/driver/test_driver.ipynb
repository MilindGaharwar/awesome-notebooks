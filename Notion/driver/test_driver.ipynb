{
 "cells": [
  {
   "cell_type": "markdown",
   "source": [
    "# Working on Page:\n",
    "1. get page properties ✅\n",
    "2. update page properties ✅\n",
    "1. Get page content \n",
    "1. Create new page\n",
    "1. Retreive page"
   ],
   "metadata": {}
  },
  {
   "cell_type": "code",
   "execution_count": 1,
   "source": [
    "from driver import Connect, Page, Database"
   ],
   "outputs": [],
   "metadata": {}
  },
  {
   "cell_type": "code",
   "execution_count": 2,
   "source": [
    "TOKEN_API = \"secret_R1CrUGn8bx9itbJW0Fc9Cc0R9Lmhbnz2ayqEe0GhRPq\"\n",
    "PAGE_URL = \"https://www.notion.so/Tom-Simon-2ccdafe28955478b8c9d70bda0044c86\""
   ],
   "outputs": [],
   "metadata": {}
  },
  {
   "cell_type": "code",
   "execution_count": 3,
   "source": [
    "Connect(TOKEN_API)\n",
    "page = Page(PAGE_URL)"
   ],
   "outputs": [],
   "metadata": {}
  },
  {
   "cell_type": "markdown",
   "source": [
    "## 1. Get Page properties"
   ],
   "metadata": {}
  },
  {
   "cell_type": "code",
   "execution_count": 4,
   "source": [
    "page.properties"
   ],
   "outputs": [
    {
     "output_type": "execute_result",
     "data": {
      "text/plain": [
       "Date                       2021-09-26\n",
       "Status                        Next up\n",
       "Jobs               Astronaut, Danceur\n",
       "Completion Time                     2\n",
       "Email               rasseax@gmail.com\n",
       "Maried                           True\n",
       "Interviewer                Axel Rasse\n",
       "Task                      Online Mode\n",
       "Phone Number            06 92 556 337\n",
       "Name                       Axel Rasse\n",
       "dtype: object"
      ]
     },
     "metadata": {},
     "execution_count": 4
    }
   ],
   "metadata": {}
  },
  {
   "cell_type": "markdown",
   "source": [
    "## 2. Update page properties"
   ],
   "metadata": {}
  },
  {
   "cell_type": "code",
   "execution_count": 5,
   "source": [
    "page[\"Name\"] = \"Axel Rasse\"\n",
    "page[\"Task\"] = \"Online Mode\"\n",
    "page[\"Email\"] = \"rasseax@gmail.com\"\n",
    "page[\"Phone Number\"] = \"06 92 556 337\"\n",
    "page._update_properties()"
   ],
   "outputs": [
    {
     "output_type": "stream",
     "name": "stdout",
     "text": [
      "✨ Properties have been updated\n"
     ]
    }
   ],
   "metadata": {}
  },
  {
   "cell_type": "markdown",
   "source": [
    "## 3. Get page content"
   ],
   "metadata": {}
  },
  {
   "cell_type": "code",
   "execution_count": 6,
   "source": [
    "page.content"
   ],
   "outputs": [
    {
     "output_type": "execute_result",
     "data": {
      "text/plain": [
       "                                      id  has_children                type  \\\n",
       "0   5f61a979-86b3-424a-ace5-163dd8097967         False           heading_1   \n",
       "1   019f4959-d54d-4348-a3d4-9aaaca6a34e1         False           heading_2   \n",
       "2   a8d86c7f-5b94-4c86-bd4d-2e99338e2ebb         False           heading_3   \n",
       "3   2744f0e0-7935-4a34-bc17-e4018430f753         False           paragraph   \n",
       "4   aa7b6a98-5e60-4d04-832d-03891c4fb7a4         False  bulleted_list_item   \n",
       "5   b3bc1aee-2952-4ec9-894c-27b7915c11c9         False  numbered_list_item   \n",
       "6   2ec20f0a-394d-44df-baae-ab0e3e9cddb5         False               to_do   \n",
       "7   bb137b55-f4b3-4cc5-a22b-58db19e745db          True              toggle   \n",
       "8   b607ffa9-0d2e-411d-a3b2-4b8899a045a3          True          child_page   \n",
       "9   fc380fdb-a898-46c3-8589-df4bf41f9e4b          True          child_page   \n",
       "10  ebd82540-97ca-484a-93e9-59bac0294e14          True          child_page   \n",
       "11  e059d633-9158-4624-98db-b1f32e06a306          True          child_page   \n",
       "\n",
       "                                   content  \n",
       "0                         I am a Heading 1  \n",
       "1                        I am an Heading 2  \n",
       "2                        I am an Heading 3  \n",
       "3   i am a paragraph with different  color  \n",
       "4                   i am an unordered list  \n",
       "5                     i am an ordered list  \n",
       "6                        i am a to do list  \n",
       "7                            i am a toggle  \n",
       "8                              I am a page  \n",
       "9                   Page created from Naas  \n",
       "10                  Page created from Naas  \n",
       "11                  Page created from Naas  "
      ],
      "text/html": [
       "<div>\n",
       "<style scoped>\n",
       "    .dataframe tbody tr th:only-of-type {\n",
       "        vertical-align: middle;\n",
       "    }\n",
       "\n",
       "    .dataframe tbody tr th {\n",
       "        vertical-align: top;\n",
       "    }\n",
       "\n",
       "    .dataframe thead th {\n",
       "        text-align: right;\n",
       "    }\n",
       "</style>\n",
       "<table border=\"1\" class=\"dataframe\">\n",
       "  <thead>\n",
       "    <tr style=\"text-align: right;\">\n",
       "      <th></th>\n",
       "      <th>id</th>\n",
       "      <th>has_children</th>\n",
       "      <th>type</th>\n",
       "      <th>content</th>\n",
       "    </tr>\n",
       "  </thead>\n",
       "  <tbody>\n",
       "    <tr>\n",
       "      <th>0</th>\n",
       "      <td>5f61a979-86b3-424a-ace5-163dd8097967</td>\n",
       "      <td>False</td>\n",
       "      <td>heading_1</td>\n",
       "      <td>I am a Heading 1</td>\n",
       "    </tr>\n",
       "    <tr>\n",
       "      <th>1</th>\n",
       "      <td>019f4959-d54d-4348-a3d4-9aaaca6a34e1</td>\n",
       "      <td>False</td>\n",
       "      <td>heading_2</td>\n",
       "      <td>I am an Heading 2</td>\n",
       "    </tr>\n",
       "    <tr>\n",
       "      <th>2</th>\n",
       "      <td>a8d86c7f-5b94-4c86-bd4d-2e99338e2ebb</td>\n",
       "      <td>False</td>\n",
       "      <td>heading_3</td>\n",
       "      <td>I am an Heading 3</td>\n",
       "    </tr>\n",
       "    <tr>\n",
       "      <th>3</th>\n",
       "      <td>2744f0e0-7935-4a34-bc17-e4018430f753</td>\n",
       "      <td>False</td>\n",
       "      <td>paragraph</td>\n",
       "      <td>i am a paragraph with different  color</td>\n",
       "    </tr>\n",
       "    <tr>\n",
       "      <th>4</th>\n",
       "      <td>aa7b6a98-5e60-4d04-832d-03891c4fb7a4</td>\n",
       "      <td>False</td>\n",
       "      <td>bulleted_list_item</td>\n",
       "      <td>i am an unordered list</td>\n",
       "    </tr>\n",
       "    <tr>\n",
       "      <th>5</th>\n",
       "      <td>b3bc1aee-2952-4ec9-894c-27b7915c11c9</td>\n",
       "      <td>False</td>\n",
       "      <td>numbered_list_item</td>\n",
       "      <td>i am an ordered list</td>\n",
       "    </tr>\n",
       "    <tr>\n",
       "      <th>6</th>\n",
       "      <td>2ec20f0a-394d-44df-baae-ab0e3e9cddb5</td>\n",
       "      <td>False</td>\n",
       "      <td>to_do</td>\n",
       "      <td>i am a to do list</td>\n",
       "    </tr>\n",
       "    <tr>\n",
       "      <th>7</th>\n",
       "      <td>bb137b55-f4b3-4cc5-a22b-58db19e745db</td>\n",
       "      <td>True</td>\n",
       "      <td>toggle</td>\n",
       "      <td>i am a toggle</td>\n",
       "    </tr>\n",
       "    <tr>\n",
       "      <th>8</th>\n",
       "      <td>b607ffa9-0d2e-411d-a3b2-4b8899a045a3</td>\n",
       "      <td>True</td>\n",
       "      <td>child_page</td>\n",
       "      <td>I am a page</td>\n",
       "    </tr>\n",
       "    <tr>\n",
       "      <th>9</th>\n",
       "      <td>fc380fdb-a898-46c3-8589-df4bf41f9e4b</td>\n",
       "      <td>True</td>\n",
       "      <td>child_page</td>\n",
       "      <td>Page created from Naas</td>\n",
       "    </tr>\n",
       "    <tr>\n",
       "      <th>10</th>\n",
       "      <td>ebd82540-97ca-484a-93e9-59bac0294e14</td>\n",
       "      <td>True</td>\n",
       "      <td>child_page</td>\n",
       "      <td>Page created from Naas</td>\n",
       "    </tr>\n",
       "    <tr>\n",
       "      <th>11</th>\n",
       "      <td>e059d633-9158-4624-98db-b1f32e06a306</td>\n",
       "      <td>True</td>\n",
       "      <td>child_page</td>\n",
       "      <td>Page created from Naas</td>\n",
       "    </tr>\n",
       "  </tbody>\n",
       "</table>\n",
       "</div>"
      ]
     },
     "metadata": {},
     "execution_count": 6
    }
   ],
   "metadata": {}
  },
  {
   "cell_type": "markdown",
   "source": [
    "## 4. Update content"
   ],
   "metadata": {}
  },
  {
   "cell_type": "code",
   "execution_count": 7,
   "source": [
    "## not now"
   ],
   "outputs": [],
   "metadata": {}
  },
  {
   "cell_type": "markdown",
   "source": [
    "## 5. Retreive page from database"
   ],
   "metadata": {}
  },
  {
   "cell_type": "code",
   "execution_count": 8,
   "source": [
    "DATABASE_URL = \"https://www.notion.so/d0bb915c4cb4422a87679f3bb9658282?v=8cd7c6ea0ec244da9eb65aa88a87aabb\"\n",
    "database = Database(DATABASE_URL)\n",
    "\n",
    "database.pages"
   ],
   "outputs": [
    {
     "output_type": "execute_result",
     "data": {
      "text/plain": [
       "                            Date     Status                Jobs  \\\n",
       "0                           None       None                None   \n",
       "1                     2021-09-26    Next up  Astronaut, Danceur   \n",
       "2                     2021-08-11  Scheduled              dancer   \n",
       "3  2019-10-24T14:00:00.000-07:00  Scheduled              surfer   \n",
       "\n",
       "   Completion Time                    Email Maried Interviewer  \\\n",
       "0              NaN                     None   None        None   \n",
       "1              2.0        rasseax@gmail.com   True  Axel Rasse   \n",
       "2              3.0        rasseax@gmail.com   None  Axel Rasse   \n",
       "3             25.0  chelsea.zhang@gmail.com   None               \n",
       "\n",
       "              Task   Phone Number                    Name  \n",
       "0             None           None  Page created from Naas  \n",
       "1      Online Mode  06 92 556 337              Axel Rasse  \n",
       "2  Onboarding Flow           None              Axel Rasse  \n",
       "3  Onboarding Flow           None           Chelsea Zhang  "
      ],
      "text/html": [
       "<div>\n",
       "<style scoped>\n",
       "    .dataframe tbody tr th:only-of-type {\n",
       "        vertical-align: middle;\n",
       "    }\n",
       "\n",
       "    .dataframe tbody tr th {\n",
       "        vertical-align: top;\n",
       "    }\n",
       "\n",
       "    .dataframe thead th {\n",
       "        text-align: right;\n",
       "    }\n",
       "</style>\n",
       "<table border=\"1\" class=\"dataframe\">\n",
       "  <thead>\n",
       "    <tr style=\"text-align: right;\">\n",
       "      <th></th>\n",
       "      <th>Date</th>\n",
       "      <th>Status</th>\n",
       "      <th>Jobs</th>\n",
       "      <th>Completion Time</th>\n",
       "      <th>Email</th>\n",
       "      <th>Maried</th>\n",
       "      <th>Interviewer</th>\n",
       "      <th>Task</th>\n",
       "      <th>Phone Number</th>\n",
       "      <th>Name</th>\n",
       "    </tr>\n",
       "  </thead>\n",
       "  <tbody>\n",
       "    <tr>\n",
       "      <th>0</th>\n",
       "      <td>None</td>\n",
       "      <td>None</td>\n",
       "      <td>None</td>\n",
       "      <td>NaN</td>\n",
       "      <td>None</td>\n",
       "      <td>None</td>\n",
       "      <td>None</td>\n",
       "      <td>None</td>\n",
       "      <td>None</td>\n",
       "      <td>Page created from Naas</td>\n",
       "    </tr>\n",
       "    <tr>\n",
       "      <th>1</th>\n",
       "      <td>2021-09-26</td>\n",
       "      <td>Next up</td>\n",
       "      <td>Astronaut, Danceur</td>\n",
       "      <td>2.0</td>\n",
       "      <td>rasseax@gmail.com</td>\n",
       "      <td>True</td>\n",
       "      <td>Axel Rasse</td>\n",
       "      <td>Online Mode</td>\n",
       "      <td>06 92 556 337</td>\n",
       "      <td>Axel Rasse</td>\n",
       "    </tr>\n",
       "    <tr>\n",
       "      <th>2</th>\n",
       "      <td>2021-08-11</td>\n",
       "      <td>Scheduled</td>\n",
       "      <td>dancer</td>\n",
       "      <td>3.0</td>\n",
       "      <td>rasseax@gmail.com</td>\n",
       "      <td>None</td>\n",
       "      <td>Axel Rasse</td>\n",
       "      <td>Onboarding Flow</td>\n",
       "      <td>None</td>\n",
       "      <td>Axel Rasse</td>\n",
       "    </tr>\n",
       "    <tr>\n",
       "      <th>3</th>\n",
       "      <td>2019-10-24T14:00:00.000-07:00</td>\n",
       "      <td>Scheduled</td>\n",
       "      <td>surfer</td>\n",
       "      <td>25.0</td>\n",
       "      <td>chelsea.zhang@gmail.com</td>\n",
       "      <td>None</td>\n",
       "      <td></td>\n",
       "      <td>Onboarding Flow</td>\n",
       "      <td>None</td>\n",
       "      <td>Chelsea Zhang</td>\n",
       "    </tr>\n",
       "  </tbody>\n",
       "</table>\n",
       "</div>"
      ]
     },
     "metadata": {},
     "execution_count": 8
    }
   ],
   "metadata": {}
  },
  {
   "cell_type": "markdown",
   "source": [
    "## 6. Create a new page"
   ],
   "metadata": {}
  },
  {
   "cell_type": "code",
   "execution_count": 9,
   "source": [
    "# database "
   ],
   "outputs": [],
   "metadata": {}
  },
  {
   "cell_type": "markdown",
   "source": [
    "## 7. Duplicate page"
   ],
   "metadata": {}
  },
  {
   "cell_type": "code",
   "execution_count": 10,
   "source": [
    "# page.duplicate()\n",
    "page"
   ],
   "outputs": [
    {
     "output_type": "execute_result",
     "data": {
      "text/plain": [
       "<driver.Page at 0x10b4a2520>"
      ]
     },
     "metadata": {},
     "execution_count": 10
    }
   ],
   "metadata": {}
  },
  {
   "cell_type": "code",
   "execution_count": 12,
   "source": [
    "page._raw_properties.keys()"
   ],
   "outputs": [
    {
     "output_type": "execute_result",
     "data": {
      "text/plain": [
       "dict_keys(['Date', 'Status', 'Jobs', 'Completion Time', 'Email', 'Maried', 'Interviewer', 'Task', 'Phone Number', 'Name'])"
      ]
     },
     "metadata": {},
     "execution_count": 12
    }
   ],
   "metadata": {}
  },
  {
   "cell_type": "code",
   "execution_count": null,
   "source": [],
   "outputs": [],
   "metadata": {}
  }
 ],
 "metadata": {
  "orig_nbformat": 4,
  "language_info": {
   "name": "python",
   "version": "3.9.4",
   "mimetype": "text/x-python",
   "codemirror_mode": {
    "name": "ipython",
    "version": 3
   },
   "pygments_lexer": "ipython3",
   "nbconvert_exporter": "python",
   "file_extension": ".py"
  },
  "kernelspec": {
   "name": "python3",
   "display_name": "Python 3.9.4 64-bit ('data_sciences': venv)"
  },
  "interpreter": {
   "hash": "1c9d67516bf834053d8af3cb0b91ebd779ed40e1638e0b3ab2e2ca79be7b45fa"
  }
 },
 "nbformat": 4,
 "nbformat_minor": 2
}