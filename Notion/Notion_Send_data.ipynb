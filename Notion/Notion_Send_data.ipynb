{
 "cells": [
  {
   "cell_type": "markdown",
   "id": "ordered-supervisor",
   "metadata": {
    "papermill": {},
    "tags": []
   },
   "source": [
    "<img width=\"10%\" alt=\"Naas\" src=\"https://landen.imgix.net/jtci2pxwjczr/assets/5ice39g4.png?w=160\"/>"
   ]
  },
  {
   "cell_type": "markdown",
   "id": "acceptable-subsection",
   "metadata": {
    "papermill": {},
    "tags": []
   },
   "source": [
    "# Notion - Send data\n",
    "[![download](https://img.shields.io/static/v1?label=Naas&labelColor=000000&message=Download&color=success&style=for-the-badge&logo=image%2Fsvg%2Bxml%3Bbase64%2CPD94bWwgdmVyc2lvbj0iMS4wIiBlbmNvZGluZz0iVVRGLTgiPz4KPHN2ZyB3aWR0aD0iMTAyNHB4IiBoZWlnaHQ9IjEwMjRweCIgdmlld0JveD0iMCAwIDEwMjQgMTAyNCIgeG1sbnM9Imh0dHA6Ly93d3cudzMub3JnLzIwMDAvc3ZnIiB4bWxuczp4bGluaz0iaHR0cDovL3d3dy53My5vcmcvMTk5OS94bGluayIgdmVyc2lvbj0iMS4xIj4KIDwhLS0gR2VuZXJhdGVkIGJ5IFBpeGVsbWF0b3IgUHJvIDIuMC41IC0tPgogPGRlZnM%2BCiAgPHRleHQgaWQ9InN0cmluZyIgdHJhbnNmb3JtPSJtYXRyaXgoMS4wIDAuMCAwLjAgMS4wIDIyOC4wIDU0LjUpIiBmb250LWZhbWlseT0iQ29tZm9ydGFhLVJlZ3VsYXIsIENvbWZvcnRhYSIgZm9udC1zaXplPSI4MDAiIHRleHQtZGVjb3JhdGlvbj0ibm9uZSIgZmlsbD0iI2ZmZmZmZiIgeD0iMS4xOTk5OTk5OTk5OTk5ODg2IiB5PSI3MDUuMCI%2BbjwvdGV4dD4KIDwvZGVmcz4KIDx1c2UgaWQ9Im4iIHhsaW5rOmhyZWY9IiNzdHJpbmciLz4KPC9zdmc%2BCg%3D%3D)](https://app.naas.ai/user-redirect/naas/downloader?url=https://raw.githubusercontent.com/jupyter-naas/awesome-notebooks/master/Notion/Notion_Send_data.ipynb)"
   ]
  },
  {
   "cell_type": "markdown",
   "id": "typical-decrease",
   "metadata": {
    "papermill": {},
    "tags": []
   },
   "source": [
    "<img width=\"20%\" alt=\"Naas\" src=\"https://project-management.com/wp-content/uploads/2020/01/notion-logo.png\"/>"
   ]
  },
  {
   "cell_type": "markdown",
   "id": "desirable-final",
   "metadata": {
    "papermill": {},
    "tags": []
   },
   "source": [
    "## Get your token "
   ]
  },
  {
   "cell_type": "markdown",
   "id": "another-colonial",
   "metadata": {
    "papermill": {},
    "tags": []
   },
   "source": [
    "To obtain the `token_v2` : \n",
    "- click right on a Notion.so logged-in (non-guest) session, then\n",
    "- \"Inspect\" will open a technical window \n",
    "- Go to \"Applications\" and in the table search for \"token_v2\" simply copy the value."
   ]
  },
  {
   "cell_type": "markdown",
   "id": "quarterly-lending",
   "metadata": {
    "papermill": {},
    "tags": []
   },
   "source": [
    "## Use the driver to send data"
   ]
  },
  {
   "cell_type": "markdown",
   "id": "official-sport",
   "metadata": {
    "papermill": {},
    "tags": []
   },
   "source": [
    "Replace table_url with the URL of the page you want to edit"
   ]
  },
  {
   "cell_type": "code",
   "execution_count": 2,
   "id": "confident-advancement",
   "metadata": {
    "execution": {
     "iopub.execute_input": "2021-01-26T15:34:04.459748Z",
     "iopub.status.busy": "2021-01-26T15:34:04.459512Z",
     "iopub.status.idle": "2021-01-26T15:34:04.464173Z",
     "shell.execute_reply": "2021-01-26T15:34:04.463620Z",
     "shell.execute_reply.started": "2021-01-26T15:34:04.459725Z"
    },
    "papermill": {},
    "tags": []
   },
   "outputs": [],
   "source": [
    "import naas_drivers\n",
    "\n",
    "token = \"*********\"\n",
    "url = \"https://www.notion.so/myorg/Test-c0d20a71c0944985ae96e661ccc99821\"\n",
    "n = naas_drivers.notion.connect(token=token)\n",
    "cv = n.get_collection(url, raw=True)\n",
    "\n",
    "# Add a new record\n",
    "row = cv.collection.add_row()\n",
    "row.name = \"Just some data\"\n",
    "row.is_confirmed = True\n",
    "row.estimated_value = 399\n",
    "row.files = [\"https://www.birdlife.org/sites/default/files/styles/1600/public/slide.jpg\"]\n",
    "row.person = client.current_user\n",
    "row.tags = [\"A\", \"C\"]\n",
    "row.where_to = \"https://learningequality.org\""
   ]
  }
 ],
 "metadata": {
  "kernelspec": {
   "display_name": "Python 3",
   "language": "python",
   "name": "python3"
  },
  "language_info": {
   "codemirror_mode": {
    "name": "ipython",
    "version": 3
   },
   "file_extension": ".py",
   "mimetype": "text/x-python",
   "name": "python",
   "nbconvert_exporter": "python",
   "pygments_lexer": "ipython3",
   "version": "3.8.6"
  },
  "papermill": {
   "default_parameters": {},
   "environment_variables": {},
   "parameters": {},
   "version": "2.3.3"
  }
 },
 "nbformat": 4,
 "nbformat_minor": 5
}