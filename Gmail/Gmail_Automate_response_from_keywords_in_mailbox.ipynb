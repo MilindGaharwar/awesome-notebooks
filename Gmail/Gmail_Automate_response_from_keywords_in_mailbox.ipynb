{
 "cells": [
  {
   "cell_type": "markdown",
   "id": "stylish-devon",
   "metadata": {
    "papermill": {},
    "tags": []
   },
   "source": [
    "<img width=\"10%\" alt=\"Naas\" src=\"https://landen.imgix.net/jtci2pxwjczr/assets/5ice39g4.png?w=160\"/>"
   ]
  },
  {
   "cell_type": "markdown",
   "id": "hollow-meter",
   "metadata": {
    "papermill": {},
    "tags": []
   },
   "source": [
    "#  Gmail - Automate response from keywords in mailbox\n",
    "[![download](https://img.shields.io/static/v1?label=Naas&labelColor=000000&message=Download&color=success&style=for-the-badge&logo=image%2Fsvg%2Bxml%3Bbase64%2CPD94bWwgdmVyc2lvbj0iMS4wIiBlbmNvZGluZz0iVVRGLTgiPz4KPHN2ZyB3aWR0aD0iMTAyNHB4IiBoZWlnaHQ9IjEwMjRweCIgdmlld0JveD0iMCAwIDEwMjQgMTAyNCIgeG1sbnM9Imh0dHA6Ly93d3cudzMub3JnLzIwMDAvc3ZnIiB4bWxuczp4bGluaz0iaHR0cDovL3d3dy53My5vcmcvMTk5OS94bGluayIgdmVyc2lvbj0iMS4xIj4KIDwhLS0gR2VuZXJhdGVkIGJ5IFBpeGVsbWF0b3IgUHJvIDIuMC41IC0tPgogPGRlZnM%2BCiAgPHRleHQgaWQ9InN0cmluZyIgdHJhbnNmb3JtPSJtYXRyaXgoMS4wIDAuMCAwLjAgMS4wIDIyOC4wIDU0LjUpIiBmb250LWZhbWlseT0iQ29tZm9ydGFhLVJlZ3VsYXIsIENvbWZvcnRhYSIgZm9udC1zaXplPSI4MDAiIHRleHQtZGVjb3JhdGlvbj0ibm9uZSIgZmlsbD0iI2ZmZmZmZiIgeD0iMS4xOTk5OTk5OTk5OTk5ODg2IiB5PSI3MDUuMCI%2BbjwvdGV4dD4KIDwvZGVmcz4KIDx1c2UgaWQ9Im4iIHhsaW5rOmhyZWY9IiNzdHJpbmciLz4KPC9zdmc%2BCg%3D%3D)](https://app.naas.ai/user-redirect/naas/downloader?url=https://raw.githubusercontent.com/jupyter-naas/awesome-notebooks/master/Gmail/Gmail_Automate_response_from_keywords_in_mailbox.ipynb)"
   ]
  },
  {
   "cell_type": "markdown",
   "id": "taken-prevention",
   "metadata": {
    "papermill": {},
    "tags": []
   },
   "source": [
    "<img width=\"20%\" alt=\"Naas\" src=\"https://cdn.vox-cdn.com/thumbor/K-q2WRPRyxxzzPLjxHGt26swMfM=/0x0:1320x880/1200x800/filters:focal(555x335:765x545)/cdn.vox-cdn.com/uploads/chorus_image/image/67587450/newgmaillogo.0.jpg\"/>"
   ]
  },
  {
   "cell_type": "markdown",
   "id": "charged-explosion",
   "metadata": {
    "papermill": {},
    "tags": []
   },
   "source": [
    "## Account credentials"
   ]
  },
  {
   "cell_type": "code",
   "execution_count": 1,
   "id": "operating-princeton",
   "metadata": {
    "papermill": {},
    "tags": []
   },
   "outputs": [],
   "source": [
    "username = \"**********@gmail.com\"\n",
    "to = \"**********@gmail.com\"\n",
    "password = \"**********\"\n",
    "smtp_server = \"imap.gmail.com\"\n",
    "box = \"INBOX\""
   ]
  },
  {
   "cell_type": "markdown",
   "id": "coastal-disposition",
   "metadata": {
    "papermill": {},
    "tags": []
   },
   "source": [
    "## Connect to email box"
   ]
  },
  {
   "cell_type": "code",
   "execution_count": 2,
   "id": "cardiovascular-metallic",
   "metadata": {
    "papermill": {},
    "tags": []
   },
   "outputs": [],
   "source": [
    "import naas_drivers\n",
    "emails = naas_drivers.email.connect(username, \n",
    "        password, \n",
    "        username, \n",
    "        smtp_server)"
   ]
  },
  {
   "cell_type": "markdown",
   "id": "lasting-review",
   "metadata": {
    "papermill": {},
    "tags": []
   },
   "source": [
    "## Get email list"
   ]
  },
  {
   "cell_type": "code",
   "execution_count": 3,
   "id": "experienced-denver",
   "metadata": {
    "papermill": {},
    "tags": []
   },
   "outputs": [
    {
     "data": {
      "text/html": [
       "<div>\n",
       "<style scoped>\n",
       "    .dataframe tbody tr th:only-of-type {\n",
       "        vertical-align: middle;\n",
       "    }\n",
       "\n",
       "    .dataframe tbody tr th {\n",
       "        vertical-align: top;\n",
       "    }\n",
       "\n",
       "    .dataframe thead th {\n",
       "        text-align: right;\n",
       "    }\n",
       "</style>\n",
       "<table border=\"1\" class=\"dataframe\">\n",
       "  <thead>\n",
       "    <tr style=\"text-align: right;\">\n",
       "      <th></th>\n",
       "      <th>uid</th>\n",
       "      <th>subject</th>\n",
       "      <th>from</th>\n",
       "      <th>to</th>\n",
       "      <th>cc</th>\n",
       "      <th>bcc</th>\n",
       "      <th>reply_to</th>\n",
       "      <th>date</th>\n",
       "      <th>text</th>\n",
       "      <th>html</th>\n",
       "      <th>flags</th>\n",
       "      <th>headers</th>\n",
       "      <th>size_rfc822</th>\n",
       "      <th>size</th>\n",
       "      <th>obj</th>\n",
       "      <th>attachments</th>\n",
       "    </tr>\n",
       "  </thead>\n",
       "  <tbody>\n",
       "    <tr>\n",
       "      <th>0</th>\n",
       "      <td>26</td>\n",
       "      <td>Sales Report</td>\n",
       "      <td>{'email': 'notifications@naas.ai', 'name': '',...</td>\n",
       "      <td>[{'email': 'naas.sanjay22@gmail.com', 'name': ...</td>\n",
       "      <td>[]</td>\n",
       "      <td>[]</td>\n",
       "      <td>[]</td>\n",
       "      <td>2020-12-17 09:54:51+00:00</td>\n",
       "      <td>Hai Sir\\r\\n,Here I am attaching the sales repo...</td>\n",
       "      <td>Hai Sir\\r\\n,Here I am attaching the sales repo...</td>\n",
       "      <td>()</td>\n",
       "      <td>{'X-Received': ('by 2002:a17:906:d9c7:: with S...</td>\n",
       "      <td>5908</td>\n",
       "      <td>5826</td>\n",
       "      <td>[Delivered-To, Received, X-Google-Smtp-Source,...</td>\n",
       "      <td>1</td>\n",
       "    </tr>\n",
       "    <tr>\n",
       "      <th>1</th>\n",
       "      <td>22</td>\n",
       "      <td>Another test mail</td>\n",
       "      <td>{'email': 'sanjaysabu4205@gmail.com', 'name': ...</td>\n",
       "      <td>[{'email': 'naas.sanjay22@gmail.com', 'name': ...</td>\n",
       "      <td>[]</td>\n",
       "      <td>[]</td>\n",
       "      <td>[]</td>\n",
       "      <td>2020-12-17 11:54:36+05:30</td>\n",
       "      <td>This is another test mail\\r\\n</td>\n",
       "      <td>&lt;div dir=\"ltr\"&gt;This is another test mail&lt;/div&gt;...</td>\n",
       "      <td>(SEEN,)</td>\n",
       "      <td>{'X-Received': ('by 2002:a2e:6818:: with SMTP ...</td>\n",
       "      <td>4795</td>\n",
       "      <td>4725</td>\n",
       "      <td>[Delivered-To, Received, X-Received, ARC-Seal,...</td>\n",
       "      <td>0</td>\n",
       "    </tr>\n",
       "    <tr>\n",
       "      <th>2</th>\n",
       "      <td>16</td>\n",
       "      <td>Please send sales report?</td>\n",
       "      <td>{'email': 'jeremy.ravenel@cashstory.com', 'nam...</td>\n",
       "      <td>[{'email': 'naas.sanjay22@gmail.com', 'name': ...</td>\n",
       "      <td>[]</td>\n",
       "      <td>[]</td>\n",
       "      <td>[]</td>\n",
       "      <td>2020-12-15 10:56:37+01:00</td>\n",
       "      <td>Could you please send sales report man?\\r\\n\\r\\...</td>\n",
       "      <td>&lt;div dir=\"ltr\"&gt;&lt;div class=\"gmail_default\" styl...</td>\n",
       "      <td>(SEEN,)</td>\n",
       "      <td>{'X-Received': ('by 2002:a9f:204e:: with SMTP ...</td>\n",
       "      <td>6050</td>\n",
       "      <td>5962</td>\n",
       "      <td>[Delivered-To, Received, X-Received, ARC-Seal,...</td>\n",
       "      <td>0</td>\n",
       "    </tr>\n",
       "  </tbody>\n",
       "</table>\n",
       "</div>"
      ],
      "text/plain": [
       "  uid                    subject  \\\n",
       "0  26               Sales Report   \n",
       "1  22          Another test mail   \n",
       "2  16  Please send sales report?   \n",
       "\n",
       "                                                from  \\\n",
       "0  {'email': 'notifications@naas.ai', 'name': '',...   \n",
       "1  {'email': 'sanjaysabu4205@gmail.com', 'name': ...   \n",
       "2  {'email': 'jeremy.ravenel@cashstory.com', 'nam...   \n",
       "\n",
       "                                                  to  cc bcc reply_to  \\\n",
       "0  [{'email': 'naas.sanjay22@gmail.com', 'name': ...  []  []       []   \n",
       "1  [{'email': 'naas.sanjay22@gmail.com', 'name': ...  []  []       []   \n",
       "2  [{'email': 'naas.sanjay22@gmail.com', 'name': ...  []  []       []   \n",
       "\n",
       "                        date  \\\n",
       "0  2020-12-17 09:54:51+00:00   \n",
       "1  2020-12-17 11:54:36+05:30   \n",
       "2  2020-12-15 10:56:37+01:00   \n",
       "\n",
       "                                                text  \\\n",
       "0  Hai Sir\\r\\n,Here I am attaching the sales repo...   \n",
       "1                      This is another test mail\\r\\n   \n",
       "2  Could you please send sales report man?\\r\\n\\r\\...   \n",
       "\n",
       "                                                html    flags  \\\n",
       "0  Hai Sir\\r\\n,Here I am attaching the sales repo...       ()   \n",
       "1  <div dir=\"ltr\">This is another test mail</div>...  (SEEN,)   \n",
       "2  <div dir=\"ltr\"><div class=\"gmail_default\" styl...  (SEEN,)   \n",
       "\n",
       "                                             headers  size_rfc822  size  \\\n",
       "0  {'X-Received': ('by 2002:a17:906:d9c7:: with S...         5908  5826   \n",
       "1  {'X-Received': ('by 2002:a2e:6818:: with SMTP ...         4795  4725   \n",
       "2  {'X-Received': ('by 2002:a9f:204e:: with SMTP ...         6050  5962   \n",
       "\n",
       "                                                 obj  attachments  \n",
       "0  [Delivered-To, Received, X-Google-Smtp-Source,...            1  \n",
       "1  [Delivered-To, Received, X-Received, ARC-Seal,...            0  \n",
       "2  [Delivered-To, Received, X-Received, ARC-Seal,...            0  "
      ]
     },
     "execution_count": 3,
     "metadata": {},
     "output_type": "execute_result"
    }
   ],
   "source": [
    "dataframe = emails.get(criteria=\"ALL\")\n",
    "dataframe"
   ]
  },
  {
   "cell_type": "markdown",
   "id": "separate-oxford",
   "metadata": {
    "papermill": {},
    "tags": []
   },
   "source": [
    "## Automated reponse"
   ]
  },
  {
   "cell_type": "code",
   "execution_count": 6,
   "id": "affecting-martin",
   "metadata": {
    "papermill": {},
    "tags": []
   },
   "outputs": [
    {
     "name": "stdout",
     "output_type": "stream",
     "text": [
      "👌 💌 Email has been sent successfully !\n",
      "👌 💌 Email has been sent successfully !\n"
     ]
    }
   ],
   "source": [
    "import naas\n",
    "from re import search\n",
    "for df in dataframe[\"text\"]:\n",
    "    text = df.lower()\n",
    "    if search(\"sales report\", text): \n",
    "        email_to = \"naas.sanjay22@gmail.com\"\n",
    "        subject = \"Sales Report\"\n",
    "        content = \"Hi \\n,Here I am attaching the sales report as per your request\\n.With Regards\\n,NAAS Team\"\n",
    "        files = [\"Excel-Sales_Feb2020.csv\"]\n",
    "        naas.notifications.send(email_to=email_to, subject=subject, html=content, files=files)\n",
    "    "
   ]
  }
 ],
 "metadata": {
  "kernelspec": {
   "display_name": "Python 3",
   "language": "python",
   "name": "python3"
  },
  "language_info": {
   "codemirror_mode": {
    "name": "ipython",
    "version": 3
   },
   "file_extension": ".py",
   "mimetype": "text/x-python",
   "name": "python",
   "nbconvert_exporter": "python",
   "pygments_lexer": "ipython3",
   "version": "3.8.6"
  },
  "papermill": {
   "default_parameters": {},
   "environment_variables": {},
   "parameters": {},
   "version": "2.3.3"
  }
 },
 "nbformat": 4,
 "nbformat_minor": 5
}