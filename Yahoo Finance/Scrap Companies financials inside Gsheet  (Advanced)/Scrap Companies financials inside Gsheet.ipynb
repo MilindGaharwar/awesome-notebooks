{
 "cells": [
  {
   "cell_type": "markdown",
   "id": "thermal-poetry",
   "metadata": {
    "papermill": {},
    "tags": []
   },
   "source": [
    "# Scrap Companies financials from Gsheet \n",
    "[![download](https://img.shields.io/static/v1?label=&labelColor=000000&message=Open%20in%20Naas&color=success&logo=image%2Fsvg%2Bxml%3Bbase64%2CPD94bWwgdmVyc2lvbj0iMS4wIiBlbmNvZGluZz0iVVRGLTgiPz4KPHN2ZyB3aWR0aD0iMTAyNHB4IiBoZWlnaHQ9IjEwMjRweCIgdmlld0JveD0iMCAwIDEwMjQgMTAyNCIgeG1sbnM9Imh0dHA6Ly93d3cudzMub3JnLzIwMDAvc3ZnIiB4bWxuczp4bGluaz0iaHR0cDovL3d3dy53My5vcmcvMTk5OS94bGluayIgdmVyc2lvbj0iMS4xIj4KIDwhLS0gR2VuZXJhdGVkIGJ5IFBpeGVsbWF0b3IgUHJvIDIuMC41IC0tPgogPGRlZnM%2BCiAgPHRleHQgaWQ9InN0cmluZyIgdHJhbnNmb3JtPSJtYXRyaXgoMS4wIDAuMCAwLjAgMS4wIDIyOC4wIDU0LjUpIiBmb250LWZhbWlseT0iQ29tZm9ydGFhLVJlZ3VsYXIsIENvbWZvcnRhYSIgZm9udC1zaXplPSI4MDAiIHRleHQtZGVjb3JhdGlvbj0ibm9uZSIgZmlsbD0iI2ZmZmZmZiIgeD0iMS4xOTk5OTk5OTk5OTk5ODg2IiB5PSI3MDUuMCI%2BbjwvdGV4dD4KIDwvZGVmcz4KIDx1c2UgaWQ9Im4iIHhsaW5rOmhyZWY9IiNzdHJpbmciLz4KPC9zdmc%2BCg%3D%3D)](https://app.naas.ai/user-redirect/naas/downloader?url=https://raw.githubusercontent.com/jupyter-naas/awesome-notebooks/master/Yahoo%20Finance/Scrap%20Companies%20financials%20inside%20Gsheet%20%20%28Advanced%29/Scrap%20Companies%20financials%20inside%20Gsheet.ipynb)\n",
    "(Balance sheet, P&L, Cashflow)"
   ]
  },
  {
   "cell_type": "code",
   "execution_count": null,
   "id": "cultural-wholesale",
   "metadata": {
    "papermill": {},
    "tags": []
   },
   "outputs": [],
   "source": [
    "! pip install pandas\n",
    "! pip install lxml\n",
    "! pip install gspread"
   ]
  },
  {
   "cell_type": "code",
   "execution_count": 4,
   "id": "occasional-lawyer",
   "metadata": {
    "papermill": {},
    "tags": []
   },
   "outputs": [],
   "source": [
    "import yahoo_scraper"
   ]
  },
  {
   "cell_type": "markdown",
   "id": "hispanic-exchange",
   "metadata": {
    "papermill": {},
    "tags": []
   },
   "source": [
    "- out_sheet_name - sheet name(workbook) where outpust shoud save\n",
    "- sheet_id - google sheet id. it can get from url of google sheet\n",
    "- input_sheet_name - name of sheet(workbook) where input symbols are there \n",
    "\n",
    "`make sure that the sheet has access to email which given in credetial.json file`"
   ]
  },
  {
   "cell_type": "code",
   "execution_count": 2,
   "id": "aquatic-intensity",
   "metadata": {
    "papermill": {},
    "tags": []
   },
   "outputs": [],
   "source": [
    "sheet_id = \"10bmjq_bxj03WcQ11QPkE15HRQWZgWgz99mZSEIL5Hq0\"\n",
    "input_sheet_name =  \"TARGET_COMPANIES\"\n",
    "\n",
    "out_sheet_name = \"COMPANIES_FINANCIALS_TEST\""
   ]
  },
  {
   "cell_type": "code",
   "execution_count": 5,
   "id": "concrete-crowd",
   "metadata": {
    "papermill": {},
    "tags": []
   },
   "outputs": [
    {
     "name": "stdout",
     "output_type": "stream",
     "text": [
      "please wait...\n",
      "getting AC.PA\n",
      "getting AF.PA\n",
      "file Bulk-financials.xlsx created\n",
      "creating  COMPANIES_FINANCIALS_TEST\n",
      "created data in google sheet\n"
     ]
    }
   ],
   "source": [
    "yahoo_scraper.main(sheet_id,input_sheet_name,out_sheet_name)\n"
   ]
  },
  {
   "cell_type": "code",
   "execution_count": null,
   "id": "associate-consensus",
   "metadata": {
    "papermill": {},
    "tags": []
   },
   "outputs": [],
   "source": []
  }
 ],
 "metadata": {
  "kernelspec": {
   "display_name": "Python 3",
   "language": "python",
   "name": "python3"
  },
  "language_info": {
   "codemirror_mode": {
    "name": "ipython",
    "version": 3
   },
   "file_extension": ".py",
   "mimetype": "text/x-python",
   "name": "python",
   "nbconvert_exporter": "python",
   "pygments_lexer": "ipython3",
   "version": "3.8.5"
  },
  "papermill": {
   "default_parameters": {},
   "environment_variables": {},
   "parameters": {},
   "version": "2.3.3"
  }
 },
 "nbformat": 4,
 "nbformat_minor": 5
}