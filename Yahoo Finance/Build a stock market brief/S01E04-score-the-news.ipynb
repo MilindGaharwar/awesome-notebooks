{
 "cells": [
  {
   "cell_type": "markdown",
   "id": "regulation-noise",
   "metadata": {
    "papermill": {},
    "tags": []
   },
   "source": [
    "# 📰 Scan the mood, score the news\n",
    "[![download](https://img.shields.io/static/v1?label=&labelColor=000000&message=Open%20in%20Naas&color=success&logo=image%2Fsvg%2Bxml%3Bbase64%2CPD94bWwgdmVyc2lvbj0iMS4wIiBlbmNvZGluZz0iVVRGLTgiPz4KPHN2ZyB3aWR0aD0iMTAyNHB4IiBoZWlnaHQ9IjEwMjRweCIgdmlld0JveD0iMCAwIDEwMjQgMTAyNCIgeG1sbnM9Imh0dHA6Ly93d3cudzMub3JnLzIwMDAvc3ZnIiB4bWxuczp4bGluaz0iaHR0cDovL3d3dy53My5vcmcvMTk5OS94bGluayIgdmVyc2lvbj0iMS4xIj4KIDwhLS0gR2VuZXJhdGVkIGJ5IFBpeGVsbWF0b3IgUHJvIDIuMC41IC0tPgogPGRlZnM%2BCiAgPHRleHQgaWQ9InN0cmluZyIgdHJhbnNmb3JtPSJtYXRyaXgoMS4wIDAuMCAwLjAgMS4wIDIyOC4wIDU0LjUpIiBmb250LWZhbWlseT0iQ29tZm9ydGFhLVJlZ3VsYXIsIENvbWZvcnRhYSIgZm9udC1zaXplPSI4MDAiIHRleHQtZGVjb3JhdGlvbj0ibm9uZSIgZmlsbD0iI2ZmZmZmZiIgeD0iMS4xOTk5OTk5OTk5OTk5ODg2IiB5PSI3MDUuMCI%2BbjwvdGV4dD4KIDwvZGVmcz4KIDx1c2UgaWQ9Im4iIHhsaW5rOmhyZWY9IiNzdHJpbmciLz4KPC9zdmc%2BCg%3D%3D)](https://app.naas.ai/user-redirect/naas/downloader?url=https://raw.githubusercontent.com/jupyter-naas/awesome-notebooks/master/Yahoo%20Finance/Build%20a%20stock%20market%20brief/S01E04-score-the-news.ipynb)"
   ]
  },
  {
   "cell_type": "code",
   "execution_count": 1,
   "id": "auburn-bedroom",
   "metadata": {
    "papermill": {},
    "tags": []
   },
   "outputs": [],
   "source": [
    "stock =\"TSLA\""
   ]
  },
  {
   "cell_type": "markdown",
   "id": "gorgeous-viewer",
   "metadata": {
    "papermill": {},
    "tags": []
   },
   "source": [
    "## Get the news from CityFalcon 👇\n",
    "City Falcon is a news agregator.<br>\n",
    "By default, you can with use our account on CityFalcon for test purpose."
   ]
  },
  {
   "cell_type": "code",
   "execution_count": 2,
   "id": "double-therapist",
   "metadata": {
    "papermill": {},
    "tags": []
   },
   "outputs": [],
   "source": [
    "import naas_drivers"
   ]
  },
  {
   "cell_type": "code",
   "execution_count": 3,
   "id": "advance-dimension",
   "metadata": {
    "papermill": {},
    "tags": []
   },
   "outputs": [
    {
     "data": {
      "text/html": [
       "<div>\n",
       "<style scoped>\n",
       "    .dataframe tbody tr th:only-of-type {\n",
       "        vertical-align: middle;\n",
       "    }\n",
       "\n",
       "    .dataframe tbody tr th {\n",
       "        vertical-align: top;\n",
       "    }\n",
       "\n",
       "    .dataframe thead th {\n",
       "        text-align: right;\n",
       "    }\n",
       "</style>\n",
       "<table border=\"1\" class=\"dataframe\">\n",
       "  <thead>\n",
       "    <tr style=\"text-align: right;\">\n",
       "      <th></th>\n",
       "      <th>logo</th>\n",
       "      <th>text</th>\n",
       "      <th>row_link</th>\n",
       "    </tr>\n",
       "  </thead>\n",
       "  <tbody>\n",
       "    <tr>\n",
       "      <th>0</th>\n",
       "      <td>https://cityfalconproduction.blob.core.windows...</td>\n",
       "      <td>Elon Musk launches $250 a bottle Tesla tequila...</td>\n",
       "      <td>https://www.dailymail.co.uk/news/article-89212...</td>\n",
       "    </tr>\n",
       "    <tr>\n",
       "      <th>1</th>\n",
       "      <td>https://cityfalconproduction.blob.core.windows...</td>\n",
       "      <td>Elon Musk launches $250 a bottle Tesla tequila</td>\n",
       "      <td>https://www.dailymail.co.uk/news/article-89212...</td>\n",
       "    </tr>\n",
       "    <tr>\n",
       "      <th>2</th>\n",
       "      <td>https://cityfalconproduction.blob.core.windows...</td>\n",
       "      <td>Toyota CEO attempts Tesla analogy and fails: ‘...</td>\n",
       "      <td>https://www.teslarati.com/toyota-ceo-fails-tes...</td>\n",
       "    </tr>\n",
       "    <tr>\n",
       "      <th>3</th>\n",
       "      <td>https://cityfalconproduction.blob.core.windows...</td>\n",
       "      <td>Li Auto Recalls Li One SUVs; China Electric Ca...</td>\n",
       "      <td>https://www.investors.com/news/li-auto-stock-f...</td>\n",
       "    </tr>\n",
       "    <tr>\n",
       "      <th>4</th>\n",
       "      <td>https://cityfalconproduction.blob.core.windows...</td>\n",
       "      <td>'Teslaquila': Elon Musk has done it! Tesla lau...</td>\n",
       "      <td>https://www.businesstoday.in/current/world/elo...</td>\n",
       "    </tr>\n",
       "    <tr>\n",
       "      <th>...</th>\n",
       "      <td>...</td>\n",
       "      <td>...</td>\n",
       "      <td>...</td>\n",
       "    </tr>\n",
       "    <tr>\n",
       "      <th>95</th>\n",
       "      <td>https://cityfalconproduction.blob.core.windows...</td>\n",
       "      <td>Tesla ‘mania’ spoils notorious short-seller Ei...</td>\n",
       "      <td>https://www.teslarati.com/tesla-mania-greenlig...</td>\n",
       "    </tr>\n",
       "    <tr>\n",
       "      <th>96</th>\n",
       "      <td>https://cityfalconproduction.blob.core.windows...</td>\n",
       "      <td>TSLA Bear Hedge-Fund Greenlight Capital Loses ...</td>\n",
       "      <td>https://www.tesmanian.com/blogs/tesmanian-blog...</td>\n",
       "    </tr>\n",
       "    <tr>\n",
       "      <th>97</th>\n",
       "      <td>https://cityfalconproduction.blob.core.windows...</td>\n",
       "      <td>Tesla Model 3 updates: Take a closer look at t...</td>\n",
       "      <td>https://www.cnet.com/roadshow/news/tesla-model...</td>\n",
       "    </tr>\n",
       "    <tr>\n",
       "      <th>98</th>\n",
       "      <td>https://cityfalconproduction.blob.core.windows...</td>\n",
       "      <td>Why Nio is a Better Buy Than Tesla</td>\n",
       "      <td>https://investorplace.com/2020/11/nio-stock-wh...</td>\n",
       "    </tr>\n",
       "    <tr>\n",
       "      <th>99</th>\n",
       "      <td>https://cityfalconproduction.blob.core.windows...</td>\n",
       "      <td>Tesla Submits Application For Model Y Manufact...</td>\n",
       "      <td>http://feeds.benzinga.com/~r/benzinga/media/~3...</td>\n",
       "    </tr>\n",
       "  </tbody>\n",
       "</table>\n",
       "<p>100 rows × 3 columns</p>\n",
       "</div>"
      ],
      "text/plain": [
       "                                                 logo  \\\n",
       "0   https://cityfalconproduction.blob.core.windows...   \n",
       "1   https://cityfalconproduction.blob.core.windows...   \n",
       "2   https://cityfalconproduction.blob.core.windows...   \n",
       "3   https://cityfalconproduction.blob.core.windows...   \n",
       "4   https://cityfalconproduction.blob.core.windows...   \n",
       "..                                                ...   \n",
       "95  https://cityfalconproduction.blob.core.windows...   \n",
       "96  https://cityfalconproduction.blob.core.windows...   \n",
       "97  https://cityfalconproduction.blob.core.windows...   \n",
       "98  https://cityfalconproduction.blob.core.windows...   \n",
       "99  https://cityfalconproduction.blob.core.windows...   \n",
       "\n",
       "                                                 text  \\\n",
       "0   Elon Musk launches $250 a bottle Tesla tequila...   \n",
       "1      Elon Musk launches $250 a bottle Tesla tequila   \n",
       "2   Toyota CEO attempts Tesla analogy and fails: ‘...   \n",
       "3   Li Auto Recalls Li One SUVs; China Electric Ca...   \n",
       "4   'Teslaquila': Elon Musk has done it! Tesla lau...   \n",
       "..                                                ...   \n",
       "95  Tesla ‘mania’ spoils notorious short-seller Ei...   \n",
       "96  TSLA Bear Hedge-Fund Greenlight Capital Loses ...   \n",
       "97  Tesla Model 3 updates: Take a closer look at t...   \n",
       "98                 Why Nio is a Better Buy Than Tesla   \n",
       "99  Tesla Submits Application For Model Y Manufact...   \n",
       "\n",
       "                                             row_link  \n",
       "0   https://www.dailymail.co.uk/news/article-89212...  \n",
       "1   https://www.dailymail.co.uk/news/article-89212...  \n",
       "2   https://www.teslarati.com/toyota-ceo-fails-tes...  \n",
       "3   https://www.investors.com/news/li-auto-stock-f...  \n",
       "4   https://www.businesstoday.in/current/world/elo...  \n",
       "..                                                ...  \n",
       "95  https://www.teslarati.com/tesla-mania-greenlig...  \n",
       "96  https://www.tesmanian.com/blogs/tesmanian-blog...  \n",
       "97  https://www.cnet.com/roadshow/news/tesla-model...  \n",
       "98  https://investorplace.com/2020/11/nio-stock-wh...  \n",
       "99  http://feeds.benzinga.com/~r/benzinga/media/~3...  \n",
       "\n",
       "[100 rows x 3 columns]"
      ]
     },
     "execution_count": 3,
     "metadata": {},
     "output_type": "execute_result"
    }
   ],
   "source": [
    "import os\n",
    "naas_drivers.cityfalcon.connect(os.environ.get(\"CITYFALCON_KEY\", None))\n",
    "table_news = naas_drivers.cityfalcon.get(stock, fields=[\"logo\", \"title\", \"link\"])\n",
    "table_news.rename(columns={'title':'text'}, inplace=True)\n",
    "table_news.rename(columns={'link':'row_link'}, inplace=True)\n",
    "table_news"
   ]
  },
  {
   "cell_type": "code",
   "execution_count": 4,
   "id": "greater-brand",
   "metadata": {
    "papermill": {},
    "tags": []
   },
   "outputs": [],
   "source": [
    "table_news_scored =  naas_drivers.sentiment.get(table_news, column_name=\"text\")"
   ]
  },
  {
   "cell_type": "code",
   "execution_count": 5,
   "id": "stable-terminal",
   "metadata": {
    "papermill": {},
    "tags": []
   },
   "outputs": [
    {
     "data": {
      "text/plain": [
       "0.041847"
      ]
     },
     "execution_count": 5,
     "metadata": {},
     "output_type": "execute_result"
    }
   ],
   "source": [
    "score_news = table_news_scored[\"Score\"].mean()\n",
    "score_news"
   ]
  },
  {
   "cell_type": "code",
   "execution_count": 6,
   "id": "satisfied-damages",
   "metadata": {
    "papermill": {},
    "tags": []
   },
   "outputs": [
    {
     "data": {
      "text/plain": [
       "'Neutral'"
      ]
     },
     "execution_count": 6,
     "metadata": {},
     "output_type": "execute_result"
    }
   ],
   "source": [
    "sentiment_news = naas_drivers.sentiment.categorize(score_news)\n",
    "sentiment_news"
   ]
  },
  {
   "cell_type": "markdown",
   "id": "thick-commercial",
   "metadata": {
    "papermill": {},
    "tags": []
   },
   "source": [
    "# Create the news hotlist 🔥"
   ]
  },
  {
   "cell_type": "code",
   "execution_count": 7,
   "id": "looking-vessel",
   "metadata": {
    "papermill": {},
    "tags": []
   },
   "outputs": [
    {
     "data": {
      "text/html": [
       "<div>\n",
       "<style scoped>\n",
       "    .dataframe tbody tr th:only-of-type {\n",
       "        vertical-align: middle;\n",
       "    }\n",
       "\n",
       "    .dataframe tbody tr th {\n",
       "        vertical-align: top;\n",
       "    }\n",
       "\n",
       "    .dataframe thead th {\n",
       "        text-align: right;\n",
       "    }\n",
       "</style>\n",
       "<table border=\"1\" class=\"dataframe\">\n",
       "  <thead>\n",
       "    <tr style=\"text-align: right;\">\n",
       "      <th></th>\n",
       "      <th>logo</th>\n",
       "      <th>text</th>\n",
       "      <th>row_link</th>\n",
       "      <th>senti_score</th>\n",
       "    </tr>\n",
       "  </thead>\n",
       "  <tbody>\n",
       "    <tr>\n",
       "      <th>0</th>\n",
       "      <td>https://cityfalconproduction.blob.core.windows...</td>\n",
       "      <td>Elon Musk launches $250 a bottle Tesla tequila...</td>\n",
       "      <td>https://www.dailymail.co.uk/news/article-89212...</td>\n",
       "      <td>{'neg': 0.0, 'neu': 1.0, 'pos': 0.0, 'compound...</td>\n",
       "    </tr>\n",
       "    <tr>\n",
       "      <th>1</th>\n",
       "      <td>https://cityfalconproduction.blob.core.windows...</td>\n",
       "      <td>Elon Musk launches $250 a bottle Tesla tequila</td>\n",
       "      <td>https://www.dailymail.co.uk/news/article-89212...</td>\n",
       "      <td>{'neg': 0.0, 'neu': 1.0, 'pos': 0.0, 'compound...</td>\n",
       "    </tr>\n",
       "    <tr>\n",
       "      <th>2</th>\n",
       "      <td>https://cityfalconproduction.blob.core.windows...</td>\n",
       "      <td>Toyota CEO attempts Tesla analogy and fails: ‘...</td>\n",
       "      <td>https://www.teslarati.com/toyota-ceo-fails-tes...</td>\n",
       "      <td>{'neg': 0.177, 'neu': 0.823, 'pos': 0.0, 'comp...</td>\n",
       "    </tr>\n",
       "    <tr>\n",
       "      <th>3</th>\n",
       "      <td>https://cityfalconproduction.blob.core.windows...</td>\n",
       "      <td>Li Auto Recalls Li One SUVs; China Electric Ca...</td>\n",
       "      <td>https://www.investors.com/news/li-auto-stock-f...</td>\n",
       "      <td>{'neg': 0.0, 'neu': 1.0, 'pos': 0.0, 'compound...</td>\n",
       "    </tr>\n",
       "    <tr>\n",
       "      <th>4</th>\n",
       "      <td>https://cityfalconproduction.blob.core.windows...</td>\n",
       "      <td>'Teslaquila': Elon Musk has done it! Tesla lau...</td>\n",
       "      <td>https://www.businesstoday.in/current/world/elo...</td>\n",
       "      <td>{'neg': 0.0, 'neu': 1.0, 'pos': 0.0, 'compound...</td>\n",
       "    </tr>\n",
       "  </tbody>\n",
       "</table>\n",
       "</div>"
      ],
      "text/plain": [
       "                                                logo  \\\n",
       "0  https://cityfalconproduction.blob.core.windows...   \n",
       "1  https://cityfalconproduction.blob.core.windows...   \n",
       "2  https://cityfalconproduction.blob.core.windows...   \n",
       "3  https://cityfalconproduction.blob.core.windows...   \n",
       "4  https://cityfalconproduction.blob.core.windows...   \n",
       "\n",
       "                                                text  \\\n",
       "0  Elon Musk launches $250 a bottle Tesla tequila...   \n",
       "1     Elon Musk launches $250 a bottle Tesla tequila   \n",
       "2  Toyota CEO attempts Tesla analogy and fails: ‘...   \n",
       "3  Li Auto Recalls Li One SUVs; China Electric Ca...   \n",
       "4  'Teslaquila': Elon Musk has done it! Tesla lau...   \n",
       "\n",
       "                                            row_link  \\\n",
       "0  https://www.dailymail.co.uk/news/article-89212...   \n",
       "1  https://www.dailymail.co.uk/news/article-89212...   \n",
       "2  https://www.teslarati.com/toyota-ceo-fails-tes...   \n",
       "3  https://www.investors.com/news/li-auto-stock-f...   \n",
       "4  https://www.businesstoday.in/current/world/elo...   \n",
       "\n",
       "                                         senti_score  \n",
       "0  {'neg': 0.0, 'neu': 1.0, 'pos': 0.0, 'compound...  \n",
       "1  {'neg': 0.0, 'neu': 1.0, 'pos': 0.0, 'compound...  \n",
       "2  {'neg': 0.177, 'neu': 0.823, 'pos': 0.0, 'comp...  \n",
       "3  {'neg': 0.0, 'neu': 1.0, 'pos': 0.0, 'compound...  \n",
       "4  {'neg': 0.0, 'neu': 1.0, 'pos': 0.0, 'compound...  "
      ]
     },
     "execution_count": 7,
     "metadata": {},
     "output_type": "execute_result"
    }
   ],
   "source": [
    "table_news_email = table_news[:5]\n",
    "table_news_email"
   ]
  }
 ],
 "metadata": {
  "kernelspec": {
   "display_name": "Python 3",
   "language": "python",
   "name": "python3"
  },
  "language_info": {
   "codemirror_mode": {
    "name": "ipython",
    "version": 3
   },
   "file_extension": ".py",
   "mimetype": "text/x-python",
   "name": "python",
   "nbconvert_exporter": "python",
   "pygments_lexer": "ipython3",
   "version": "3.8.6"
  },
  "papermill": {
   "default_parameters": {},
   "environment_variables": {},
   "parameters": {},
   "version": "2.3.3"
  }
 },
 "nbformat": 4,
 "nbformat_minor": 5
}