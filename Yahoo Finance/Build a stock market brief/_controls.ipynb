{
 "cells": [
  {
   "cell_type": "markdown",
   "id": "beautiful-victim",
   "metadata": {
    "papermill": {},
    "tags": []
   },
   "source": [
    "# Controls \n",
    "[![download](https://img.shields.io/static/v1?label=&labelColor=000000&message=Open%20in%20Naas&color=success&logo=image%2Fsvg%2Bxml%3Bbase64%2CPD94bWwgdmVyc2lvbj0iMS4wIiBlbmNvZGluZz0iVVRGLTgiPz4KPHN2ZyB3aWR0aD0iMTAyNHB4IiBoZWlnaHQ9IjEwMjRweCIgdmlld0JveD0iMCAwIDEwMjQgMTAyNCIgeG1sbnM9Imh0dHA6Ly93d3cudzMub3JnLzIwMDAvc3ZnIiB4bWxuczp4bGluaz0iaHR0cDovL3d3dy53My5vcmcvMTk5OS94bGluayIgdmVyc2lvbj0iMS4xIj4KIDwhLS0gR2VuZXJhdGVkIGJ5IFBpeGVsbWF0b3IgUHJvIDIuMC41IC0tPgogPGRlZnM%2BCiAgPHRleHQgaWQ9InN0cmluZyIgdHJhbnNmb3JtPSJtYXRyaXgoMS4wIDAuMCAwLjAgMS4wIDIyOC4wIDU0LjUpIiBmb250LWZhbWlseT0iQ29tZm9ydGFhLVJlZ3VsYXIsIENvbWZvcnRhYSIgZm9udC1zaXplPSI4MDAiIHRleHQtZGVjb3JhdGlvbj0ibm9uZSIgZmlsbD0iI2ZmZmZmZiIgeD0iMS4xOTk5OTk5OTk5OTk5ODg2IiB5PSI3MDUuMCI%2BbjwvdGV4dD4KIDwvZGVmcz4KIDx1c2UgaWQ9Im4iIHhsaW5rOmhyZWY9IiNzdHJpbmciLz4KPC9zdmc%2BCg%3D%3D)](https://app.naas.ai/user-redirect/naas/downloader?url=https://raw.githubusercontent.com/jupyter-naas/awesome-notebooks/master/Yahoo%20Finance/Build%20a%20stock%20market%20brief/_controls.ipynb)\n"
   ]
  },
  {
   "cell_type": "markdown",
   "id": "collective-trouble",
   "metadata": {
    "papermill": {},
    "tags": []
   },
   "source": [
    "Get output file from production "
   ]
  },
  {
   "cell_type": "code",
   "execution_count": 6,
   "id": "accessible-wales",
   "metadata": {
    "papermill": {},
    "tags": []
   },
   "outputs": [
    {
     "name": "stdout",
     "output_type": "stream",
     "text": [
      "File copied here /home/ftp/private-folder/Naas/Get Started/starters/Build_a_Trading_Assistant/prod_out_S01E07-notebooks-as-api.ipynb\n",
      "🕣 Your Notebook OUTPUT from production has been copied into your dev folder\n",
      "\n"
     ]
    }
   ],
   "source": [
    "import naas \n",
    "naas.api.get_output(\"S01E07-notebooks-as-api.ipynb\")"
   ]
  },
  {
   "cell_type": "markdown",
   "id": "national-emergency",
   "metadata": {
    "papermill": {},
    "tags": []
   },
   "source": [
    "This will download the user file from production"
   ]
  },
  {
   "cell_type": "code",
   "execution_count": 7,
   "id": "changed-bradford",
   "metadata": {
    "papermill": {},
    "tags": []
   },
   "outputs": [
    {
     "name": "stdout",
     "output_type": "stream",
     "text": [
      "File copied here /home/ftp/private-folder/Naas/Get Started/starters/Build_a_Trading_Assistant/prod_users.txt\n",
      "🕣 Your Notebook from production has been copied into your dev folder.\n",
      "\n"
     ]
    }
   ],
   "source": [
    "naas.dependency.get(\"users.txt\")"
   ]
  },
  {
   "cell_type": "code",
   "execution_count": null,
   "id": "designing-planning",
   "metadata": {
    "papermill": {},
    "tags": []
   },
   "outputs": [],
   "source": []
  }
 ],
 "metadata": {
  "kernelspec": {
   "display_name": "Python 3",
   "language": "python",
   "name": "python3"
  },
  "language_info": {
   "codemirror_mode": {
    "name": "ipython",
    "version": 3
   },
   "file_extension": ".py",
   "mimetype": "text/x-python",
   "name": "python",
   "nbconvert_exporter": "python",
   "pygments_lexer": "ipython3",
   "version": "3.8.6"
  },
  "papermill": {
   "default_parameters": {},
   "environment_variables": {},
   "parameters": {},
   "version": "2.3.3"
  }
 },
 "nbformat": 4,
 "nbformat_minor": 5
}