{
 "cells": [
  {
   "cell_type": "markdown",
   "id": "understanding-watershed",
   "metadata": {
    "papermill": {},
    "tags": []
   },
   "source": [
    "# 🤖 Take actions\n",
    "[![download](https://img.shields.io/static/v1?label=&labelColor=000000&message=Open%20in%20Naas&color=success&logo=image%2Fsvg%2Bxml%3Bbase64%2CPD94bWwgdmVyc2lvbj0iMS4wIiBlbmNvZGluZz0iVVRGLTgiPz4KPHN2ZyB3aWR0aD0iMTAyNHB4IiBoZWlnaHQ9IjEwMjRweCIgdmlld0JveD0iMCAwIDEwMjQgMTAyNCIgeG1sbnM9Imh0dHA6Ly93d3cudzMub3JnLzIwMDAvc3ZnIiB4bWxuczp4bGluaz0iaHR0cDovL3d3dy53My5vcmcvMTk5OS94bGluayIgdmVyc2lvbj0iMS4xIj4KIDwhLS0gR2VuZXJhdGVkIGJ5IFBpeGVsbWF0b3IgUHJvIDIuMC41IC0tPgogPGRlZnM%2BCiAgPHRleHQgaWQ9InN0cmluZyIgdHJhbnNmb3JtPSJtYXRyaXgoMS4wIDAuMCAwLjAgMS4wIDIyOC4wIDU0LjUpIiBmb250LWZhbWlseT0iQ29tZm9ydGFhLVJlZ3VsYXIsIENvbWZvcnRhYSIgZm9udC1zaXplPSI4MDAiIHRleHQtZGVjb3JhdGlvbj0ibm9uZSIgZmlsbD0iI2ZmZmZmZiIgeD0iMS4xOTk5OTk5OTk5OTk5ODg2IiB5PSI3MDUuMCI%2BbjwvdGV4dD4KIDwvZGVmcz4KIDx1c2UgaWQ9Im4iIHhsaW5rOmhyZWY9IiNzdHJpbmciLz4KPC9zdmc%2BCg%3D%3D)](https://app.naas.ai/user-redirect/naas/downloader?url=https://raw.githubusercontent.com/jupyter-naas/awesome-notebooks/master/Yahoo%20Finance/Build%20a%20stock%20market%20brief/S01E08-take-actions.ipynb)"
   ]
  },
  {
   "cell_type": "markdown",
   "id": "grand-lightning",
   "metadata": {
    "papermill": {},
    "tags": []
   },
   "source": [
    "## 👉 COMING SOON"
   ]
  },
  {
   "cell_type": "code",
   "execution_count": 1,
   "id": "integral-macedonia",
   "metadata": {
    "papermill": {},
    "tags": []
   },
   "outputs": [],
   "source": [
    "action = \"TSLA\""
   ]
  },
  {
   "cell_type": "markdown",
   "id": "imperial-zambia",
   "metadata": {
    "papermill": {},
    "tags": []
   },
   "source": [
    "## Setup buy or sell conditions\n",
    "\n",
    "- Check if 20MA goes above 50MA in the prediction = if yes, then buy at the date the event happens\n",
    "- Check if 50MA goes below 20MAA in the prediction = if yes, then sell at the date the event happens"
   ]
  },
  {
   "cell_type": "markdown",
   "id": "peaceful-active",
   "metadata": {
    "papermill": {},
    "tags": []
   },
   "source": [
    "## Connect to your trading platform via API"
   ]
  },
  {
   "cell_type": "markdown",
   "id": "serious-crisis",
   "metadata": {
    "papermill": {},
    "tags": []
   },
   "source": [
    "- Etoro : https://etorox.com/contact-support/developers/post-api-v1-orders/\n",
    "- Alpaca : https://alpaca.markets/"
   ]
  },
  {
   "cell_type": "markdown",
   "id": "directed-diana",
   "metadata": {
    "papermill": {},
    "tags": []
   },
   "source": [
    "<img src=\"https://public.naas.ai/amVyZW15LTJFcmF2ZW5lbC00MGNhc2hzdG9yeS0yRWNvbQ==/asset/1ea6c42c0d6da2fa6deb6ccf701c22ad00d3caa1ff9aee1990a0b3e252cf\" alt=\"etoro\" width=\"500\" height=\"600\">"
   ]
  },
  {
   "cell_type": "markdown",
   "id": "bottom-fantasy",
   "metadata": {
    "papermill": {},
    "tags": []
   },
   "source": [
    "Analyze the error rate of the predictions"
   ]
  },
  {
   "cell_type": "markdown",
   "id": "offensive-eligibility",
   "metadata": {
    "papermill": {},
    "tags": []
   },
   "source": [
    "## Get email with orders report"
   ]
  },
  {
   "cell_type": "markdown",
   "id": "affiliated-empty",
   "metadata": {
    "papermill": {},
    "tags": []
   },
   "source": [
    "List of buy and sells orders"
   ]
  },
  {
   "cell_type": "markdown",
   "id": "complimentary-illinois",
   "metadata": {
    "papermill": {},
    "tags": []
   },
   "source": [
    "## Analyze efficiency"
   ]
  },
  {
   "cell_type": "markdown",
   "id": "exact-landing",
   "metadata": {
    "papermill": {},
    "tags": []
   },
   "source": [
    "Analyze the efficiency of the strategy. "
   ]
  },
  {
   "cell_type": "code",
   "execution_count": null,
   "id": "structural-greensboro",
   "metadata": {
    "papermill": {},
    "tags": []
   },
   "outputs": [],
   "source": []
  }
 ],
 "metadata": {
  "kernelspec": {
   "display_name": "Python 3",
   "language": "python",
   "name": "python3"
  },
  "language_info": {
   "codemirror_mode": {
    "name": "ipython",
    "version": 3
   },
   "file_extension": ".py",
   "mimetype": "text/x-python",
   "name": "python",
   "nbconvert_exporter": "python",
   "pygments_lexer": "ipython3",
   "version": "3.8.6"
  },
  "papermill": {
   "default_parameters": {},
   "environment_variables": {},
   "parameters": {},
   "version": "2.3.3"
  }
 },
 "nbformat": 4,
 "nbformat_minor": 5
}