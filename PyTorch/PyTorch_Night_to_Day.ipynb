{
 "cells": [
  {
   "cell_type": "markdown",
   "id": "negative-fusion",
   "metadata": {
    "papermill": {},
    "tags": []
   },
   "source": [
    "# PyTorch - Night to Day\n",
    "<a href=\"https://app.naas.ai/user-redirect/naas/downloader?url=https://raw.githubusercontent.com/jupyter-naas/awesome-notebooks/master/PyTorch/PyTorch_Night_to_Day.ipynb\" target=\"_parent\"><img src=\"https://img.shields.io/badge/-Open%20in%20Naas-success?labelColor=000000&logo=data:image/svg+xml;base64,PD94bWwgdmVyc2lvbj0iMS4wIiBlbmNvZGluZz0iVVRGLTgiPz4KPHN2ZyB3aWR0aD0iMTAyNHB4IiBoZWlnaHQ9IjEwMjRweCIgdmlld0JveD0iMCAwIDEwMjQgMTAyNCIgeG1sbnM9Imh0dHA6Ly93d3cudzMub3JnLzIwMDAvc3ZnIiB4bWxuczp4bGluaz0iaHR0cDovL3d3dy53My5vcmcvMTk5OS94bGluayIgdmVyc2lvbj0iMS4xIj4KIDwhLS0gR2VuZXJhdGVkIGJ5IFBpeGVsbWF0b3IgUHJvIDIuMC41IC0tPgogPGRlZnM+CiAgPHRleHQgaWQ9InN0cmluZyIgdHJhbnNmb3JtPSJtYXRyaXgoMS4wIDAuMCAwLjAgMS4wIDIyOC4wIDU0LjUpIiBmb250LWZhbWlseT0iQ29tZm9ydGFhLVJlZ3VsYXIsIENvbWZvcnRhYSIgZm9udC1zaXplPSI4MDAiIHRleHQtZGVjb3JhdGlvbj0ibm9uZSIgZmlsbD0iI2ZmZmZmZiIgeD0iMS4xOTk5OTk5OTk5OTk5ODg2IiB5PSI3MDUuMCI+bjwvdGV4dD4KIDwvZGVmcz4KIDx1c2UgaWQ9Im4iIHhsaW5rOmhyZWY9IiNzdHJpbmciLz4KPC9zdmc+Cg==\"/></a>"
   ]
  },
  {
   "cell_type": "markdown",
   "id": "otherwise-valuable",
   "metadata": {
    "papermill": {},
    "tags": []
   },
   "source": [
    "### Input"
   ]
  },
  {
   "cell_type": "markdown",
   "id": "meaning-january",
   "metadata": {},
   "source": [
    "### Install torchvision"
   ]
  },
  {
   "cell_type": "code",
   "execution_count": 1,
   "id": "weekly-equity",
   "metadata": {
    "execution": {
     "iopub.execute_input": "2021-07-20T14:51:17.701521Z",
     "iopub.status.busy": "2021-07-20T14:51:17.701246Z",
     "iopub.status.idle": "2021-07-20T14:53:23.416434Z",
     "shell.execute_reply": "2021-07-20T14:53:23.412836Z",
     "shell.execute_reply.started": "2021-07-20T14:51:17.701445Z"
    },
    "tags": []
   },
   "outputs": [
    {
     "name": "stdout",
     "output_type": "stream",
     "text": [
      "Collecting torchvision\n",
      "  Using cached torchvision-0.10.0-cp38-cp38-manylinux1_x86_64.whl (22.1 MB)\n",
      "Requirement already satisfied: pillow>=5.3.0 in /opt/conda/lib/python3.8/site-packages (from torchvision) (8.2.0)\n",
      "Requirement already satisfied: numpy in /home/ftp/.local/lib/python3.8/site-packages (from torchvision) (1.19.5)\n",
      "Collecting torch==1.9.0\n",
      "  Downloading torch-1.9.0-cp38-cp38-manylinux1_x86_64.whl (831.4 MB)\n",
      "\u001b[K     |████████████████████████████████| 831.4 MB 4.8 MB/s eta 0:00:0145  |▏                               | 4.1 MB 24.1 MB/s eta 0:00:3533     |████▍                           | 114.1 MB 6.1 MB/s eta 0:01:59     |████▍                           | 115.0 MB 6.1 MB/s eta 0:01:5850197.3 MB 12.6 MB/s eta 0:00:51MB 99.0 MB/s eta 0:00:07�▋                      | 248.8 MB 99.0 MB/s eta 0:00:061.4 MB 99.0 MB/s eta 0:00:06��███▉                      | 256.1 MB 99.0 MB/s eta 0:00:06| 258.0 MB 99.0 MB/s eta 0:00:06�█████                      | 260.9 MB 99.0 MB/s eta 0:00:06     |██████████▊                     | 278.8 MB 32.8 MB/s eta 0:00:17/s eta 0:00:17     |███████████▏                    | 291.3 MB 32.8 MB/s eta 0:00:17     |███████████▍                    | 297.2 MB 32.8 MB/s eta 0:00:17     |████████████                    | 312.4 MB 9.2 MB/s eta 0:00:57     |████████████▋                   | 327.5 MB 9.2 MB/s eta 0:00:55     |████████████▊                   | 331.1 MB 9.2 MB/s eta 0:00:55                  | 356.1 MB 106.9 MB/s eta 0:00:05     |█████████████▉                  | 358.4 MB 106.9 MB/s eta 0:00:05     |██████████████▎                 | 371.1 MB 106.9 MB/s eta 0:00:05MB 52.1 MB/s eta 0:00:09�██████████                 | 390.7 MB 52.1 MB/s eta 0:00:09/s eta 0:00:09     |███████████████▎                | 396.5 MB 52.1 MB/s eta 0:00:09     |███████████████▍                | 398.6 MB 52.1 MB/s eta 0:00:09ta 0:00:09MB/s eta 0:00:09��█▋                | 406.7 MB 52.1 MB/s eta 0:00:09     |███████████████▊                | 409.3 MB 52.1 MB/s eta 0:00:09��▌               | 429.3 MB 25.0 MB/s eta 0:00:17     |█████████████████▏              | 446.5 MB 25.0 MB/s eta 0:00:16     |█████████████████▏              | 446.7 MB 25.0 MB/s eta 0:00:16�████████████▎              | 447.5 MB 25.0 MB/s eta 0:00:16     |█████████████████▌              | 454.9 MB 77.5 MB/s eta 0:00:05     |██████████████████              | 466.4 MB 77.5 MB/s eta 0:00:05��██████████████              | 469.6 MB 77.5 MB/s eta 0:00:05| 479.7 MB 77.5 MB/s eta 0:00:05     |██████████████████▌             | 479.8 MB 77.5 MB/s eta 0:00:05MB/s eta 0:00:05�███████▌            | 506.3 MB 7.9 MB/s eta 0:00:42   | 512.3 MB 7.9 MB/s eta 0:00:41�████████            | 517.2 MB 7.9 MB/s eta 0:00:40     |████████████████████            | 522.2 MB 48.2 MB/s eta 0:00:07    | 550.1 MB 48.2 MB/s eta 0:00:06     |█████████████████████▎          | 554.1 MB 48.2 MB/s eta 0:00:06     |█████████████████████▋          | 561.9 MB 14.1 MB/s eta 0:00:20:00:1919     |██████████████████████▎         | 577.7 MB 14.1 MB/s eta 0:00:18████████████▌         | 583.6 MB 14.1 MB/s eta 0:00:18        | 594.7 MB 14.1 MB/s eta 0:00:17     |███████████████████████         | 596.7 MB 2.5 MB/s eta 0:01:33     |███████████████████████▍        | 606.3 MB 2.5 MB/s eta 0:01:29     |███████████████████████▍        | 607.4 MB 2.5 MB/s eta 0:01:29     |███████████████████████▌        | 611.1 MB 2.5 MB/s eta 0:01:27��████████████████████▍       | 634.3 MB 35.4 MB/s eta 0:00:06�███████████▉       | 644.4 MB 35.4 MB/s eta 0:00:06     |█████████████████████████▋      | 664.1 MB 28.4 MB/s eta 0:00:06�███      | 673.4 MB 28.4 MB/s eta 0:00:06     |██████████████████████████      | 674.0 MB 28.4 MB/s eta 0:00:06     |██████████████████████████      | 678.2 MB 28.4 MB/s eta 0:00:06     |██████████████████████████▊     | 693.9 MB 28.4 MB/s eta 0:00:05��██▊     | 695.3 MB 14.6 MB/s eta 0:00:10     |███████████████████████████▎    | 707.3 MB 14.6 MB/s eta 0:00:09     |███████████████████████████▎    | 708.3 MB 14.6 MB/s eta 0:00:09     |███████████████████████████▎    | 710.0 MB 14.6 MB/s eta 0:00:09�████████████▍    | 710.5 MB 14.6 MB/s eta 0:00:09��███████████████▍    | 711.2 MB 14.6 MB/s eta 0:00:09     |███████████████████████████▍    | 711.8 MB 14.6 MB/s eta 0:00:09█████████▌    | 713.2 MB 14.6 MB/s eta 0:00:09MB/s eta 0:00:09��██████████████    | 726.0 MB 51.9 MB/s eta 0:00:03��████████████████████████▎   | 733.7 MB 51.9 MB/s eta 0:00:02     |████████████████████████████▋   | 744.3 MB 51.9 MB/s eta 0:00:02     |████████████████████████████▊   | 747.1 MB 51.9 MB/s eta 0:00:02ta 0:00:05��████████  | 779.0 MB 12.2 MB/s eta 0:00:05     |██████████████████████████████▋ | 794.1 MB 3.5 MB/s eta 0:00:114 MB 3.5 MB/s eta 0:00:11�█████████████▊ | 797.3 MB 3.5 MB/s eta 0:00:10     |██████████████████████████████▉ | 802.3 MB 3.5 MB/s eta 0:00:09     |███████████████████████████████ | 805.3 MB 3.5 MB/s eta 0:00:08     |███████████████████████████████▍| 816.4 MB 3.5 MB/s eta 0:00:05     |███████████████████████████████▋| 819.9 MB 4.8 MB/s eta 0:00:03     |████████████████████████████████| 829.4 MB 4.8 MB/s eta 0:00:01Note: you may need to restart the kernel to use updated packages.\n"
     ]
    }
   ],
   "source": [
    "pip install torchvision"
   ]
  },
  {
   "cell_type": "markdown",
   "id": "satisfied-safety",
   "metadata": {
    "papermill": {},
    "tags": []
   },
   "source": [
    "### Import library"
   ]
  },
  {
   "cell_type": "code",
   "execution_count": 2,
   "id": "sophisticated-deputy",
   "metadata": {
    "execution": {
     "iopub.execute_input": "2021-07-20T14:53:23.418519Z",
     "iopub.status.busy": "2021-07-20T14:53:23.418097Z",
     "iopub.status.idle": "2021-07-20T14:53:27.302896Z",
     "shell.execute_reply": "2021-07-20T14:53:27.301825Z",
     "shell.execute_reply.started": "2021-07-20T14:53:23.418481Z"
    },
    "papermill": {},
    "tags": []
   },
   "outputs": [
    {
     "ename": "ModuleNotFoundError",
     "evalue": "No module named 'torchvision'",
     "output_type": "error",
     "traceback": [
      "\u001b[0;31m---------------------------------------------------------------------------\u001b[0m",
      "\u001b[0;31mModuleNotFoundError\u001b[0m                       Traceback (most recent call last)",
      "\u001b[0;32m<ipython-input-2-2b8865350d4b>\u001b[0m in \u001b[0;36m<module>\u001b[0;34m\u001b[0m\n\u001b[1;32m      7\u001b[0m \u001b[0;32mimport\u001b[0m \u001b[0mnumpy\u001b[0m \u001b[0;32mas\u001b[0m \u001b[0mnp\u001b[0m\u001b[0;34m\u001b[0m\u001b[0;34m\u001b[0m\u001b[0m\n\u001b[1;32m      8\u001b[0m \u001b[0;32mimport\u001b[0m \u001b[0mmatplotlib\u001b[0m\u001b[0;34m.\u001b[0m\u001b[0mpyplot\u001b[0m \u001b[0;32mas\u001b[0m \u001b[0mplt\u001b[0m\u001b[0;34m\u001b[0m\u001b[0;34m\u001b[0m\u001b[0m\n\u001b[0;32m----> 9\u001b[0;31m \u001b[0;32mfrom\u001b[0m \u001b[0mtorchvision\u001b[0m \u001b[0;32mimport\u001b[0m \u001b[0mtransforms\u001b[0m \u001b[0;32mas\u001b[0m \u001b[0mT\u001b[0m\u001b[0;34m\u001b[0m\u001b[0;34m\u001b[0m\u001b[0m\n\u001b[0m\u001b[1;32m     10\u001b[0m \u001b[0;32mfrom\u001b[0m \u001b[0mmodel\u001b[0m \u001b[0;32mimport\u001b[0m \u001b[0mGenerator_Resnet\u001b[0m\u001b[0;34m\u001b[0m\u001b[0;34m\u001b[0m\u001b[0m\n",
      "\u001b[0;31mModuleNotFoundError\u001b[0m: No module named 'torchvision'"
     ]
    }
   ],
   "source": [
    "import torch\n",
    "from torch import nn\n",
    "import PIL\n",
    "import requests\n",
    "from PIL import Image\n",
    "import io\n",
    "import numpy as np\n",
    "import matplotlib.pyplot as plt\n",
    "from torchvision import transforms as T\n",
    "from model import Generator_Resnet"
   ]
  },
  {
   "cell_type": "markdown",
   "id": "aboriginal-surprise",
   "metadata": {},
   "source": [
    "### Variables"
   ]
  },
  {
   "cell_type": "code",
   "execution_count": null,
   "id": "ordinary-houston",
   "metadata": {},
   "outputs": [],
   "source": [
    "img_url = \"https://lh3.googleusercontent.com/Mjz79x3QRUldbe6VJhfw8xxWcvnZ9YT0P3KJxT1KdUzolrovEMxuUjoti8Xtk3uDq5ntWr_04C2KtU6wqg3b=w2880-h1642\""
   ]
  },
  {
   "cell_type": "markdown",
   "id": "primary-uzbekistan",
   "metadata": {},
   "source": [
    "### Image of Dimension 300 x 300 ?"
   ]
  },
  {
   "cell_type": "code",
   "execution_count": 3,
   "id": "divided-aaron",
   "metadata": {
    "execution": {
     "iopub.execute_input": "2021-07-18T11:59:17.277835Z",
     "iopub.status.busy": "2021-07-18T11:59:17.277584Z",
     "iopub.status.idle": "2021-07-18T11:59:17.496742Z",
     "shell.execute_reply": "2021-07-18T11:59:17.495995Z",
     "shell.execute_reply.started": "2021-07-18T11:59:17.277811Z"
    },
    "papermill": {},
    "tags": []
   },
   "outputs": [],
   "source": [
    "in_img = Image.open(requests.get(img_url, stream=True).raw) # change the path to the input image\n",
    "\n",
    "transform = T.Compose([\n",
    "    T.ToTensor(),\n",
    "    T.Resize((300, 300))\n",
    "    ])\n",
    "\n",
    "in_img = torch.reshape(transform(in_img), (1, 3, 300, 300))"
   ]
  },
  {
   "cell_type": "markdown",
   "id": "auburn-gothic",
   "metadata": {
    "execution": {
     "iopub.execute_input": "2021-07-20T14:55:15.792186Z",
     "iopub.status.busy": "2021-07-20T14:55:15.791956Z",
     "iopub.status.idle": "2021-07-20T14:55:15.796828Z",
     "shell.execute_reply": "2021-07-20T14:55:15.796317Z",
     "shell.execute_reply.started": "2021-07-20T14:55:15.792161Z"
    }
   },
   "source": [
    "### Explaination ?"
   ]
  },
  {
   "cell_type": "code",
   "execution_count": 4,
   "id": "metric-istanbul",
   "metadata": {
    "execution": {
     "iopub.execute_input": "2021-07-18T11:59:18.275622Z",
     "iopub.status.busy": "2021-07-18T11:59:18.275387Z",
     "iopub.status.idle": "2021-07-18T11:59:18.469616Z",
     "shell.execute_reply": "2021-07-18T11:59:18.468682Z",
     "shell.execute_reply.started": "2021-07-18T11:59:18.275600Z"
    },
    "papermill": {},
    "tags": []
   },
   "outputs": [],
   "source": [
    "_, ax = plt.subplots(figsize=(5, 5))\n",
    "ax.axis(\"off\")\n",
    "ax.imshow(np.array(in_img).reshape(3, 300, 300).transpose(1, 2, 0), aspect=\"auto\", interpolation=\"nearest\")"
   ]
  },
  {
   "cell_type": "markdown",
   "id": "metropolitan-potter",
   "metadata": {
    "papermill": {},
    "tags": []
   },
   "source": [
    "### Model"
   ]
  },
  {
   "cell_type": "markdown",
   "id": "civilian-generator",
   "metadata": {},
   "source": [
    "### Cycle Generative Adversarial Networks (GAN) with MSE and L1 loss"
   ]
  },
  {
   "cell_type": "code",
   "execution_count": 5,
   "id": "motivated-coast",
   "metadata": {
    "execution": {
     "iopub.execute_input": "2021-07-18T11:59:22.198535Z",
     "iopub.status.busy": "2021-07-18T11:59:22.198306Z",
     "iopub.status.idle": "2021-07-18T11:59:22.207141Z",
     "shell.execute_reply": "2021-07-18T11:59:22.206531Z",
     "shell.execute_reply.started": "2021-07-18T11:59:22.198513Z"
    },
    "papermill": {},
    "tags": []
   },
   "outputs": [],
   "source": [
    "class ResidualBlock(nn.Module):\n",
    "    def __init__(self, in_features):\n",
    "        super().__init__()\n",
    "        # print(in_features)\n",
    "\n",
    "        self.block = nn.Sequential(\n",
    "            nn.ReflectionPad2d(1),\n",
    "            nn.Conv2d(in_features, in_features, 3),\n",
    "            nn.InstanceNorm2d(in_features),\n",
    "            nn.LeakyReLU(inplace=True),\n",
    "            nn.ReflectionPad2d(2),\n",
    "            nn.Conv2d(in_features, in_features, 3),\n",
    "            nn.InstanceNorm2d(in_features),\n",
    "            nn.Conv2d(in_features, in_features, 3)\n",
    "        )\n",
    "\n",
    "    def forward(self, x):\n",
    "        out = self.block(x)\n",
    "        return x + out\n",
    "\n",
    "\n",
    "class Generator_Resnet(nn.Module):\n",
    "    def __init__(self, in_shape, n_res_blocks=5):\n",
    "        super(Generator_Resnet, self).__init__()\n",
    "        channels = in_shape[0]\n",
    "        n_blocks = n_res_blocks\n",
    "\n",
    "        out_features = 64\n",
    "\n",
    "        model = [\n",
    "            nn.ReflectionPad2d(channels),\n",
    "            nn.Conv2d(channels, out_features, 7),\n",
    "            nn.InstanceNorm2d(out_features),\n",
    "            nn.LeakyReLU(inplace=True)\n",
    "        ]\n",
    "        in_features = out_features\n",
    "\n",
    "        # Downscaling\n",
    "        for _ in range(2):\n",
    "            out_features *= 2\n",
    "            model += [\n",
    "                nn.Conv2d(in_features, out_features, 3, stride=2, padding=1),\n",
    "                nn.InstanceNorm2d(out_features),\n",
    "                nn.LeakyReLU(inplace=True)\n",
    "            ]\n",
    "            in_features = out_features\n",
    "\n",
    "        model += [ResidualBlock(in_features) for _ in range(n_blocks)]\n",
    "\n",
    "        for _ in range(2):\n",
    "            out_features //= 2\n",
    "            model += [\n",
    "                nn.Upsample(scale_factor=2),\n",
    "                nn.Conv2d(in_features, out_features, 3, stride=1, padding=1),\n",
    "                nn.InstanceNorm2d(out_features),\n",
    "                nn.ReLU(inplace=True),\n",
    "            ]\n",
    "            in_features = out_features\n",
    "\n",
    "            # Output layer\n",
    "        # print(out_features)\n",
    "        model += [nn.ReflectionPad2d(channels), nn.Conv2d(out_features, channels, 7), nn.Tanh()]\n",
    "\n",
    "        self.model = nn.Sequential(*model)\n",
    "\n",
    "    def forward(self, x):\n",
    "        return self.model(x)"
   ]
  },
  {
   "cell_type": "markdown",
   "id": "considerable-royal",
   "metadata": {},
   "source": [
    "### Explaination ?"
   ]
  },
  {
   "cell_type": "code",
   "execution_count": 6,
   "id": "composite-serve",
   "metadata": {
    "execution": {
     "iopub.execute_input": "2021-07-18T11:59:25.096889Z",
     "iopub.status.busy": "2021-07-18T11:59:25.096631Z",
     "iopub.status.idle": "2021-07-18T11:59:25.291557Z",
     "shell.execute_reply": "2021-07-18T11:59:25.290198Z",
     "shell.execute_reply.started": "2021-07-18T11:59:25.096865Z"
    },
    "papermill": {},
    "tags": []
   },
   "outputs": [],
   "source": [
    "Gen_Night2Day = Generator_Resnet((3, 300, 300), 4)\n",
    "Gen_Night2Day.load_state_dict(torch.load(\"./G_AB.pth\", map_location=torch.device(\"cpu\")))"
   ]
  },
  {
   "cell_type": "markdown",
   "id": "homeless-surprise",
   "metadata": {
    "papermill": {},
    "tags": []
   },
   "source": [
    "### Output"
   ]
  },
  {
   "cell_type": "markdown",
   "id": "attractive-interest",
   "metadata": {},
   "source": [
    "### Image of Dimension 300 x 300 ?"
   ]
  },
  {
   "cell_type": "code",
   "execution_count": 7,
   "id": "awful-preserve",
   "metadata": {
    "execution": {
     "iopub.execute_input": "2021-07-18T11:59:29.947958Z",
     "iopub.status.busy": "2021-07-18T11:59:29.947663Z",
     "iopub.status.idle": "2021-07-18T11:59:32.235013Z",
     "shell.execute_reply": "2021-07-18T11:59:32.234316Z",
     "shell.execute_reply.started": "2021-07-18T11:59:29.947928Z"
    },
    "papermill": {},
    "tags": []
   },
   "outputs": [],
   "source": [
    "out_img = Gen_Night2Day(in_img).detach().numpy().reshape((3, 300, 300)).transpose(1, 2, 0)"
   ]
  },
  {
   "cell_type": "code",
   "execution_count": 8,
   "id": "duplicate-spending",
   "metadata": {
    "execution": {
     "iopub.execute_input": "2021-07-18T11:59:32.933413Z",
     "iopub.status.busy": "2021-07-18T11:59:32.933187Z",
     "iopub.status.idle": "2021-07-18T11:59:33.254815Z",
     "shell.execute_reply": "2021-07-18T11:59:33.254221Z",
     "shell.execute_reply.started": "2021-07-18T11:59:32.933390Z"
    },
    "papermill": {},
    "tags": []
   },
   "outputs": [],
   "source": [
    "_, ax = plt.subplots(1, 2, figsize=(15, 8))\n",
    "ax[0].axis('off')\n",
    "ax[1].axis('off')\n",
    "ax[0].set_title(\"Input Night image\", fontsize=20)\n",
    "ax[1].set_title(\"Output Day image\", fontsize=20)\n",
    "ax[0].imshow(np.array(in_img).reshape(3, 300, 300).transpose(1, 2, 0), aspect=\"auto\", interpolation=\"nearest\")\n",
    "ax[1].imshow(out_img, interpolation=\"nearest\", aspect=\"auto\")"
   ]
  }
 ],
 "metadata": {
  "kernelspec": {
   "display_name": "Python 3",
   "language": "python",
   "name": "python3"
  },
  "language_info": {
   "codemirror_mode": {
    "name": "ipython",
    "version": 3
   },
   "file_extension": ".py",
   "mimetype": "text/x-python",
   "name": "python",
   "nbconvert_exporter": "python",
   "pygments_lexer": "ipython3",
   "version": "3.8.8"
  },
  "papermill": {
   "default_parameters": {},
   "environment_variables": {},
   "parameters": {},
   "version": "2.3.3"
  }
 },
 "nbformat": 4,
 "nbformat_minor": 5
}
