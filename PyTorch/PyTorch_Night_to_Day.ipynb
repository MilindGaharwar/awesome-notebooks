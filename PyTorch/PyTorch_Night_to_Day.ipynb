{
 "cells": [
  {
   "cell_type": "markdown",
   "id": "straight-block",
   "metadata": {
    "papermill": {},
    "tags": []
   },
   "source": [
    "# PyTorch - Night to Day\n",
    "<a href=\"https://app.naas.ai/user-redirect/naas/downloader?url=https://raw.githubusercontent.com/jupyter-naas/awesome-notebooks/master/PyTorch/PyTorch_Night_to_Day.ipynb\" target=\"_parent\"><img src=\"https://img.shields.io/badge/-Open%20in%20Naas-success?labelColor=000000&logo=data:image/svg+xml;base64,PD94bWwgdmVyc2lvbj0iMS4wIiBlbmNvZGluZz0iVVRGLTgiPz4KPHN2ZyB3aWR0aD0iMTAyNHB4IiBoZWlnaHQ9IjEwMjRweCIgdmlld0JveD0iMCAwIDEwMjQgMTAyNCIgeG1sbnM9Imh0dHA6Ly93d3cudzMub3JnLzIwMDAvc3ZnIiB4bWxuczp4bGluaz0iaHR0cDovL3d3dy53My5vcmcvMTk5OS94bGluayIgdmVyc2lvbj0iMS4xIj4KIDwhLS0gR2VuZXJhdGVkIGJ5IFBpeGVsbWF0b3IgUHJvIDIuMC41IC0tPgogPGRlZnM+CiAgPHRleHQgaWQ9InN0cmluZyIgdHJhbnNmb3JtPSJtYXRyaXgoMS4wIDAuMCAwLjAgMS4wIDIyOC4wIDU0LjUpIiBmb250LWZhbWlseT0iQ29tZm9ydGFhLVJlZ3VsYXIsIENvbWZvcnRhYSIgZm9udC1zaXplPSI4MDAiIHRleHQtZGVjb3JhdGlvbj0ibm9uZSIgZmlsbD0iI2ZmZmZmZiIgeD0iMS4xOTk5OTk5OTk5OTk5ODg2IiB5PSI3MDUuMCI+bjwvdGV4dD4KIDwvZGVmcz4KIDx1c2UgaWQ9Im4iIHhsaW5rOmhyZWY9IiNzdHJpbmciLz4KPC9zdmc+Cg==\"/></a>"
   ]
  },
  {
   "cell_type": "markdown",
   "id": "elegant-female",
   "metadata": {
    "papermill": {},
    "tags": []
   },
   "source": [
    "### Imports"
   ]
  },
  {
   "cell_type": "code",
   "execution_count": 1,
   "id": "pacific-sessions",
   "metadata": {
    "execution": {
     "iopub.execute_input": "2021-07-18T11:59:11.021099Z",
     "iopub.status.busy": "2021-07-18T11:59:11.020819Z",
     "iopub.status.idle": "2021-07-18T11:59:16.327985Z",
     "shell.execute_reply": "2021-07-18T11:59:16.327375Z",
     "shell.execute_reply.started": "2021-07-18T11:59:11.021034Z"
    },
    "papermill": {},
    "tags": []
   },
   "outputs": [],
   "source": [
    "import torch\n",
    "from torch import nn\n",
    "import PIL\n",
    "import requests\n",
    "from PIL import Image\n",
    "import io\n",
    "import numpy as np\n",
    "import matplotlib.pyplot as plt\n",
    "from torchvision import transforms as T\n",
    "from model import Generator_Resnet"
   ]
  },
  {
   "cell_type": "code",
   "execution_count": 2,
   "id": "bizarre-study",
   "metadata": {
    "execution": {
     "iopub.execute_input": "2021-07-18T11:59:16.329282Z",
     "iopub.status.busy": "2021-07-18T11:59:16.329058Z",
     "iopub.status.idle": "2021-07-18T11:59:16.332700Z",
     "shell.execute_reply": "2021-07-18T11:59:16.332116Z",
     "shell.execute_reply.started": "2021-07-18T11:59:16.329253Z"
    },
    "papermill": {},
    "tags": []
   },
   "outputs": [],
   "source": [
    "transform = T.Compose([\n",
    "        T.ToTensor(),\n",
    "        T.Resize((300, 300))\n",
    "    ])"
   ]
  },
  {
   "cell_type": "markdown",
   "id": "functional-watershed",
   "metadata": {
    "papermill": {},
    "tags": []
   },
   "source": [
    "### INPUT : Image of Dimension 300 x 300"
   ]
  },
  {
   "cell_type": "code",
   "execution_count": 3,
   "id": "packed-windows",
   "metadata": {
    "execution": {
     "iopub.execute_input": "2021-07-18T11:59:17.277835Z",
     "iopub.status.busy": "2021-07-18T11:59:17.277584Z",
     "iopub.status.idle": "2021-07-18T11:59:17.496742Z",
     "shell.execute_reply": "2021-07-18T11:59:17.495995Z",
     "shell.execute_reply.started": "2021-07-18T11:59:17.277811Z"
    },
    "papermill": {},
    "tags": []
   },
   "outputs": [],
   "source": [
    "img_url = \"https://lh3.googleusercontent.com/Mjz79x3QRUldbe6VJhfw8xxWcvnZ9YT0P3KJxT1KdUzolrovEMxuUjoti8Xtk3uDq5ntWr_04C2KtU6wqg3b=w2880-h1642\"\n",
    "in_img = Image.open(requests.get(img_url, stream=True).raw) # change the path to the input image\n",
    "in_img = torch.reshape(transform(in_img), (1, 3, 300, 300))"
   ]
  },
  {
   "cell_type": "code",
   "execution_count": 4,
   "id": "varying-catering",
   "metadata": {
    "execution": {
     "iopub.execute_input": "2021-07-18T11:59:18.275622Z",
     "iopub.status.busy": "2021-07-18T11:59:18.275387Z",
     "iopub.status.idle": "2021-07-18T11:59:18.469616Z",
     "shell.execute_reply": "2021-07-18T11:59:18.468682Z",
     "shell.execute_reply.started": "2021-07-18T11:59:18.275600Z"
    },
    "papermill": {},
    "tags": []
   },
   "outputs": [],
   "source": [
    "_, ax = plt.subplots(figsize=(5, 5))\n",
    "ax.axis(\"off\")\n",
    "ax.imshow(np.array(in_img).reshape(3, 300, 300).transpose(1, 2, 0), aspect=\"auto\", interpolation=\"nearest\")"
   ]
  },
  {
   "cell_type": "markdown",
   "id": "acceptable-nelson",
   "metadata": {
    "papermill": {},
    "tags": []
   },
   "source": [
    "### Model : Cycle Generative Adversarial Networks ( GAN ) with MSE and L1 loss"
   ]
  },
  {
   "cell_type": "code",
   "execution_count": 5,
   "id": "invisible-puzzle",
   "metadata": {
    "execution": {
     "iopub.execute_input": "2021-07-18T11:59:22.198535Z",
     "iopub.status.busy": "2021-07-18T11:59:22.198306Z",
     "iopub.status.idle": "2021-07-18T11:59:22.207141Z",
     "shell.execute_reply": "2021-07-18T11:59:22.206531Z",
     "shell.execute_reply.started": "2021-07-18T11:59:22.198513Z"
    },
    "papermill": {},
    "tags": []
   },
   "outputs": [],
   "source": [
    "class ResidualBlock(nn.Module):\n",
    "    def __init__(self, in_features):\n",
    "        super().__init__()\n",
    "        # print(in_features)\n",
    "\n",
    "        self.block = nn.Sequential(\n",
    "            nn.ReflectionPad2d(1),\n",
    "            nn.Conv2d(in_features, in_features, 3),\n",
    "            nn.InstanceNorm2d(in_features),\n",
    "            nn.LeakyReLU(inplace=True),\n",
    "            nn.ReflectionPad2d(2),\n",
    "            nn.Conv2d(in_features, in_features, 3),\n",
    "            nn.InstanceNorm2d(in_features),\n",
    "            nn.Conv2d(in_features, in_features, 3)\n",
    "        )\n",
    "\n",
    "    def forward(self, x):\n",
    "        out = self.block(x)\n",
    "        return x + out\n",
    "\n",
    "\n",
    "class Generator_Resnet(nn.Module):\n",
    "    def __init__(self, in_shape, n_res_blocks=5):\n",
    "        super(Generator_Resnet, self).__init__()\n",
    "        channels = in_shape[0]\n",
    "        n_blocks = n_res_blocks\n",
    "\n",
    "        out_features = 64\n",
    "\n",
    "        model = [\n",
    "            nn.ReflectionPad2d(channels),\n",
    "            nn.Conv2d(channels, out_features, 7),\n",
    "            nn.InstanceNorm2d(out_features),\n",
    "            nn.LeakyReLU(inplace=True)\n",
    "        ]\n",
    "        in_features = out_features\n",
    "\n",
    "        # Downscaling\n",
    "        for _ in range(2):\n",
    "            out_features *= 2\n",
    "            model += [\n",
    "                nn.Conv2d(in_features, out_features, 3, stride=2, padding=1),\n",
    "                nn.InstanceNorm2d(out_features),\n",
    "                nn.LeakyReLU(inplace=True)\n",
    "            ]\n",
    "            in_features = out_features\n",
    "\n",
    "        model += [ResidualBlock(in_features) for _ in range(n_blocks)]\n",
    "\n",
    "        for _ in range(2):\n",
    "            out_features //= 2\n",
    "            model += [\n",
    "                nn.Upsample(scale_factor=2),\n",
    "                nn.Conv2d(in_features, out_features, 3, stride=1, padding=1),\n",
    "                nn.InstanceNorm2d(out_features),\n",
    "                nn.ReLU(inplace=True),\n",
    "            ]\n",
    "            in_features = out_features\n",
    "\n",
    "            # Output layer\n",
    "        # print(out_features)\n",
    "        model += [nn.ReflectionPad2d(channels), nn.Conv2d(out_features, channels, 7), nn.Tanh()]\n",
    "\n",
    "        self.model = nn.Sequential(*model)\n",
    "\n",
    "    def forward(self, x):\n",
    "        return self.model(x)"
   ]
  },
  {
   "cell_type": "code",
   "execution_count": 6,
   "id": "interim-pharmacology",
   "metadata": {
    "execution": {
     "iopub.execute_input": "2021-07-18T11:59:25.096889Z",
     "iopub.status.busy": "2021-07-18T11:59:25.096631Z",
     "iopub.status.idle": "2021-07-18T11:59:25.291557Z",
     "shell.execute_reply": "2021-07-18T11:59:25.290198Z",
     "shell.execute_reply.started": "2021-07-18T11:59:25.096865Z"
    },
    "papermill": {},
    "tags": []
   },
   "outputs": [],
   "source": [
    "Gen_Night2Day = Generator_Resnet((3, 300, 300), 4)\n",
    "Gen_Night2Day.load_state_dict(torch.load(\"./G_AB.pth\", map_location=torch.device(\"cpu\")))"
   ]
  },
  {
   "cell_type": "markdown",
   "id": "consolidated-favor",
   "metadata": {
    "papermill": {},
    "tags": []
   },
   "source": [
    "### Output : Image of Dimension 300 x 300"
   ]
  },
  {
   "cell_type": "code",
   "execution_count": 7,
   "id": "assisted-statistics",
   "metadata": {
    "execution": {
     "iopub.execute_input": "2021-07-18T11:59:29.947958Z",
     "iopub.status.busy": "2021-07-18T11:59:29.947663Z",
     "iopub.status.idle": "2021-07-18T11:59:32.235013Z",
     "shell.execute_reply": "2021-07-18T11:59:32.234316Z",
     "shell.execute_reply.started": "2021-07-18T11:59:29.947928Z"
    },
    "papermill": {},
    "tags": []
   },
   "outputs": [],
   "source": [
    "out_img = Gen_Night2Day(in_img).detach().numpy().reshape((3, 300, 300)).transpose(1, 2, 0)"
   ]
  },
  {
   "cell_type": "code",
   "execution_count": 8,
   "id": "acute-special",
   "metadata": {
    "execution": {
     "iopub.execute_input": "2021-07-18T11:59:32.933413Z",
     "iopub.status.busy": "2021-07-18T11:59:32.933187Z",
     "iopub.status.idle": "2021-07-18T11:59:33.254815Z",
     "shell.execute_reply": "2021-07-18T11:59:33.254221Z",
     "shell.execute_reply.started": "2021-07-18T11:59:32.933390Z"
    },
    "papermill": {},
    "tags": []
   },
   "outputs": [],
   "source": [
    "_, ax = plt.subplots(1, 2, figsize=(15, 8))\n",
    "ax[0].axis('off')\n",
    "ax[1].axis('off')\n",
    "ax[0].set_title(\"Input Night image\", fontsize=20)\n",
    "ax[1].set_title(\"Output Day image\", fontsize=20)\n",
    "ax[0].imshow(np.array(in_img).reshape(3, 300, 300).transpose(1, 2, 0), aspect=\"auto\", interpolation=\"nearest\")\n",
    "ax[1].imshow(out_img, interpolation=\"nearest\", aspect=\"auto\")"
   ]
  }
 ],
 "metadata": {
  "kernelspec": {
   "display_name": "Python 3",
   "language": "python",
   "name": "python3"
  },
  "language_info": {
   "codemirror_mode": {
    "name": "ipython",
    "version": 3
   },
   "file_extension": ".py",
   "mimetype": "text/x-python",
   "name": "python",
   "nbconvert_exporter": "python",
   "pygments_lexer": "ipython3",
   "version": "3.8.8"
  },
  "papermill": {
   "default_parameters": {},
   "environment_variables": {},
   "parameters": {},
   "version": "2.3.3"
  }
 },
 "nbformat": 4,
 "nbformat_minor": 5
}