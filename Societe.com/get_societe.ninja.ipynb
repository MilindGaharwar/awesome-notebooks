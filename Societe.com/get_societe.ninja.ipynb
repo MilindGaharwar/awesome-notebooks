{
 "cells": [
  {
   "cell_type": "markdown",
   "id": "proved-olympus",
   "metadata": {
    "papermill": {},
    "tags": []
   },
   "source": [
    "<img width=\"10%\" alt=\"Naas\" src=\"https://landen.imgix.net/jtci2pxwjczr/assets/5ice39g4.png?w=160\"/>\n",
    "\n",
    "# Get Company data from Societe ninja (free alternative to societe.com )\n",
    "[![download](https://img.shields.io/static/v1?label=&labelColor=000000&message=Open%20in%20Naas&color=success&logo=image%2Fsvg%2Bxml%3Bbase64%2CPD94bWwgdmVyc2lvbj0iMS4wIiBlbmNvZGluZz0iVVRGLTgiPz4KPHN2ZyB3aWR0aD0iMTAyNHB4IiBoZWlnaHQ9IjEwMjRweCIgdmlld0JveD0iMCAwIDEwMjQgMTAyNCIgeG1sbnM9Imh0dHA6Ly93d3cudzMub3JnLzIwMDAvc3ZnIiB4bWxuczp4bGluaz0iaHR0cDovL3d3dy53My5vcmcvMTk5OS94bGluayIgdmVyc2lvbj0iMS4xIj4KIDwhLS0gR2VuZXJhdGVkIGJ5IFBpeGVsbWF0b3IgUHJvIDIuMC41IC0tPgogPGRlZnM%2BCiAgPHRleHQgaWQ9InN0cmluZyIgdHJhbnNmb3JtPSJtYXRyaXgoMS4wIDAuMCAwLjAgMS4wIDIyOC4wIDU0LjUpIiBmb250LWZhbWlseT0iQ29tZm9ydGFhLVJlZ3VsYXIsIENvbWZvcnRhYSIgZm9udC1zaXplPSI4MDAiIHRleHQtZGVjb3JhdGlvbj0ibm9uZSIgZmlsbD0iI2ZmZmZmZiIgeD0iMS4xOTk5OTk5OTk5OTk5ODg2IiB5PSI3MDUuMCI%2BbjwvdGV4dD4KIDwvZGVmcz4KIDx1c2UgaWQ9Im4iIHhsaW5rOmhyZWY9IiNzdHJpbmciLz4KPC9zdmc%2BCg%3D%3D)](https://app.naas.ai/user-redirect/naas/downloader?url=https://raw.githubusercontent.com/jupyter-naas/awesome-notebooks/master/Societe.com/get_societe.ninja.ipynb)/naas/downloader?url=https://raw.githubusercontent.com/jupyter-naas/awesome-notebooks/master/Societe.com/get_societe.ninja.ipynb)/naas/downloader?url=https://raw.githubusercontent.com/jupyter-naas/awesome-notebooks/master/Societe.com/get_societe.ninja.ipynb)"
   ]
  },
  {
   "cell_type": "code",
   "execution_count": 1,
   "id": "closing-mercury",
   "metadata": {
    "execution": {
     "iopub.execute_input": "2021-01-25T15:01:53.141688Z",
     "iopub.status.busy": "2021-01-25T15:01:53.141415Z",
     "iopub.status.idle": "2021-01-25T15:01:58.565300Z",
     "shell.execute_reply": "2021-01-25T15:01:58.564720Z",
     "shell.execute_reply.started": "2021-01-25T15:01:53.141624Z"
    },
    "papermill": {},
    "tags": []
   },
   "outputs": [],
   "source": [
    "import pandas as pd\n",
    "data = pd.read_html(\"https://societe.ninja/data.php?siren=880612569\", encoding=\"UTF-8\")"
   ]
  },
  {
   "cell_type": "code",
   "execution_count": 2,
   "id": "medium-bumper",
   "metadata": {
    "execution": {
     "iopub.execute_input": "2021-01-25T15:01:58.567966Z",
     "iopub.status.busy": "2021-01-25T15:01:58.567792Z",
     "iopub.status.idle": "2021-01-25T15:01:58.572745Z",
     "shell.execute_reply": "2021-01-25T15:01:58.572121Z",
     "shell.execute_reply.started": "2021-01-25T15:01:58.567947Z"
    },
    "papermill": {},
    "tags": []
   },
   "outputs": [
    {
     "name": "stdout",
     "output_type": "stream",
     "text": [
      "8\n"
     ]
    }
   ],
   "source": [
    "print(len(data))"
   ]
  },
  {
   "cell_type": "code",
   "execution_count": 3,
   "id": "working-world",
   "metadata": {
    "execution": {
     "iopub.execute_input": "2021-01-25T15:01:58.574355Z",
     "iopub.status.busy": "2021-01-25T15:01:58.574136Z",
     "iopub.status.idle": "2021-01-25T15:01:58.667526Z",
     "shell.execute_reply": "2021-01-25T15:01:58.667008Z",
     "shell.execute_reply.started": "2021-01-25T15:01:58.574327Z"
    },
    "papermill": {},
    "tags": []
   },
   "outputs": [
    {
     "data": {
      "text/html": [
       "<div>\n",
       "<style scoped>\n",
       "    .dataframe tbody tr th:only-of-type {\n",
       "        vertical-align: middle;\n",
       "    }\n",
       "\n",
       "    .dataframe tbody tr th {\n",
       "        vertical-align: top;\n",
       "    }\n",
       "\n",
       "    .dataframe thead th {\n",
       "        text-align: right;\n",
       "    }\n",
       "</style>\n",
       "<table border=\"1\" class=\"dataframe\">\n",
       "  <thead>\n",
       "    <tr style=\"text-align: right;\">\n",
       "      <th></th>\n",
       "      <th>0</th>\n",
       "    </tr>\n",
       "  </thead>\n",
       "  <tbody>\n",
       "    <tr>\n",
       "      <th>0</th>\n",
       "      <td>Unite LegaleBODACCReprésentantsActesEtablissem...</td>\n",
       "    </tr>\n",
       "  </tbody>\n",
       "</table>\n",
       "</div>"
      ],
      "text/plain": [
       "                                                   0\n",
       "0  Unite LegaleBODACCReprésentantsActesEtablissem..."
      ]
     },
     "execution_count": 3,
     "metadata": {},
     "output_type": "execute_result"
    }
   ],
   "source": [
    "data[0]"
   ]
  },
  {
   "cell_type": "code",
   "execution_count": 4,
   "id": "pediatric-startup",
   "metadata": {
    "execution": {
     "iopub.execute_input": "2021-01-25T15:01:58.669959Z",
     "iopub.status.busy": "2021-01-25T15:01:58.669784Z",
     "iopub.status.idle": "2021-01-25T15:01:58.767936Z",
     "shell.execute_reply": "2021-01-25T15:01:58.767301Z",
     "shell.execute_reply.started": "2021-01-25T15:01:58.669939Z"
    },
    "papermill": {},
    "tags": []
   },
   "outputs": [
    {
     "data": {
      "text/html": [
       "<div>\n",
       "<style scoped>\n",
       "    .dataframe tbody tr th:only-of-type {\n",
       "        vertical-align: middle;\n",
       "    }\n",
       "\n",
       "    .dataframe tbody tr th {\n",
       "        vertical-align: top;\n",
       "    }\n",
       "\n",
       "    .dataframe thead th {\n",
       "        text-align: right;\n",
       "    }\n",
       "</style>\n",
       "<table border=\"1\" class=\"dataframe\">\n",
       "  <thead>\n",
       "    <tr style=\"text-align: right;\">\n",
       "      <th></th>\n",
       "      <th>UNITE LEGALE</th>\n",
       "      <th>UNITE LEGALE.1</th>\n",
       "    </tr>\n",
       "  </thead>\n",
       "  <tbody>\n",
       "    <tr>\n",
       "      <th>0</th>\n",
       "      <td>Dénomination Sociale</td>\n",
       "      <td>CASHSTORY</td>\n",
       "    </tr>\n",
       "    <tr>\n",
       "      <th>1</th>\n",
       "      <td>Siège Social</td>\n",
       "      <td>5 RUE HERMEL75018 PARIS 18</td>\n",
       "    </tr>\n",
       "    <tr>\n",
       "      <th>2</th>\n",
       "      <td>Forme Juridique</td>\n",
       "      <td>SAS, société par actions simplifiée</td>\n",
       "    </tr>\n",
       "    <tr>\n",
       "      <th>3</th>\n",
       "      <td>Capital Social</td>\n",
       "      <td>1 000,00 EUR</td>\n",
       "    </tr>\n",
       "    <tr>\n",
       "      <th>4</th>\n",
       "      <td>Immatriculation</td>\n",
       "      <td>26/12/2019</td>\n",
       "    </tr>\n",
       "    <tr>\n",
       "      <th>5</th>\n",
       "      <td>Greffe</td>\n",
       "      <td>Tribunal de Commerce de PARIS</td>\n",
       "    </tr>\n",
       "    <tr>\n",
       "      <th>6</th>\n",
       "      <td>N° SIREN</td>\n",
       "      <td>880612569</td>\n",
       "    </tr>\n",
       "    <tr>\n",
       "      <th>7</th>\n",
       "      <td>Code NAF</td>\n",
       "      <td>62.01Z</td>\n",
       "    </tr>\n",
       "    <tr>\n",
       "      <th>8</th>\n",
       "      <td>Activité</td>\n",
       "      <td>Programmation informatique</td>\n",
       "    </tr>\n",
       "    <tr>\n",
       "      <th>9</th>\n",
       "      <td>TVA Intracommunautaire</td>\n",
       "      <td>FR39880612569</td>\n",
       "    </tr>\n",
       "  </tbody>\n",
       "</table>\n",
       "</div>"
      ],
      "text/plain": [
       "             UNITE LEGALE                       UNITE LEGALE.1\n",
       "0    Dénomination Sociale                            CASHSTORY\n",
       "1            Siège Social           5 RUE HERMEL75018 PARIS 18\n",
       "2         Forme Juridique  SAS, société par actions simplifiée\n",
       "3          Capital Social                         1 000,00 EUR\n",
       "4         Immatriculation                           26/12/2019\n",
       "5                  Greffe        Tribunal de Commerce de PARIS\n",
       "6                N° SIREN                            880612569\n",
       "7                Code NAF                               62.01Z\n",
       "8                Activité           Programmation informatique\n",
       "9  TVA Intracommunautaire                        FR39880612569"
      ]
     },
     "execution_count": 4,
     "metadata": {},
     "output_type": "execute_result"
    }
   ],
   "source": [
    "data[1]"
   ]
  },
  {
   "cell_type": "code",
   "execution_count": 5,
   "id": "tamil-enforcement",
   "metadata": {
    "execution": {
     "iopub.execute_input": "2021-01-25T15:01:58.769021Z",
     "iopub.status.busy": "2021-01-25T15:01:58.768840Z",
     "iopub.status.idle": "2021-01-25T15:01:58.883023Z",
     "shell.execute_reply": "2021-01-25T15:01:58.882507Z",
     "shell.execute_reply.started": "2021-01-25T15:01:58.768998Z"
    },
    "papermill": {},
    "tags": []
   },
   "outputs": [
    {
     "data": {
      "text/html": [
       "<div>\n",
       "<style scoped>\n",
       "    .dataframe tbody tr th:only-of-type {\n",
       "        vertical-align: middle;\n",
       "    }\n",
       "\n",
       "    .dataframe tbody tr th {\n",
       "        vertical-align: top;\n",
       "    }\n",
       "\n",
       "    .dataframe thead th {\n",
       "        text-align: right;\n",
       "    }\n",
       "</style>\n",
       "<table border=\"1\" class=\"dataframe\">\n",
       "  <thead>\n",
       "    <tr style=\"text-align: right;\">\n",
       "      <th></th>\n",
       "      <th>ANNONCES BODACC</th>\n",
       "      <th>ANNONCES BODACC.1</th>\n",
       "      <th>ANNONCES BODACC.2</th>\n",
       "      <th>ANNONCES BODACC.3</th>\n",
       "    </tr>\n",
       "  </thead>\n",
       "  <tbody>\n",
       "    <tr>\n",
       "      <th>0</th>\n",
       "      <td>23/01/2020</td>\n",
       "      <td>PARIS</td>\n",
       "      <td>Créations</td>\n",
       "      <td>Afficher</td>\n",
       "    </tr>\n",
       "  </tbody>\n",
       "</table>\n",
       "</div>"
      ],
      "text/plain": [
       "  ANNONCES BODACC ANNONCES BODACC.1 ANNONCES BODACC.2 ANNONCES BODACC.3\n",
       "0      23/01/2020             PARIS         Créations          Afficher"
      ]
     },
     "execution_count": 5,
     "metadata": {},
     "output_type": "execute_result"
    }
   ],
   "source": [
    "data[2]"
   ]
  },
  {
   "cell_type": "code",
   "execution_count": 6,
   "id": "governmental-going",
   "metadata": {
    "execution": {
     "iopub.execute_input": "2021-01-25T15:01:58.884119Z",
     "iopub.status.busy": "2021-01-25T15:01:58.883842Z",
     "iopub.status.idle": "2021-01-25T15:01:58.983471Z",
     "shell.execute_reply": "2021-01-25T15:01:58.982714Z",
     "shell.execute_reply.started": "2021-01-25T15:01:58.884097Z"
    },
    "papermill": {},
    "tags": []
   },
   "outputs": [
    {
     "data": {
      "text/html": [
       "<div>\n",
       "<style scoped>\n",
       "    .dataframe tbody tr th:only-of-type {\n",
       "        vertical-align: middle;\n",
       "    }\n",
       "\n",
       "    .dataframe tbody tr th {\n",
       "        vertical-align: top;\n",
       "    }\n",
       "\n",
       "    .dataframe thead th {\n",
       "        text-align: right;\n",
       "    }\n",
       "</style>\n",
       "<table border=\"1\" class=\"dataframe\">\n",
       "  <thead>\n",
       "    <tr style=\"text-align: right;\">\n",
       "      <th></th>\n",
       "      <th>REPRESENTANTS</th>\n",
       "      <th>REPRESENTANTS.1</th>\n",
       "      <th>REPRESENTANTS.2</th>\n",
       "    </tr>\n",
       "  </thead>\n",
       "  <tbody>\n",
       "    <tr>\n",
       "      <th>0</th>\n",
       "      <td>NaN</td>\n",
       "      <td>Président</td>\n",
       "      <td>MDM IS (821455730)5 rue Hermel75018 PARIS</td>\n",
       "    </tr>\n",
       "    <tr>\n",
       "      <th>1</th>\n",
       "      <td>NaN</td>\n",
       "      <td>Directeur général</td>\n",
       "      <td>FRV Services (877941724)25 rue Francoeur75018 ...</td>\n",
       "    </tr>\n",
       "  </tbody>\n",
       "</table>\n",
       "</div>"
      ],
      "text/plain": [
       "   REPRESENTANTS    REPRESENTANTS.1  \\\n",
       "0            NaN          Président   \n",
       "1            NaN  Directeur général   \n",
       "\n",
       "                                     REPRESENTANTS.2  \n",
       "0          MDM IS (821455730)5 rue Hermel75018 PARIS  \n",
       "1  FRV Services (877941724)25 rue Francoeur75018 ...  "
      ]
     },
     "execution_count": 6,
     "metadata": {},
     "output_type": "execute_result"
    }
   ],
   "source": [
    "data[3]"
   ]
  },
  {
   "cell_type": "code",
   "execution_count": 7,
   "id": "informative-return",
   "metadata": {
    "execution": {
     "iopub.execute_input": "2021-01-25T15:01:58.985542Z",
     "iopub.status.busy": "2021-01-25T15:01:58.985002Z",
     "iopub.status.idle": "2021-01-25T15:01:59.084988Z",
     "shell.execute_reply": "2021-01-25T15:01:59.084354Z",
     "shell.execute_reply.started": "2021-01-25T15:01:58.985476Z"
    },
    "papermill": {},
    "tags": []
   },
   "outputs": [
    {
     "data": {
      "text/html": [
       "<div>\n",
       "<style scoped>\n",
       "    .dataframe tbody tr th:only-of-type {\n",
       "        vertical-align: middle;\n",
       "    }\n",
       "\n",
       "    .dataframe tbody tr th {\n",
       "        vertical-align: top;\n",
       "    }\n",
       "\n",
       "    .dataframe thead th {\n",
       "        text-align: right;\n",
       "    }\n",
       "</style>\n",
       "<table border=\"1\" class=\"dataframe\">\n",
       "  <thead>\n",
       "    <tr style=\"text-align: right;\">\n",
       "      <th></th>\n",
       "      <th>ACTES</th>\n",
       "      <th>ACTES.1</th>\n",
       "      <th>ACTES.2</th>\n",
       "      <th>ACTES.3</th>\n",
       "    </tr>\n",
       "  </thead>\n",
       "  <tbody>\n",
       "    <tr>\n",
       "      <th>0</th>\n",
       "      <td>Date19/12/2019</td>\n",
       "      <td>Dépôt14/01/2020</td>\n",
       "      <td>Document relatif au bénéficiaire effectifStatu...</td>\n",
       "      <td>Télécharger</td>\n",
       "    </tr>\n",
       "  </tbody>\n",
       "</table>\n",
       "</div>"
      ],
      "text/plain": [
       "            ACTES          ACTES.1  \\\n",
       "0  Date19/12/2019  Dépôt14/01/2020   \n",
       "\n",
       "                                             ACTES.2      ACTES.3  \n",
       "0  Document relatif au bénéficiaire effectifStatu...  Télécharger  "
      ]
     },
     "execution_count": 7,
     "metadata": {},
     "output_type": "execute_result"
    }
   ],
   "source": [
    "data[4]"
   ]
  },
  {
   "cell_type": "code",
   "execution_count": 8,
   "id": "premier-garlic",
   "metadata": {
    "execution": {
     "iopub.execute_input": "2021-01-25T15:01:59.086613Z",
     "iopub.status.busy": "2021-01-25T15:01:59.086446Z",
     "iopub.status.idle": "2021-01-25T15:01:59.169075Z",
     "shell.execute_reply": "2021-01-25T15:01:59.168436Z",
     "shell.execute_reply.started": "2021-01-25T15:01:59.086595Z"
    },
    "papermill": {},
    "tags": []
   },
   "outputs": [
    {
     "data": {
      "text/html": [
       "<div>\n",
       "<style scoped>\n",
       "    .dataframe tbody tr th:only-of-type {\n",
       "        vertical-align: middle;\n",
       "    }\n",
       "\n",
       "    .dataframe tbody tr th {\n",
       "        vertical-align: top;\n",
       "    }\n",
       "\n",
       "    .dataframe thead th {\n",
       "        text-align: right;\n",
       "    }\n",
       "</style>\n",
       "<table border=\"1\" class=\"dataframe\">\n",
       "  <thead>\n",
       "    <tr style=\"text-align: right;\">\n",
       "      <th></th>\n",
       "      <th>ETABLISSEMENTS (1)</th>\n",
       "      <th>Unnamed: 1</th>\n",
       "      <th>Unnamed: 2</th>\n",
       "      <th>Unnamed: 3</th>\n",
       "      <th>Unnamed: 4</th>\n",
       "    </tr>\n",
       "  </thead>\n",
       "  <tbody>\n",
       "    <tr>\n",
       "      <th>0</th>\n",
       "      <td>88061256900017(siège)</td>\n",
       "      <td>62.01Z</td>\n",
       "      <td>Création26/12/2019</td>\n",
       "      <td>NaN</td>\n",
       "      <td>5 RUE HERMEL75018 PARIS 18</td>\n",
       "    </tr>\n",
       "  </tbody>\n",
       "</table>\n",
       "</div>"
      ],
      "text/plain": [
       "      ETABLISSEMENTS (1) Unnamed: 1          Unnamed: 2  Unnamed: 3  \\\n",
       "0  88061256900017(siège)     62.01Z  Création26/12/2019         NaN   \n",
       "\n",
       "                   Unnamed: 4  \n",
       "0  5 RUE HERMEL75018 PARIS 18  "
      ]
     },
     "execution_count": 8,
     "metadata": {},
     "output_type": "execute_result"
    }
   ],
   "source": [
    "data[5]"
   ]
  },
  {
   "cell_type": "code",
   "execution_count": 9,
   "id": "quiet-moses",
   "metadata": {
    "execution": {
     "iopub.execute_input": "2021-01-25T15:01:59.170452Z",
     "iopub.status.busy": "2021-01-25T15:01:59.170218Z",
     "iopub.status.idle": "2021-01-25T15:01:59.262955Z",
     "shell.execute_reply": "2021-01-25T15:01:59.262415Z",
     "shell.execute_reply.started": "2021-01-25T15:01:59.170423Z"
    },
    "papermill": {},
    "tags": []
   },
   "outputs": [
    {
     "data": {
      "text/html": [
       "<div>\n",
       "<style scoped>\n",
       "    .dataframe tbody tr th:only-of-type {\n",
       "        vertical-align: middle;\n",
       "    }\n",
       "\n",
       "    .dataframe tbody tr th {\n",
       "        vertical-align: top;\n",
       "    }\n",
       "\n",
       "    .dataframe thead th {\n",
       "        text-align: right;\n",
       "    }\n",
       "</style>\n",
       "<table border=\"1\" class=\"dataframe\">\n",
       "  <thead>\n",
       "    <tr style=\"text-align: right;\">\n",
       "      <th></th>\n",
       "      <th>SOURCES</th>\n",
       "      <th>Unnamed: 1</th>\n",
       "    </tr>\n",
       "  </thead>\n",
       "  <tbody>\n",
       "    <tr>\n",
       "      <th>0</th>\n",
       "      <td>Répertoire SIRENE</td>\n",
       "      <td>NaN</td>\n",
       "    </tr>\n",
       "    <tr>\n",
       "      <th>1</th>\n",
       "      <td>Répertoire RNCS</td>\n",
       "      <td>NaN</td>\n",
       "    </tr>\n",
       "    <tr>\n",
       "      <th>2</th>\n",
       "      <td>BODACC</td>\n",
       "      <td>NaN</td>\n",
       "    </tr>\n",
       "    <tr>\n",
       "      <th>3</th>\n",
       "      <td>SIRET2IDCC</td>\n",
       "      <td>NaN</td>\n",
       "    </tr>\n",
       "  </tbody>\n",
       "</table>\n",
       "</div>"
      ],
      "text/plain": [
       "             SOURCES  Unnamed: 1\n",
       "0  Répertoire SIRENE         NaN\n",
       "1    Répertoire RNCS         NaN\n",
       "2             BODACC         NaN\n",
       "3         SIRET2IDCC         NaN"
      ]
     },
     "execution_count": 9,
     "metadata": {},
     "output_type": "execute_result"
    }
   ],
   "source": [
    "data[6]"
   ]
  },
  {
   "cell_type": "code",
   "execution_count": 10,
   "id": "eight-exchange",
   "metadata": {
    "execution": {
     "iopub.execute_input": "2021-01-25T15:01:59.264160Z",
     "iopub.status.busy": "2021-01-25T15:01:59.263917Z",
     "iopub.status.idle": "2021-01-25T15:01:59.355149Z",
     "shell.execute_reply": "2021-01-25T15:01:59.354478Z",
     "shell.execute_reply.started": "2021-01-25T15:01:59.264129Z"
    },
    "papermill": {},
    "tags": []
   },
   "outputs": [
    {
     "data": {
      "text/html": [
       "<div>\n",
       "<style scoped>\n",
       "    .dataframe tbody tr th:only-of-type {\n",
       "        vertical-align: middle;\n",
       "    }\n",
       "\n",
       "    .dataframe tbody tr th {\n",
       "        vertical-align: top;\n",
       "    }\n",
       "\n",
       "    .dataframe thead th {\n",
       "        text-align: right;\n",
       "    }\n",
       "</style>\n",
       "<table border=\"1\" class=\"dataframe\">\n",
       "  <thead>\n",
       "    <tr style=\"text-align: right;\">\n",
       "      <th></th>\n",
       "      <th>0</th>\n",
       "      <th>1</th>\n",
       "      <th>2</th>\n",
       "    </tr>\n",
       "  </thead>\n",
       "  <tbody>\n",
       "    <tr>\n",
       "      <th>0</th>\n",
       "      <td>NaN</td>\n",
       "      <td>Cette page est offerte par OPTIMUS AVOCATS.Sou...</td>\n",
       "      <td>NaN</td>\n",
       "    </tr>\n",
       "  </tbody>\n",
       "</table>\n",
       "</div>"
      ],
      "text/plain": [
       "    0                                                  1   2\n",
       "0 NaN  Cette page est offerte par OPTIMUS AVOCATS.Sou... NaN"
      ]
     },
     "execution_count": 10,
     "metadata": {},
     "output_type": "execute_result"
    }
   ],
   "source": [
    "data[7]"
   ]
  },
  {
   "cell_type": "code",
   "execution_count": null,
   "id": "compliant-dependence",
   "metadata": {
    "papermill": {},
    "tags": []
   },
   "outputs": [],
   "source": []
  }
 ],
 "metadata": {
  "kernelspec": {
   "display_name": "Python 3",
   "language": "python",
   "name": "python3"
  },
  "language_info": {
   "codemirror_mode": {
    "name": "ipython",
    "version": 3
   },
   "file_extension": ".py",
   "mimetype": "text/x-python",
   "name": "python",
   "nbconvert_exporter": "python",
   "pygments_lexer": "ipython3",
   "version": "3.8.6"
  },
  "papermill": {
   "default_parameters": {},
   "environment_variables": {},
   "parameters": {},
   "version": "2.3.3"
  }
 },
 "nbformat": 4,
 "nbformat_minor": 5
}