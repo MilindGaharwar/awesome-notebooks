{
 "cells": [
  {
   "cell_type": "markdown",
   "id": "according-salem",
   "metadata": {
    "papermill": {},
    "tags": []
   },
   "source": [
    "<img width=\"10%\" alt=\"Naas\" src=\"https://landen.imgix.net/jtci2pxwjczr/assets/5ice39g4.png?w=160\"/>\n",
    "\n",
    "# Get Company data from Verif.com (free alternative to societe.com )\n",
    "[![download](https://img.shields.io/static/v1?label=&labelColor=000000&message=Open%20in%20Naas&color=success&logo=image%2Fsvg%2Bxml%3Bbase64%2CPD94bWwgdmVyc2lvbj0iMS4wIiBlbmNvZGluZz0iVVRGLTgiPz4KPHN2ZyB3aWR0aD0iMTAyNHB4IiBoZWlnaHQ9IjEwMjRweCIgdmlld0JveD0iMCAwIDEwMjQgMTAyNCIgeG1sbnM9Imh0dHA6Ly93d3cudzMub3JnLzIwMDAvc3ZnIiB4bWxuczp4bGluaz0iaHR0cDovL3d3dy53My5vcmcvMTk5OS94bGluayIgdmVyc2lvbj0iMS4xIj4KIDwhLS0gR2VuZXJhdGVkIGJ5IFBpeGVsbWF0b3IgUHJvIDIuMC41IC0tPgogPGRlZnM%2BCiAgPHRleHQgaWQ9InN0cmluZyIgdHJhbnNmb3JtPSJtYXRyaXgoMS4wIDAuMCAwLjAgMS4wIDIyOC4wIDU0LjUpIiBmb250LWZhbWlseT0iQ29tZm9ydGFhLVJlZ3VsYXIsIENvbWZvcnRhYSIgZm9udC1zaXplPSI4MDAiIHRleHQtZGVjb3JhdGlvbj0ibm9uZSIgZmlsbD0iI2ZmZmZmZiIgeD0iMS4xOTk5OTk5OTk5OTk5ODg2IiB5PSI3MDUuMCI%2BbjwvdGV4dD4KIDwvZGVmcz4KIDx1c2UgaWQ9Im4iIHhsaW5rOmhyZWY9IiNzdHJpbmciLz4KPC9zdmc%2BCg%3D%3D)](https://app.naas.ai/user-redirect/naas/downloader?url=https://raw.githubusercontent.com/jupyter-naas/awesome-notebooks/master/Societe.com/get_verif.com.ipynb)/naas/downloader?url=https://raw.githubusercontent.com/jupyter-naas/awesome-notebooks/master/Societe.com/get_verif.com.ipynb)/naas/downloader?url=https://raw.githubusercontent.com/jupyter-naas/awesome-notebooks/master/Societe.com/get_verif.com.ipynb)"
   ]
  },
  {
   "cell_type": "code",
   "execution_count": 1,
   "id": "ranging-cricket",
   "metadata": {
    "execution": {
     "iopub.execute_input": "2021-01-26T16:42:30.741261Z",
     "iopub.status.busy": "2021-01-26T16:42:30.740979Z",
     "iopub.status.idle": "2021-01-26T16:42:31.570890Z",
     "shell.execute_reply": "2021-01-26T16:42:31.570214Z",
     "shell.execute_reply.started": "2021-01-26T16:42:30.741194Z"
    },
    "papermill": {},
    "tags": []
   },
   "outputs": [],
   "source": [
    "import pandas as pd\n",
    "data = pd.read_html(\"https://www.verif.com/societe/CASHSTORY-880612569/\", encoding=\"UTF-8\")"
   ]
  },
  {
   "cell_type": "code",
   "execution_count": 2,
   "id": "important-departure",
   "metadata": {
    "execution": {
     "iopub.execute_input": "2021-01-26T16:42:31.572390Z",
     "iopub.status.busy": "2021-01-26T16:42:31.572045Z",
     "iopub.status.idle": "2021-01-26T16:42:31.576083Z",
     "shell.execute_reply": "2021-01-26T16:42:31.575476Z",
     "shell.execute_reply.started": "2021-01-26T16:42:31.572360Z"
    },
    "papermill": {},
    "tags": []
   },
   "outputs": [
    {
     "name": "stdout",
     "output_type": "stream",
     "text": [
      "4\n"
     ]
    }
   ],
   "source": [
    "print(len(data))"
   ]
  },
  {
   "cell_type": "code",
   "execution_count": 3,
   "id": "hindu-helicopter",
   "metadata": {
    "execution": {
     "iopub.execute_input": "2021-01-26T16:42:31.577446Z",
     "iopub.status.busy": "2021-01-26T16:42:31.577127Z",
     "iopub.status.idle": "2021-01-26T16:42:31.684671Z",
     "shell.execute_reply": "2021-01-26T16:42:31.684039Z",
     "shell.execute_reply.started": "2021-01-26T16:42:31.577419Z"
    },
    "papermill": {},
    "tags": []
   },
   "outputs": [
    {
     "data": {
      "text/html": [
       "<div>\n",
       "<style scoped>\n",
       "    .dataframe tbody tr th:only-of-type {\n",
       "        vertical-align: middle;\n",
       "    }\n",
       "\n",
       "    .dataframe tbody tr th {\n",
       "        vertical-align: top;\n",
       "    }\n",
       "\n",
       "    .dataframe thead th {\n",
       "        text-align: right;\n",
       "    }\n",
       "</style>\n",
       "<table border=\"1\" class=\"dataframe\">\n",
       "  <thead>\n",
       "    <tr style=\"text-align: right;\">\n",
       "      <th></th>\n",
       "      <th>0</th>\n",
       "      <th>1</th>\n",
       "    </tr>\n",
       "  </thead>\n",
       "  <tbody>\n",
       "    <tr>\n",
       "      <th>0</th>\n",
       "      <td>Raison sociale</td>\n",
       "      <td>CASHSTORY</td>\n",
       "    </tr>\n",
       "    <tr>\n",
       "      <th>1</th>\n",
       "      <td>Sigle</td>\n",
       "      <td>NaN</td>\n",
       "    </tr>\n",
       "    <tr>\n",
       "      <th>2</th>\n",
       "      <td>Enseigne</td>\n",
       "      <td>NaN</td>\n",
       "    </tr>\n",
       "    <tr>\n",
       "      <th>3</th>\n",
       "      <td>Dirigeants</td>\n",
       "      <td>2 dirigeant(s)  + de détails</td>\n",
       "    </tr>\n",
       "    <tr>\n",
       "      <th>4</th>\n",
       "      <td>Adresse</td>\n",
       "      <td>5 RUE HERMEL  75018 PARIS 18 Retrouvez les soc...</td>\n",
       "    </tr>\n",
       "    <tr>\n",
       "      <th>5</th>\n",
       "      <td>Téléphone</td>\n",
       "      <td>Afficher le téléphone</td>\n",
       "    </tr>\n",
       "    <tr>\n",
       "      <th>6</th>\n",
       "      <td>Fax</td>\n",
       "      <td>NaN</td>\n",
       "    </tr>\n",
       "    <tr>\n",
       "      <th>7</th>\n",
       "      <td>Forme juridique</td>\n",
       "      <td>Société par action simplifiées</td>\n",
       "    </tr>\n",
       "    <tr>\n",
       "      <th>8</th>\n",
       "      <td>Date de création</td>\n",
       "      <td>Créée le 26/12/2019</td>\n",
       "    </tr>\n",
       "    <tr>\n",
       "      <th>9</th>\n",
       "      <td>NaN</td>\n",
       "      <td>Derniers statuts à jour  + de détails</td>\n",
       "    </tr>\n",
       "    <tr>\n",
       "      <th>10</th>\n",
       "      <td>Capital Social</td>\n",
       "      <td>1 000 €</td>\n",
       "    </tr>\n",
       "    <tr>\n",
       "      <th>11</th>\n",
       "      <td>SIREN</td>\n",
       "      <td>880 612 569</td>\n",
       "    </tr>\n",
       "    <tr>\n",
       "      <th>12</th>\n",
       "      <td>SIRET</td>\n",
       "      <td>880 612 569 00017</td>\n",
       "    </tr>\n",
       "    <tr>\n",
       "      <th>13</th>\n",
       "      <td>Numéro de TVA</td>\n",
       "      <td>Obtenir le numéro de TVA intracommunautaire</td>\n",
       "    </tr>\n",
       "    <tr>\n",
       "      <th>14</th>\n",
       "      <td>Code APE / NAF</td>\n",
       "      <td>6201Z / Programmation informatique  Retrouvez ...</td>\n",
       "    </tr>\n",
       "  </tbody>\n",
       "</table>\n",
       "</div>"
      ],
      "text/plain": [
       "                   0                                                  1\n",
       "0     Raison sociale                                          CASHSTORY\n",
       "1              Sigle                                                NaN\n",
       "2           Enseigne                                                NaN\n",
       "3         Dirigeants                       2 dirigeant(s)  + de détails\n",
       "4            Adresse  5 RUE HERMEL  75018 PARIS 18 Retrouvez les soc...\n",
       "5          Téléphone                              Afficher le téléphone\n",
       "6                Fax                                                NaN\n",
       "7    Forme juridique                     Société par action simplifiées\n",
       "8   Date de création                                Créée le 26/12/2019\n",
       "9                NaN              Derniers statuts à jour  + de détails\n",
       "10    Capital Social                                            1 000 €\n",
       "11             SIREN                                        880 612 569\n",
       "12             SIRET                                  880 612 569 00017\n",
       "13     Numéro de TVA        Obtenir le numéro de TVA intracommunautaire\n",
       "14    Code APE / NAF  6201Z / Programmation informatique  Retrouvez ..."
      ]
     },
     "execution_count": 3,
     "metadata": {},
     "output_type": "execute_result"
    }
   ],
   "source": [
    "data[0]"
   ]
  },
  {
   "cell_type": "code",
   "execution_count": 25,
   "id": "conditional-radio",
   "metadata": {
    "execution": {
     "iopub.execute_input": "2021-01-25T14:57:40.231388Z",
     "iopub.status.busy": "2021-01-25T14:57:40.231155Z",
     "iopub.status.idle": "2021-01-25T14:57:40.237602Z",
     "shell.execute_reply": "2021-01-25T14:57:40.237017Z",
     "shell.execute_reply.started": "2021-01-25T14:57:40.231363Z"
    },
    "papermill": {},
    "tags": []
   },
   "outputs": [
    {
     "data": {
      "text/html": [
       "<div>\n",
       "<style scoped>\n",
       "    .dataframe tbody tr th:only-of-type {\n",
       "        vertical-align: middle;\n",
       "    }\n",
       "\n",
       "    .dataframe tbody tr th {\n",
       "        vertical-align: top;\n",
       "    }\n",
       "\n",
       "    .dataframe thead th {\n",
       "        text-align: right;\n",
       "    }\n",
       "</style>\n",
       "<table border=\"1\" class=\"dataframe\">\n",
       "  <thead>\n",
       "    <tr style=\"text-align: right;\">\n",
       "      <th></th>\n",
       "      <th>0</th>\n",
       "      <th>1</th>\n",
       "    </tr>\n",
       "  </thead>\n",
       "  <tbody>\n",
       "    <tr>\n",
       "      <th>0</th>\n",
       "      <td>5 RUE HERMEL  75018 PARIS 18</td>\n",
       "      <td>Retrouvez les sociétésdu même département</td>\n",
       "    </tr>\n",
       "  </tbody>\n",
       "</table>\n",
       "</div>"
      ],
      "text/plain": [
       "                              0                                          1\n",
       "0  5 RUE HERMEL  75018 PARIS 18  Retrouvez les sociétésdu même département"
      ]
     },
     "execution_count": 25,
     "metadata": {},
     "output_type": "execute_result"
    }
   ],
   "source": [
    "data[1]"
   ]
  },
  {
   "cell_type": "code",
   "execution_count": 26,
   "id": "likely-marine",
   "metadata": {
    "execution": {
     "iopub.execute_input": "2021-01-25T14:57:40.681290Z",
     "iopub.status.busy": "2021-01-25T14:57:40.681059Z",
     "iopub.status.idle": "2021-01-25T14:57:40.687564Z",
     "shell.execute_reply": "2021-01-25T14:57:40.686888Z",
     "shell.execute_reply.started": "2021-01-25T14:57:40.681266Z"
    },
    "papermill": {},
    "tags": []
   },
   "outputs": [
    {
     "data": {
      "text/html": [
       "<div>\n",
       "<style scoped>\n",
       "    .dataframe tbody tr th:only-of-type {\n",
       "        vertical-align: middle;\n",
       "    }\n",
       "\n",
       "    .dataframe tbody tr th {\n",
       "        vertical-align: top;\n",
       "    }\n",
       "\n",
       "    .dataframe thead th {\n",
       "        text-align: right;\n",
       "    }\n",
       "</style>\n",
       "<table border=\"1\" class=\"dataframe\">\n",
       "  <thead>\n",
       "    <tr style=\"text-align: right;\">\n",
       "      <th></th>\n",
       "      <th>0</th>\n",
       "      <th>1</th>\n",
       "    </tr>\n",
       "  </thead>\n",
       "  <tbody>\n",
       "    <tr>\n",
       "      <th>0</th>\n",
       "      <td>6201Z / Programmation informatique</td>\n",
       "      <td>Retrouvez les sociétésdu même secteur</td>\n",
       "    </tr>\n",
       "  </tbody>\n",
       "</table>\n",
       "</div>"
      ],
      "text/plain": [
       "                                    0                                      1\n",
       "0  6201Z / Programmation informatique  Retrouvez les sociétésdu même secteur"
      ]
     },
     "execution_count": 26,
     "metadata": {},
     "output_type": "execute_result"
    }
   ],
   "source": [
    "data[2]"
   ]
  },
  {
   "cell_type": "code",
   "execution_count": 27,
   "id": "exciting-explanation",
   "metadata": {
    "execution": {
     "iopub.execute_input": "2021-01-25T14:57:44.805671Z",
     "iopub.status.busy": "2021-01-25T14:57:44.805444Z",
     "iopub.status.idle": "2021-01-25T14:57:44.812000Z",
     "shell.execute_reply": "2021-01-25T14:57:44.811411Z",
     "shell.execute_reply.started": "2021-01-25T14:57:44.805647Z"
    },
    "papermill": {},
    "tags": []
   },
   "outputs": [
    {
     "data": {
      "text/html": [
       "<div>\n",
       "<style scoped>\n",
       "    .dataframe tbody tr th:only-of-type {\n",
       "        vertical-align: middle;\n",
       "    }\n",
       "\n",
       "    .dataframe tbody tr th {\n",
       "        vertical-align: top;\n",
       "    }\n",
       "\n",
       "    .dataframe thead th {\n",
       "        text-align: right;\n",
       "    }\n",
       "</style>\n",
       "<table border=\"1\" class=\"dataframe\">\n",
       "  <thead>\n",
       "    <tr style=\"text-align: right;\">\n",
       "      <th></th>\n",
       "      <th>0</th>\n",
       "      <th>1</th>\n",
       "    </tr>\n",
       "  </thead>\n",
       "  <tbody>\n",
       "    <tr>\n",
       "      <th>0</th>\n",
       "      <td>Président</td>\n",
       "      <td>MDM IS</td>\n",
       "    </tr>\n",
       "    <tr>\n",
       "      <th>1</th>\n",
       "      <td>Directeur général</td>\n",
       "      <td>FRV SERVICES</td>\n",
       "    </tr>\n",
       "  </tbody>\n",
       "</table>\n",
       "</div>"
      ],
      "text/plain": [
       "                   0             1\n",
       "0          Président        MDM IS\n",
       "1  Directeur général  FRV SERVICES"
      ]
     },
     "execution_count": 27,
     "metadata": {},
     "output_type": "execute_result"
    }
   ],
   "source": [
    "data[3]"
   ]
  }
 ],
 "metadata": {
  "kernelspec": {
   "display_name": "Python 3",
   "language": "python",
   "name": "python3"
  },
  "language_info": {
   "codemirror_mode": {
    "name": "ipython",
    "version": 3
   },
   "file_extension": ".py",
   "mimetype": "text/x-python",
   "name": "python",
   "nbconvert_exporter": "python",
   "pygments_lexer": "ipython3",
   "version": "3.8.6"
  },
  "papermill": {
   "default_parameters": {},
   "environment_variables": {},
   "parameters": {},
   "version": "2.3.3"
  }
 },
 "nbformat": 4,
 "nbformat_minor": 5
}